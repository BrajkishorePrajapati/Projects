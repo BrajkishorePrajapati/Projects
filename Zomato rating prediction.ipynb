{
  "nbformat": 4,
  "nbformat_minor": 0,
  "metadata": {
    "colab": {
      "name": "Assignment-2.ipynb",
      "provenance": [],
      "collapsed_sections": [],
      "machine_shape": "hm"
    },
    "kernelspec": {
      "name": "python3",
      "display_name": "Python 3"
    }
  },
  "cells": [
    {
      "cell_type": "markdown",
      "metadata": {
        "id": "ca6myVdHJ6m0",
        "colab_type": "text"
      },
      "source": [
        "# **Zomato Rating Prediction**"
      ]
    },
    {
      "cell_type": "markdown",
      "metadata": {
        "id": "nPXt59HfHYB0",
        "colab_type": "text"
      },
      "source": [
        "# **Objective**"
      ]
    },
    {
      "cell_type": "markdown",
      "metadata": {
        "id": "8ksdf2kcmBoP",
        "colab_type": "text"
      },
      "source": [
        "The basic idea of analysing the Zomato dataset is to get a fair idea about the factors affecting the aggregate rating of each restaurant, establishment of different types of restaurant at different places, Bengaluru being one such city has more than 12,000 restaurants with restaurants serving\n",
        "dishes from all over the world. With each day new restaurants opening the industry hasn’t been saturated yet and the demand is increasing day by day. In spite of increasing demand it however has become difficult for new restaurants to compete with established restaurants. Most of them serving the same food. Bengaluru being an IT capital of India. Most of the people here are\n",
        "dependent mainly on the restaurant food as they don&#39;t have time to cook for themselves. With such an overwhelming demand of restaurants it has therefore become important to study the demography of a location. <br>**Hence build a model to predict the rating of the each restaurants.<br><br>**\n"
      ]
    },
    {
      "cell_type": "markdown",
      "metadata": {
        "id": "6AS-gr_rm179",
        "colab_type": "text"
      },
      "source": [
        "## Dataset description."
      ]
    },
    {
      "cell_type": "markdown",
      "metadata": {
        "id": "T3hlHF8-mhZh",
        "colab_type": "text"
      },
      "source": [
        "\n",
        "**url**: contains the url of the restaurant in the zomato website<br>\n",
        "**address:** contains the address of the restaurant in Bengaluru<br>\n",
        "**name:** contains the name of the restaurant<br>\n",
        "**online_order:** whether online ordering is available in the restaurant or not<br>\n",
        "**book_table**: table book option available or not<br>\n",
        "**rate:** contains the overall rating of the restaurant out of 5<br>\n",
        "**votes:** contains total number of rating for the restaurant as of the above-mentioned date<br>\n",
        "**phone:** contains the phone number of the restaurant<br>\n",
        "**location:** contains the neighborhood in which the restaurant is located<br>\n",
        "**rest_type:** restaurant type<br>\n",
        "**dish_liked:** dishes people liked in the restaurant<br>\n",
        "**cuisines: **food styles, separated by comma<br>\n",
        "**approx_cost(for two people)**: contains the approximate cost for meal for two people<br>\n",
        "**reviews_list:** list of tuples containing reviews for the restaurant, each tuple consists of two\n",
        "values, rating and review by the customer\n",
        "**menu_item:** contains list of menus available in the restaurant<br>\n",
        "**listed_in(type):** type of meal<br>\n",
        "**listed_in(city):** contains the neighborhood in which the restaurant is listed<br>"
      ]
    },
    {
      "cell_type": "markdown",
      "metadata": {
        "id": "5U5v6uC9KE1_",
        "colab_type": "text"
      },
      "source": [
        "## Importing required libraries."
      ]
    },
    {
      "cell_type": "code",
      "metadata": {
        "id": "US6xgga6l84v",
        "colab_type": "code",
        "colab": {}
      },
      "source": [
        "import numpy as np\n",
        "import pandas as pd\n",
        "import matplotlib.pyplot as plt\n",
        "%matplotlib inline\n",
        "\n",
        "import seaborn as sns\n",
        "from sklearn.linear_model import LinearRegression"
      ],
      "execution_count": 0,
      "outputs": []
    },
    {
      "cell_type": "code",
      "metadata": {
        "id": "EXODuJAQnwCV",
        "colab_type": "code",
        "outputId": "f90d2134-a32a-4024-cfb7-0326f636a6b6",
        "colab": {
          "base_uri": "https://localhost:8080/",
          "height": 33
        }
      },
      "source": [
        "from google.colab import drive\n",
        "drive.mount('/content/gdrive')"
      ],
      "execution_count": 4,
      "outputs": [
        {
          "output_type": "stream",
          "text": [
            "Drive already mounted at /content/gdrive; to attempt to forcibly remount, call drive.mount(\"/content/gdrive\", force_remount=True).\n"
          ],
          "name": "stdout"
        }
      ]
    },
    {
      "cell_type": "code",
      "metadata": {
        "id": "3-_jybnEnNZ0",
        "colab_type": "code",
        "outputId": "7dcf2478-a9a1-47a5-aef9-bdfdc73981dc",
        "colab": {
          "base_uri": "https://localhost:8080/",
          "height": 618
        }
      },
      "source": [
        "# Loading the data file.\n",
        "df = pd.read_excel('/content/gdrive/My Drive/Colab Notebooks/Projects/Discover Dollar Projects/Assignment_2/zomato_train.xlsx')\n",
        "df.head()"
      ],
      "execution_count": 5,
      "outputs": [
        {
          "output_type": "execute_result",
          "data": {
            "text/html": [
              "<div>\n",
              "<style scoped>\n",
              "    .dataframe tbody tr th:only-of-type {\n",
              "        vertical-align: middle;\n",
              "    }\n",
              "\n",
              "    .dataframe tbody tr th {\n",
              "        vertical-align: top;\n",
              "    }\n",
              "\n",
              "    .dataframe thead th {\n",
              "        text-align: right;\n",
              "    }\n",
              "</style>\n",
              "<table border=\"1\" class=\"dataframe\">\n",
              "  <thead>\n",
              "    <tr style=\"text-align: right;\">\n",
              "      <th></th>\n",
              "      <th>url</th>\n",
              "      <th>address</th>\n",
              "      <th>name</th>\n",
              "      <th>online_order</th>\n",
              "      <th>book_table</th>\n",
              "      <th>votes</th>\n",
              "      <th>phone</th>\n",
              "      <th>location</th>\n",
              "      <th>rest_type</th>\n",
              "      <th>dish_liked</th>\n",
              "      <th>cuisines</th>\n",
              "      <th>approx_cost(for two people)</th>\n",
              "      <th>reviews_list</th>\n",
              "      <th>menu_item</th>\n",
              "      <th>listed_in(type)</th>\n",
              "      <th>listed_in(city)</th>\n",
              "      <th>rates</th>\n",
              "    </tr>\n",
              "  </thead>\n",
              "  <tbody>\n",
              "    <tr>\n",
              "      <th>0</th>\n",
              "      <td>https://www.zomato.com/bangalore/al-swaad-take...</td>\n",
              "      <td>18, Masjid Street, Opp Akbari Masjid Neelasand...</td>\n",
              "      <td>Al Swaad Take Away</td>\n",
              "      <td>Yes</td>\n",
              "      <td>No</td>\n",
              "      <td>13</td>\n",
              "      <td>+91 7019942388\\n+91 9902335220</td>\n",
              "      <td>Richmond Road</td>\n",
              "      <td>Quick Bites</td>\n",
              "      <td>NaN</td>\n",
              "      <td>North Indian, South Indian, Arabian</td>\n",
              "      <td>350</td>\n",
              "      <td>[('Rated 1.0', 'RATED\\n  If U need reasonable ...</td>\n",
              "      <td>['Beef Seekh Kabab', 'Beef BBQ Chops', 'Beef M...</td>\n",
              "      <td>Delivery</td>\n",
              "      <td>Residency Road</td>\n",
              "      <td>3.1</td>\n",
              "    </tr>\n",
              "    <tr>\n",
              "      <th>1</th>\n",
              "      <td>https://www.zomato.com/bangalore/the-boozy-gri...</td>\n",
              "      <td>2nd Floor, 1st A Cross Road, Jyothi Nivas Coll...</td>\n",
              "      <td>The Boozy Griffin</td>\n",
              "      <td>No</td>\n",
              "      <td>Yes</td>\n",
              "      <td>5015</td>\n",
              "      <td>080 33512954</td>\n",
              "      <td>Koramangala 5th Block</td>\n",
              "      <td>Casual Dining, Pub</td>\n",
              "      <td>Cocktails, Craft Beer, Salads, Devils Chicken,...</td>\n",
              "      <td>European, Continental</td>\n",
              "      <td>1,800</td>\n",
              "      <td>[('Rated 5.0', 'RATED\\n  Really great ambience...</td>\n",
              "      <td>[]</td>\n",
              "      <td>Dine-out</td>\n",
              "      <td>Koramangala 6th Block</td>\n",
              "      <td>4.6</td>\n",
              "    </tr>\n",
              "    <tr>\n",
              "      <th>2</th>\n",
              "      <td>https://www.zomato.com/bangalore/barkat-btm-ba...</td>\n",
              "      <td>28th, 8th Cross, Maruthi Nagar, Madiwala, BTM,...</td>\n",
              "      <td>Barkat</td>\n",
              "      <td>No</td>\n",
              "      <td>No</td>\n",
              "      <td>6</td>\n",
              "      <td>+91 9019670836</td>\n",
              "      <td>BTM</td>\n",
              "      <td>Quick Bites</td>\n",
              "      <td>NaN</td>\n",
              "      <td>Kerala</td>\n",
              "      <td>250</td>\n",
              "      <td>[]</td>\n",
              "      <td>[]</td>\n",
              "      <td>Dine-out</td>\n",
              "      <td>Koramangala 4th Block</td>\n",
              "      <td>3.4</td>\n",
              "    </tr>\n",
              "    <tr>\n",
              "      <th>3</th>\n",
              "      <td>https://www.zomato.com/bangalore/sriracha-lave...</td>\n",
              "      <td>204, 2nd Level, 4th Floor, Comet Block, UB Cit...</td>\n",
              "      <td>Sriracha</td>\n",
              "      <td>No</td>\n",
              "      <td>No</td>\n",
              "      <td>699</td>\n",
              "      <td>+91 8041755366\\n+91 7022422473</td>\n",
              "      <td>Lavelle Road</td>\n",
              "      <td>Casual Dining</td>\n",
              "      <td>Noodles, Laksa, Cocktails, Dumplings, Sangria,...</td>\n",
              "      <td>Thai, Chinese, Indonesian, Asian, Momos</td>\n",
              "      <td>1,500</td>\n",
              "      <td>[('Rated 3.0', 'RATED\\n  Another restaurant in...</td>\n",
              "      <td>[]</td>\n",
              "      <td>Dine-out</td>\n",
              "      <td>Residency Road</td>\n",
              "      <td>4.3</td>\n",
              "    </tr>\n",
              "    <tr>\n",
              "      <th>4</th>\n",
              "      <td>https://www.zomato.com/bangalore/sri-ganesh-ju...</td>\n",
              "      <td>513, Opposite Ganesh Temple, Koramangala 8th B...</td>\n",
              "      <td>Sri Ganesh Juice Junction</td>\n",
              "      <td>Yes</td>\n",
              "      <td>No</td>\n",
              "      <td>129</td>\n",
              "      <td>+91 9845623889</td>\n",
              "      <td>Koramangala 8th Block</td>\n",
              "      <td>Beverage Shop</td>\n",
              "      <td>NaN</td>\n",
              "      <td>Juices, Fast Food</td>\n",
              "      <td>150</td>\n",
              "      <td>[('Rated 4.0', 'RATED\\n  Good cafe with most v...</td>\n",
              "      <td>['Dry Fruit Milkshake', 'Wheat Grass with Wate...</td>\n",
              "      <td>Delivery</td>\n",
              "      <td>Koramangala 6th Block</td>\n",
              "      <td>3.7</td>\n",
              "    </tr>\n",
              "  </tbody>\n",
              "</table>\n",
              "</div>"
            ],
            "text/plain": [
              "                                                 url  ... rates\n",
              "0  https://www.zomato.com/bangalore/al-swaad-take...  ...  3.1 \n",
              "1  https://www.zomato.com/bangalore/the-boozy-gri...  ...  4.6 \n",
              "2  https://www.zomato.com/bangalore/barkat-btm-ba...  ...  3.4 \n",
              "3  https://www.zomato.com/bangalore/sriracha-lave...  ...  4.3 \n",
              "4  https://www.zomato.com/bangalore/sri-ganesh-ju...  ...  3.7 \n",
              "\n",
              "[5 rows x 17 columns]"
            ]
          },
          "metadata": {
            "tags": []
          },
          "execution_count": 5
        }
      ]
    },
    {
      "cell_type": "markdown",
      "metadata": {
        "id": "vzqCReqSrbHx",
        "colab_type": "text"
      },
      "source": [
        "## Data Preprocessing"
      ]
    },
    {
      "cell_type": "code",
      "metadata": {
        "id": "wdluMX5ont-3",
        "colab_type": "code",
        "outputId": "d30fe0d3-f04f-42e4-8362-f10869131263",
        "colab": {
          "base_uri": "https://localhost:8080/",
          "height": 33
        }
      },
      "source": [
        "df.shape # Returns the dimension of the data."
      ],
      "execution_count": 6,
      "outputs": [
        {
          "output_type": "execute_result",
          "data": {
            "text/plain": [
              "(41373, 17)"
            ]
          },
          "metadata": {
            "tags": []
          },
          "execution_count": 6
        }
      ]
    },
    {
      "cell_type": "markdown",
      "metadata": {
        "id": "6VccUMUiNDUr",
        "colab_type": "text"
      },
      "source": [
        "**Observations -** This data has 41,373 rows and 17 columns."
      ]
    },
    {
      "cell_type": "code",
      "metadata": {
        "id": "0Q8cZjdUq5fg",
        "colab_type": "code",
        "outputId": "db6a6755-4398-4f51-de74-feb9183f3e3a",
        "colab": {
          "base_uri": "https://localhost:8080/",
          "height": 100
        }
      },
      "source": [
        "df.columns   # Get columns of a dataset."
      ],
      "execution_count": 7,
      "outputs": [
        {
          "output_type": "execute_result",
          "data": {
            "text/plain": [
              "Index(['url', 'address', 'name', 'online_order', 'book_table', 'votes',\n",
              "       'phone', 'location', 'rest_type', 'dish_liked', 'cuisines',\n",
              "       'approx_cost(for two people)', 'reviews_list', 'menu_item',\n",
              "       'listed_in(type)', 'listed_in(city)', 'rates'],\n",
              "      dtype='object')"
            ]
          },
          "metadata": {
            "tags": []
          },
          "execution_count": 7
        }
      ]
    },
    {
      "cell_type": "code",
      "metadata": {
        "id": "n41-uYpCrgb5",
        "colab_type": "code",
        "outputId": "78970095-2c16-44d4-ae68-532981996062",
        "colab": {
          "base_uri": "https://localhost:8080/",
          "height": 418
        }
      },
      "source": [
        "df.info()"
      ],
      "execution_count": 8,
      "outputs": [
        {
          "output_type": "stream",
          "text": [
            "<class 'pandas.core.frame.DataFrame'>\n",
            "RangeIndex: 41373 entries, 0 to 41372\n",
            "Data columns (total 17 columns):\n",
            " #   Column                       Non-Null Count  Dtype \n",
            "---  ------                       --------------  ----- \n",
            " 0   url                          41373 non-null  object\n",
            " 1   address                      41373 non-null  object\n",
            " 2   name                         41373 non-null  object\n",
            " 3   online_order                 41373 non-null  object\n",
            " 4   book_table                   41373 non-null  object\n",
            " 5   votes                        41373 non-null  int64 \n",
            " 6   phone                        40402 non-null  object\n",
            " 7   location                     41358 non-null  object\n",
            " 8   rest_type                    41198 non-null  object\n",
            " 9   dish_liked                   18901 non-null  object\n",
            " 10  cuisines                     41341 non-null  object\n",
            " 11  approx_cost(for two people)  41094 non-null  object\n",
            " 12  reviews_list                 41373 non-null  object\n",
            " 13  menu_item                    41373 non-null  object\n",
            " 14  listed_in(type)              41373 non-null  object\n",
            " 15  listed_in(city)              41373 non-null  object\n",
            " 16  rates                        33392 non-null  object\n",
            "dtypes: int64(1), object(16)\n",
            "memory usage: 5.4+ MB\n"
          ],
          "name": "stdout"
        }
      ]
    },
    {
      "cell_type": "markdown",
      "metadata": {
        "id": "WfAEIH8fNUJo",
        "colab_type": "text"
      },
      "source": [
        "**Observations- ** This dataset has 16 features of object type and only single feature is of integer type.\n"
      ]
    },
    {
      "cell_type": "code",
      "metadata": {
        "id": "bh70EaaL7kk6",
        "colab_type": "code",
        "outputId": "b138f6ab-b19f-48fc-8562-4984256a579c",
        "colab": {
          "base_uri": "https://localhost:8080/",
          "height": 286
        }
      },
      "source": [
        "df.describe()"
      ],
      "execution_count": 9,
      "outputs": [
        {
          "output_type": "execute_result",
          "data": {
            "text/html": [
              "<div>\n",
              "<style scoped>\n",
              "    .dataframe tbody tr th:only-of-type {\n",
              "        vertical-align: middle;\n",
              "    }\n",
              "\n",
              "    .dataframe tbody tr th {\n",
              "        vertical-align: top;\n",
              "    }\n",
              "\n",
              "    .dataframe thead th {\n",
              "        text-align: right;\n",
              "    }\n",
              "</style>\n",
              "<table border=\"1\" class=\"dataframe\">\n",
              "  <thead>\n",
              "    <tr style=\"text-align: right;\">\n",
              "      <th></th>\n",
              "      <th>votes</th>\n",
              "    </tr>\n",
              "  </thead>\n",
              "  <tbody>\n",
              "    <tr>\n",
              "      <th>count</th>\n",
              "      <td>41373.000000</td>\n",
              "    </tr>\n",
              "    <tr>\n",
              "      <th>mean</th>\n",
              "      <td>283.771493</td>\n",
              "    </tr>\n",
              "    <tr>\n",
              "      <th>std</th>\n",
              "      <td>806.112459</td>\n",
              "    </tr>\n",
              "    <tr>\n",
              "      <th>min</th>\n",
              "      <td>0.000000</td>\n",
              "    </tr>\n",
              "    <tr>\n",
              "      <th>25%</th>\n",
              "      <td>7.000000</td>\n",
              "    </tr>\n",
              "    <tr>\n",
              "      <th>50%</th>\n",
              "      <td>41.000000</td>\n",
              "    </tr>\n",
              "    <tr>\n",
              "      <th>75%</th>\n",
              "      <td>200.000000</td>\n",
              "    </tr>\n",
              "    <tr>\n",
              "      <th>max</th>\n",
              "      <td>16832.000000</td>\n",
              "    </tr>\n",
              "  </tbody>\n",
              "</table>\n",
              "</div>"
            ],
            "text/plain": [
              "              votes\n",
              "count  41373.000000\n",
              "mean     283.771493\n",
              "std      806.112459\n",
              "min        0.000000\n",
              "25%        7.000000\n",
              "50%       41.000000\n",
              "75%      200.000000\n",
              "max    16832.000000"
            ]
          },
          "metadata": {
            "tags": []
          },
          "execution_count": 9
        }
      ]
    },
    {
      "cell_type": "code",
      "metadata": {
        "id": "r3IBg-BCvs2-",
        "colab_type": "code",
        "outputId": "01237d8b-bb78-44f9-c290-a9652fbf1013",
        "colab": {
          "base_uri": "https://localhost:8080/",
          "height": 237
        }
      },
      "source": [
        "df.describe(include = ['object','bool'])"
      ],
      "execution_count": 10,
      "outputs": [
        {
          "output_type": "execute_result",
          "data": {
            "text/html": [
              "<div>\n",
              "<style scoped>\n",
              "    .dataframe tbody tr th:only-of-type {\n",
              "        vertical-align: middle;\n",
              "    }\n",
              "\n",
              "    .dataframe tbody tr th {\n",
              "        vertical-align: top;\n",
              "    }\n",
              "\n",
              "    .dataframe thead th {\n",
              "        text-align: right;\n",
              "    }\n",
              "</style>\n",
              "<table border=\"1\" class=\"dataframe\">\n",
              "  <thead>\n",
              "    <tr style=\"text-align: right;\">\n",
              "      <th></th>\n",
              "      <th>url</th>\n",
              "      <th>address</th>\n",
              "      <th>name</th>\n",
              "      <th>online_order</th>\n",
              "      <th>book_table</th>\n",
              "      <th>phone</th>\n",
              "      <th>location</th>\n",
              "      <th>rest_type</th>\n",
              "      <th>dish_liked</th>\n",
              "      <th>cuisines</th>\n",
              "      <th>approx_cost(for two people)</th>\n",
              "      <th>reviews_list</th>\n",
              "      <th>menu_item</th>\n",
              "      <th>listed_in(type)</th>\n",
              "      <th>listed_in(city)</th>\n",
              "      <th>rates</th>\n",
              "    </tr>\n",
              "  </thead>\n",
              "  <tbody>\n",
              "    <tr>\n",
              "      <th>count</th>\n",
              "      <td>41373</td>\n",
              "      <td>41373</td>\n",
              "      <td>41373</td>\n",
              "      <td>41373</td>\n",
              "      <td>41373</td>\n",
              "      <td>40402</td>\n",
              "      <td>41358</td>\n",
              "      <td>41198</td>\n",
              "      <td>18901</td>\n",
              "      <td>41341</td>\n",
              "      <td>41094</td>\n",
              "      <td>41373</td>\n",
              "      <td>41373</td>\n",
              "      <td>41373</td>\n",
              "      <td>41373</td>\n",
              "      <td>33392</td>\n",
              "    </tr>\n",
              "    <tr>\n",
              "      <th>unique</th>\n",
              "      <td>41373</td>\n",
              "      <td>11012</td>\n",
              "      <td>8487</td>\n",
              "      <td>2</td>\n",
              "      <td>2</td>\n",
              "      <td>12126</td>\n",
              "      <td>93</td>\n",
              "      <td>93</td>\n",
              "      <td>5026</td>\n",
              "      <td>2654</td>\n",
              "      <td>68</td>\n",
              "      <td>19556</td>\n",
              "      <td>7658</td>\n",
              "      <td>7</td>\n",
              "      <td>30</td>\n",
              "      <td>63</td>\n",
              "    </tr>\n",
              "    <tr>\n",
              "      <th>top</th>\n",
              "      <td>https://www.zomato.com/bangalore/sri-durga-gra...</td>\n",
              "      <td>Delivery Only</td>\n",
              "      <td>Cafe Coffee Day</td>\n",
              "      <td>Yes</td>\n",
              "      <td>No</td>\n",
              "      <td>080 43334321</td>\n",
              "      <td>BTM</td>\n",
              "      <td>Quick Bites</td>\n",
              "      <td>Biryani</td>\n",
              "      <td>North Indian</td>\n",
              "      <td>300</td>\n",
              "      <td>[]</td>\n",
              "      <td>[]</td>\n",
              "      <td>Delivery</td>\n",
              "      <td>BTM</td>\n",
              "      <td>3.9</td>\n",
              "    </tr>\n",
              "    <tr>\n",
              "      <th>freq</th>\n",
              "      <td>1</td>\n",
              "      <td>96</td>\n",
              "      <td>81</td>\n",
              "      <td>24330</td>\n",
              "      <td>36231</td>\n",
              "      <td>183</td>\n",
              "      <td>4077</td>\n",
              "      <td>15295</td>\n",
              "      <td>130</td>\n",
              "      <td>2348</td>\n",
              "      <td>6046</td>\n",
              "      <td>6045</td>\n",
              "      <td>31656</td>\n",
              "      <td>20778</td>\n",
              "      <td>2674</td>\n",
              "      <td>1687</td>\n",
              "    </tr>\n",
              "  </tbody>\n",
              "</table>\n",
              "</div>"
            ],
            "text/plain": [
              "                                                      url  ...  rates\n",
              "count                                               41373  ...  33392\n",
              "unique                                              41373  ...     63\n",
              "top     https://www.zomato.com/bangalore/sri-durga-gra...  ...    3.9\n",
              "freq                                                    1  ...   1687\n",
              "\n",
              "[4 rows x 16 columns]"
            ]
          },
          "metadata": {
            "tags": []
          },
          "execution_count": 10
        }
      ]
    },
    {
      "cell_type": "markdown",
      "metadata": {
        "id": "cdbyPSEisKLo",
        "colab_type": "text"
      },
      "source": [
        "### Checking for null Values"
      ]
    },
    {
      "cell_type": "code",
      "metadata": {
        "id": "z3S8jzC6rttc",
        "colab_type": "code",
        "outputId": "d74dfe99-3dfc-4afc-9e2e-25fb9c19bf04",
        "colab": {
          "base_uri": "https://localhost:8080/",
          "height": 318
        }
      },
      "source": [
        "df.isnull().sum()"
      ],
      "execution_count": 11,
      "outputs": [
        {
          "output_type": "execute_result",
          "data": {
            "text/plain": [
              "url                                0\n",
              "address                            0\n",
              "name                               0\n",
              "online_order                       0\n",
              "book_table                         0\n",
              "votes                              0\n",
              "phone                            971\n",
              "location                          15\n",
              "rest_type                        175\n",
              "dish_liked                     22472\n",
              "cuisines                          32\n",
              "approx_cost(for two people)      279\n",
              "reviews_list                       0\n",
              "menu_item                          0\n",
              "listed_in(type)                    0\n",
              "listed_in(city)                    0\n",
              "rates                           7981\n",
              "dtype: int64"
            ]
          },
          "metadata": {
            "tags": []
          },
          "execution_count": 11
        }
      ]
    },
    {
      "cell_type": "markdown",
      "metadata": {
        "id": "cPso8AnjtEkx",
        "colab_type": "text"
      },
      "source": [
        "***Rename*** some columns names like approx_cost(for two people), listed_in(type), listed_in(city)"
      ]
    },
    {
      "cell_type": "code",
      "metadata": {
        "id": "5fmJejb6sQmn",
        "colab_type": "code",
        "colab": {}
      },
      "source": [
        "df = df.rename(columns={'approx_cost(for two people)':'cost', 'listed_in(type)':'type', 'listed_in(city)':'city'})\n",
        "#df.head()"
      ],
      "execution_count": 0,
      "outputs": []
    },
    {
      "cell_type": "markdown",
      "metadata": {
        "id": "n8VPCIb9uKqL",
        "colab_type": "text"
      },
      "source": [
        "**Finding percentage of missing values of each columns.** "
      ]
    },
    {
      "cell_type": "code",
      "metadata": {
        "id": "_9GPlBDJt0Y0",
        "colab_type": "code",
        "colab": {}
      },
      "source": [
        "def missing_percent():\n",
        "  miss_phone = (df['phone'].isnull().sum()/len(df))*100\n",
        "  miss_location = (df['location'].isnull().sum()/len(df))*100\n",
        "  miss_rest_type = (df['rest_type'].isnull().sum()/len(df))*100\n",
        "  miss_dish_liked = (df['dish_liked'].isnull().sum()/len(df))*100\n",
        "  miss_cuisines = (df['cuisines'].isnull().sum()/len(df))*100\n",
        "  miss_cost = (df['cost'].isnull().sum()/len(df))*100\n",
        "  miss_rates = (df['rates'].isnull().sum()/len(df))*100\n",
        "\n",
        "  print('miss_phone: ' + str(miss_phone))\n",
        "  print('miss_location: ' +str(miss_location))\n",
        "  print('miss_rest_type: ' +str(miss_rest_type))\n",
        "  print('miss_dish_liked: ' +str(miss_dish_liked))\n",
        "  print('miss_cuisnes: ' +str(miss_cuisines))\n",
        "  print('miss_cost: ' +str(miss_cost))\n",
        "  print('miss_rates: ' +str(miss_rates))\n",
        "  "
      ],
      "execution_count": 0,
      "outputs": []
    },
    {
      "cell_type": "code",
      "metadata": {
        "id": "DdcJ_a7Hu7yZ",
        "colab_type": "code",
        "outputId": "6915b4cd-f4fe-4439-90ab-7b044efb1e87",
        "colab": {
          "base_uri": "https://localhost:8080/",
          "height": 134
        }
      },
      "source": [
        "missing_percent()"
      ],
      "execution_count": 14,
      "outputs": [
        {
          "output_type": "stream",
          "text": [
            "miss_phone: 2.346941241872719\n",
            "miss_location: 0.036255528968167645\n",
            "miss_rest_type: 0.4229811712952892\n",
            "miss_dish_liked: 54.31561646484422\n",
            "miss_cuisnes: 0.07734512846542431\n",
            "miss_cost: 0.6743528388079182\n",
            "miss_rates: 19.29035844632973\n"
          ],
          "name": "stdout"
        }
      ]
    },
    {
      "cell_type": "markdown",
      "metadata": {
        "id": "eH3rgiZMyKGC",
        "colab_type": "text"
      },
      "source": [
        "**Observation**: More than 50% values of the dish_liked are missing."
      ]
    },
    {
      "cell_type": "markdown",
      "metadata": {
        "id": "nB2uf-1syjTQ",
        "colab_type": "text"
      },
      "source": [
        "**Note** - Online_order and the book_table columns are of categorical values so coverting them into numeric"
      ]
    },
    {
      "cell_type": "code",
      "metadata": {
        "id": "qjGFGXBhyVXA",
        "colab_type": "code",
        "outputId": "6156b3bf-f3a5-4a14-d527-8b93903a77c4",
        "colab": {
          "base_uri": "https://localhost:8080/",
          "height": 418
        }
      },
      "source": [
        "df['online_order'] = df['online_order'].apply(lambda x: 1 if str(x)=='Yes' else 0)\n",
        "df['book_table'] = df['book_table'].apply(lambda x: 1 if str(x)=='Yes' else 0)\n",
        "print(df.online_order)\n",
        "print(df.book_table)"
      ],
      "execution_count": 15,
      "outputs": [
        {
          "output_type": "stream",
          "text": [
            "0        1\n",
            "1        0\n",
            "2        0\n",
            "3        0\n",
            "4        1\n",
            "        ..\n",
            "41368    0\n",
            "41369    1\n",
            "41370    1\n",
            "41371    0\n",
            "41372    1\n",
            "Name: online_order, Length: 41373, dtype: int64\n",
            "0        0\n",
            "1        1\n",
            "2        0\n",
            "3        0\n",
            "4        0\n",
            "        ..\n",
            "41368    0\n",
            "41369    0\n",
            "41370    1\n",
            "41371    0\n",
            "41372    0\n",
            "Name: book_table, Length: 41373, dtype: int64\n"
          ],
          "name": "stdout"
        }
      ]
    },
    {
      "cell_type": "markdown",
      "metadata": {
        "id": "Bznv6LVePOJI",
        "colab_type": "text"
      },
      "source": [
        "**Remove comma from the cost column**"
      ]
    },
    {
      "cell_type": "code",
      "metadata": {
        "id": "wB49J7fGPWM5",
        "colab_type": "code",
        "colab": {}
      },
      "source": [
        "rem_comma = lambda x: int(x.replace(',' , '')) if type(x)== np.str and x != np.nan else 0\n",
        "df['cost'] = df['cost'].apply(rem_comma)\n"
      ],
      "execution_count": 0,
      "outputs": []
    },
    {
      "cell_type": "markdown",
      "metadata": {
        "id": "QO_sw6tG770t",
        "colab_type": "text"
      },
      "source": [
        "**Converting the type of votes and cost.**"
      ]
    },
    {
      "cell_type": "code",
      "metadata": {
        "id": "1hFiSQYvLBgw",
        "colab_type": "code",
        "colab": {}
      },
      "source": [
        "df['votes'] = df['votes'].astype(int)\n",
        "df['cost'] = df['cost'].astype(float)"
      ],
      "execution_count": 0,
      "outputs": []
    },
    {
      "cell_type": "code",
      "metadata": {
        "id": "kOF63bJg2eIP",
        "colab_type": "code",
        "colab": {}
      },
      "source": [
        "#mean = df['rates'].mean\n",
        "#df['rates'].fillna(mean,inplace = True)\n",
        "#df['rates'].isnull().sum()\n",
        "\n",
        "#df['rates'] = df['rates'].replace(np.nan, df['rates'].mean)\n",
        "#df['rates']\n",
        "df['rates'] = df['rates'].replace('NEW',np.NaN)\n",
        "df['rates'] = df['rates'].replace('-',np.NaN)"
      ],
      "execution_count": 0,
      "outputs": []
    },
    {
      "cell_type": "code",
      "metadata": {
        "id": "OFslteFcgHKD",
        "colab_type": "code",
        "outputId": "abad717b-8075-4b70-ccf4-b2efddb03f78",
        "colab": {
          "base_uri": "https://localhost:8080/",
          "height": 217
        }
      },
      "source": [
        "df['rates']"
      ],
      "execution_count": 19,
      "outputs": [
        {
          "output_type": "execute_result",
          "data": {
            "text/plain": [
              "0        3.1 \n",
              "1        4.6 \n",
              "2        3.4 \n",
              "3        4.3 \n",
              "4        3.7 \n",
              "         ... \n",
              "41368    3.8 \n",
              "41369     NaN\n",
              "41370    3.5 \n",
              "41371    3.3 \n",
              "41372     NaN\n",
              "Name: rates, Length: 41373, dtype: object"
            ]
          },
          "metadata": {
            "tags": []
          },
          "execution_count": 19
        }
      ]
    },
    {
      "cell_type": "markdown",
      "metadata": {
        "id": "VLj61FP1m1sk",
        "colab_type": "text"
      },
      "source": [
        "**Drop the rows which contain null values**"
      ]
    },
    {
      "cell_type": "code",
      "metadata": {
        "id": "pAXYz_WkgWtL",
        "colab_type": "code",
        "colab": {}
      },
      "source": [
        "df1 = df.copy()\n",
        "df1.dropna(how ='any', inplace = True)"
      ],
      "execution_count": 0,
      "outputs": []
    },
    {
      "cell_type": "code",
      "metadata": {
        "id": "mEXmM8fbg6lZ",
        "colab_type": "code",
        "colab": {}
      },
      "source": [
        "#df1.head()"
      ],
      "execution_count": 0,
      "outputs": []
    },
    {
      "cell_type": "code",
      "metadata": {
        "id": "4VpoC0iXpbPV",
        "colab_type": "code",
        "outputId": "710db58b-5034-4eec-d96e-4a750cfa7950",
        "colab": {
          "base_uri": "https://localhost:8080/",
          "height": 33
        }
      },
      "source": [
        "df1.shape"
      ],
      "execution_count": 22,
      "outputs": [
        {
          "output_type": "execute_result",
          "data": {
            "text/plain": [
              "(18427, 17)"
            ]
          },
          "metadata": {
            "tags": []
          },
          "execution_count": 22
        }
      ]
    },
    {
      "cell_type": "markdown",
      "metadata": {
        "id": "bYC7WQqo0Mdg",
        "colab_type": "text"
      },
      "source": [
        "**Delete the columns which are does effect the predicting rates.**"
      ]
    },
    {
      "cell_type": "code",
      "metadata": {
        "id": "RFmyLcDs0Wa3",
        "colab_type": "code",
        "outputId": "6c577798-a339-4627-a1f6-3946ae92779f",
        "colab": {
          "base_uri": "https://localhost:8080/",
          "height": 364
        }
      },
      "source": [
        "df1.drop(columns = ['url','phone','location','address'], axis = 1,inplace = True)\n",
        "df1.head()"
      ],
      "execution_count": 23,
      "outputs": [
        {
          "output_type": "execute_result",
          "data": {
            "text/html": [
              "<div>\n",
              "<style scoped>\n",
              "    .dataframe tbody tr th:only-of-type {\n",
              "        vertical-align: middle;\n",
              "    }\n",
              "\n",
              "    .dataframe tbody tr th {\n",
              "        vertical-align: top;\n",
              "    }\n",
              "\n",
              "    .dataframe thead th {\n",
              "        text-align: right;\n",
              "    }\n",
              "</style>\n",
              "<table border=\"1\" class=\"dataframe\">\n",
              "  <thead>\n",
              "    <tr style=\"text-align: right;\">\n",
              "      <th></th>\n",
              "      <th>name</th>\n",
              "      <th>online_order</th>\n",
              "      <th>book_table</th>\n",
              "      <th>votes</th>\n",
              "      <th>rest_type</th>\n",
              "      <th>dish_liked</th>\n",
              "      <th>cuisines</th>\n",
              "      <th>cost</th>\n",
              "      <th>reviews_list</th>\n",
              "      <th>menu_item</th>\n",
              "      <th>type</th>\n",
              "      <th>city</th>\n",
              "      <th>rates</th>\n",
              "    </tr>\n",
              "  </thead>\n",
              "  <tbody>\n",
              "    <tr>\n",
              "      <th>1</th>\n",
              "      <td>The Boozy Griffin</td>\n",
              "      <td>0</td>\n",
              "      <td>1</td>\n",
              "      <td>5015</td>\n",
              "      <td>Casual Dining, Pub</td>\n",
              "      <td>Cocktails, Craft Beer, Salads, Devils Chicken,...</td>\n",
              "      <td>European, Continental</td>\n",
              "      <td>1800.0</td>\n",
              "      <td>[('Rated 5.0', 'RATED\\n  Really great ambience...</td>\n",
              "      <td>[]</td>\n",
              "      <td>Dine-out</td>\n",
              "      <td>Koramangala 6th Block</td>\n",
              "      <td>4.6</td>\n",
              "    </tr>\n",
              "    <tr>\n",
              "      <th>3</th>\n",
              "      <td>Sriracha</td>\n",
              "      <td>0</td>\n",
              "      <td>0</td>\n",
              "      <td>699</td>\n",
              "      <td>Casual Dining</td>\n",
              "      <td>Noodles, Laksa, Cocktails, Dumplings, Sangria,...</td>\n",
              "      <td>Thai, Chinese, Indonesian, Asian, Momos</td>\n",
              "      <td>1500.0</td>\n",
              "      <td>[('Rated 3.0', 'RATED\\n  Another restaurant in...</td>\n",
              "      <td>[]</td>\n",
              "      <td>Dine-out</td>\n",
              "      <td>Residency Road</td>\n",
              "      <td>4.3</td>\n",
              "    </tr>\n",
              "    <tr>\n",
              "      <th>7</th>\n",
              "      <td>Chez Nous - Novotel</td>\n",
              "      <td>0</td>\n",
              "      <td>1</td>\n",
              "      <td>125</td>\n",
              "      <td>Lounge</td>\n",
              "      <td>Coffee, Cocktails, Tiramisu, Cappuccino, Hot C...</td>\n",
              "      <td>European, French, North Indian</td>\n",
              "      <td>2500.0</td>\n",
              "      <td>[('Rated 5.0', 'RATED\\n  I will visit there la...</td>\n",
              "      <td>[]</td>\n",
              "      <td>Dine-out</td>\n",
              "      <td>Sarjapur Road</td>\n",
              "      <td>3.9</td>\n",
              "    </tr>\n",
              "    <tr>\n",
              "      <th>9</th>\n",
              "      <td>Hyderabadi Biryani Hub</td>\n",
              "      <td>1</td>\n",
              "      <td>0</td>\n",
              "      <td>218</td>\n",
              "      <td>Casual Dining</td>\n",
              "      <td>Biryani, Raita</td>\n",
              "      <td>Biryani, North Indian, Chinese</td>\n",
              "      <td>600.0</td>\n",
              "      <td>[('Rated 3.0', 'RATED\\n  My friend ordered fri...</td>\n",
              "      <td>[]</td>\n",
              "      <td>Delivery</td>\n",
              "      <td>BTM</td>\n",
              "      <td>3.6</td>\n",
              "    </tr>\n",
              "    <tr>\n",
              "      <th>11</th>\n",
              "      <td>Foody's</td>\n",
              "      <td>1</td>\n",
              "      <td>0</td>\n",
              "      <td>169</td>\n",
              "      <td>Quick Bites</td>\n",
              "      <td>Coffee, Paratha, Chaat, Masala Dosa, Dahipuri,...</td>\n",
              "      <td>North Indian, South Indian</td>\n",
              "      <td>250.0</td>\n",
              "      <td>[('Rated 4.0', 'RATED\\n  Superb Coffee and Foo...</td>\n",
              "      <td>[]</td>\n",
              "      <td>Delivery</td>\n",
              "      <td>Residency Road</td>\n",
              "      <td>3.8</td>\n",
              "    </tr>\n",
              "  </tbody>\n",
              "</table>\n",
              "</div>"
            ],
            "text/plain": [
              "                      name  online_order  ...                   city  rates\n",
              "1        The Boozy Griffin             0  ...  Koramangala 6th Block   4.6 \n",
              "3                 Sriracha             0  ...         Residency Road   4.3 \n",
              "7      Chez Nous - Novotel             0  ...          Sarjapur Road   3.9 \n",
              "9   Hyderabadi Biryani Hub             1  ...                    BTM    3.6\n",
              "11                 Foody's             1  ...         Residency Road   3.8 \n",
              "\n",
              "[5 rows x 13 columns]"
            ]
          },
          "metadata": {
            "tags": []
          },
          "execution_count": 23
        }
      ]
    },
    {
      "cell_type": "code",
      "metadata": {
        "id": "S9eB0QAd6k3u",
        "colab_type": "code",
        "outputId": "b6a7f23e-0d0f-4995-a755-80260173e657",
        "colab": {
          "base_uri": "https://localhost:8080/",
          "height": 251
        }
      },
      "source": [
        "df1.dtypes"
      ],
      "execution_count": 24,
      "outputs": [
        {
          "output_type": "execute_result",
          "data": {
            "text/plain": [
              "name             object\n",
              "online_order      int64\n",
              "book_table        int64\n",
              "votes             int64\n",
              "rest_type        object\n",
              "dish_liked       object\n",
              "cuisines         object\n",
              "cost            float64\n",
              "reviews_list     object\n",
              "menu_item        object\n",
              "type             object\n",
              "city             object\n",
              "rates            object\n",
              "dtype: object"
            ]
          },
          "metadata": {
            "tags": []
          },
          "execution_count": 24
        }
      ]
    },
    {
      "cell_type": "code",
      "metadata": {
        "id": "a2cJ5rkO8Kdx",
        "colab_type": "code",
        "outputId": "b6c99aed-8b44-4439-9c07-11011a7dd799",
        "colab": {
          "base_uri": "https://localhost:8080/",
          "height": 351
        }
      },
      "source": [
        "df1.info()"
      ],
      "execution_count": 25,
      "outputs": [
        {
          "output_type": "stream",
          "text": [
            "<class 'pandas.core.frame.DataFrame'>\n",
            "Int64Index: 18427 entries, 1 to 41368\n",
            "Data columns (total 13 columns):\n",
            " #   Column        Non-Null Count  Dtype  \n",
            "---  ------        --------------  -----  \n",
            " 0   name          18427 non-null  object \n",
            " 1   online_order  18427 non-null  int64  \n",
            " 2   book_table    18427 non-null  int64  \n",
            " 3   votes         18427 non-null  int64  \n",
            " 4   rest_type     18427 non-null  object \n",
            " 5   dish_liked    18427 non-null  object \n",
            " 6   cuisines      18427 non-null  object \n",
            " 7   cost          18427 non-null  float64\n",
            " 8   reviews_list  18427 non-null  object \n",
            " 9   menu_item     18427 non-null  object \n",
            " 10  type          18427 non-null  object \n",
            " 11  city          18427 non-null  object \n",
            " 12  rates         18427 non-null  object \n",
            "dtypes: float64(1), int64(3), object(9)\n",
            "memory usage: 2.0+ MB\n"
          ],
          "name": "stdout"
        }
      ]
    },
    {
      "cell_type": "code",
      "metadata": {
        "id": "NEs34Uuj8Sve",
        "colab_type": "code",
        "outputId": "52b9446b-bb45-4507-ea9b-9d5c5cbed79d",
        "colab": {
          "base_uri": "https://localhost:8080/",
          "height": 286
        }
      },
      "source": [
        "df1.describe()"
      ],
      "execution_count": 26,
      "outputs": [
        {
          "output_type": "execute_result",
          "data": {
            "text/html": [
              "<div>\n",
              "<style scoped>\n",
              "    .dataframe tbody tr th:only-of-type {\n",
              "        vertical-align: middle;\n",
              "    }\n",
              "\n",
              "    .dataframe tbody tr th {\n",
              "        vertical-align: top;\n",
              "    }\n",
              "\n",
              "    .dataframe thead th {\n",
              "        text-align: right;\n",
              "    }\n",
              "</style>\n",
              "<table border=\"1\" class=\"dataframe\">\n",
              "  <thead>\n",
              "    <tr style=\"text-align: right;\">\n",
              "      <th></th>\n",
              "      <th>online_order</th>\n",
              "      <th>book_table</th>\n",
              "      <th>votes</th>\n",
              "      <th>cost</th>\n",
              "    </tr>\n",
              "  </thead>\n",
              "  <tbody>\n",
              "    <tr>\n",
              "      <th>count</th>\n",
              "      <td>18427.000000</td>\n",
              "      <td>18427.000000</td>\n",
              "      <td>18427.000000</td>\n",
              "      <td>18427.000000</td>\n",
              "    </tr>\n",
              "    <tr>\n",
              "      <th>mean</th>\n",
              "      <td>0.705812</td>\n",
              "      <td>0.261627</td>\n",
              "      <td>605.684648</td>\n",
              "      <td>752.539209</td>\n",
              "    </tr>\n",
              "    <tr>\n",
              "      <th>std</th>\n",
              "      <td>0.455689</td>\n",
              "      <td>0.439532</td>\n",
              "      <td>1121.375611</td>\n",
              "      <td>522.157919</td>\n",
              "    </tr>\n",
              "    <tr>\n",
              "      <th>min</th>\n",
              "      <td>0.000000</td>\n",
              "      <td>0.000000</td>\n",
              "      <td>0.000000</td>\n",
              "      <td>0.000000</td>\n",
              "    </tr>\n",
              "    <tr>\n",
              "      <th>25%</th>\n",
              "      <td>0.000000</td>\n",
              "      <td>0.000000</td>\n",
              "      <td>103.000000</td>\n",
              "      <td>400.000000</td>\n",
              "    </tr>\n",
              "    <tr>\n",
              "      <th>50%</th>\n",
              "      <td>1.000000</td>\n",
              "      <td>0.000000</td>\n",
              "      <td>225.000000</td>\n",
              "      <td>600.000000</td>\n",
              "    </tr>\n",
              "    <tr>\n",
              "      <th>75%</th>\n",
              "      <td>1.000000</td>\n",
              "      <td>1.000000</td>\n",
              "      <td>597.000000</td>\n",
              "      <td>1000.000000</td>\n",
              "    </tr>\n",
              "    <tr>\n",
              "      <th>max</th>\n",
              "      <td>1.000000</td>\n",
              "      <td>1.000000</td>\n",
              "      <td>16832.000000</td>\n",
              "      <td>6000.000000</td>\n",
              "    </tr>\n",
              "  </tbody>\n",
              "</table>\n",
              "</div>"
            ],
            "text/plain": [
              "       online_order    book_table         votes          cost\n",
              "count  18427.000000  18427.000000  18427.000000  18427.000000\n",
              "mean       0.705812      0.261627    605.684648    752.539209\n",
              "std        0.455689      0.439532   1121.375611    522.157919\n",
              "min        0.000000      0.000000      0.000000      0.000000\n",
              "25%        0.000000      0.000000    103.000000    400.000000\n",
              "50%        1.000000      0.000000    225.000000    600.000000\n",
              "75%        1.000000      1.000000    597.000000   1000.000000\n",
              "max        1.000000      1.000000  16832.000000   6000.000000"
            ]
          },
          "metadata": {
            "tags": []
          },
          "execution_count": 26
        }
      ]
    },
    {
      "cell_type": "code",
      "metadata": {
        "id": "U9gLFXiUx2y7",
        "colab_type": "code",
        "outputId": "f8498927-c962-410f-99c2-f075f732c9cb",
        "colab": {
          "base_uri": "https://localhost:8080/",
          "height": 364
        }
      },
      "source": [
        "df1.head()"
      ],
      "execution_count": 27,
      "outputs": [
        {
          "output_type": "execute_result",
          "data": {
            "text/html": [
              "<div>\n",
              "<style scoped>\n",
              "    .dataframe tbody tr th:only-of-type {\n",
              "        vertical-align: middle;\n",
              "    }\n",
              "\n",
              "    .dataframe tbody tr th {\n",
              "        vertical-align: top;\n",
              "    }\n",
              "\n",
              "    .dataframe thead th {\n",
              "        text-align: right;\n",
              "    }\n",
              "</style>\n",
              "<table border=\"1\" class=\"dataframe\">\n",
              "  <thead>\n",
              "    <tr style=\"text-align: right;\">\n",
              "      <th></th>\n",
              "      <th>name</th>\n",
              "      <th>online_order</th>\n",
              "      <th>book_table</th>\n",
              "      <th>votes</th>\n",
              "      <th>rest_type</th>\n",
              "      <th>dish_liked</th>\n",
              "      <th>cuisines</th>\n",
              "      <th>cost</th>\n",
              "      <th>reviews_list</th>\n",
              "      <th>menu_item</th>\n",
              "      <th>type</th>\n",
              "      <th>city</th>\n",
              "      <th>rates</th>\n",
              "    </tr>\n",
              "  </thead>\n",
              "  <tbody>\n",
              "    <tr>\n",
              "      <th>1</th>\n",
              "      <td>The Boozy Griffin</td>\n",
              "      <td>0</td>\n",
              "      <td>1</td>\n",
              "      <td>5015</td>\n",
              "      <td>Casual Dining, Pub</td>\n",
              "      <td>Cocktails, Craft Beer, Salads, Devils Chicken,...</td>\n",
              "      <td>European, Continental</td>\n",
              "      <td>1800.0</td>\n",
              "      <td>[('Rated 5.0', 'RATED\\n  Really great ambience...</td>\n",
              "      <td>[]</td>\n",
              "      <td>Dine-out</td>\n",
              "      <td>Koramangala 6th Block</td>\n",
              "      <td>4.6</td>\n",
              "    </tr>\n",
              "    <tr>\n",
              "      <th>3</th>\n",
              "      <td>Sriracha</td>\n",
              "      <td>0</td>\n",
              "      <td>0</td>\n",
              "      <td>699</td>\n",
              "      <td>Casual Dining</td>\n",
              "      <td>Noodles, Laksa, Cocktails, Dumplings, Sangria,...</td>\n",
              "      <td>Thai, Chinese, Indonesian, Asian, Momos</td>\n",
              "      <td>1500.0</td>\n",
              "      <td>[('Rated 3.0', 'RATED\\n  Another restaurant in...</td>\n",
              "      <td>[]</td>\n",
              "      <td>Dine-out</td>\n",
              "      <td>Residency Road</td>\n",
              "      <td>4.3</td>\n",
              "    </tr>\n",
              "    <tr>\n",
              "      <th>7</th>\n",
              "      <td>Chez Nous - Novotel</td>\n",
              "      <td>0</td>\n",
              "      <td>1</td>\n",
              "      <td>125</td>\n",
              "      <td>Lounge</td>\n",
              "      <td>Coffee, Cocktails, Tiramisu, Cappuccino, Hot C...</td>\n",
              "      <td>European, French, North Indian</td>\n",
              "      <td>2500.0</td>\n",
              "      <td>[('Rated 5.0', 'RATED\\n  I will visit there la...</td>\n",
              "      <td>[]</td>\n",
              "      <td>Dine-out</td>\n",
              "      <td>Sarjapur Road</td>\n",
              "      <td>3.9</td>\n",
              "    </tr>\n",
              "    <tr>\n",
              "      <th>9</th>\n",
              "      <td>Hyderabadi Biryani Hub</td>\n",
              "      <td>1</td>\n",
              "      <td>0</td>\n",
              "      <td>218</td>\n",
              "      <td>Casual Dining</td>\n",
              "      <td>Biryani, Raita</td>\n",
              "      <td>Biryani, North Indian, Chinese</td>\n",
              "      <td>600.0</td>\n",
              "      <td>[('Rated 3.0', 'RATED\\n  My friend ordered fri...</td>\n",
              "      <td>[]</td>\n",
              "      <td>Delivery</td>\n",
              "      <td>BTM</td>\n",
              "      <td>3.6</td>\n",
              "    </tr>\n",
              "    <tr>\n",
              "      <th>11</th>\n",
              "      <td>Foody's</td>\n",
              "      <td>1</td>\n",
              "      <td>0</td>\n",
              "      <td>169</td>\n",
              "      <td>Quick Bites</td>\n",
              "      <td>Coffee, Paratha, Chaat, Masala Dosa, Dahipuri,...</td>\n",
              "      <td>North Indian, South Indian</td>\n",
              "      <td>250.0</td>\n",
              "      <td>[('Rated 4.0', 'RATED\\n  Superb Coffee and Foo...</td>\n",
              "      <td>[]</td>\n",
              "      <td>Delivery</td>\n",
              "      <td>Residency Road</td>\n",
              "      <td>3.8</td>\n",
              "    </tr>\n",
              "  </tbody>\n",
              "</table>\n",
              "</div>"
            ],
            "text/plain": [
              "                      name  online_order  ...                   city  rates\n",
              "1        The Boozy Griffin             0  ...  Koramangala 6th Block   4.6 \n",
              "3                 Sriracha             0  ...         Residency Road   4.3 \n",
              "7      Chez Nous - Novotel             0  ...          Sarjapur Road   3.9 \n",
              "9   Hyderabadi Biryani Hub             1  ...                    BTM    3.6\n",
              "11                 Foody's             1  ...         Residency Road   3.8 \n",
              "\n",
              "[5 rows x 13 columns]"
            ]
          },
          "metadata": {
            "tags": []
          },
          "execution_count": 27
        }
      ]
    },
    {
      "cell_type": "markdown",
      "metadata": {
        "id": "luMZF6UNwNbY",
        "colab_type": "text"
      },
      "source": [
        "## **Data Visualization**"
      ]
    },
    {
      "cell_type": "markdown",
      "metadata": {
        "id": "AjDdg_60xcFX",
        "colab_type": "text"
      },
      "source": [
        "### **Univariate Analysis**"
      ]
    },
    {
      "cell_type": "markdown",
      "metadata": {
        "id": "D_eSYlX0yFIB",
        "colab_type": "text"
      },
      "source": [
        "**1. Total number of restaurants which takes online orders.**"
      ]
    },
    {
      "cell_type": "code",
      "metadata": {
        "id": "hc9TxxdLyRts",
        "colab_type": "code",
        "outputId": "8d2f959e-2f21-4efe-f2fe-3e392d93854e",
        "colab": {
          "base_uri": "https://localhost:8080/",
          "height": 67
        }
      },
      "source": [
        "df1['online_order'].value_counts()"
      ],
      "execution_count": 28,
      "outputs": [
        {
          "output_type": "execute_result",
          "data": {
            "text/plain": [
              "1    13006\n",
              "0     5421\n",
              "Name: online_order, dtype: int64"
            ]
          },
          "metadata": {
            "tags": []
          },
          "execution_count": 28
        }
      ]
    },
    {
      "cell_type": "code",
      "metadata": {
        "id": "GTJVA8eewRwr",
        "colab_type": "code",
        "outputId": "d55b53e0-123e-4e89-ebb2-d7258b04f0f7",
        "colab": {
          "base_uri": "https://localhost:8080/",
          "height": 405
        }
      },
      "source": [
        "import seaborn as sns\n",
        "plt.figure(figsize=(8,6))\n",
        "ax = sns.countplot(x='online_order' , data = df1)\n",
        "plt.title('Restaurants taking online orders or not')\n",
        "plt.show()"
      ],
      "execution_count": 29,
      "outputs": [
        {
          "output_type": "display_data",
          "data": {
            "image/png": "[encoded data removed]",
            "text/plain": [
              "<Figure size 576x432 with 1 Axes>"
            ]
          },
          "metadata": {
            "tags": [],
            "needs_background": "light"
          }
        }
      ]
    },
    {
      "cell_type": "markdown",
      "metadata": {
        "id": "jxddl3zg1Zcn",
        "colab_type": "text"
      },
      "source": [
        "**Observations-** 13,001 restaurants are taking online orders while 5,451 restaurants are not taking online orders out of 18,427 restaurants"
      ]
    },
    {
      "cell_type": "markdown",
      "metadata": {
        "id": "o-3G6kHyz2pp",
        "colab_type": "text"
      },
      "source": [
        "**2. Restaurants allowing table booking or not.**"
      ]
    },
    {
      "cell_type": "code",
      "metadata": {
        "id": "rBeGkhcL0DFS",
        "colab_type": "code",
        "outputId": "979ab280-9fff-404b-8875-e8bfb9d7af2c",
        "colab": {
          "base_uri": "https://localhost:8080/",
          "height": 67
        }
      },
      "source": [
        "df1['book_table'].value_counts()"
      ],
      "execution_count": 30,
      "outputs": [
        {
          "output_type": "execute_result",
          "data": {
            "text/plain": [
              "0    13606\n",
              "1     4821\n",
              "Name: book_table, dtype: int64"
            ]
          },
          "metadata": {
            "tags": []
          },
          "execution_count": 30
        }
      ]
    },
    {
      "cell_type": "code",
      "metadata": {
        "id": "VZt8YOSh2LvI",
        "colab_type": "code",
        "outputId": "75f6b45d-5896-47d1-9668-f65dc65efe1f",
        "colab": {
          "base_uri": "https://localhost:8080/",
          "height": 405
        }
      },
      "source": [
        "import seaborn as sns\n",
        "plt.figure(figsize=(8,6))\n",
        "sns.countplot(x='online_order' , data = df1)\n",
        "plt.title('Restaurants allowing table booking or not')\n",
        "plt.show()"
      ],
      "execution_count": 31,
      "outputs": [
        {
          "output_type": "display_data",
          "data": {
            "image/png": "[encoded data removed]",
            "text/plain": [
              "<Figure size 576x432 with 1 Axes>"
            ]
          },
          "metadata": {
            "tags": [],
            "needs_background": "light"
          }
        }
      ]
    },
    {
      "cell_type": "markdown",
      "metadata": {
        "id": "BqAEF4Wg2Ton",
        "colab_type": "text"
      },
      "source": [
        "**Observations-** 13,606 restaurants are allows table booking while 4,821 restaurants doest not allow table booking  out of 18,427 restaurants."
      ]
    },
    {
      "cell_type": "markdown",
      "metadata": {
        "id": "MOLt5WEt5hGC",
        "colab_type": "text"
      },
      "source": [
        "**3. Total number of restaurant types in Bangalore.**"
      ]
    },
    {
      "cell_type": "code",
      "metadata": {
        "id": "dYAazVih57g6",
        "colab_type": "code",
        "outputId": "710124c4-5eb3-46eb-eff2-6bbf379e4c75",
        "colab": {
          "base_uri": "https://localhost:8080/",
          "height": 217
        }
      },
      "source": [
        "df1['rest_type'].value_counts()"
      ],
      "execution_count": 32,
      "outputs": [
        {
          "output_type": "execute_result",
          "data": {
            "text/plain": [
              "Casual Dining                5885\n",
              "Quick Bites                  4180\n",
              "Cafe                         1840\n",
              "Dessert Parlor                852\n",
              "Casual Dining, Bar            768\n",
              "                             ... \n",
              "Fine Dining, Microbrewery       4\n",
              "Club, Casual Dining             4\n",
              "Dessert Parlor, Kiosk           2\n",
              "Food Court, Casual Dining       1\n",
              "Dhaba                           1\n",
              "Name: rest_type, Length: 73, dtype: int64"
            ]
          },
          "metadata": {
            "tags": []
          },
          "execution_count": 32
        }
      ]
    },
    {
      "cell_type": "code",
      "metadata": {
        "id": "sJEmD4Pw6c_X",
        "colab_type": "code",
        "outputId": "d53ef972-2e11-4ed6-9f59-f3a57ea276fe",
        "colab": {
          "base_uri": "https://localhost:8080/",
          "height": 656
        }
      },
      "source": [
        "plt.figure(figsize=(14,8))\n",
        "sns.countplot(x='rest_type' , data = df1)\n",
        "plt.title('Number of restaurants type in Bangalore')\n",
        "\n",
        "x = plt.gca().xaxis\n",
        "for item in x.get_ticklabels():\n",
        "  item.set_rotation(90)\n",
        "plt.show()"
      ],
      "execution_count": 33,
      "outputs": [
        {
          "output_type": "display_data",
          "data": {
            "image/png": "[encoded data removed]",
            "text/plain": [
              "<Figure size 1008x576 with 1 Axes>"
            ]
          },
          "metadata": {
            "tags": [],
            "needs_background": "light"
          }
        }
      ]
    },
    {
      "cell_type": "markdown",
      "metadata": {
        "id": "1wdHJc6o7oa2",
        "colab_type": "text"
      },
      "source": [
        "**Observations-** Casual Dining and Quick Bites type of restaurant are large in numbers as compared to other types of restaurants. "
      ]
    },
    {
      "cell_type": "markdown",
      "metadata": {
        "id": "V_SnRjxN8yWK",
        "colab_type": "text"
      },
      "source": [
        "**4. Dish liked by customers**"
      ]
    },
    {
      "cell_type": "code",
      "metadata": {
        "id": "jAnjwBge9Bi1",
        "colab_type": "code",
        "outputId": "d4a7be0a-947f-4708-c5ed-e12ebdc38baf",
        "colab": {
          "base_uri": "https://localhost:8080/",
          "height": 217
        }
      },
      "source": [
        "df1['dish_liked'].value_counts()"
      ],
      "execution_count": 34,
      "outputs": [
        {
          "output_type": "execute_result",
          "data": {
            "text/plain": [
              "Biryani                                                                                            127\n",
              "Friendly Staff                                                                                      55\n",
              "Waffles                                                                                             50\n",
              "Masala Dosa                                                                                         44\n",
              "Chicken Biryani                                                                                     44\n",
              "                                                                                                  ... \n",
              "Chicken Wrap, Veggie Wrap, Aloo Paratha, Rolls, Sabudana Kheer, Khichda, Roti                        1\n",
              "Dal Makhani, Kulcha, Butter Chicken, Makke Ki Roti, Garlic Naan, Tandoori Chicken, Palak Paneer      1\n",
              "Wine, Manchow Soup, Sangria, Salsa, Mocktails, Pasta, Nachos                                         1\n",
              "Wine, Dumplings, Set Menu, Chicken Dim Sum, Tom Kha Soup, Fish, Sunday Brunch                        1\n",
              "Garlic Bread, Pasta                                                                                  1\n",
              "Name: dish_liked, Length: 4907, dtype: int64"
            ]
          },
          "metadata": {
            "tags": []
          },
          "execution_count": 34
        }
      ]
    },
    {
      "cell_type": "code",
      "metadata": {
        "id": "OB_n23P89XbG",
        "colab_type": "code",
        "colab": {}
      },
      "source": [
        "#plt.figure(figsize=(20,8))\n",
        "#sns.countplot(x='dish_liked' , data = df1)\n",
        "#plt.title('Dish liked')\n",
        "\n",
        "#x = plt.gca().xaxis\n",
        "#for item in x.get_ticklabels():\n",
        "  #item.set_rotation(90)\n",
        "#plt.show()"
      ],
      "execution_count": 0,
      "outputs": []
    },
    {
      "cell_type": "markdown",
      "metadata": {
        "id": "aj-_tgwU-9jC",
        "colab_type": "text"
      },
      "source": [
        "**Observation-** Biryani is the most likely dish in restaurants of Bangalore. Biryani have become a most favourite dish among the citizens of Bangalore."
      ]
    },
    {
      "cell_type": "markdown",
      "metadata": {
        "id": "_xHcvPme_zBj",
        "colab_type": "text"
      },
      "source": [
        "**5. Plot Cuisines or food styles in the restaurants of Bangalore.**"
      ]
    },
    {
      "cell_type": "code",
      "metadata": {
        "id": "UlWTsxZuABca",
        "colab_type": "code",
        "outputId": "f123c3d0-c992-4691-fe6a-d81a116d10c3",
        "colab": {
          "base_uri": "https://localhost:8080/",
          "height": 217
        }
      },
      "source": [
        "df1['cuisines'].value_counts()"
      ],
      "execution_count": 36,
      "outputs": [
        {
          "output_type": "execute_result",
          "data": {
            "text/plain": [
              "North Indian                                  920\n",
              "North Indian, Chinese                         629\n",
              "South Indian                                  288\n",
              "Cafe                                          228\n",
              "South Indian, North Indian, Chinese           196\n",
              "                                             ... \n",
              "North Indian, Fast Food, Chinese, Burger        1\n",
              "Burger, Pizza, Fast Food                        1\n",
              "Chinese, Vietnamese, Thai, Malaysian            1\n",
              "Continental, Italian, Mediterranean, Salad      1\n",
              "Biryani, Mughlai, North Indian                  1\n",
              "Name: cuisines, Length: 1645, dtype: int64"
            ]
          },
          "metadata": {
            "tags": []
          },
          "execution_count": 36
        }
      ]
    },
    {
      "cell_type": "markdown",
      "metadata": {
        "id": "-oAmUuNgAM4V",
        "colab_type": "text"
      },
      "source": [
        "**Observations-** North Indian and North Indian, Chinese food styles are more popular in Bangalore."
      ]
    },
    {
      "cell_type": "markdown",
      "metadata": {
        "id": "vjP1oD2UA-A6",
        "colab_type": "text"
      },
      "source": [
        "**6. Type of meal preferred by people in Bangalore**"
      ]
    },
    {
      "cell_type": "code",
      "metadata": {
        "id": "tVdguRRHBIXF",
        "colab_type": "code",
        "outputId": "45c03a7b-8568-4da6-829e-1038859548cd",
        "colab": {
          "base_uri": "https://localhost:8080/",
          "height": 150
        }
      },
      "source": [
        "df1['type'].value_counts()"
      ],
      "execution_count": 37,
      "outputs": [
        {
          "output_type": "execute_result",
          "data": {
            "text/plain": [
              "Delivery              8471\n",
              "Dine-out              6370\n",
              "Desserts              1039\n",
              "Cafes                  829\n",
              "Drinks & nightlife     703\n",
              "Buffet                 602\n",
              "Pubs and bars          413\n",
              "Name: type, dtype: int64"
            ]
          },
          "metadata": {
            "tags": []
          },
          "execution_count": 37
        }
      ]
    },
    {
      "cell_type": "code",
      "metadata": {
        "id": "1_EA8BL7_Jrf",
        "colab_type": "code",
        "outputId": "ba534feb-7539-42b5-de12-fdd655537648",
        "colab": {
          "base_uri": "https://localhost:8080/",
          "height": 463
        }
      },
      "source": [
        "figure = plt.figure(figsize=(8,6))\n",
        "sns.countplot(x= 'type',data = df1)\n",
        "plt.title('Type of Meal preferred')\n",
        "\n",
        "#Rotating the x ticklabels\n",
        "x= plt.gca().xaxis\n",
        "for item in x.get_ticklabels():\n",
        "  item.set_rotation(45)\n",
        "plt.show()"
      ],
      "execution_count": 38,
      "outputs": [
        {
          "output_type": "display_data",
          "data": {
            "image/png": "[encoded data removed]",
            "text/plain": [
              "<Figure size 576x432 with 1 Axes>"
            ]
          },
          "metadata": {
            "tags": [],
            "needs_background": "light"
          }
        }
      ]
    },
    {
      "cell_type": "markdown",
      "metadata": {
        "id": "mmGNOe4pCYn6",
        "colab_type": "text"
      },
      "source": [
        "**Observations-** Delivery and Dine-out meals are mostly preferred."
      ]
    },
    {
      "cell_type": "markdown",
      "metadata": {
        "id": "XJj33BFuCpOO",
        "colab_type": "text"
      },
      "source": [
        "**7. Number of restaurants located in each city.**"
      ]
    },
    {
      "cell_type": "code",
      "metadata": {
        "id": "GqVmqbBHDRWM",
        "colab_type": "code",
        "outputId": "9130e34b-0cc5-4ee1-ae3a-2f505790f3fa",
        "colab": {
          "base_uri": "https://localhost:8080/",
          "height": 535
        }
      },
      "source": [
        "df1['city'].value_counts()"
      ],
      "execution_count": 39,
      "outputs": [
        {
          "output_type": "execute_result",
          "data": {
            "text/plain": [
              "BTM                      1132\n",
              "Koramangala 7th Block    1078\n",
              "Koramangala 4th Block    1070\n",
              "Koramangala 5th Block    1011\n",
              "Koramangala 6th Block     967\n",
              "Jayanagar                 833\n",
              "Indiranagar               813\n",
              "MG Road                   799\n",
              "Church Street             783\n",
              "Brigade Road              769\n",
              "Lavelle Road              716\n",
              "Residency Road            676\n",
              "JP Nagar                  665\n",
              "Old Airport Road          597\n",
              "HSR                       571\n",
              "Marathahalli              496\n",
              "Whitefield                490\n",
              "Brookefield               485\n",
              "Basavanagudi              472\n",
              "Frazer Town               450\n",
              "Bannerghatta Road         446\n",
              "Kammanahalli              431\n",
              "Kalyan Nagar              417\n",
              "Malleshwaram              398\n",
              "Bellandur                 393\n",
              "Sarjapur Road             392\n",
              "Banashankari              298\n",
              "Rajajinagar               287\n",
              "Electronic City           255\n",
              "New BEL Road              237\n",
              "Name: city, dtype: int64"
            ]
          },
          "metadata": {
            "tags": []
          },
          "execution_count": 39
        }
      ]
    },
    {
      "cell_type": "code",
      "metadata": {
        "id": "1mN4kFu9DYyk",
        "colab_type": "code",
        "outputId": "25613fcb-63e8-483c-ed2c-15cf04a1c00a",
        "colab": {
          "base_uri": "https://localhost:8080/",
          "height": 619
        }
      },
      "source": [
        "figure = plt.figure(figsize=(14,8))\n",
        "sns.countplot(x='city', data= df1)\n",
        "plt.title('Number of restaurant in different cities')\n",
        "\n",
        "# Rotating the x ticklabels.\n",
        "x = plt.gca().xaxis\n",
        "for item in x.get_ticklabels():\n",
        "  item.set_rotation(90)\n",
        "plt.show()"
      ],
      "execution_count": 40,
      "outputs": [
        {
          "output_type": "display_data",
          "data": {
            "image/png": "[encoded data removed]",
            "text/plain": [
              "<Figure size 1008x576 with 1 Axes>"
            ]
          },
          "metadata": {
            "tags": [],
            "needs_background": "light"
          }
        }
      ]
    },
    {
      "cell_type": "markdown",
      "metadata": {
        "id": "ee13GjZmEjA5",
        "colab_type": "text"
      },
      "source": [
        "**Observations-** 1,132 restaurants are situated in BTM, and in Koramangala 7th Block, Koramangala 4th Block, Koramangala 5th Block, Koramangala 6th Block the numbers of restaurants are 1078,1070,1011,967 respectively.<br>\n",
        "**BTM** is the place where the highest number of restaurants are located."
      ]
    },
    {
      "cell_type": "markdown",
      "metadata": {
        "id": "xS0JwS3AF16c",
        "colab_type": "text"
      },
      "source": [
        "### **Bivariate Analysis**"
      ]
    },
    {
      "cell_type": "markdown",
      "metadata": {
        "id": "eskjqDHcGAcM",
        "colab_type": "text"
      },
      "source": [
        "**1. Online orders vs Rates**"
      ]
    },
    {
      "cell_type": "code",
      "metadata": {
        "id": "JK024IvlHalE",
        "colab_type": "code",
        "outputId": "5cadf521-dcdc-4a93-fc9a-4ab62d98b26b",
        "colab": {
          "base_uri": "https://localhost:8080/",
          "height": 522
        }
      },
      "source": [
        "figure = plt.figure(figsize=(18,8))\n",
        "sns.barplot(x='rates',y='online_order', data= df1)\n",
        "plt.title('online_order vs Rates')\n",
        "\n",
        "x= plt.gca().xaxis\n",
        "for item in x.get_ticklabels():\n",
        "  item.set_rotation(90)\n",
        "plt.show()"
      ],
      "execution_count": 41,
      "outputs": [
        {
          "output_type": "display_data",
          "data": {
            "image/png": "[encoded data removed]",
            "text/plain": [
              "<Figure size 1296x576 with 1 Axes>"
            ]
          },
          "metadata": {
            "tags": [],
            "needs_background": "light"
          }
        }
      ]
    },
    {
      "cell_type": "markdown",
      "metadata": {
        "id": "2jKbRneIF87w",
        "colab_type": "text"
      },
      "source": [
        "**2. Book table vs rates**"
      ]
    },
    {
      "cell_type": "code",
      "metadata": {
        "id": "8ouh97AbYpVk",
        "colab_type": "code",
        "outputId": "b5b76398-f43c-495a-a9f0-6b1a110a199e",
        "colab": {
          "base_uri": "https://localhost:8080/",
          "height": 522
        }
      },
      "source": [
        "figure = plt.figure(figsize=(18,8))\n",
        "sns.barplot(x='rates',y='book_table', data= df1)\n",
        "plt.title('Book table vs Rates')\n",
        "\n",
        "x= plt.gca().xaxis\n",
        "for item in x.get_ticklabels():\n",
        "  item.set_rotation(90)\n",
        "plt.show()"
      ],
      "execution_count": 42,
      "outputs": [
        {
          "output_type": "display_data",
          "data": {
            "image/png": "[encoded data removed]",
            "text/plain": [
              "<Figure size 1296x576 with 1 Axes>"
            ]
          },
          "metadata": {
            "tags": [],
            "needs_background": "light"
          }
        }
      ]
    },
    {
      "cell_type": "markdown",
      "metadata": {
        "id": "WKhCtPngZAop",
        "colab_type": "text"
      },
      "source": [
        "**Observations-** Restaurants which allows table booking mostly have good rating."
      ]
    },
    {
      "cell_type": "markdown",
      "metadata": {
        "id": "_AnpWXG-afKj",
        "colab_type": "text"
      },
      "source": [
        "**3. Restaurant types vs rating**"
      ]
    },
    {
      "cell_type": "code",
      "metadata": {
        "id": "H48rClcMbnLL",
        "colab_type": "code",
        "outputId": "7beef639-c22d-4a77-fc39-23dfa3b107be",
        "colab": {
          "base_uri": "https://localhost:8080/",
          "height": 526
        }
      },
      "source": [
        "loc_plt=pd.crosstab(df1['rates'],df1['rest_type'])\n",
        "loc_plt.plot(kind='bar',stacked=True, figsize=(14,8))\n",
        "plt.title('Rest type vs Rating',fontsize=15,fontweight='bold')\n",
        "plt.ylabel('Rest type',fontsize=10,fontweight='bold')\n",
        "plt.xlabel('Rating',fontsize=10,fontweight='bold')\n",
        "plt.xticks(fontsize=10,fontweight='bold')\n",
        "plt.yticks(fontsize=10,fontweight='bold')\n",
        "plt.legend().remove()\n",
        "plt.show()"
      ],
      "execution_count": 43,
      "outputs": [
        {
          "output_type": "display_data",
          "data": {
            "image/png": "[encoded data removed]",
            "text/plain": [
              "<Figure size 1008x576 with 1 Axes>"
            ]
          },
          "metadata": {
            "tags": [],
            "needs_background": "light"
          }
        }
      ]
    },
    {
      "cell_type": "markdown",
      "metadata": {
        "id": "i_Hc5xnrdT_U",
        "colab_type": "text"
      },
      "source": [
        "**Observations**- Most of the restaurant types having a rating between 3.6 - 4.4"
      ]
    },
    {
      "cell_type": "markdown",
      "metadata": {
        "id": "XhcfTVnYcS76",
        "colab_type": "text"
      },
      "source": [
        "**4. Dish liked vs Rating**"
      ]
    },
    {
      "cell_type": "code",
      "metadata": {
        "id": "9YLlV9OxjE-s",
        "colab_type": "code",
        "colab": {}
      },
      "source": [
        "#figure = plt.figure(figsize=(14,8))\n",
        "#loc_plt=pd.crosstab(df1['rates'],df1['dish_liked'])\n",
        "#loc_plt.plot(kind='bar',stacked=True)\n",
        "#plt.title('Dish liked vs Rating',fontsize=15,fontweight='bold')\n",
        "#plt.ylabel('Dish liked',fontsize=10,fontweight='bold')\n",
        "#plt.xlabel('Rating',fontsize=10,fontweight='bold')\n",
        "#plt.xticks(fontsize=10,fontweight='bold')\n",
        "#plt.yticks(fontsize=10,fontweight='bold')\n",
        "#plt.legend().remove()\n",
        "#plt.show()"
      ],
      "execution_count": 0,
      "outputs": []
    },
    {
      "cell_type": "code",
      "metadata": {
        "id": "tGL8cgDeQR9i",
        "colab_type": "code",
        "colab": {
          "base_uri": "https://localhost:8080/",
          "height": 434
        },
        "outputId": "a7a72f35-aa2f-448f-f731-ae30a68b523d"
      },
      "source": [
        "loc_plt=pd.crosstab(df1['rates'],df1['type'])\n",
        "loc_plt"
      ],
      "execution_count": 45,
      "outputs": [
        {
          "output_type": "execute_result",
          "data": {
            "text/html": [
              "<div>\n",
              "<style scoped>\n",
              "    .dataframe tbody tr th:only-of-type {\n",
              "        vertical-align: middle;\n",
              "    }\n",
              "\n",
              "    .dataframe tbody tr th {\n",
              "        vertical-align: top;\n",
              "    }\n",
              "\n",
              "    .dataframe thead th {\n",
              "        text-align: right;\n",
              "    }\n",
              "</style>\n",
              "<table border=\"1\" class=\"dataframe\">\n",
              "  <thead>\n",
              "    <tr style=\"text-align: right;\">\n",
              "      <th>type</th>\n",
              "      <th>Buffet</th>\n",
              "      <th>Cafes</th>\n",
              "      <th>Delivery</th>\n",
              "      <th>Desserts</th>\n",
              "      <th>Dine-out</th>\n",
              "      <th>Drinks &amp; nightlife</th>\n",
              "      <th>Pubs and bars</th>\n",
              "    </tr>\n",
              "    <tr>\n",
              "      <th>rates</th>\n",
              "      <th></th>\n",
              "      <th></th>\n",
              "      <th></th>\n",
              "      <th></th>\n",
              "      <th></th>\n",
              "      <th></th>\n",
              "      <th></th>\n",
              "    </tr>\n",
              "  </thead>\n",
              "  <tbody>\n",
              "    <tr>\n",
              "      <th>1.8</th>\n",
              "      <td>0</td>\n",
              "      <td>0</td>\n",
              "      <td>0</td>\n",
              "      <td>0</td>\n",
              "      <td>2</td>\n",
              "      <td>0</td>\n",
              "      <td>0</td>\n",
              "    </tr>\n",
              "    <tr>\n",
              "      <th>1.8</th>\n",
              "      <td>0</td>\n",
              "      <td>0</td>\n",
              "      <td>0</td>\n",
              "      <td>0</td>\n",
              "      <td>2</td>\n",
              "      <td>0</td>\n",
              "      <td>0</td>\n",
              "    </tr>\n",
              "    <tr>\n",
              "      <th>2.0</th>\n",
              "      <td>0</td>\n",
              "      <td>0</td>\n",
              "      <td>0</td>\n",
              "      <td>0</td>\n",
              "      <td>1</td>\n",
              "      <td>2</td>\n",
              "      <td>0</td>\n",
              "    </tr>\n",
              "    <tr>\n",
              "      <th>2.0</th>\n",
              "      <td>0</td>\n",
              "      <td>0</td>\n",
              "      <td>1</td>\n",
              "      <td>0</td>\n",
              "      <td>4</td>\n",
              "      <td>2</td>\n",
              "      <td>0</td>\n",
              "    </tr>\n",
              "    <tr>\n",
              "      <th>2.1</th>\n",
              "      <td>0</td>\n",
              "      <td>0</td>\n",
              "      <td>8</td>\n",
              "      <td>0</td>\n",
              "      <td>2</td>\n",
              "      <td>0</td>\n",
              "      <td>0</td>\n",
              "    </tr>\n",
              "    <tr>\n",
              "      <th>...</th>\n",
              "      <td>...</td>\n",
              "      <td>...</td>\n",
              "      <td>...</td>\n",
              "      <td>...</td>\n",
              "      <td>...</td>\n",
              "      <td>...</td>\n",
              "      <td>...</td>\n",
              "    </tr>\n",
              "    <tr>\n",
              "      <th>4.7</th>\n",
              "      <td>6</td>\n",
              "      <td>5</td>\n",
              "      <td>15</td>\n",
              "      <td>5</td>\n",
              "      <td>31</td>\n",
              "      <td>6</td>\n",
              "      <td>5</td>\n",
              "    </tr>\n",
              "    <tr>\n",
              "      <th>4.8</th>\n",
              "      <td>2</td>\n",
              "      <td>0</td>\n",
              "      <td>6</td>\n",
              "      <td>5</td>\n",
              "      <td>4</td>\n",
              "      <td>1</td>\n",
              "      <td>2</td>\n",
              "    </tr>\n",
              "    <tr>\n",
              "      <th>4.8</th>\n",
              "      <td>2</td>\n",
              "      <td>0</td>\n",
              "      <td>9</td>\n",
              "      <td>5</td>\n",
              "      <td>13</td>\n",
              "      <td>4</td>\n",
              "      <td>4</td>\n",
              "    </tr>\n",
              "    <tr>\n",
              "      <th>4.9</th>\n",
              "      <td>6</td>\n",
              "      <td>0</td>\n",
              "      <td>6</td>\n",
              "      <td>3</td>\n",
              "      <td>5</td>\n",
              "      <td>1</td>\n",
              "      <td>1</td>\n",
              "    </tr>\n",
              "    <tr>\n",
              "      <th>4.9</th>\n",
              "      <td>2</td>\n",
              "      <td>0</td>\n",
              "      <td>9</td>\n",
              "      <td>3</td>\n",
              "      <td>8</td>\n",
              "      <td>1</td>\n",
              "      <td>2</td>\n",
              "    </tr>\n",
              "  </tbody>\n",
              "</table>\n",
              "<p>62 rows × 7 columns</p>\n",
              "</div>"
            ],
            "text/plain": [
              "type   Buffet  Cafes  Delivery  ...  Dine-out  Drinks & nightlife  Pubs and bars\n",
              "rates                           ...                                             \n",
              "1.8         0      0         0  ...         2                   0              0\n",
              "1.8         0      0         0  ...         2                   0              0\n",
              "2.0         0      0         0  ...         1                   2              0\n",
              "2.0         0      0         1  ...         4                   2              0\n",
              "2.1         0      0         8  ...         2                   0              0\n",
              "...       ...    ...       ...  ...       ...                 ...            ...\n",
              "4.7         6      5        15  ...        31                   6              5\n",
              "4.8         2      0         6  ...         4                   1              2\n",
              "4.8         2      0         9  ...        13                   4              4\n",
              "4.9         6      0         6  ...         5                   1              1\n",
              "4.9         2      0         9  ...         8                   1              2\n",
              "\n",
              "[62 rows x 7 columns]"
            ]
          },
          "metadata": {
            "tags": []
          },
          "execution_count": 45
        }
      ]
    },
    {
      "cell_type": "markdown",
      "metadata": {
        "id": "Q0_USV2-eXhK",
        "colab_type": "text"
      },
      "source": [
        "**5. Type of Meal vs Rating**"
      ]
    },
    {
      "cell_type": "code",
      "metadata": {
        "id": "MtA-GIGQeiqa",
        "colab_type": "code",
        "outputId": "b791eaed-0751-45e8-dadf-ab0f9cdef728",
        "colab": {
          "base_uri": "https://localhost:8080/",
          "height": 526
        }
      },
      "source": [
        "loc_plt=pd.crosstab(df1['rates'],df1['type'])\n",
        "loc_plt.plot(kind='bar',stacked=True, figsize = (14,8))\n",
        "plt.title('Type of meal vs Rating',fontsize=15,fontweight='bold')\n",
        "plt.ylabel('Type',fontsize=10,fontweight='bold')\n",
        "plt.xlabel('Rating',fontsize=10,fontweight='bold')\n",
        "plt.xticks(fontsize=10,fontweight='bold')\n",
        "plt.yticks(fontsize=10,fontweight='bold')\n",
        "#plt.legend().remove()\n",
        "plt.show()"
      ],
      "execution_count": 46,
      "outputs": [
        {
          "output_type": "display_data",
          "data": {
            "image/png": "[encoded data removed]",
            "text/plain": [
              "<Figure size 1008x576 with 1 Axes>"
            ]
          },
          "metadata": {
            "tags": [],
            "needs_background": "light"
          }
        }
      ]
    },
    {
      "cell_type": "markdown",
      "metadata": {
        "id": "phNSDVQMg_pv",
        "colab_type": "text"
      },
      "source": [
        "**Observations**- Most of the types of meal provides rating between 3.8 - 4.3"
      ]
    },
    {
      "cell_type": "markdown",
      "metadata": {
        "id": "IFlaCWsKfhZP",
        "colab_type": "text"
      },
      "source": [
        "**6. City vs Rating**"
      ]
    },
    {
      "cell_type": "code",
      "metadata": {
        "id": "-YpK0ULqhyBS",
        "colab_type": "code",
        "outputId": "0bf92bee-d65a-4eb1-dea5-334517049efe",
        "colab": {
          "base_uri": "https://localhost:8080/",
          "height": 526
        }
      },
      "source": [
        "loc_plt=pd.crosstab(df1['rates'],df1['city'])\n",
        "loc_plt.plot(kind='bar',stacked=True, figsize = (14,8))\n",
        "plt.title('City vs Rating',fontsize=15,fontweight='bold')\n",
        "plt.ylabel('City',fontsize=10,fontweight='bold')\n",
        "plt.xlabel('Rating',fontsize=10,fontweight='bold')\n",
        "plt.xticks(fontsize=10,fontweight='bold')\n",
        "plt.yticks(fontsize=10,fontweight='bold')\n",
        "plt.legend().remove()\n",
        "plt.show()"
      ],
      "execution_count": 50,
      "outputs": [
        {
          "output_type": "display_data",
          "data": {
            "image/png": "[encoded data removed]",
            "text/plain": [
              "<Figure size 1008x576 with 1 Axes>"
            ]
          },
          "metadata": {
            "tags": [],
            "needs_background": "light"
          }
        }
      ]
    },
    {
      "cell_type": "markdown",
      "metadata": {
        "id": "cOKDbx5jjPKj",
        "colab_type": "text"
      },
      "source": [
        "**7. Cost vs Rating**"
      ]
    },
    {
      "cell_type": "code",
      "metadata": {
        "id": "R7dwrmGnjdhF",
        "colab_type": "code",
        "outputId": "a27d4db5-d73c-47aa-bf78-b8fbcf4c7745",
        "colab": {
          "base_uri": "https://localhost:8080/",
          "height": 418
        }
      },
      "source": [
        "figure = plt.figure(figsize = (14,6))\n",
        "sns.barplot(x= 'rates', y ='cost', data = df1)\n",
        "plt.title('Cost vs rating', fontsize = 15, fontweight = 'bold')\n",
        "plt.ylabel('Cost',fontsize=10,fontweight='bold')\n",
        "plt.xlabel('Rating',fontsize=10,fontweight='bold')\n",
        "plt.xticks(fontsize=10,fontweight='bold')\n",
        "plt.yticks(fontsize=10,fontweight='bold')\n",
        "\n",
        "#Rotating x ticklabels\n",
        "x= plt.gca().xaxis\n",
        "for item in x.get_ticklabels():\n",
        "  item.set_rotation(90)\n",
        "plt.show()\n"
      ],
      "execution_count": 48,
      "outputs": [
        {
          "output_type": "display_data",
          "data": {
            "image/png": "[encoded data removed]",
            "text/plain": [
              "<Figure size 1008x432 with 1 Axes>"
            ]
          },
          "metadata": {
            "tags": [],
            "needs_background": "light"
          }
        }
      ]
    },
    {
      "cell_type": "markdown",
      "metadata": {
        "id": "8RzhkgL4odhR",
        "colab_type": "text"
      },
      "source": [
        "**observations** -1 The restaurants whose rating is 2.0 is the most expensive restaurants.<br>\n",
        "2 The restaurants with high rating are also expensive have cost around 1000 - 1400"
      ]
    },
    {
      "cell_type": "markdown",
      "metadata": {
        "id": "LNy0IWJVpE2i",
        "colab_type": "text"
      },
      "source": [
        "**8. Cost vs Online Order**"
      ]
    },
    {
      "cell_type": "code",
      "metadata": {
        "id": "BuFvYEUWpOuR",
        "colab_type": "code",
        "outputId": "48aed088-9185-4cd6-d73c-9d9c81df45d9",
        "colab": {
          "base_uri": "https://localhost:8080/",
          "height": 406
        }
      },
      "source": [
        "figure = plt.figure(figsize = (8,6))\n",
        "sns.barplot(x= 'online_order', y ='cost', data = df1)\n",
        "plt.title('Cost vs online order', fontsize = 15, fontweight = 'bold')\n",
        "plt.ylabel('Cost',fontsize=10)\n",
        "plt.xlabel('Online order',fontsize=10)\n",
        "plt.xticks(fontsize=10)\n",
        "plt.yticks(fontsize=10)\n",
        "plt.show()\n"
      ],
      "execution_count": 49,
      "outputs": [
        {
          "output_type": "display_data",
          "data": {
            "image/png": "[encoded data removed]",
            "text/plain": [
              "<Figure size 576x432 with 1 Axes>"
            ]
          },
          "metadata": {
            "tags": [],
            "needs_background": "light"
          }
        }
      ]
    },
    {
      "cell_type": "markdown",
      "metadata": {
        "id": "3cP8rjgWqY5V",
        "colab_type": "text"
      },
      "source": [
        "**Observations-** The restaurants which does not take online orders are more expensive."
      ]
    },
    {
      "cell_type": "markdown",
      "metadata": {
        "id": "IAAAPZJ8qoih",
        "colab_type": "text"
      },
      "source": [
        "**9. Cost vs Book table**"
      ]
    },
    {
      "cell_type": "code",
      "metadata": {
        "id": "ING6vyEZqu2z",
        "colab_type": "code",
        "outputId": "8d2da342-aedd-432e-9dcf-bda820dba021",
        "colab": {
          "base_uri": "https://localhost:8080/",
          "height": 407
        }
      },
      "source": [
        "figure = plt.figure(figsize = (8,6))\n",
        "sns.barplot(x= 'book_table', y ='cost', data = df1)\n",
        "plt.title('Cost vs book table', fontsize = 15, fontweight = 'bold')\n",
        "plt.ylabel('Cost',fontsize=10)\n",
        "plt.xlabel('book_table',fontsize=10)\n",
        "plt.xticks(fontsize=10)\n",
        "plt.yticks(fontsize=10)\n",
        "plt.show()"
      ],
      "execution_count": 51,
      "outputs": [
        {
          "output_type": "display_data",
          "data": {
            "image/png": "[encoded data removed]",
            "text/plain": [
              "<Figure size 576x432 with 1 Axes>"
            ]
          },
          "metadata": {
            "tags": [],
            "needs_background": "light"
          }
        }
      ]
    },
    {
      "cell_type": "markdown",
      "metadata": {
        "id": "zx--_chtq-t9",
        "colab_type": "text"
      },
      "source": [
        "**Observations-** The restaurants which provides table booking are more expensive."
      ]
    },
    {
      "cell_type": "markdown",
      "metadata": {
        "id": "r55Gi5narNIe",
        "colab_type": "text"
      },
      "source": [
        "**10 Type of Meal vs cost**"
      ]
    },
    {
      "cell_type": "code",
      "metadata": {
        "id": "bjmEwF1Hrjss",
        "colab_type": "code",
        "outputId": "76713f84-43fe-4422-9a8e-7dcda26da72c",
        "colab": {
          "base_uri": "https://localhost:8080/",
          "height": 406
        }
      },
      "source": [
        "figure = plt.figure(figsize = (10,6))\n",
        "sns.barplot(x= 'type', y ='cost', data = df1)\n",
        "plt.title('Cost vs type of meal', fontsize = 15, fontweight = 'bold')\n",
        "plt.ylabel('Cost',fontsize=10, fontweight = 'bold')\n",
        "plt.xlabel('Types of Meal',fontsize=10, fontweight ='bold')\n",
        "plt.xticks(fontsize=10)\n",
        "plt.yticks(fontsize=10)\n",
        "plt.show()"
      ],
      "execution_count": 52,
      "outputs": [
        {
          "output_type": "display_data",
          "data": {
            "image/png": "[encoded data removed]",
            "text/plain": [
              "<Figure size 720x432 with 1 Axes>"
            ]
          },
          "metadata": {
            "tags": [],
            "needs_background": "light"
          }
        }
      ]
    },
    {
      "cell_type": "markdown",
      "metadata": {
        "id": "_uhdNo20sRui",
        "colab_type": "text"
      },
      "source": [
        "**Observations-** The restaurants which offers types like pubs and bars, Buffet , Drinks & nightlife are more expensive than then other types of meal offerings restaurants."
      ]
    },
    {
      "cell_type": "markdown",
      "metadata": {
        "id": "IlAQYh3CSl_g",
        "colab_type": "text"
      },
      "source": [
        "## **Feature Engineering**"
      ]
    },
    {
      "cell_type": "markdown",
      "metadata": {
        "id": "KCjIOMeTTYBB",
        "colab_type": "text"
      },
      "source": [
        "**Remove the columns reviews list and menu_item** because rating does not depend on the menu_item but on dish_liked and menu item has many empty columns."
      ]
    },
    {
      "cell_type": "code",
      "metadata": {
        "id": "P81NT4tuV8WW",
        "colab_type": "code",
        "outputId": "390cbf22-98df-4a39-f697-63e092eb8390",
        "colab": {
          "base_uri": "https://localhost:8080/",
          "height": 53
        }
      },
      "source": [
        "df1['reviews_list'][1]"
      ],
      "execution_count": 53,
      "outputs": [
        {
          "output_type": "execute_result",
          "data": {
            "text/plain": [
              "'[(\\'Rated 5.0\\', \\'RATED\\\\n  Really great ambience and experience. Bartender Sujit was really cooperative in serving us all we were looking for. He served us speedy and tasty cocktails alongside Kamikaze shooters, all of which were brilliant in both taste and effect.\\'), (\\'Rated 5.0\\', \\'RATED\\\\n  The place is great, the food here is really nice. The vegetarian too. The girls and I absolutely love the karaoke night and Sujit does a phenomenal job at the bar!\\'), (\\'Rated 5.0\\', \\'RATED\\\\n  Boozy griffin is such an amazing and lively place. Our bartender sujit is amazing guy!Ã\\x83\\\\x83Ã\\x82\\\\x83Ã\\x83\\\\x82Ã\\x82\\\\x83Ã\\x83\\\\x83Ã\\x82\\\\x82Ã\\x83\\\\x82Ã\\x82Â¢Ã\\x83\\\\x83Ã\\x82\\\\x83Ã\\x83\\\\x82Ã\\x82\\\\x82Ã\\x83\\\\x83Ã\\x82\\\\x82Ã\\x83\\\\x82Ã\\x82\\\\x98Ã\\x83\\\\x83Ã\\x82\\\\x83Ã\\x83\\\\x82Ã\\x82\\\\x82Ã\\x83\\\\x83Ã\\x82\\\\x82Ã\\x83\\\\x82Ã\\x82ÂºÃ\\x83\\\\x83Ã\\x82\\\\x83Ã\\x83\\\\x82Ã\\x82\\\\x83Ã\\x83\\\\x83Ã\\x82\\\\x82Ã\\x83\\\\x82Ã\\x82Â¯Ã\\x83\\\\x83Ã\\x82\\\\x83Ã\\x83\\\\x82Ã\\x82\\\\x82Ã\\x83\\\\x83Ã\\x82\\\\x82Ã\\x83\\\\x82Ã\\x82Â¸Ã\\x83\\\\x83Ã\\x82\\\\x83Ã\\x83\\\\x82Ã\\x82\\\\x82Ã\\x83\\\\x83Ã\\x82\\\\x82Ã\\x83\\\\x82Ã\\x82\\\\x8f must visit!\\\\nBest place for group and dancing the dj on wed is the best and their cocktail specially\\'), (\\'Rated 2.0\\', \\'RATED\\\\n  Too much overrated, too clumpsy, too noisy, too expensive.. We ordered a very few drinks and couple of starters and the bill came upto 4k.. Really wanted to stay.. The vibe was poor though\\'), (\\'Rated 3.0\\', \\'RATED\\\\n  A good place for people who are looking for craziness. Music is pretty loud and the karaoke nights are best to avoid. However, best place for people who are looking to bounce around to any and every music genre. Food and alcohol on the better side, with quirky offers.\\'), (\\'Rated 5.0\\', \\'RATED\\\\n  We loved the drinks and ambience. Music was just awesome. Special thanks to Sujeet who served us really well. Must try Naachos and Time Bomb.\\'), (\\'Rated 4.0\\', \\'RATED\\\\n  The place is very small and always over crowded so you have to wait a lot to get a place. The service however is decent but the food is dayum too good!!\\\\nWe ordered chicken wings and LIIT.\\\\nIf the space management is improved it will be great overall.\\'), (\\'Rated 5.0\\', \"RATED\\\\n  Boozy Griffin Koramangala is one of the happening places in Koramangala... Especially we loved the Karaoke Night on Thursday which also happened to be a ladies night..\\\\n\\\\nOur waiter Mr. Prashanth was absolutely friendly and was quick in service.. If you visit this place you need to meet this person Mr. Prashanth he is like the coolest waiter I\\'ve ever met..\\\\n\\\\nComing to the food. We ordered Naga Style Beef it was one of the best dishes I\\'ve had in long time..\\\\n\\\\nOverall I would recommend this place to everyone who wants to have a great night out on any day of the weekend.\"), (\\'Rated 5.0\\', \\'RATED\\\\n  The boozy griffin is a nice place to hang out with friends. The ambience is dark but not uncomfortably so. The food was good and the service was quick as well. The rest rooms were neatly maintained and valet service is also available. It is a nice place to go to catch up with friends.\\\\nI had a good time and they served us with a significant collection of Booze and Food. The place needs to reduce the price of alcohol to attract more customers as the ambiance is good and I am sure more people will like it too. Food tastes well and has the good variety. They could increase the quantity by 25% and this will be right for the price. The people are very helpful and had the good collection of music. Just one tip, sit away from the speakers else you will be yelling at your friends.\\\\n\\\\nTake the smoking section, if you do smoke and have often cravings to smoke.\\\\n\\\\nAmbiance : 4/5\\\\nFood quality : 5/5\\\\nDrinks variety : 5/5\\\\nPrices : 3/5\\\\n\\\\nHave a good time. Enjoy Responsibly.\\'), (\\'Rated 5.0\\', \\'RATED\\\\n  A lively place for young people with beautiful lights all around. Music was amazing when I went to this place. I did not get a chance to order anything to eat but ordered beers of which they had ample supply. It was pleasure dancing to the cool beats played here. I would surely visit this place again and dive into the flavours.\\'), (\\'Rated 5.0\\', \\'RATED\\\\n  Loud music, heart of koramangala, courties staff and good ambience. Can have a good time if you have awesome company. Mushroom chilli is what we enjoyed with drought beer\\'), (\\'Rated 4.0\\', \\'RATED\\\\n  pretty groovy place.\\\\n\\\\nThough, would say the food was spicier than expected lol. But the playlist was looking good, the place has nice aesthetics and decent hangout for destressing on weekends\\'), (\\'Rated 4.0\\', \\'RATED\\\\n  If you love loud music and searching for a place to chill and also dance till you drop.. This place is for you. We went there on a Saturday night.. So as expected it was packed. The place is quite small.. as compared to the images in zomato.\\\\n\\\\nFood-Try their boozy chicken wings. The best wings I have ever had. We ordered chir Churi prawns as well. It was quite spicy for my taste.\\\\n\\\\nService-its good.. Despite of the crowd.\\\\n\\\\nAmbience-I am not that fan of loud music and packed places but this place does justice to whatever it has. The DJ was good and specially the dhol that started to play around 10pm was too good.\\'), (\\'Rated 5.0\\', \\'RATED\\\\n  With cousins in town this was the place to go. Lovely ambience with good music and perfect decor to set your mood for the evening. Must try the cocktails and be there on a ladies night for the free drinks!!\\'), (\\'Rated 5.0\\', \"RATED\\\\n  AMAZING place.. totally loved it!! Went on a surprise dinner date with my husband and it turned out to be just perfect.\\\\nHad their yummy Martini\\'s - Bond 25. & For your eyes only.. both tasted superb.\\\\nTheir starters -chin churi prawn was good but their Mutton Tellicherry pepper fry was out of the world..\\\\nTheir main course ghee rice was butter chicken was soooooo delicious.\\\\nWould definitely go back just to eat their Mutton and butter chicken and ghee rice again. Highly recommended place.\"), (\\'Rated 5.0\\', \\'RATED\\\\n  Loud music, heart of koramangala, courties staff and good ambience. Can have a good time if you have awesome company. Mushroom chilli is what we enjoyed with drought beer\\'), (\\'Rated 4.0\\', \\'RATED\\\\n  pretty groovy place.\\\\n\\\\nThough, would say the food was spicier than expected lol. But the playlist was looking good, the place has nice aesthetics and decent hangout for destressing on weekends\\'), (\\'Rated 4.0\\', \\'RATED\\\\n  If you love loud music and searching for a place to chill and also dance till you drop.. This place is for you. We went there on a Saturday night.. So as expected it was packed. The place is quite small.. as compared to the images in zomato.\\\\n\\\\nFood-Try their boozy chicken wings. The best wings I have ever had. We ordered chir Churi prawns as well. It was quite spicy for my taste.\\\\n\\\\nService-its good.. Despite of the crowd.\\\\n\\\\nAmbience-I am not that fan of loud music and packed places but this place does justice to whatever it has. The DJ was good and specially the dhol that started to play around 10pm was too good.\\'), (\\'Rated 5.0\\', \\'RATED\\\\n  With cousins in town this was the place to go. Lovely ambience with good music and perfect decor to set your mood for the evening. Must try the cocktails and be there on a ladies night for the free drinks!!\\'), (\\'Rated 5.0\\', \"RATED\\\\n  AMAZING place.. totally loved it!! Went on a surprise dinner date with my husband and it turned out to be just perfect.\\\\nHad their yummy Martini\\'s - Bond 25. & For your eyes only.. both tasted superb.\\\\nTheir starters -chin churi prawn was good but their Mutton Tellicherry pepper fry was out of the world..\\\\nTheir main course ghee rice was butter chicken was soooooo delicious.\\\\nWould definitely go back just to eat their Mutton and butter chicken and ghee rice again. Highly recommended place.\"), (\\'Rated 4.0\\', \"RATED\\\\n  One of the best place for the loud music, love the crowd. Drinks no comments. Coming to food it needs to be improved in taste, ambience is cool. It\\'s better to book a table and visit. No seprate dance floor, good it has seprate smoking zone.\"), (\\'Rated 5.0\\', \\'RATED\\\\n  Barbecue chicken is good, so also pizzas\\\\nGood ambience,crowd, food and drinks. This is all u need\\\\nAfter 11 you can have bollywood chartbusters.\\\\n\\\\nVery good experience.\\'), (\\'Rated 3.0\\', \\'RATED\\\\n  We went here around 3, the place was not crowded and we were a group of 10. The food was good and the mocktails were decent. The beer was also good. Overall the peanut masala stood out in all the dishes. The only reason why I gave this place a 3 and not a 4 was because of the service and staff. They were not friendly or courteous. They were also not accomdative. The ambiance is decent.\\'), (\\'Rated 5.0\\', \\'RATED\\\\n  It was great experienc. It was small place but we are enjoying loud music but songs calection is good thanks for ****DJ****nice service friendly attitude. Food and drinks was awesome thanks for the BOOZY we are coming back....... Ã\\x83\\\\x83Ã\\x82\\\\x83Ã\\x83\\\\x82Ã\\x82\\\\x83Ã\\x83\\\\x83Ã\\x82\\\\x82Ã\\x83\\\\x82Ã\\x82Â°Ã\\x83\\\\x83Ã\\x82\\\\x83Ã\\x83\\\\x82Ã\\x82\\\\x82Ã\\x83\\\\x83Ã\\x82\\\\x82Ã\\x83\\\\x82Ã\\x82\\\\x9fÃ\\x83\\\\x83Ã\\x82\\\\x83Ã\\x83\\\\x82Ã\\x82\\\\x82Ã\\x83\\\\x83Ã\\x82\\\\x82Ã\\x83\\\\x82Ã\\x82\\\\x91Ã\\x83\\\\x83Ã\\x82\\\\x83Ã\\x83\\\\x82Ã\\x82\\\\x82Ã\\x83\\\\x83Ã\\x82\\\\x82Ã\\x83\\\\x82Ã\\x82\\\\x8dÃ\\x83\\\\x83Ã\\x82\\\\x83Ã\\x83\\\\x82Ã\\x82\\\\x83Ã\\x83\\\\x83Ã\\x82\\\\x82Ã\\x83\\\\x82Ã\\x82Â°Ã\\x83\\\\x83Ã\\x82\\\\x83Ã\\x83\\\\x82Ã\\x82\\\\x82Ã\\x83\\\\x83Ã\\x82\\\\x82Ã\\x83\\\\x82Ã\\x82\\\\x9fÃ\\x83\\\\x83Ã\\x82\\\\x83Ã\\x83\\\\x82Ã\\x82\\\\x82Ã\\x83\\\\x83Ã\\x82\\\\x82Ã\\x83\\\\x82Ã\\x82\\\\x91Ã\\x83\\\\x83Ã\\x82\\\\x83Ã\\x83\\\\x82Ã\\x82\\\\x82Ã\\x83\\\\x83Ã\\x82\\\\x82Ã\\x83\\\\x82Ã\\x82\\\\x8dÃ\\x83\\\\x83Ã\\x82\\\\x83Ã\\x83\\\\x82Ã\\x82\\\\x83Ã\\x83\\\\x83Ã\\x82\\\\x82Ã\\x83\\\\x82Ã\\x82Â°Ã\\x83\\\\x83Ã\\x82\\\\x83Ã\\x83\\\\x82Ã\\x82\\\\x82Ã\\x83\\\\x83Ã\\x82\\\\x82Ã\\x83\\\\x82Ã\\x82\\\\x9fÃ\\x83\\\\x83Ã\\x82\\\\x83Ã\\x83\\\\x82Ã\\x82\\\\x82Ã\\x83\\\\x83Ã\\x82\\\\x82Ã\\x83\\\\x82Ã\\x82\\\\x91Ã\\x83\\\\x83Ã\\x82\\\\x83Ã\\x83\\\\x82Ã\\x82\\\\x82Ã\\x83\\\\x83Ã\\x82\\\\x82Ã\\x83\\\\x82Ã\\x82\\\\x8dÃ\\x83\\\\x83Ã\\x82\\\\x83Ã\\x83\\\\x82Ã\\x82\\\\x83Ã\\x83\\\\x83Ã\\x82\\\\x82Ã\\x83\\\\x82Ã\\x82Â°Ã\\x83\\\\x83Ã\\x82\\\\x83Ã\\x83\\\\x82Ã\\x82\\\\x82Ã\\x83\\\\x83Ã\\x82\\\\x82Ã\\x83\\\\x82Ã\\x82\\\\x9fÃ\\x83\\\\x83Ã\\x82\\\\x83Ã\\x83\\\\x82Ã\\x82\\\\x82Ã\\x83\\\\x83Ã\\x82\\\\x82Ã\\x83\\\\x82Ã\\x82\\\\x91Ã\\x83\\\\x83Ã\\x82\\\\x83Ã\\x83\\\\x82Ã\\x82\\\\x82Ã\\x83\\\\x83Ã\\x82\\\\x82Ã\\x83\\\\x82Ã\\x82\\\\x8dÃ\\x83\\\\x83Ã\\x82\\\\x83Ã\\x83\\\\x82Ã\\x82\\\\x83Ã\\x83\\\\x83Ã\\x82\\\\x82Ã\\x83\\\\x82Ã\\x82Â°Ã\\x83\\\\x83Ã\\x82\\\\x83Ã\\x83\\\\x82Ã\\x82\\\\x82Ã\\x83\\\\x83Ã\\x82\\\\x82Ã\\x83\\\\x82Ã\\x82\\\\x9fÃ\\x83\\\\x83Ã\\x82\\\\x83Ã\\x83\\\\x82Ã\\x82\\\\x82Ã\\x83\\\\x83Ã\\x82\\\\x82Ã\\x83\\\\x82Ã\\x82\\\\x91Ã\\x83\\\\x83Ã\\x82\\\\x83Ã\\x83\\\\x82Ã\\x82\\\\x82Ã\\x83\\\\x83Ã\\x82\\\\x82Ã\\x83\\\\x82Ã\\x82\\\\x8c\\'), (\\'Rated 4.0\\', \\'RATED\\\\n  A must visit, the place has a very lively feel about itself.\\\\nEvenings here , clubbed with their events is a sorted thing.\\\\nDrinks are worth, and the food too is delicious.\\\\nWe ordered chicken popcorn, which could have been a bit crispy though.. but the taste was good. Cheese balls were perfect and their Devil chicken was lip smacking and spicy.\\'), (\\'Rated 4.0\\', \"RATED\\\\n  One of the best place for the loud music, love the crowd. Drinks no comments. Coming to food it needs to be improved in taste, ambience is cool. It\\'s better to book a table and visit. No seprate dance floor, good it has seprate smoking zone.\"), (\\'Rated 5.0\\', \\'RATED\\\\n  Barbecue chicken is good, so also pizzas\\\\nGood ambience,crowd, food and drinks. This is all u need\\\\nAfter 11 you can have bollywood chartbusters.\\\\n\\\\nVery good experience.\\'), (\\'Rated 3.0\\', \\'RATED\\\\n  We went here around 3, the place was not crowded and we were a group of 10. The food was good and the mocktails were decent. The beer was also good. Overall the peanut masala stood out in all the dishes. The only reason why I gave this place a 3 and not a 4 was because of the service and staff. They were not friendly or courteous. They were also not accomdative. The ambiance is decent.\\'), (\\'Rated 5.0\\', \\'RATED\\\\n  It was great experienc. It was small place but we are enjoying loud music but songs calection is good thanks for ****DJ****nice service friendly attitude. Food and drinks was awesome thanks for the BOOZY we are coming back....... Ã\\x83\\\\x83Ã\\x82\\\\x83Ã\\x83\\\\x82Ã\\x82\\\\x83Ã\\x83\\\\x83Ã\\x82\\\\x82Ã\\x83\\\\x82Ã\\x82Â°Ã\\x83\\\\x83Ã\\x82\\\\x83Ã\\x83\\\\x82Ã\\x82\\\\x82Ã\\x83\\\\x83Ã\\x82\\\\x82Ã\\x83\\\\x82Ã\\x82\\\\x9fÃ\\x83\\\\x83Ã\\x82\\\\x83Ã\\x83\\\\x82Ã\\x82\\\\x82Ã\\x83\\\\x83Ã\\x82\\\\x82Ã\\x83\\\\x82Ã\\x82\\\\x91Ã\\x83\\\\x83Ã\\x82\\\\x83Ã\\x83\\\\x82Ã\\x82\\\\x82Ã\\x83\\\\x83Ã\\x82\\\\x82Ã\\x83\\\\x82Ã\\x82\\\\x8dÃ\\x83\\\\x83Ã\\x82\\\\x83Ã\\x83\\\\x82Ã\\x82\\\\x83Ã\\x83\\\\x83Ã\\x82\\\\x82Ã\\x83\\\\x82Ã\\x82Â°Ã\\x83\\\\x83Ã\\x82\\\\x83Ã\\x83\\\\x82Ã\\x82\\\\x82Ã\\x83\\\\x83Ã\\x82\\\\x82Ã\\x83\\\\x82Ã\\x82\\\\x9fÃ\\x83\\\\x83Ã\\x82\\\\x83Ã\\x83\\\\x82Ã\\x82\\\\x82Ã\\x83\\\\x83Ã\\x82\\\\x82Ã\\x83\\\\x82Ã\\x82\\\\x91Ã\\x83\\\\x83Ã\\x82\\\\x83Ã\\x83\\\\x82Ã\\x82\\\\x82Ã\\x83\\\\x83Ã\\x82\\\\x82Ã\\x83\\\\x82Ã\\x82\\\\x8dÃ\\x83\\\\x83Ã\\x82\\\\x83Ã\\x83\\\\x82Ã\\x82\\\\x83Ã\\x83\\\\x83Ã\\x82\\\\x82Ã\\x83\\\\x82Ã\\x82Â°Ã\\x83\\\\x83Ã\\x82\\\\x83Ã\\x83\\\\x82Ã\\x82\\\\x82Ã\\x83\\\\x83Ã\\x82\\\\x82Ã\\x83\\\\x82Ã\\x82\\\\x9fÃ\\x83\\\\x83Ã\\x82\\\\x83Ã\\x83\\\\x82Ã\\x82\\\\x82Ã\\x83\\\\x83Ã\\x82\\\\x82Ã\\x83\\\\x82Ã\\x82\\\\x91Ã\\x83\\\\x83Ã\\x82\\\\x83Ã\\x83\\\\x82Ã\\x82\\\\x82Ã\\x83\\\\x83Ã\\x82\\\\x82Ã\\x83\\\\x82Ã\\x82\\\\x8dÃ\\x83\\\\x83Ã\\x82\\\\x83Ã\\x83\\\\x82Ã\\x82\\\\x83Ã\\x83\\\\x83Ã\\x82\\\\x82Ã\\x83\\\\x82Ã\\x82Â°Ã\\x83\\\\x83Ã\\x82\\\\x83Ã\\x83\\\\x82Ã\\x82\\\\x82Ã\\x83\\\\x83Ã\\x82\\\\x82Ã\\x83\\\\x82Ã\\x82\\\\x9fÃ\\x83\\\\x83Ã\\x82\\\\x83Ã\\x83\\\\x82Ã\\x82\\\\x82Ã\\x83\\\\x83Ã\\x82\\\\x82Ã\\x83\\\\x82Ã\\x82\\\\x91Ã\\x83\\\\x83Ã\\x82\\\\x83Ã\\x83\\\\x82Ã\\x82\\\\x82Ã\\x83\\\\x83Ã\\x82\\\\x82Ã\\x83\\\\x82Ã\\x82\\\\x8dÃ\\x83\\\\x83Ã\\x82\\\\x83Ã\\x83\\\\x82Ã\\x82\\\\x83Ã\\x83\\\\x83Ã\\x82\\\\x82Ã\\x83\\\\x82Ã\\x82Â°Ã\\x83\\\\x83Ã\\x82\\\\x83Ã\\x83\\\\x82Ã\\x82\\\\x82Ã\\x83\\\\x83Ã\\x82\\\\x82Ã\\x83\\\\x82Ã\\x82\\\\x9fÃ\\x83\\\\x83Ã\\x82\\\\x83Ã\\x83\\\\x82Ã\\x82\\\\x82Ã\\x83\\\\x83Ã\\x82\\\\x82Ã\\x83\\\\x82Ã\\x82\\\\x91Ã\\x83\\\\x83Ã\\x82\\\\x83Ã\\x83\\\\x82Ã\\x82\\\\x82Ã\\x83\\\\x83Ã\\x82\\\\x82Ã\\x83\\\\x82Ã\\x82\\\\x8c\\'), (\\'Rated 4.0\\', \\'RATED\\\\n  A must visit, the place has a very lively feel about itself.\\\\nEvenings here , clubbed with their events is a sorted thing.\\\\nDrinks are worth, and the food too is delicious.\\\\nWe ordered chicken popcorn, which could have been a bit crispy though.. but the taste was good. Cheese balls were perfect and their Devil chicken was lip smacking and spicy.\\'), (\\'Rated 4.0\\', \"RATED\\\\n  One of the best place for the loud music, love the crowd. Drinks no comments. Coming to food it needs to be improved in taste, ambience is cool. It\\'s better to book a table and visit. No seprate dance floor, good it has seprate smoking zone.\"), (\\'Rated 5.0\\', \\'RATED\\\\n  Barbecue chicken is good, so also pizzas\\\\nGood ambience,crowd, food and drinks. This is all u need\\\\nAfter 11 you can have bollywood chartbusters.\\\\n\\\\nVery good experience.\\'), (\\'Rated 3.0\\', \\'RATED\\\\n  We went here around 3, the place was not crowded and we were a group of 10. The food was good and the mocktails were decent. The beer was also good. Overall the peanut masala stood out in all the dishes. The only reason why I gave this place a 3 and not a 4 was because of the service and staff. They were not friendly or courteous. They were also not accomdative. The ambiance is decent.\\'), (\\'Rated 5.0\\', \\'RATED\\\\n  It was great experienc. It was small place but we are enjoying loud music but songs calection is good thanks for ****DJ****nice service friendly attitude. Food and drinks was awesome thanks for the BOOZY we are coming back....... Ã\\x83\\\\x83Ã\\x82\\\\x83Ã\\x83\\\\x82Ã\\x82\\\\x83Ã\\x83\\\\x83Ã\\x82\\\\x82Ã\\x83\\\\x82Ã\\x82Â°Ã\\x83\\\\x83Ã\\x82\\\\x83Ã\\x83\\\\x82Ã\\x82\\\\x82Ã\\x83\\\\x83Ã\\x82\\\\x82Ã\\x83\\\\x82Ã\\x82\\\\x9fÃ\\x83\\\\x83Ã\\x82\\\\x83Ã\\x83\\\\x82Ã\\x82\\\\x82Ã\\x83\\\\x83Ã\\x82\\\\x82Ã\\x83\\\\x82Ã\\x82\\\\x91Ã\\x83\\\\x83Ã\\x82\\\\x83Ã\\x83\\\\x82Ã\\x82\\\\x82Ã\\x83\\\\x83Ã\\x82\\\\x82Ã\\x83\\\\x82Ã\\x82\\\\x8dÃ\\x83\\\\x83Ã\\x82\\\\x83Ã\\x83\\\\x82Ã\\x82\\\\x83Ã\\x83\\\\x83Ã\\x82\\\\x82Ã\\x83\\\\x82Ã\\x82Â°Ã\\x83\\\\x83Ã\\x82\\\\x83Ã\\x83\\\\x82Ã\\x82\\\\x82Ã\\x83\\\\x83Ã\\x82\\\\x82Ã\\x83\\\\x82Ã\\x82\\\\x9fÃ\\x83\\\\x83Ã\\x82\\\\x83Ã\\x83\\\\x82Ã\\x82\\\\x82Ã\\x83\\\\x83Ã\\x82\\\\x82Ã\\x83\\\\x82Ã\\x82\\\\x91Ã\\x83\\\\x83Ã\\x82\\\\x83Ã\\x83\\\\x82Ã\\x82\\\\x82Ã\\x83\\\\x83Ã\\x82\\\\x82Ã\\x83\\\\x82Ã\\x82\\\\x8dÃ\\x83\\\\x83Ã\\x82\\\\x83Ã\\x83\\\\x82Ã\\x82\\\\x83Ã\\x83\\\\x83Ã\\x82\\\\x82Ã\\x83\\\\x82Ã\\x82Â°Ã\\x83\\\\x83Ã\\x82\\\\x83Ã\\x83\\\\x82Ã\\x82\\\\x82Ã\\x83\\\\x83Ã\\x82\\\\x82Ã\\x83\\\\x82Ã\\x82\\\\x9fÃ\\x83\\\\x83Ã\\x82\\\\x83Ã\\x83\\\\x82Ã\\x82\\\\x82Ã\\x83\\\\x83Ã\\x82\\\\x82Ã\\x83\\\\x82Ã\\x82\\\\x91Ã\\x83\\\\x83Ã\\x82\\\\x83Ã\\x83\\\\x82Ã\\x82\\\\x82Ã\\x83\\\\x83Ã\\x82\\\\x82Ã\\x83\\\\x82Ã\\x82\\\\x8dÃ\\x83\\\\x83Ã\\x82\\\\x83Ã\\x83\\\\x82Ã\\x82\\\\x83Ã\\x83\\\\x83Ã\\x82\\\\x82Ã\\x83\\\\x82Ã\\x82Â°Ã\\x83\\\\x83Ã\\x82\\\\x83Ã\\x83\\\\x82Ã\\x82\\\\x82Ã\\x83\\\\x83Ã\\x82\\\\x82Ã\\x83\\\\x82Ã\\x82\\\\x9fÃ\\x83\\\\x83Ã\\x82\\\\x83Ã\\x83\\\\x82Ã\\x82\\\\x82Ã\\x83\\\\x83Ã\\x82\\\\x82Ã\\x83\\\\x82Ã\\x82\\\\x91Ã\\x83\\\\x83Ã\\x82\\\\x83Ã\\x83\\\\x82Ã\\x82\\\\x82Ã\\x83\\\\x83Ã\\x82\\\\x82Ã\\x83\\\\x82Ã\\x82\\\\x8dÃ\\x83\\\\x83Ã\\x82\\\\x83Ã\\x83\\\\x82Ã\\x82\\\\x83Ã\\x83\\\\x83Ã\\x82\\\\x82Ã\\x83\\\\x82Ã\\x82Â°Ã\\x83\\\\x83Ã\\x82\\\\x83Ã\\x83\\\\x82Ã\\x82\\\\x82Ã\\x83\\\\x83Ã\\x82\\\\x82Ã\\x83\\\\x82Ã\\x82\\\\x9fÃ\\x83\\\\x83Ã\\x82\\\\x83Ã\\x83\\\\x82Ã\\x82\\\\x82Ã\\x83\\\\x83Ã\\x82\\\\x82Ã\\x83\\\\x82Ã\\x82\\\\x91Ã\\x83\\\\x83Ã\\x82\\\\x83Ã\\x83\\\\x82Ã\\x82\\\\x82Ã\\x83\\\\x83Ã\\x82\\\\x82Ã\\x83\\\\x82Ã\\x82\\\\x8c\\'), (\\'Rated 4.0\\', \\'RATED\\\\n  A must visit, the place has a very lively feel about itself.\\\\nEvenings here , clubbed with their events is a sorted thing.\\\\nDrinks are worth, and the food too is delicious.\\\\nWe ordered chicken popcorn, which could have been a bit crispy though.. but the taste was good. Cheese balls were perfect and their Devil chicken was lip smacking and spicy.\\'), (\\'Rated 4.0\\', \"RATED\\\\n  One of the best place for the loud music, love the crowd. Drinks no comments. Coming to food it needs to be improved in taste, ambience is cool. It\\'s better to book a table and visit. No seprate dance floor, good it has seprate smoking zone.\"), (\\'Rated 5.0\\', \\'RATED\\\\n  Barbecue chicken is good, so also pizzas\\\\nGood ambience,crowd, food and drinks. This is all u need\\\\nAfter 11 you can have bollywood chartbusters.\\\\n\\\\nVery good experience.\\'), (\\'Rated 3.0\\', \\'RATED\\\\n  We went here around 3, the place was not crowded and we were a group of 10. The food was good and the mocktails were decent. The beer was also good. Overall the peanut masala stood out in all the dishes. The only reason why I gave this place a 3 and not a 4 was because of the service and staff. They were not friendly or courteous. They were also not accomdative. The ambiance is decent.\\'), (\\'Rated 5.0\\', \\'RATED\\\\n  It was great experienc. It was small place but we are enjoying loud music but songs calection is good thanks for ****DJ****nice service friendly attitude. Food and drinks was awesome thanks for the BOOZY we are coming back....... Ã\\x83\\\\x83Ã\\x82\\\\x83Ã\\x83\\\\x82Ã\\x82\\\\x83Ã\\x83\\\\x83Ã\\x82\\\\x82Ã\\x83\\\\x82Ã\\x82Â°Ã\\x83\\\\x83Ã\\x82\\\\x83Ã\\x83\\\\x82Ã\\x82\\\\x82Ã\\x83\\\\x83Ã\\x82\\\\x82Ã\\x83\\\\x82Ã\\x82\\\\x9fÃ\\x83\\\\x83Ã\\x82\\\\x83Ã\\x83\\\\x82Ã\\x82\\\\x82Ã\\x83\\\\x83Ã\\x82\\\\x82Ã\\x83\\\\x82Ã\\x82\\\\x91Ã\\x83\\\\x83Ã\\x82\\\\x83Ã\\x83\\\\x82Ã\\x82\\\\x82Ã\\x83\\\\x83Ã\\x82\\\\x82Ã\\x83\\\\x82Ã\\x82\\\\x8dÃ\\x83\\\\x83Ã\\x82\\\\x83Ã\\x83\\\\x82Ã\\x82\\\\x83Ã\\x83\\\\x83Ã\\x82\\\\x82Ã\\x83\\\\x82Ã\\x82Â°Ã\\x83\\\\x83Ã\\x82\\\\x83Ã\\x83\\\\x82Ã\\x82\\\\x82Ã\\x83\\\\x83Ã\\x82\\\\x82Ã\\x83\\\\x82Ã\\x82\\\\x9fÃ\\x83\\\\x83Ã\\x82\\\\x83Ã\\x83\\\\x82Ã\\x82\\\\x82Ã\\x83\\\\x83Ã\\x82\\\\x82Ã\\x83\\\\x82Ã\\x82\\\\x91Ã\\x83\\\\x83Ã\\x82\\\\x83Ã\\x83\\\\x82Ã\\x82\\\\x82Ã\\x83\\\\x83Ã\\x82\\\\x82Ã\\x83\\\\x82Ã\\x82\\\\x8dÃ\\x83\\\\x83Ã\\x82\\\\x83Ã\\x83\\\\x82Ã\\x82\\\\x83Ã\\x83\\\\x83Ã\\x82\\\\x82Ã\\x83\\\\x82Ã\\x82Â°Ã\\x83\\\\x83Ã\\x82\\\\x83Ã\\x83\\\\x82Ã\\x82\\\\x82Ã\\x83\\\\x83Ã\\x82\\\\x82Ã\\x83\\\\x82Ã\\x82\\\\x9fÃ\\x83\\\\x83Ã\\x82\\\\x83Ã\\x83\\\\x82Ã\\x82\\\\x82Ã\\x83\\\\x83Ã\\x82\\\\x82Ã\\x83\\\\x82Ã\\x82\\\\x91Ã\\x83\\\\x83Ã\\x82\\\\x83Ã\\x83\\\\x82Ã\\x82\\\\x82Ã\\x83\\\\x83Ã\\x82\\\\x82Ã\\x83\\\\x82Ã\\x82\\\\x8dÃ\\x83\\\\x83Ã\\x82\\\\x83Ã\\x83\\\\x82Ã\\x82\\\\x83Ã\\x83\\\\x83Ã\\x82\\\\x82Ã\\x83\\\\x82Ã\\x82Â°Ã\\x83\\\\x83Ã\\x82\\\\x83Ã\\x83\\\\x82Ã\\x82\\\\x82Ã\\x83\\\\x83Ã\\x82\\\\x82Ã\\x83\\\\x82Ã\\x82\\\\x9fÃ\\x83\\\\x83Ã\\x82\\\\x83Ã\\x83\\\\x82Ã\\x82\\\\x82Ã\\x83\\\\x83Ã\\x82\\\\x82Ã\\x83\\\\x82Ã\\x82\\\\x91Ã\\x83\\\\x83Ã\\x82\\\\x83Ã\\x83\\\\x82Ã\\x82\\\\x82Ã\\x83\\\\x83Ã\\x82\\\\x82Ã\\x83\\\\x82Ã\\x82\\\\x8dÃ\\x83\\\\x83Ã\\x82\\\\x83Ã\\x83\\\\x82Ã\\x82\\\\x83Ã\\x83\\\\x83Ã\\x82\\\\x82Ã\\x83\\\\x82Ã\\x82Â°Ã\\x83\\\\x83Ã\\x82\\\\x83Ã\\x83\\\\x82Ã\\x82\\\\x82Ã\\x83\\\\x83Ã\\x82\\\\x82Ã\\x83\\\\x82Ã\\x82\\\\x9fÃ\\x83\\\\x83Ã\\x82\\\\x83Ã\\x83\\\\x82Ã\\x82\\\\x82Ã\\x83\\\\x83Ã\\x82\\\\x82Ã\\x83\\\\x82Ã\\x82\\\\x91Ã\\x83\\\\x83Ã\\x82\\\\x83Ã\\x83\\\\x82Ã\\x82\\\\x82Ã\\x83\\\\x83Ã\\x82\\\\x82Ã\\x83\\\\x82Ã\\x82\\\\x8c\\'), (\\'Rated 4.0\\', \\'RATED\\\\n  A must visit, the place has a very lively feel about itself.\\\\nEvenings here , clubbed with their events is a sorted thing.\\\\nDrinks are worth, and the food too is delicious.\\\\nWe ordered chicken popcorn, which could have been a bit crispy though.. but the taste was good. Cheese balls were perfect and their Devil chicken was lip smacking and spicy.\\'), (\\'Rated 4.0\\', \"RATED\\\\n  One of the best place for the loud music, love the crowd. Drinks no comments. Coming to food it needs to be improved in taste, ambience is cool. It\\'s better to book a table and visit. No seprate dance floor, good it has seprate smoking zone.\"), (\\'Rated 5.0\\', \\'RATED\\\\n  Barbecue chicken is good, so also pizzas\\\\nGood ambience,crowd, food and drinks. This is all u need\\\\nAfter 11 you can have bollywood chartbusters.\\\\n\\\\nVery good experience.\\'), (\\'Rated 3.0\\', \\'RATED\\\\n  We went here around 3, the place was not crowded and we were a group of 10. The food was good and the mocktails were decent. The beer was also good. Overall the peanut masala stood out in all the dishes. The only reason why I gave this place a 3 and not a 4 was because of the service and staff. They were not friendly or courteous. They were also not accomdative. The ambiance is decent.\\'), (\\'Rated 5.0\\', \\'RATED\\\\n  It was great experienc. It was small place but we are enjoying loud music but songs calection is good thanks for ****DJ****nice service friendly attitude. Food and drinks was awesome thanks for the BOOZY we are coming back....... Ã\\x83\\\\x83Ã\\x82\\\\x83Ã\\x83\\\\x82Ã\\x82\\\\x83Ã\\x83\\\\x83Ã\\x82\\\\x82Ã\\x83\\\\x82Ã\\x82Â°Ã\\x83\\\\x83Ã\\x82\\\\x83Ã\\x83\\\\x82Ã\\x82\\\\x82Ã\\x83\\\\x83Ã\\x82\\\\x82Ã\\x83\\\\x82Ã\\x82\\\\x9fÃ\\x83\\\\x83Ã\\x82\\\\x83Ã\\x83\\\\x82Ã\\x82\\\\x82Ã\\x83\\\\x83Ã\\x82\\\\x82Ã\\x83\\\\x82Ã\\x82\\\\x91Ã\\x83\\\\x83Ã\\x82\\\\x83Ã\\x83\\\\x82Ã\\x82\\\\x82Ã\\x83\\\\x83Ã\\x82\\\\x82Ã\\x83\\\\x82Ã\\x82\\\\x8dÃ\\x83\\\\x83Ã\\x82\\\\x83Ã\\x83\\\\x82Ã\\x82\\\\x83Ã\\x83\\\\x83Ã\\x82\\\\x82Ã\\x83\\\\x82Ã\\x82Â°Ã\\x83\\\\x83Ã\\x82\\\\x83Ã\\x83\\\\x82Ã\\x82\\\\x82Ã\\x83\\\\x83Ã\\x82\\\\x82Ã\\x83\\\\x82Ã\\x82\\\\x9fÃ\\x83\\\\x83Ã\\x82\\\\x83Ã\\x83\\\\x82Ã\\x82\\\\x82Ã\\x83\\\\x83Ã\\x82\\\\x82Ã\\x83\\\\x82Ã\\x82\\\\x91Ã\\x83\\\\x83Ã\\x82\\\\x83Ã\\x83\\\\x82Ã\\x82\\\\x82Ã\\x83\\\\x83Ã\\x82\\\\x82Ã\\x83\\\\x82Ã\\x82\\\\x8dÃ\\x83\\\\x83Ã\\x82\\\\x83Ã\\x83\\\\x82Ã\\x82\\\\x83Ã\\x83\\\\x83Ã\\x82\\\\x82Ã\\x83\\\\x82Ã\\x82Â°Ã\\x83\\\\x83Ã\\x82\\\\x83Ã\\x83\\\\x82Ã\\x82\\\\x82Ã\\x83\\\\x83Ã\\x82\\\\x82Ã\\x83\\\\x82Ã\\x82\\\\x9fÃ\\x83\\\\x83Ã\\x82\\\\x83Ã\\x83\\\\x82Ã\\x82\\\\x82Ã\\x83\\\\x83Ã\\x82\\\\x82Ã\\x83\\\\x82Ã\\x82\\\\x91Ã\\x83\\\\x83Ã\\x82\\\\x83Ã\\x83\\\\x82Ã\\x82\\\\x82Ã\\x83\\\\x83Ã\\x82\\\\x82Ã\\x83\\\\x82Ã\\x82\\\\x8dÃ\\x83\\\\x83Ã\\x82\\\\x83Ã\\x83\\\\x82Ã\\x82\\\\x83Ã\\x83\\\\x83Ã\\x82\\\\x82Ã\\x83\\\\x82Ã\\x82Â°Ã\\x83\\\\x83Ã\\x82\\\\x83Ã\\x83\\\\x82Ã\\x82\\\\x82Ã\\x83\\\\x83Ã\\x82\\\\x82Ã\\x83\\\\x82Ã\\x82\\\\x9fÃ\\x83\\\\x83Ã\\x82\\\\x83Ã\\x83\\\\x82Ã\\x82\\\\x82Ã\\x83\\\\x83Ã\\x82\\\\x82Ã\\x83\\\\x82Ã\\x82\\\\x91Ã\\x83\\\\x83Ã\\x82\\\\x83Ã\\x83\\\\x82Ã\\x82\\\\x82Ã\\x83\\\\x83Ã\\x82\\\\x82Ã\\x83\\\\x82Ã\\x82\\\\x8dÃ\\x83\\\\x83Ã\\x82\\\\x83Ã\\x83\\\\x82Ã\\x82\\\\x83Ã\\x83\\\\x83Ã\\x82\\\\x82Ã\\x83\\\\x82Ã\\x82Â°Ã\\x83\\\\x83Ã\\x82\\\\x83Ã\\x83\\\\x82Ã\\x82\\\\x82Ã\\x83\\\\x83Ã\\x82\\\\x82Ã\\x83\\\\x82Ã\\x82\\\\x9fÃ\\x83\\\\x83Ã\\x82\\\\x83Ã\\x83\\\\x82Ã\\x82\\\\x82Ã\\x83\\\\x83Ã\\x82\\\\x82Ã\\x83\\\\x82Ã\\x82\\\\x91Ã\\x83\\\\x83Ã\\x82\\\\x83Ã\\x83\\\\x82Ã\\x82\\\\x82Ã\\x83\\\\x83Ã\\x82\\\\x82Ã\\x83\\\\x82Ã\\x82\\\\x8c\\'), (\\'Rated 4.0\\', \\'RATED\\\\n  A must visit, the place has a very lively feel about itself.\\\\nEvenings here , clubbed with their events is a sorted thing.\\\\nDrinks are worth, and the food too is delicious.\\\\nWe ordered chicken popcorn, which could have been a bit crispy though.. but the taste was good. Cheese balls were perfect and their Devil chicken was lip smacking and spicy.\\'), (\\'Rated 4.0\\', \"RATED\\\\n  One of the best place for the loud music, love the crowd. Drinks no comments. Coming to food it needs to be improved in taste, ambience is cool. It\\'s better to book a table and visit. No seprate dance floor, good it has seprate smoking zone.\"), (\\'Rated 5.0\\', \\'RATED\\\\n  Barbecue chicken is good, so also pizzas\\\\nGood ambience,crowd, food and drinks. This is all u need\\\\nAfter 11 you can have bollywood chartbusters.\\\\n\\\\nVery good experience.\\'), (\\'Rated 3.0\\', \\'RATED\\\\n  We went here around 3, the place was not crowded and we were a group of 10. The food was good and the mocktails were decent. The beer was also good. Overall the peanut masala stood out in all the dishes. The only reason why I gave this place a 3 and not a 4 was because of the service and staff. They were not friendly or courteous. They were also not accomdative. The ambiance is decent.\\'), (\\'Rated 5.0\\', \\'RATED\\\\n  It was great experienc. It was small place but we are enjoying loud music but songs calection is good thanks for ****DJ****nice service friendly attitude. Food and drinks was awesome thanks for the BOOZY we are coming back....... Ã\\x83\\\\x83Ã\\x82\\\\x83Ã\\x83\\\\x82Ã\\x82\\\\x83Ã\\x83\\\\x83Ã\\x82\\\\x82Ã\\x83\\\\x82Ã\\x82Â°Ã\\x83\\\\x83Ã\\x82\\\\x83Ã\\x83\\\\x82Ã\\x82\\\\x82Ã\\x83\\\\x83Ã\\x82\\\\x82Ã\\x83\\\\x82Ã\\x82\\\\x9fÃ\\x83\\\\x83Ã\\x82\\\\x83Ã\\x83\\\\x82Ã\\x82\\\\x82Ã\\x83\\\\x83Ã\\x82\\\\x82Ã\\x83\\\\x82Ã\\x82\\\\x91Ã\\x83\\\\x83Ã\\x82\\\\x83Ã\\x83\\\\x82Ã\\x82\\\\x82Ã\\x83\\\\x83Ã\\x82\\\\x82Ã\\x83\\\\x82Ã\\x82\\\\x8dÃ\\x83\\\\x83Ã\\x82\\\\x83Ã\\x83\\\\x82Ã\\x82\\\\x83Ã\\x83\\\\x83Ã\\x82\\\\x82Ã\\x83\\\\x82Ã\\x82Â°Ã\\x83\\\\x83Ã\\x82\\\\x83Ã\\x83\\\\x82Ã\\x82\\\\x82Ã\\x83\\\\x83Ã\\x82\\\\x82Ã\\x83\\\\x82Ã\\x82\\\\x9fÃ\\x83\\\\x83Ã\\x82\\\\x83Ã\\x83\\\\x82Ã\\x82\\\\x82Ã\\x83\\\\x83Ã\\x82\\\\x82Ã\\x83\\\\x82Ã\\x82\\\\x91Ã\\x83\\\\x83Ã\\x82\\\\x83Ã\\x83\\\\x82Ã\\x82\\\\x82Ã\\x83\\\\x83Ã\\x82\\\\x82Ã\\x83\\\\x82Ã\\x82\\\\x8dÃ\\x83\\\\x83Ã\\x82\\\\x83Ã\\x83\\\\x82Ã\\x82\\\\x83Ã\\x83\\\\x83Ã\\x82\\\\x82Ã\\x83\\\\x82Ã\\x82Â°Ã\\x83\\\\x83Ã\\x82\\\\x83Ã\\x83\\\\x82Ã\\x82\\\\x82Ã\\x83\\\\x83Ã\\x82\\\\x82Ã\\x83\\\\x82Ã\\x82\\\\x9fÃ\\x83\\\\x83Ã\\x82\\\\x83Ã\\x83\\\\x82Ã\\x82\\\\x82Ã\\x83\\\\x83Ã\\x82\\\\x82Ã\\x83\\\\x82Ã\\x82\\\\x91Ã\\x83\\\\x83Ã\\x82\\\\x83Ã\\x83\\\\x82Ã\\x82\\\\x82Ã\\x83\\\\x83Ã\\x82\\\\x82Ã\\x83\\\\x82Ã\\x82\\\\x8dÃ\\x83\\\\x83Ã\\x82\\\\x83Ã\\x83\\\\x82Ã\\x82\\\\x83Ã\\x83\\\\x83Ã\\x82\\\\x82Ã\\x83\\\\x82Ã\\x82Â°Ã\\x83\\\\x83Ã\\x82\\\\x83Ã\\x83\\\\x82Ã\\x82\\\\x82Ã\\x83\\\\x83Ã\\x82\\\\x82Ã\\x83\\\\x82Ã\\x82\\\\x9fÃ\\x83\\\\x83Ã\\x82\\\\x83Ã\\x83\\\\x82Ã\\x82\\\\x82Ã\\x83\\\\x83Ã\\x82\\\\x82Ã\\x83\\\\x82Ã\\x82\\\\x91Ã\\x83\\\\x83Ã\\x82\\\\x83Ã\\x83\\\\x82Ã\\x82\\\\x82Ã\\x83\\\\x83Ã\\x82\\\\x82Ã\\x83\\\\x82Ã\\x82\\\\x8dÃ\\x83\\\\x83Ã\\x82\\\\x83Ã\\x83\\\\x82Ã\\x82\\\\x83Ã\\x83\\\\x83Ã\\x82\\\\x82Ã\\x83\\\\x82Ã\\x82Â°Ã\\x83\\\\x83Ã\\x82\\\\x83Ã\\x83\\\\x82Ã\\x82\\\\x82Ã\\x83\\\\x83Ã\\x82\\\\x82Ã\\x83\\\\x82Ã\\x82\\\\x9fÃ\\x83\\\\x83Ã\\x82\\\\x83Ã\\x83\\\\x82Ã\\x82\\\\x82Ã\\x83\\\\x83Ã\\x82\\\\x82Ã\\x83\\\\x82Ã\\x82\\\\x91Ã\\x83\\\\x83Ã\\x82\\\\x83Ã\\x83\\\\x82Ã\\x82\\\\x82Ã\\x83\\\\x83Ã\\x82\\\\x82Ã\\x83\\\\x82Ã\\x82\\\\x8c\\'), (\\'Rated 4.0\\', \\'RATED\\\\n  A must visit, the place has a very lively feel about itself.\\\\nEvenings here , clubbed with their events is a sorted thing.\\\\nDrinks are worth, and the food too is delicious.\\\\nWe ordered chicken popcorn, which could have been a bit crispy though.. but the taste was good. Cheese balls were perfect and their Devil chicken was lip smacking and spicy.\\'), (\\'Rated 4.0\\', \"RATED\\\\n  One of the best place for the loud music, love the crowd. Drinks no comments. Coming to food it needs to be improved in taste, ambience is cool. It\\'s better to book a table and visit. No seprate dance floor, good it has seprate smoking zone.\"), (\\'Rated 5.0\\', \\'RATED\\\\n  Barbecue chicken is good, so also pizzas\\\\nGood ambience,crowd, food and drinks. This is all u need\\\\nAfter 11 you can have bollywood chartbusters.\\\\n\\\\nVery good experience.\\'), (\\'Rated 3.0\\', \\'RATED\\\\n  We went here around 3, the place was not crowded and we were a group of 10. The food was good and the mocktails were decent. The beer was also good. Overall the peanut masala stood out in all the dishes. The only reason why I gave this place a 3 and not a 4 was because of the service and staff. They were not friendly or courteous. They were also not accomdative. The ambiance is decent.\\'), (\\'Rated 5.0\\', \\'RATED\\\\n  It was great experienc. It was small place but we are enjoying loud music but songs calection is good thanks for ****DJ****nice service friendly attitude. Food and drinks was awesome thanks for the BOOZY we are coming back....... Ã\\x83\\\\x83Ã\\x82\\\\x83Ã\\x83\\\\x82Ã\\x82\\\\x83Ã\\x83\\\\x83Ã\\x82\\\\x82Ã\\x83\\\\x82Ã\\x82Â°Ã\\x83\\\\x83Ã\\x82\\\\x83Ã\\x83\\\\x82Ã\\x82\\\\x82Ã\\x83\\\\x83Ã\\x82\\\\x82Ã\\x83\\\\x82Ã\\x82\\\\x9fÃ\\x83\\\\x83Ã\\x82\\\\x83Ã\\x83\\\\x82Ã\\x82\\\\x82Ã\\x83\\\\x83Ã\\x82\\\\x82Ã\\x83\\\\x82Ã\\x82\\\\x91Ã\\x83\\\\x83Ã\\x82\\\\x83Ã\\x83\\\\x82Ã\\x82\\\\x82Ã\\x83\\\\x83Ã\\x82\\\\x82Ã\\x83\\\\x82Ã\\x82\\\\x8dÃ\\x83\\\\x83Ã\\x82\\\\x83Ã\\x83\\\\x82Ã\\x82\\\\x83Ã\\x83\\\\x83Ã\\x82\\\\x82Ã\\x83\\\\x82Ã\\x82Â°Ã\\x83\\\\x83Ã\\x82\\\\x83Ã\\x83\\\\x82Ã\\x82\\\\x82Ã\\x83\\\\x83Ã\\x82\\\\x82Ã\\x83\\\\x82Ã\\x82\\\\x9fÃ\\x83\\\\x83Ã\\x82\\\\x83Ã\\x83\\\\x82Ã\\x82\\\\x82Ã\\x83\\\\x83Ã\\x82\\\\x82Ã\\x83\\\\x82Ã\\x82\\\\x91Ã\\x83\\\\x83Ã\\x82\\\\x83Ã\\x83\\\\x82Ã\\x82\\\\x82Ã\\x83\\\\x83Ã\\x82\\\\x82Ã\\x83\\\\x82Ã\\x82\\\\x8dÃ\\x83\\\\x83Ã\\x82\\\\x83Ã\\x83\\\\x82Ã\\x82\\\\x83Ã\\x83\\\\x83Ã\\x82\\\\x82Ã\\x83\\\\x82Ã\\x82Â°Ã\\x83\\\\x83Ã\\x82\\\\x83Ã\\x83\\\\x82Ã\\x82\\\\x82Ã\\x83\\\\x83Ã\\x82\\\\x82Ã\\x83\\\\x82Ã\\x82\\\\x9fÃ\\x83\\\\x83Ã\\x82\\\\x83Ã\\x83\\\\x82Ã\\x82\\\\x82Ã\\x83\\\\x83Ã\\x82\\\\x82Ã\\x83\\\\x82Ã\\x82\\\\x91Ã\\x83\\\\x83Ã\\x82\\\\x83Ã\\x83\\\\x82Ã\\x82\\\\x82Ã\\x83\\\\x83Ã\\x82\\\\x82Ã\\x83\\\\x82Ã\\x82\\\\x8dÃ\\x83\\\\x83Ã\\x82\\\\x83Ã\\x83\\\\x82Ã\\x82\\\\x83Ã\\x83\\\\x83Ã\\x82\\\\x82Ã\\x83\\\\x82Ã\\x82Â°Ã\\x83\\\\x83Ã\\x82\\\\x83Ã\\x83\\\\x82Ã\\x82\\\\x82Ã\\x83\\\\x83Ã\\x82\\\\x82Ã\\x83\\\\x82Ã\\x82\\\\x9fÃ\\x83\\\\x83Ã\\x82\\\\x83Ã\\x83\\\\x82Ã\\x82\\\\x82Ã\\x83\\\\x83Ã\\x82\\\\x82Ã\\x83\\\\x82Ã\\x82\\\\x91Ã\\x83\\\\x83Ã\\x82\\\\x83Ã\\x83\\\\x82Ã\\x82\\\\x82Ã\\x83\\\\x83Ã\\x82\\\\x82Ã\\x83\\\\x82Ã\\x82\\\\x8dÃ\\x83\\\\x83Ã\\x82\\\\x83Ã\\x83\\\\x82Ã\\x82\\\\x83Ã\\x83\\\\x83Ã\\x82\\\\x82Ã\\x83\\\\x82Ã\\x82Â°Ã\\x83\\\\x83Ã\\x82\\\\x83Ã\\x83\\\\x82Ã\\x82\\\\x82Ã\\x83\\\\x83Ã\\x82\\\\x82Ã\\x83\\\\x82Ã\\x82\\\\x9fÃ\\x83\\\\x83Ã\\x82\\\\x83Ã\\x83\\\\x82Ã\\x82\\\\x82Ã\\x83\\\\x83Ã\\x82\\\\x82Ã\\x83\\\\x82Ã\\x82\\\\x91Ã\\x83\\\\x83Ã\\x82\\\\x83Ã\\x83\\\\x82Ã\\x82\\\\x82Ã\\x83\\\\x83Ã\\x82\\\\x82Ã\\x83\\\\x82Ã\\x82\\\\x8c\\'), (\\'Rated 4.0\\', \\'RATED\\\\n  A must visit, the place has a very lively feel about itself.\\\\nEvenings here , clubbed with their events is a sorted thing.\\\\nDrinks are worth, and the food too is delicious.\\\\nWe ordered chicken popcorn, which could have been a bit crispy though.. but the taste was good. Cheese balls were perfect and their Devil chicken was lip smacking and spicy.\\'), (\\'Rated 4.0\\', \"RATED\\\\n  One of the best place for the loud music, love the crowd. Drinks no comments. Coming to food it needs to be improved in taste, ambience is cool. It\\'s better to book a table and visit. No seprate dance floor, good it has seprate smoking zone.\"), (\\'Rated 5.0\\', \\'RATED\\\\n  Barbecue chicken is good, so also pizzas\\\\nGood ambience,crowd, food and drinks. This is all u need\\\\nAfter 11 you can have bollywood chartbusters.\\\\n\\\\nVery good experience.\\'), (\\'Rated 3.0\\', \\'RATED\\\\n  We went here around 3, the place was not crowded and we were a group of 10. The food was good and the mocktails were decent. The beer was also good. Overall the peanut masala stood out in all the dishes. The only reason why I gave this place a 3 and not a 4 was because of the service and staff. They were not friendly or courteous. They were also not accomdative. The ambiance is decent.\\'), (\\'Rated 5.0\\', \\'RATED\\\\n  It was great experienc. It was small place but we are enjoying loud music but songs calection is good thanks for ****DJ****nice service friendly attitude. Food and drinks was awesome thanks for the BOOZY we are coming back....... Ã\\x83\\\\x83Ã\\x82\\\\x83Ã\\x83\\\\x82Ã\\x82\\\\x83Ã\\x83\\\\x83Ã\\x82\\\\x82Ã\\x83\\\\x82Ã\\x82Â°Ã\\x83\\\\x83Ã\\x82\\\\x83Ã\\x83\\\\x82Ã\\x82\\\\x82Ã\\x83\\\\x83Ã\\x82\\\\x82Ã\\x83\\\\x82Ã\\x82\\\\x9fÃ\\x83\\\\x83Ã\\x82\\\\x83Ã\\x83\\\\x82Ã\\x82\\\\x82Ã\\x83\\\\x83Ã\\x82\\\\x82Ã\\x83\\\\x82Ã\\x82\\\\x91Ã\\x83\\\\x83Ã\\x82\\\\x83Ã\\x83\\\\x82Ã\\x82\\\\x82Ã\\x83\\\\x83Ã\\x82\\\\x82Ã\\x83\\\\x82Ã\\x82\\\\x8dÃ\\x83\\\\x83Ã\\x82\\\\x83Ã\\x83\\\\x82Ã\\x82\\\\x83Ã\\x83\\\\x83Ã\\x82\\\\x82Ã\\x83\\\\x82Ã\\x82Â°Ã\\x83\\\\x83Ã\\x82\\\\x83Ã\\x83\\\\x82Ã\\x82\\\\x82Ã\\x83\\\\x83Ã\\x82\\\\x82Ã\\x83\\\\x82Ã\\x82\\\\x9fÃ\\x83\\\\x83Ã\\x82\\\\x83Ã\\x83\\\\x82Ã\\x82\\\\x82Ã\\x83\\\\x83Ã\\x82\\\\x82Ã\\x83\\\\x82Ã\\x82\\\\x91Ã\\x83\\\\x83Ã\\x82\\\\x83Ã\\x83\\\\x82Ã\\x82\\\\x82Ã\\x83\\\\x83Ã\\x82\\\\x82Ã\\x83\\\\x82Ã\\x82\\\\x8dÃ\\x83\\\\x83Ã\\x82\\\\x83Ã\\x83\\\\x82Ã\\x82\\\\x83Ã\\x83\\\\x83Ã\\x82\\\\x82Ã\\x83\\\\x82Ã\\x82Â°Ã\\x83\\\\x83Ã\\x82\\\\x83Ã\\x83\\\\x82Ã\\x82\\\\x82Ã\\x83\\\\x83Ã\\x82\\\\x82Ã\\x83\\\\x82Ã\\x82\\\\x9fÃ\\x83\\\\x83Ã\\x82\\\\x83Ã\\x83\\\\x82Ã\\x82\\\\x82Ã\\x83\\\\x83Ã\\x82\\\\x82Ã\\x83\\\\x82Ã\\x82\\\\x91Ã\\x83\\\\x83Ã\\x82\\\\x83Ã\\x83\\\\x82Ã\\x82\\\\x82Ã\\x83\\\\x83Ã\\x82\\\\x82Ã\\x83\\\\x82Ã\\x82\\\\x8dÃ\\x83\\\\x83Ã\\x82\\\\x83Ã\\x83\\\\x82Ã\\x82\\\\x83Ã\\x83\\\\x83Ã\\x82\\\\x82Ã\\x83\\\\x82Ã\\x82Â°Ã\\x83\\\\x83Ã\\x82\\\\x83Ã\\x83\\\\x82Ã\\x82\\\\x82Ã\\x83\\\\x83Ã\\x82\\\\x82Ã\\x83\\\\x82Ã\\x82\\\\x9fÃ\\x83\\\\x83Ã\\x82\\\\x83Ã\\x83\\\\x82Ã\\x82\\\\x82Ã\\x83\\\\x83Ã\\x82\\\\x82Ã\\x83\\\\x82Ã\\x82\\\\x91Ã\\x83\\\\x83Ã\\x82\\\\x83Ã\\x83\\\\x82Ã\\x82\\\\x82Ã\\x83\\\\x83Ã\\x82\\\\x82Ã\\x83\\\\x82Ã\\x82\\\\x8dÃ\\x83\\\\x83Ã\\x82\\\\x83Ã\\x83\\\\x82Ã\\x82\\\\x83Ã\\x83\\\\x83Ã\\x82\\\\x82Ã\\x83\\\\x82Ã\\x82Â°Ã\\x83\\\\x83Ã\\x82\\\\x83Ã\\x83\\\\x82Ã\\x82\\\\x82Ã\\x83\\\\x83Ã\\x82\\\\x82Ã\\x83\\\\x82Ã\\x82\\\\x9fÃ\\x83\\\\x83Ã\\x82\\\\x83Ã\\x83\\\\x82Ã\\x82\\\\x82Ã\\x83\\\\x83Ã\\x82\\\\x82Ã\\x83\\\\x82Ã\\x82\\\\x91Ã\\x83\\\\x83Ã\\x82\\\\x83Ã\\x83\\\\x82Ã\\x82\\\\x82Ã\\x83\\\\x83Ã\\x82\\\\x82Ã\\x83\\\\x82Ã\\x82\\\\x8c\\'), (\\'Rated 4.0\\', \\'RATED\\\\n  A must visit, the place has a very lively feel about itself.\\\\nEvenings here , clubbed with their events is a sorted thing.\\\\nDrinks are worth, and the food too is delicious.\\\\nWe ordered chicken popcorn, which could have been a bit crispy though.. but the taste was good. Cheese balls were perfect and their Devil chicken was lip smacking and spicy.\\')]'"
            ]
          },
          "metadata": {
            "tags": []
          },
          "execution_count": 53
        }
      ]
    },
    {
      "cell_type": "code",
      "metadata": {
        "id": "25N9oStPTeag",
        "colab_type": "code",
        "outputId": "05673813-9f88-4b59-c2dc-ac63668236c1",
        "colab": {
          "base_uri": "https://localhost:8080/",
          "height": 263
        }
      },
      "source": [
        "df1 = df1.drop(columns=['name','reviews_list','menu_item'])\n",
        "df1.head()"
      ],
      "execution_count": 54,
      "outputs": [
        {
          "output_type": "execute_result",
          "data": {
            "text/html": [
              "<div>\n",
              "<style scoped>\n",
              "    .dataframe tbody tr th:only-of-type {\n",
              "        vertical-align: middle;\n",
              "    }\n",
              "\n",
              "    .dataframe tbody tr th {\n",
              "        vertical-align: top;\n",
              "    }\n",
              "\n",
              "    .dataframe thead th {\n",
              "        text-align: right;\n",
              "    }\n",
              "</style>\n",
              "<table border=\"1\" class=\"dataframe\">\n",
              "  <thead>\n",
              "    <tr style=\"text-align: right;\">\n",
              "      <th></th>\n",
              "      <th>online_order</th>\n",
              "      <th>book_table</th>\n",
              "      <th>votes</th>\n",
              "      <th>rest_type</th>\n",
              "      <th>dish_liked</th>\n",
              "      <th>cuisines</th>\n",
              "      <th>cost</th>\n",
              "      <th>type</th>\n",
              "      <th>city</th>\n",
              "      <th>rates</th>\n",
              "    </tr>\n",
              "  </thead>\n",
              "  <tbody>\n",
              "    <tr>\n",
              "      <th>1</th>\n",
              "      <td>0</td>\n",
              "      <td>1</td>\n",
              "      <td>5015</td>\n",
              "      <td>Casual Dining, Pub</td>\n",
              "      <td>Cocktails, Craft Beer, Salads, Devils Chicken,...</td>\n",
              "      <td>European, Continental</td>\n",
              "      <td>1800.0</td>\n",
              "      <td>Dine-out</td>\n",
              "      <td>Koramangala 6th Block</td>\n",
              "      <td>4.6</td>\n",
              "    </tr>\n",
              "    <tr>\n",
              "      <th>3</th>\n",
              "      <td>0</td>\n",
              "      <td>0</td>\n",
              "      <td>699</td>\n",
              "      <td>Casual Dining</td>\n",
              "      <td>Noodles, Laksa, Cocktails, Dumplings, Sangria,...</td>\n",
              "      <td>Thai, Chinese, Indonesian, Asian, Momos</td>\n",
              "      <td>1500.0</td>\n",
              "      <td>Dine-out</td>\n",
              "      <td>Residency Road</td>\n",
              "      <td>4.3</td>\n",
              "    </tr>\n",
              "    <tr>\n",
              "      <th>7</th>\n",
              "      <td>0</td>\n",
              "      <td>1</td>\n",
              "      <td>125</td>\n",
              "      <td>Lounge</td>\n",
              "      <td>Coffee, Cocktails, Tiramisu, Cappuccino, Hot C...</td>\n",
              "      <td>European, French, North Indian</td>\n",
              "      <td>2500.0</td>\n",
              "      <td>Dine-out</td>\n",
              "      <td>Sarjapur Road</td>\n",
              "      <td>3.9</td>\n",
              "    </tr>\n",
              "    <tr>\n",
              "      <th>9</th>\n",
              "      <td>1</td>\n",
              "      <td>0</td>\n",
              "      <td>218</td>\n",
              "      <td>Casual Dining</td>\n",
              "      <td>Biryani, Raita</td>\n",
              "      <td>Biryani, North Indian, Chinese</td>\n",
              "      <td>600.0</td>\n",
              "      <td>Delivery</td>\n",
              "      <td>BTM</td>\n",
              "      <td>3.6</td>\n",
              "    </tr>\n",
              "    <tr>\n",
              "      <th>11</th>\n",
              "      <td>1</td>\n",
              "      <td>0</td>\n",
              "      <td>169</td>\n",
              "      <td>Quick Bites</td>\n",
              "      <td>Coffee, Paratha, Chaat, Masala Dosa, Dahipuri,...</td>\n",
              "      <td>North Indian, South Indian</td>\n",
              "      <td>250.0</td>\n",
              "      <td>Delivery</td>\n",
              "      <td>Residency Road</td>\n",
              "      <td>3.8</td>\n",
              "    </tr>\n",
              "  </tbody>\n",
              "</table>\n",
              "</div>"
            ],
            "text/plain": [
              "    online_order  book_table  votes  ...      type                   city rates\n",
              "1              0           1   5015  ...  Dine-out  Koramangala 6th Block  4.6 \n",
              "3              0           0    699  ...  Dine-out         Residency Road  4.3 \n",
              "7              0           1    125  ...  Dine-out          Sarjapur Road  3.9 \n",
              "9              1           0    218  ...  Delivery                    BTM   3.6\n",
              "11             1           0    169  ...  Delivery         Residency Road  3.8 \n",
              "\n",
              "[5 rows x 10 columns]"
            ]
          },
          "metadata": {
            "tags": []
          },
          "execution_count": 54
        }
      ]
    },
    {
      "cell_type": "markdown",
      "metadata": {
        "id": "dAXCAdRdStfI",
        "colab_type": "text"
      },
      "source": [
        "### One hot encoding"
      ]
    },
    {
      "cell_type": "markdown",
      "metadata": {
        "id": "IbZAjl4BTK8J",
        "colab_type": "text"
      },
      "source": [
        "**Creating dummy variables for the categorical type columns.**"
      ]
    },
    {
      "cell_type": "code",
      "metadata": {
        "id": "dAcQtlW6R52H",
        "colab_type": "code",
        "outputId": "727a64bb-e7f6-45ff-9ae4-8087b1dcb3c5",
        "colab": {
          "base_uri": "https://localhost:8080/",
          "height": 296
        }
      },
      "source": [
        "# Creating dummy variables.\n",
        "df_dummy_rest_type = pd.get_dummies(df1['rest_type'])\n",
        "df_dummy_dish_liked = pd.get_dummies(df1['dish_liked'])\n",
        "df_dummy_cuisines = pd.get_dummies(df1['cuisines'])\n",
        "df_dummy_type = pd.get_dummies(df1['type'])\n",
        "df_dummy_city = pd.get_dummies(df1['city']) \n",
        "\n",
        "# Now combine all the dummy variables\n",
        "new_df = pd.concat([df1, df_dummy_rest_type, df_dummy_dish_liked, df_dummy_cuisines, df_dummy_type, df_dummy_city], axis =1)\n",
        "\n",
        "# Remove the columns whose dummies are created.\n",
        "new_df = new_df.drop(columns = ['rest_type','dish_liked','cuisines','city','type'])\n",
        "new_df.head()"
      ],
      "execution_count": 55,
      "outputs": [
        {
          "output_type": "execute_result",
          "data": {
            "text/html": [
              "<div>\n",
              "<style scoped>\n",
              "    .dataframe tbody tr th:only-of-type {\n",
              "        vertical-align: middle;\n",
              "    }\n",
              "\n",
              "    .dataframe tbody tr th {\n",
              "        vertical-align: top;\n",
              "    }\n",
              "\n",
              "    .dataframe thead th {\n",
              "        text-align: right;\n",
              "    }\n",
              "</style>\n",
              "<table border=\"1\" class=\"dataframe\">\n",
              "  <thead>\n",
              "    <tr style=\"text-align: right;\">\n",
              "      <th></th>\n",
              "      <th>online_order</th>\n",
              "      <th>book_table</th>\n",
              "      <th>votes</th>\n",
              "      <th>cost</th>\n",
              "      <th>rates</th>\n",
              "      <th>Bakery</th>\n",
              "      <th>Bakery, Cafe</th>\n",
              "      <th>Bakery, Dessert Parlor</th>\n",
              "      <th>Bakery, Quick Bites</th>\n",
              "      <th>Bar</th>\n",
              "      <th>Bar, Casual Dining</th>\n",
              "      <th>Bar, Lounge</th>\n",
              "      <th>Bar, Pub</th>\n",
              "      <th>Bar, Quick Bites</th>\n",
              "      <th>Beverage Shop</th>\n",
              "      <th>Beverage Shop, Cafe</th>\n",
              "      <th>Beverage Shop, Dessert Parlor</th>\n",
              "      <th>Beverage Shop, Quick Bites</th>\n",
              "      <th>Cafe</th>\n",
              "      <th>Cafe, Bakery</th>\n",
              "      <th>Cafe, Bar</th>\n",
              "      <th>Cafe, Casual Dining</th>\n",
              "      <th>Cafe, Dessert Parlor</th>\n",
              "      <th>Cafe, Lounge</th>\n",
              "      <th>Cafe, Quick Bites</th>\n",
              "      <th>Casual Dining</th>\n",
              "      <th>Casual Dining, Bar</th>\n",
              "      <th>Casual Dining, Cafe</th>\n",
              "      <th>Casual Dining, Irani Cafee</th>\n",
              "      <th>Casual Dining, Lounge</th>\n",
              "      <th>Casual Dining, Microbrewery</th>\n",
              "      <th>Casual Dining, Pub</th>\n",
              "      <th>Club</th>\n",
              "      <th>Club, Casual Dining</th>\n",
              "      <th>Delivery</th>\n",
              "      <th>Dessert Parlor</th>\n",
              "      <th>Dessert Parlor, Bakery</th>\n",
              "      <th>Dessert Parlor, Beverage Shop</th>\n",
              "      <th>Dessert Parlor, Cafe</th>\n",
              "      <th>Dessert Parlor, Kiosk</th>\n",
              "      <th>...</th>\n",
              "      <th>Vietnamese</th>\n",
              "      <th>Vietnamese, Salad</th>\n",
              "      <th>Vietnamese, Thai, Burmese, Japanese</th>\n",
              "      <th>Buffet</th>\n",
              "      <th>Cafes</th>\n",
              "      <th>Delivery</th>\n",
              "      <th>Desserts</th>\n",
              "      <th>Dine-out</th>\n",
              "      <th>Drinks &amp; nightlife</th>\n",
              "      <th>Pubs and bars</th>\n",
              "      <th>BTM</th>\n",
              "      <th>Banashankari</th>\n",
              "      <th>Bannerghatta Road</th>\n",
              "      <th>Basavanagudi</th>\n",
              "      <th>Bellandur</th>\n",
              "      <th>Brigade Road</th>\n",
              "      <th>Brookefield</th>\n",
              "      <th>Church Street</th>\n",
              "      <th>Electronic City</th>\n",
              "      <th>Frazer Town</th>\n",
              "      <th>HSR</th>\n",
              "      <th>Indiranagar</th>\n",
              "      <th>JP Nagar</th>\n",
              "      <th>Jayanagar</th>\n",
              "      <th>Kalyan Nagar</th>\n",
              "      <th>Kammanahalli</th>\n",
              "      <th>Koramangala 4th Block</th>\n",
              "      <th>Koramangala 5th Block</th>\n",
              "      <th>Koramangala 6th Block</th>\n",
              "      <th>Koramangala 7th Block</th>\n",
              "      <th>Lavelle Road</th>\n",
              "      <th>MG Road</th>\n",
              "      <th>Malleshwaram</th>\n",
              "      <th>Marathahalli</th>\n",
              "      <th>New BEL Road</th>\n",
              "      <th>Old Airport Road</th>\n",
              "      <th>Rajajinagar</th>\n",
              "      <th>Residency Road</th>\n",
              "      <th>Sarjapur Road</th>\n",
              "      <th>Whitefield</th>\n",
              "    </tr>\n",
              "  </thead>\n",
              "  <tbody>\n",
              "    <tr>\n",
              "      <th>1</th>\n",
              "      <td>0</td>\n",
              "      <td>1</td>\n",
              "      <td>5015</td>\n",
              "      <td>1800.0</td>\n",
              "      <td>4.6</td>\n",
              "      <td>0</td>\n",
              "      <td>0</td>\n",
              "      <td>0</td>\n",
              "      <td>0</td>\n",
              "      <td>0</td>\n",
              "      <td>0</td>\n",
              "      <td>0</td>\n",
              "      <td>0</td>\n",
              "      <td>0</td>\n",
              "      <td>0</td>\n",
              "      <td>0</td>\n",
              "      <td>0</td>\n",
              "      <td>0</td>\n",
              "      <td>0</td>\n",
              "      <td>0</td>\n",
              "      <td>0</td>\n",
              "      <td>0</td>\n",
              "      <td>0</td>\n",
              "      <td>0</td>\n",
              "      <td>0</td>\n",
              "      <td>0</td>\n",
              "      <td>0</td>\n",
              "      <td>0</td>\n",
              "      <td>0</td>\n",
              "      <td>0</td>\n",
              "      <td>0</td>\n",
              "      <td>1</td>\n",
              "      <td>0</td>\n",
              "      <td>0</td>\n",
              "      <td>0</td>\n",
              "      <td>0</td>\n",
              "      <td>0</td>\n",
              "      <td>0</td>\n",
              "      <td>0</td>\n",
              "      <td>0</td>\n",
              "      <td>...</td>\n",
              "      <td>0</td>\n",
              "      <td>0</td>\n",
              "      <td>0</td>\n",
              "      <td>0</td>\n",
              "      <td>0</td>\n",
              "      <td>0</td>\n",
              "      <td>0</td>\n",
              "      <td>1</td>\n",
              "      <td>0</td>\n",
              "      <td>0</td>\n",
              "      <td>0</td>\n",
              "      <td>0</td>\n",
              "      <td>0</td>\n",
              "      <td>0</td>\n",
              "      <td>0</td>\n",
              "      <td>0</td>\n",
              "      <td>0</td>\n",
              "      <td>0</td>\n",
              "      <td>0</td>\n",
              "      <td>0</td>\n",
              "      <td>0</td>\n",
              "      <td>0</td>\n",
              "      <td>0</td>\n",
              "      <td>0</td>\n",
              "      <td>0</td>\n",
              "      <td>0</td>\n",
              "      <td>0</td>\n",
              "      <td>0</td>\n",
              "      <td>1</td>\n",
              "      <td>0</td>\n",
              "      <td>0</td>\n",
              "      <td>0</td>\n",
              "      <td>0</td>\n",
              "      <td>0</td>\n",
              "      <td>0</td>\n",
              "      <td>0</td>\n",
              "      <td>0</td>\n",
              "      <td>0</td>\n",
              "      <td>0</td>\n",
              "      <td>0</td>\n",
              "    </tr>\n",
              "    <tr>\n",
              "      <th>3</th>\n",
              "      <td>0</td>\n",
              "      <td>0</td>\n",
              "      <td>699</td>\n",
              "      <td>1500.0</td>\n",
              "      <td>4.3</td>\n",
              "      <td>0</td>\n",
              "      <td>0</td>\n",
              "      <td>0</td>\n",
              "      <td>0</td>\n",
              "      <td>0</td>\n",
              "      <td>0</td>\n",
              "      <td>0</td>\n",
              "      <td>0</td>\n",
              "      <td>0</td>\n",
              "      <td>0</td>\n",
              "      <td>0</td>\n",
              "      <td>0</td>\n",
              "      <td>0</td>\n",
              "      <td>0</td>\n",
              "      <td>0</td>\n",
              "      <td>0</td>\n",
              "      <td>0</td>\n",
              "      <td>0</td>\n",
              "      <td>0</td>\n",
              "      <td>0</td>\n",
              "      <td>1</td>\n",
              "      <td>0</td>\n",
              "      <td>0</td>\n",
              "      <td>0</td>\n",
              "      <td>0</td>\n",
              "      <td>0</td>\n",
              "      <td>0</td>\n",
              "      <td>0</td>\n",
              "      <td>0</td>\n",
              "      <td>0</td>\n",
              "      <td>0</td>\n",
              "      <td>0</td>\n",
              "      <td>0</td>\n",
              "      <td>0</td>\n",
              "      <td>0</td>\n",
              "      <td>...</td>\n",
              "      <td>0</td>\n",
              "      <td>0</td>\n",
              "      <td>0</td>\n",
              "      <td>0</td>\n",
              "      <td>0</td>\n",
              "      <td>0</td>\n",
              "      <td>0</td>\n",
              "      <td>1</td>\n",
              "      <td>0</td>\n",
              "      <td>0</td>\n",
              "      <td>0</td>\n",
              "      <td>0</td>\n",
              "      <td>0</td>\n",
              "      <td>0</td>\n",
              "      <td>0</td>\n",
              "      <td>0</td>\n",
              "      <td>0</td>\n",
              "      <td>0</td>\n",
              "      <td>0</td>\n",
              "      <td>0</td>\n",
              "      <td>0</td>\n",
              "      <td>0</td>\n",
              "      <td>0</td>\n",
              "      <td>0</td>\n",
              "      <td>0</td>\n",
              "      <td>0</td>\n",
              "      <td>0</td>\n",
              "      <td>0</td>\n",
              "      <td>0</td>\n",
              "      <td>0</td>\n",
              "      <td>0</td>\n",
              "      <td>0</td>\n",
              "      <td>0</td>\n",
              "      <td>0</td>\n",
              "      <td>0</td>\n",
              "      <td>0</td>\n",
              "      <td>0</td>\n",
              "      <td>1</td>\n",
              "      <td>0</td>\n",
              "      <td>0</td>\n",
              "    </tr>\n",
              "    <tr>\n",
              "      <th>7</th>\n",
              "      <td>0</td>\n",
              "      <td>1</td>\n",
              "      <td>125</td>\n",
              "      <td>2500.0</td>\n",
              "      <td>3.9</td>\n",
              "      <td>0</td>\n",
              "      <td>0</td>\n",
              "      <td>0</td>\n",
              "      <td>0</td>\n",
              "      <td>0</td>\n",
              "      <td>0</td>\n",
              "      <td>0</td>\n",
              "      <td>0</td>\n",
              "      <td>0</td>\n",
              "      <td>0</td>\n",
              "      <td>0</td>\n",
              "      <td>0</td>\n",
              "      <td>0</td>\n",
              "      <td>0</td>\n",
              "      <td>0</td>\n",
              "      <td>0</td>\n",
              "      <td>0</td>\n",
              "      <td>0</td>\n",
              "      <td>0</td>\n",
              "      <td>0</td>\n",
              "      <td>0</td>\n",
              "      <td>0</td>\n",
              "      <td>0</td>\n",
              "      <td>0</td>\n",
              "      <td>0</td>\n",
              "      <td>0</td>\n",
              "      <td>0</td>\n",
              "      <td>0</td>\n",
              "      <td>0</td>\n",
              "      <td>0</td>\n",
              "      <td>0</td>\n",
              "      <td>0</td>\n",
              "      <td>0</td>\n",
              "      <td>0</td>\n",
              "      <td>0</td>\n",
              "      <td>...</td>\n",
              "      <td>0</td>\n",
              "      <td>0</td>\n",
              "      <td>0</td>\n",
              "      <td>0</td>\n",
              "      <td>0</td>\n",
              "      <td>0</td>\n",
              "      <td>0</td>\n",
              "      <td>1</td>\n",
              "      <td>0</td>\n",
              "      <td>0</td>\n",
              "      <td>0</td>\n",
              "      <td>0</td>\n",
              "      <td>0</td>\n",
              "      <td>0</td>\n",
              "      <td>0</td>\n",
              "      <td>0</td>\n",
              "      <td>0</td>\n",
              "      <td>0</td>\n",
              "      <td>0</td>\n",
              "      <td>0</td>\n",
              "      <td>0</td>\n",
              "      <td>0</td>\n",
              "      <td>0</td>\n",
              "      <td>0</td>\n",
              "      <td>0</td>\n",
              "      <td>0</td>\n",
              "      <td>0</td>\n",
              "      <td>0</td>\n",
              "      <td>0</td>\n",
              "      <td>0</td>\n",
              "      <td>0</td>\n",
              "      <td>0</td>\n",
              "      <td>0</td>\n",
              "      <td>0</td>\n",
              "      <td>0</td>\n",
              "      <td>0</td>\n",
              "      <td>0</td>\n",
              "      <td>0</td>\n",
              "      <td>1</td>\n",
              "      <td>0</td>\n",
              "    </tr>\n",
              "    <tr>\n",
              "      <th>9</th>\n",
              "      <td>1</td>\n",
              "      <td>0</td>\n",
              "      <td>218</td>\n",
              "      <td>600.0</td>\n",
              "      <td>3.6</td>\n",
              "      <td>0</td>\n",
              "      <td>0</td>\n",
              "      <td>0</td>\n",
              "      <td>0</td>\n",
              "      <td>0</td>\n",
              "      <td>0</td>\n",
              "      <td>0</td>\n",
              "      <td>0</td>\n",
              "      <td>0</td>\n",
              "      <td>0</td>\n",
              "      <td>0</td>\n",
              "      <td>0</td>\n",
              "      <td>0</td>\n",
              "      <td>0</td>\n",
              "      <td>0</td>\n",
              "      <td>0</td>\n",
              "      <td>0</td>\n",
              "      <td>0</td>\n",
              "      <td>0</td>\n",
              "      <td>0</td>\n",
              "      <td>1</td>\n",
              "      <td>0</td>\n",
              "      <td>0</td>\n",
              "      <td>0</td>\n",
              "      <td>0</td>\n",
              "      <td>0</td>\n",
              "      <td>0</td>\n",
              "      <td>0</td>\n",
              "      <td>0</td>\n",
              "      <td>0</td>\n",
              "      <td>0</td>\n",
              "      <td>0</td>\n",
              "      <td>0</td>\n",
              "      <td>0</td>\n",
              "      <td>0</td>\n",
              "      <td>...</td>\n",
              "      <td>0</td>\n",
              "      <td>0</td>\n",
              "      <td>0</td>\n",
              "      <td>0</td>\n",
              "      <td>0</td>\n",
              "      <td>1</td>\n",
              "      <td>0</td>\n",
              "      <td>0</td>\n",
              "      <td>0</td>\n",
              "      <td>0</td>\n",
              "      <td>1</td>\n",
              "      <td>0</td>\n",
              "      <td>0</td>\n",
              "      <td>0</td>\n",
              "      <td>0</td>\n",
              "      <td>0</td>\n",
              "      <td>0</td>\n",
              "      <td>0</td>\n",
              "      <td>0</td>\n",
              "      <td>0</td>\n",
              "      <td>0</td>\n",
              "      <td>0</td>\n",
              "      <td>0</td>\n",
              "      <td>0</td>\n",
              "      <td>0</td>\n",
              "      <td>0</td>\n",
              "      <td>0</td>\n",
              "      <td>0</td>\n",
              "      <td>0</td>\n",
              "      <td>0</td>\n",
              "      <td>0</td>\n",
              "      <td>0</td>\n",
              "      <td>0</td>\n",
              "      <td>0</td>\n",
              "      <td>0</td>\n",
              "      <td>0</td>\n",
              "      <td>0</td>\n",
              "      <td>0</td>\n",
              "      <td>0</td>\n",
              "      <td>0</td>\n",
              "    </tr>\n",
              "    <tr>\n",
              "      <th>11</th>\n",
              "      <td>1</td>\n",
              "      <td>0</td>\n",
              "      <td>169</td>\n",
              "      <td>250.0</td>\n",
              "      <td>3.8</td>\n",
              "      <td>0</td>\n",
              "      <td>0</td>\n",
              "      <td>0</td>\n",
              "      <td>0</td>\n",
              "      <td>0</td>\n",
              "      <td>0</td>\n",
              "      <td>0</td>\n",
              "      <td>0</td>\n",
              "      <td>0</td>\n",
              "      <td>0</td>\n",
              "      <td>0</td>\n",
              "      <td>0</td>\n",
              "      <td>0</td>\n",
              "      <td>0</td>\n",
              "      <td>0</td>\n",
              "      <td>0</td>\n",
              "      <td>0</td>\n",
              "      <td>0</td>\n",
              "      <td>0</td>\n",
              "      <td>0</td>\n",
              "      <td>0</td>\n",
              "      <td>0</td>\n",
              "      <td>0</td>\n",
              "      <td>0</td>\n",
              "      <td>0</td>\n",
              "      <td>0</td>\n",
              "      <td>0</td>\n",
              "      <td>0</td>\n",
              "      <td>0</td>\n",
              "      <td>0</td>\n",
              "      <td>0</td>\n",
              "      <td>0</td>\n",
              "      <td>0</td>\n",
              "      <td>0</td>\n",
              "      <td>0</td>\n",
              "      <td>...</td>\n",
              "      <td>0</td>\n",
              "      <td>0</td>\n",
              "      <td>0</td>\n",
              "      <td>0</td>\n",
              "      <td>0</td>\n",
              "      <td>1</td>\n",
              "      <td>0</td>\n",
              "      <td>0</td>\n",
              "      <td>0</td>\n",
              "      <td>0</td>\n",
              "      <td>0</td>\n",
              "      <td>0</td>\n",
              "      <td>0</td>\n",
              "      <td>0</td>\n",
              "      <td>0</td>\n",
              "      <td>0</td>\n",
              "      <td>0</td>\n",
              "      <td>0</td>\n",
              "      <td>0</td>\n",
              "      <td>0</td>\n",
              "      <td>0</td>\n",
              "      <td>0</td>\n",
              "      <td>0</td>\n",
              "      <td>0</td>\n",
              "      <td>0</td>\n",
              "      <td>0</td>\n",
              "      <td>0</td>\n",
              "      <td>0</td>\n",
              "      <td>0</td>\n",
              "      <td>0</td>\n",
              "      <td>0</td>\n",
              "      <td>0</td>\n",
              "      <td>0</td>\n",
              "      <td>0</td>\n",
              "      <td>0</td>\n",
              "      <td>0</td>\n",
              "      <td>0</td>\n",
              "      <td>1</td>\n",
              "      <td>0</td>\n",
              "      <td>0</td>\n",
              "    </tr>\n",
              "  </tbody>\n",
              "</table>\n",
              "<p>5 rows × 6667 columns</p>\n",
              "</div>"
            ],
            "text/plain": [
              "    online_order  book_table  votes  ...  Residency Road Sarjapur Road  Whitefield\n",
              "1              0           1   5015  ...               0             0           0\n",
              "3              0           0    699  ...               1             0           0\n",
              "7              0           1    125  ...               0             1           0\n",
              "9              1           0    218  ...               0             0           0\n",
              "11             1           0    169  ...               1             0           0\n",
              "\n",
              "[5 rows x 6667 columns]"
            ]
          },
          "metadata": {
            "tags": []
          },
          "execution_count": 55
        }
      ]
    },
    {
      "cell_type": "markdown",
      "metadata": {
        "id": "RwQ1o2R9aq-Z",
        "colab_type": "text"
      },
      "source": [
        "**Feature Scaling**<br>\n",
        "**Now we Standardize our data**"
      ]
    },
    {
      "cell_type": "code",
      "metadata": {
        "id": "ld9-e3O9a3pN",
        "colab_type": "code",
        "outputId": "c59b88a3-4b7b-47b4-c351-6cdd8ffa558f",
        "colab": {
          "base_uri": "https://localhost:8080/",
          "height": 296
        }
      },
      "source": [
        "from sklearn.preprocessing import StandardScaler\n",
        "#X= new_df.drop(columns=['rates'])\n",
        "X = new_df.copy()\n",
        "\n",
        "# Creating Scaler objects\n",
        "scaler = StandardScaler()\n",
        "df_fit = scaler.fit_transform(X)\n",
        "\n",
        "X= pd.DataFrame(df_fit, columns=X.columns)\n",
        "X.head()"
      ],
      "execution_count": 56,
      "outputs": [
        {
          "output_type": "execute_result",
          "data": {
            "text/html": [
              "<div>\n",
              "<style scoped>\n",
              "    .dataframe tbody tr th:only-of-type {\n",
              "        vertical-align: middle;\n",
              "    }\n",
              "\n",
              "    .dataframe tbody tr th {\n",
              "        vertical-align: top;\n",
              "    }\n",
              "\n",
              "    .dataframe thead th {\n",
              "        text-align: right;\n",
              "    }\n",
              "</style>\n",
              "<table border=\"1\" class=\"dataframe\">\n",
              "  <thead>\n",
              "    <tr style=\"text-align: right;\">\n",
              "      <th></th>\n",
              "      <th>online_order</th>\n",
              "      <th>book_table</th>\n",
              "      <th>votes</th>\n",
              "      <th>cost</th>\n",
              "      <th>rates</th>\n",
              "      <th>Bakery</th>\n",
              "      <th>Bakery, Cafe</th>\n",
              "      <th>Bakery, Dessert Parlor</th>\n",
              "      <th>Bakery, Quick Bites</th>\n",
              "      <th>Bar</th>\n",
              "      <th>Bar, Casual Dining</th>\n",
              "      <th>Bar, Lounge</th>\n",
              "      <th>Bar, Pub</th>\n",
              "      <th>Bar, Quick Bites</th>\n",
              "      <th>Beverage Shop</th>\n",
              "      <th>Beverage Shop, Cafe</th>\n",
              "      <th>Beverage Shop, Dessert Parlor</th>\n",
              "      <th>Beverage Shop, Quick Bites</th>\n",
              "      <th>Cafe</th>\n",
              "      <th>Cafe, Bakery</th>\n",
              "      <th>Cafe, Bar</th>\n",
              "      <th>Cafe, Casual Dining</th>\n",
              "      <th>Cafe, Dessert Parlor</th>\n",
              "      <th>Cafe, Lounge</th>\n",
              "      <th>Cafe, Quick Bites</th>\n",
              "      <th>Casual Dining</th>\n",
              "      <th>Casual Dining, Bar</th>\n",
              "      <th>Casual Dining, Cafe</th>\n",
              "      <th>Casual Dining, Irani Cafee</th>\n",
              "      <th>Casual Dining, Lounge</th>\n",
              "      <th>Casual Dining, Microbrewery</th>\n",
              "      <th>Casual Dining, Pub</th>\n",
              "      <th>Club</th>\n",
              "      <th>Club, Casual Dining</th>\n",
              "      <th>Delivery</th>\n",
              "      <th>Dessert Parlor</th>\n",
              "      <th>Dessert Parlor, Bakery</th>\n",
              "      <th>Dessert Parlor, Beverage Shop</th>\n",
              "      <th>Dessert Parlor, Cafe</th>\n",
              "      <th>Dessert Parlor, Kiosk</th>\n",
              "      <th>...</th>\n",
              "      <th>Vietnamese</th>\n",
              "      <th>Vietnamese, Salad</th>\n",
              "      <th>Vietnamese, Thai, Burmese, Japanese</th>\n",
              "      <th>Buffet</th>\n",
              "      <th>Cafes</th>\n",
              "      <th>Delivery</th>\n",
              "      <th>Desserts</th>\n",
              "      <th>Dine-out</th>\n",
              "      <th>Drinks &amp; nightlife</th>\n",
              "      <th>Pubs and bars</th>\n",
              "      <th>BTM</th>\n",
              "      <th>Banashankari</th>\n",
              "      <th>Bannerghatta Road</th>\n",
              "      <th>Basavanagudi</th>\n",
              "      <th>Bellandur</th>\n",
              "      <th>Brigade Road</th>\n",
              "      <th>Brookefield</th>\n",
              "      <th>Church Street</th>\n",
              "      <th>Electronic City</th>\n",
              "      <th>Frazer Town</th>\n",
              "      <th>HSR</th>\n",
              "      <th>Indiranagar</th>\n",
              "      <th>JP Nagar</th>\n",
              "      <th>Jayanagar</th>\n",
              "      <th>Kalyan Nagar</th>\n",
              "      <th>Kammanahalli</th>\n",
              "      <th>Koramangala 4th Block</th>\n",
              "      <th>Koramangala 5th Block</th>\n",
              "      <th>Koramangala 6th Block</th>\n",
              "      <th>Koramangala 7th Block</th>\n",
              "      <th>Lavelle Road</th>\n",
              "      <th>MG Road</th>\n",
              "      <th>Malleshwaram</th>\n",
              "      <th>Marathahalli</th>\n",
              "      <th>New BEL Road</th>\n",
              "      <th>Old Airport Road</th>\n",
              "      <th>Rajajinagar</th>\n",
              "      <th>Residency Road</th>\n",
              "      <th>Sarjapur Road</th>\n",
              "      <th>Whitefield</th>\n",
              "    </tr>\n",
              "  </thead>\n",
              "  <tbody>\n",
              "    <tr>\n",
              "      <th>0</th>\n",
              "      <td>-1.548931</td>\n",
              "      <td>1.679951</td>\n",
              "      <td>3.932166</td>\n",
              "      <td>2.006077</td>\n",
              "      <td>1.629413</td>\n",
              "      <td>-0.081639</td>\n",
              "      <td>-0.054213</td>\n",
              "      <td>-0.051105</td>\n",
              "      <td>-0.064778</td>\n",
              "      <td>-0.127112</td>\n",
              "      <td>-0.12263</td>\n",
              "      <td>-0.016475</td>\n",
              "      <td>-0.016475</td>\n",
              "      <td>-0.019494</td>\n",
              "      <td>-0.077848</td>\n",
              "      <td>-0.025527</td>\n",
              "      <td>-0.044243</td>\n",
              "      <td>-0.076424</td>\n",
              "      <td>-0.333062</td>\n",
              "      <td>-0.076064</td>\n",
              "      <td>-0.025527</td>\n",
              "      <td>-0.083636</td>\n",
              "      <td>-0.065199</td>\n",
              "      <td>-0.02444</td>\n",
              "      <td>-0.039011</td>\n",
              "      <td>-0.684999</td>\n",
              "      <td>-0.208544</td>\n",
              "      <td>-0.113165</td>\n",
              "      <td>-0.02444</td>\n",
              "      <td>-0.020841</td>\n",
              "      <td>-0.044243</td>\n",
              "      <td>13.965383</td>\n",
              "      <td>-0.036858</td>\n",
              "      <td>-0.014735</td>\n",
              "      <td>-0.172588</td>\n",
              "      <td>-0.220177</td>\n",
              "      <td>-0.030388</td>\n",
              "      <td>-0.046642</td>\n",
              "      <td>-0.076424</td>\n",
              "      <td>-0.010419</td>\n",
              "      <td>...</td>\n",
              "      <td>-0.03127</td>\n",
              "      <td>-0.010419</td>\n",
              "      <td>-0.012761</td>\n",
              "      <td>-0.183774</td>\n",
              "      <td>-0.217043</td>\n",
              "      <td>-0.922412</td>\n",
              "      <td>-0.244446</td>\n",
              "      <td>1.375783</td>\n",
              "      <td>-0.199158</td>\n",
              "      <td>-0.151415</td>\n",
              "      <td>-0.255837</td>\n",
              "      <td>-0.12821</td>\n",
              "      <td>-0.157493</td>\n",
              "      <td>-0.162136</td>\n",
              "      <td>-0.147622</td>\n",
              "      <td>-0.208686</td>\n",
              "      <td>-0.164413</td>\n",
              "      <td>-0.21066</td>\n",
              "      <td>-0.118459</td>\n",
              "      <td>-0.158215</td>\n",
              "      <td>-0.178824</td>\n",
              "      <td>-0.214841</td>\n",
              "      <td>-0.193493</td>\n",
              "      <td>-0.217591</td>\n",
              "      <td>-0.152164</td>\n",
              "      <td>-0.154757</td>\n",
              "      <td>-0.248287</td>\n",
              "      <td>-0.240936</td>\n",
              "      <td>4.249217</td>\n",
              "      <td>-0.249271</td>\n",
              "      <td>-0.201064</td>\n",
              "      <td>-0.212898</td>\n",
              "      <td>-0.148578</td>\n",
              "      <td>-0.166318</td>\n",
              "      <td>-0.114145</td>\n",
              "      <td>-0.182983</td>\n",
              "      <td>-0.125783</td>\n",
              "      <td>-0.195147</td>\n",
              "      <td>-0.147430</td>\n",
              "      <td>-0.165281</td>\n",
              "    </tr>\n",
              "    <tr>\n",
              "      <th>1</th>\n",
              "      <td>-1.548931</td>\n",
              "      <td>-0.595255</td>\n",
              "      <td>0.083217</td>\n",
              "      <td>1.431523</td>\n",
              "      <td>0.926093</td>\n",
              "      <td>-0.081639</td>\n",
              "      <td>-0.054213</td>\n",
              "      <td>-0.051105</td>\n",
              "      <td>-0.064778</td>\n",
              "      <td>-0.127112</td>\n",
              "      <td>-0.12263</td>\n",
              "      <td>-0.016475</td>\n",
              "      <td>-0.016475</td>\n",
              "      <td>-0.019494</td>\n",
              "      <td>-0.077848</td>\n",
              "      <td>-0.025527</td>\n",
              "      <td>-0.044243</td>\n",
              "      <td>-0.076424</td>\n",
              "      <td>-0.333062</td>\n",
              "      <td>-0.076064</td>\n",
              "      <td>-0.025527</td>\n",
              "      <td>-0.083636</td>\n",
              "      <td>-0.065199</td>\n",
              "      <td>-0.02444</td>\n",
              "      <td>-0.039011</td>\n",
              "      <td>1.459856</td>\n",
              "      <td>-0.208544</td>\n",
              "      <td>-0.113165</td>\n",
              "      <td>-0.02444</td>\n",
              "      <td>-0.020841</td>\n",
              "      <td>-0.044243</td>\n",
              "      <td>-0.071606</td>\n",
              "      <td>-0.036858</td>\n",
              "      <td>-0.014735</td>\n",
              "      <td>-0.172588</td>\n",
              "      <td>-0.220177</td>\n",
              "      <td>-0.030388</td>\n",
              "      <td>-0.046642</td>\n",
              "      <td>-0.076424</td>\n",
              "      <td>-0.010419</td>\n",
              "      <td>...</td>\n",
              "      <td>-0.03127</td>\n",
              "      <td>-0.010419</td>\n",
              "      <td>-0.012761</td>\n",
              "      <td>-0.183774</td>\n",
              "      <td>-0.217043</td>\n",
              "      <td>-0.922412</td>\n",
              "      <td>-0.244446</td>\n",
              "      <td>1.375783</td>\n",
              "      <td>-0.199158</td>\n",
              "      <td>-0.151415</td>\n",
              "      <td>-0.255837</td>\n",
              "      <td>-0.12821</td>\n",
              "      <td>-0.157493</td>\n",
              "      <td>-0.162136</td>\n",
              "      <td>-0.147622</td>\n",
              "      <td>-0.208686</td>\n",
              "      <td>-0.164413</td>\n",
              "      <td>-0.21066</td>\n",
              "      <td>-0.118459</td>\n",
              "      <td>-0.158215</td>\n",
              "      <td>-0.178824</td>\n",
              "      <td>-0.214841</td>\n",
              "      <td>-0.193493</td>\n",
              "      <td>-0.217591</td>\n",
              "      <td>-0.152164</td>\n",
              "      <td>-0.154757</td>\n",
              "      <td>-0.248287</td>\n",
              "      <td>-0.240936</td>\n",
              "      <td>-0.235337</td>\n",
              "      <td>-0.249271</td>\n",
              "      <td>-0.201064</td>\n",
              "      <td>-0.212898</td>\n",
              "      <td>-0.148578</td>\n",
              "      <td>-0.166318</td>\n",
              "      <td>-0.114145</td>\n",
              "      <td>-0.182983</td>\n",
              "      <td>-0.125783</td>\n",
              "      <td>5.124341</td>\n",
              "      <td>-0.147430</td>\n",
              "      <td>-0.165281</td>\n",
              "    </tr>\n",
              "    <tr>\n",
              "      <th>2</th>\n",
              "      <td>-1.548931</td>\n",
              "      <td>1.679951</td>\n",
              "      <td>-0.428668</td>\n",
              "      <td>3.346704</td>\n",
              "      <td>-0.011667</td>\n",
              "      <td>-0.081639</td>\n",
              "      <td>-0.054213</td>\n",
              "      <td>-0.051105</td>\n",
              "      <td>-0.064778</td>\n",
              "      <td>-0.127112</td>\n",
              "      <td>-0.12263</td>\n",
              "      <td>-0.016475</td>\n",
              "      <td>-0.016475</td>\n",
              "      <td>-0.019494</td>\n",
              "      <td>-0.077848</td>\n",
              "      <td>-0.025527</td>\n",
              "      <td>-0.044243</td>\n",
              "      <td>-0.076424</td>\n",
              "      <td>-0.333062</td>\n",
              "      <td>-0.076064</td>\n",
              "      <td>-0.025527</td>\n",
              "      <td>-0.083636</td>\n",
              "      <td>-0.065199</td>\n",
              "      <td>-0.02444</td>\n",
              "      <td>-0.039011</td>\n",
              "      <td>-0.684999</td>\n",
              "      <td>-0.208544</td>\n",
              "      <td>-0.113165</td>\n",
              "      <td>-0.02444</td>\n",
              "      <td>-0.020841</td>\n",
              "      <td>-0.044243</td>\n",
              "      <td>-0.071606</td>\n",
              "      <td>-0.036858</td>\n",
              "      <td>-0.014735</td>\n",
              "      <td>-0.172588</td>\n",
              "      <td>-0.220177</td>\n",
              "      <td>-0.030388</td>\n",
              "      <td>-0.046642</td>\n",
              "      <td>-0.076424</td>\n",
              "      <td>-0.010419</td>\n",
              "      <td>...</td>\n",
              "      <td>-0.03127</td>\n",
              "      <td>-0.010419</td>\n",
              "      <td>-0.012761</td>\n",
              "      <td>-0.183774</td>\n",
              "      <td>-0.217043</td>\n",
              "      <td>-0.922412</td>\n",
              "      <td>-0.244446</td>\n",
              "      <td>1.375783</td>\n",
              "      <td>-0.199158</td>\n",
              "      <td>-0.151415</td>\n",
              "      <td>-0.255837</td>\n",
              "      <td>-0.12821</td>\n",
              "      <td>-0.157493</td>\n",
              "      <td>-0.162136</td>\n",
              "      <td>-0.147622</td>\n",
              "      <td>-0.208686</td>\n",
              "      <td>-0.164413</td>\n",
              "      <td>-0.21066</td>\n",
              "      <td>-0.118459</td>\n",
              "      <td>-0.158215</td>\n",
              "      <td>-0.178824</td>\n",
              "      <td>-0.214841</td>\n",
              "      <td>-0.193493</td>\n",
              "      <td>-0.217591</td>\n",
              "      <td>-0.152164</td>\n",
              "      <td>-0.154757</td>\n",
              "      <td>-0.248287</td>\n",
              "      <td>-0.240936</td>\n",
              "      <td>-0.235337</td>\n",
              "      <td>-0.249271</td>\n",
              "      <td>-0.201064</td>\n",
              "      <td>-0.212898</td>\n",
              "      <td>-0.148578</td>\n",
              "      <td>-0.166318</td>\n",
              "      <td>-0.114145</td>\n",
              "      <td>-0.182983</td>\n",
              "      <td>-0.125783</td>\n",
              "      <td>-0.195147</td>\n",
              "      <td>6.782894</td>\n",
              "      <td>-0.165281</td>\n",
              "    </tr>\n",
              "    <tr>\n",
              "      <th>3</th>\n",
              "      <td>0.645606</td>\n",
              "      <td>-0.595255</td>\n",
              "      <td>-0.345732</td>\n",
              "      <td>-0.292140</td>\n",
              "      <td>-0.714987</td>\n",
              "      <td>-0.081639</td>\n",
              "      <td>-0.054213</td>\n",
              "      <td>-0.051105</td>\n",
              "      <td>-0.064778</td>\n",
              "      <td>-0.127112</td>\n",
              "      <td>-0.12263</td>\n",
              "      <td>-0.016475</td>\n",
              "      <td>-0.016475</td>\n",
              "      <td>-0.019494</td>\n",
              "      <td>-0.077848</td>\n",
              "      <td>-0.025527</td>\n",
              "      <td>-0.044243</td>\n",
              "      <td>-0.076424</td>\n",
              "      <td>-0.333062</td>\n",
              "      <td>-0.076064</td>\n",
              "      <td>-0.025527</td>\n",
              "      <td>-0.083636</td>\n",
              "      <td>-0.065199</td>\n",
              "      <td>-0.02444</td>\n",
              "      <td>-0.039011</td>\n",
              "      <td>1.459856</td>\n",
              "      <td>-0.208544</td>\n",
              "      <td>-0.113165</td>\n",
              "      <td>-0.02444</td>\n",
              "      <td>-0.020841</td>\n",
              "      <td>-0.044243</td>\n",
              "      <td>-0.071606</td>\n",
              "      <td>-0.036858</td>\n",
              "      <td>-0.014735</td>\n",
              "      <td>-0.172588</td>\n",
              "      <td>-0.220177</td>\n",
              "      <td>-0.030388</td>\n",
              "      <td>-0.046642</td>\n",
              "      <td>-0.076424</td>\n",
              "      <td>-0.010419</td>\n",
              "      <td>...</td>\n",
              "      <td>-0.03127</td>\n",
              "      <td>-0.010419</td>\n",
              "      <td>-0.012761</td>\n",
              "      <td>-0.183774</td>\n",
              "      <td>-0.217043</td>\n",
              "      <td>1.084114</td>\n",
              "      <td>-0.244446</td>\n",
              "      <td>-0.726859</td>\n",
              "      <td>-0.199158</td>\n",
              "      <td>-0.151415</td>\n",
              "      <td>3.908743</td>\n",
              "      <td>-0.12821</td>\n",
              "      <td>-0.157493</td>\n",
              "      <td>-0.162136</td>\n",
              "      <td>-0.147622</td>\n",
              "      <td>-0.208686</td>\n",
              "      <td>-0.164413</td>\n",
              "      <td>-0.21066</td>\n",
              "      <td>-0.118459</td>\n",
              "      <td>-0.158215</td>\n",
              "      <td>-0.178824</td>\n",
              "      <td>-0.214841</td>\n",
              "      <td>-0.193493</td>\n",
              "      <td>-0.217591</td>\n",
              "      <td>-0.152164</td>\n",
              "      <td>-0.154757</td>\n",
              "      <td>-0.248287</td>\n",
              "      <td>-0.240936</td>\n",
              "      <td>-0.235337</td>\n",
              "      <td>-0.249271</td>\n",
              "      <td>-0.201064</td>\n",
              "      <td>-0.212898</td>\n",
              "      <td>-0.148578</td>\n",
              "      <td>-0.166318</td>\n",
              "      <td>-0.114145</td>\n",
              "      <td>-0.182983</td>\n",
              "      <td>-0.125783</td>\n",
              "      <td>-0.195147</td>\n",
              "      <td>-0.147430</td>\n",
              "      <td>-0.165281</td>\n",
              "    </tr>\n",
              "    <tr>\n",
              "      <th>4</th>\n",
              "      <td>0.645606</td>\n",
              "      <td>-0.595255</td>\n",
              "      <td>-0.389429</td>\n",
              "      <td>-0.962454</td>\n",
              "      <td>-0.246107</td>\n",
              "      <td>-0.081639</td>\n",
              "      <td>-0.054213</td>\n",
              "      <td>-0.051105</td>\n",
              "      <td>-0.064778</td>\n",
              "      <td>-0.127112</td>\n",
              "      <td>-0.12263</td>\n",
              "      <td>-0.016475</td>\n",
              "      <td>-0.016475</td>\n",
              "      <td>-0.019494</td>\n",
              "      <td>-0.077848</td>\n",
              "      <td>-0.025527</td>\n",
              "      <td>-0.044243</td>\n",
              "      <td>-0.076424</td>\n",
              "      <td>-0.333062</td>\n",
              "      <td>-0.076064</td>\n",
              "      <td>-0.025527</td>\n",
              "      <td>-0.083636</td>\n",
              "      <td>-0.065199</td>\n",
              "      <td>-0.02444</td>\n",
              "      <td>-0.039011</td>\n",
              "      <td>-0.684999</td>\n",
              "      <td>-0.208544</td>\n",
              "      <td>-0.113165</td>\n",
              "      <td>-0.02444</td>\n",
              "      <td>-0.020841</td>\n",
              "      <td>-0.044243</td>\n",
              "      <td>-0.071606</td>\n",
              "      <td>-0.036858</td>\n",
              "      <td>-0.014735</td>\n",
              "      <td>-0.172588</td>\n",
              "      <td>-0.220177</td>\n",
              "      <td>-0.030388</td>\n",
              "      <td>-0.046642</td>\n",
              "      <td>-0.076424</td>\n",
              "      <td>-0.010419</td>\n",
              "      <td>...</td>\n",
              "      <td>-0.03127</td>\n",
              "      <td>-0.010419</td>\n",
              "      <td>-0.012761</td>\n",
              "      <td>-0.183774</td>\n",
              "      <td>-0.217043</td>\n",
              "      <td>1.084114</td>\n",
              "      <td>-0.244446</td>\n",
              "      <td>-0.726859</td>\n",
              "      <td>-0.199158</td>\n",
              "      <td>-0.151415</td>\n",
              "      <td>-0.255837</td>\n",
              "      <td>-0.12821</td>\n",
              "      <td>-0.157493</td>\n",
              "      <td>-0.162136</td>\n",
              "      <td>-0.147622</td>\n",
              "      <td>-0.208686</td>\n",
              "      <td>-0.164413</td>\n",
              "      <td>-0.21066</td>\n",
              "      <td>-0.118459</td>\n",
              "      <td>-0.158215</td>\n",
              "      <td>-0.178824</td>\n",
              "      <td>-0.214841</td>\n",
              "      <td>-0.193493</td>\n",
              "      <td>-0.217591</td>\n",
              "      <td>-0.152164</td>\n",
              "      <td>-0.154757</td>\n",
              "      <td>-0.248287</td>\n",
              "      <td>-0.240936</td>\n",
              "      <td>-0.235337</td>\n",
              "      <td>-0.249271</td>\n",
              "      <td>-0.201064</td>\n",
              "      <td>-0.212898</td>\n",
              "      <td>-0.148578</td>\n",
              "      <td>-0.166318</td>\n",
              "      <td>-0.114145</td>\n",
              "      <td>-0.182983</td>\n",
              "      <td>-0.125783</td>\n",
              "      <td>5.124341</td>\n",
              "      <td>-0.147430</td>\n",
              "      <td>-0.165281</td>\n",
              "    </tr>\n",
              "  </tbody>\n",
              "</table>\n",
              "<p>5 rows × 6667 columns</p>\n",
              "</div>"
            ],
            "text/plain": [
              "   online_order  book_table  ...  Sarjapur Road  Whitefield\n",
              "0     -1.548931    1.679951  ...      -0.147430   -0.165281\n",
              "1     -1.548931   -0.595255  ...      -0.147430   -0.165281\n",
              "2     -1.548931    1.679951  ...       6.782894   -0.165281\n",
              "3      0.645606   -0.595255  ...      -0.147430   -0.165281\n",
              "4      0.645606   -0.595255  ...      -0.147430   -0.165281\n",
              "\n",
              "[5 rows x 6667 columns]"
            ]
          },
          "metadata": {
            "tags": []
          },
          "execution_count": 56
        }
      ]
    },
    {
      "cell_type": "code",
      "metadata": {
        "id": "ZBd-I0ohdxv_",
        "colab_type": "code",
        "outputId": "69740ad3-99c9-4339-d40a-006d71928ee4",
        "colab": {
          "base_uri": "https://localhost:8080/",
          "height": 100
        }
      },
      "source": [
        "X.info()"
      ],
      "execution_count": 57,
      "outputs": [
        {
          "output_type": "stream",
          "text": [
            "<class 'pandas.core.frame.DataFrame'>\n",
            "RangeIndex: 18427 entries, 0 to 18426\n",
            "Columns: 6667 entries, online_order to Whitefield\n",
            "dtypes: float64(6667)\n",
            "memory usage: 937.3 MB\n"
          ],
          "name": "stdout"
        }
      ]
    },
    {
      "cell_type": "markdown",
      "metadata": {
        "id": "ZtL9U79TBb2_",
        "colab_type": "text"
      },
      "source": [
        "**Converting the type of rates column**<br>\n",
        "Rates column is our targeted variable."
      ]
    },
    {
      "cell_type": "code",
      "metadata": {
        "id": "035pqFVDr9Ji",
        "colab_type": "code",
        "outputId": "c94228d1-a2b7-48f3-d47b-81410e227cef",
        "colab": {
          "base_uri": "https://localhost:8080/",
          "height": 217
        }
      },
      "source": [
        "Y = new_df['rates']\n",
        "Y = Y.astype(float)\n",
        "Y"
      ],
      "execution_count": 58,
      "outputs": [
        {
          "output_type": "execute_result",
          "data": {
            "text/plain": [
              "1        4.6\n",
              "3        4.3\n",
              "7        3.9\n",
              "9        3.6\n",
              "11       3.8\n",
              "        ... \n",
              "41350    3.7\n",
              "41357    3.7\n",
              "41359    4.0\n",
              "41360    3.9\n",
              "41368    3.8\n",
              "Name: rates, Length: 18427, dtype: float64"
            ]
          },
          "metadata": {
            "tags": []
          },
          "execution_count": 58
        }
      ]
    },
    {
      "cell_type": "markdown",
      "metadata": {
        "id": "0t2lw5tqt0fO",
        "colab_type": "text"
      },
      "source": [
        "## **Model Building**"
      ]
    },
    {
      "cell_type": "markdown",
      "metadata": {
        "id": "rLGpeycst6EX",
        "colab_type": "text"
      },
      "source": [
        "### **Train test split**<br>\n",
        "Split the data into train and test data. Using the **train_test_split** method.\n"
      ]
    },
    {
      "cell_type": "code",
      "metadata": {
        "id": "3GmT9v72ugHu",
        "colab_type": "code",
        "outputId": "dd2627b1-8465-4b87-f5c1-1b709528301f",
        "colab": {
          "base_uri": "https://localhost:8080/",
          "height": 937
        }
      },
      "source": [
        "from sklearn.model_selection import train_test_split\n",
        "\n",
        "X_train, X_test, y_train, y_test = train_test_split(X, Y, test_size = 0.05, random_state = 0)\n",
        "print(X_train)\n",
        "print('*'*50)\n",
        "print(X_test)\n",
        "print('*'*50)\n",
        "print(y_train)\n",
        "print('*'*50)\n",
        "print(y_test)\n",
        "\n"
      ],
      "execution_count": 59,
      "outputs": [
        {
          "output_type": "stream",
          "text": [
            "       online_order  book_table  ...  Sarjapur Road  Whitefield\n",
            "7750      -1.548931   -0.595255  ...       -0.14743   -0.165281\n",
            "13967     -1.548931    1.679951  ...       -0.14743   -0.165281\n",
            "9002       0.645606    1.679951  ...       -0.14743   -0.165281\n",
            "13250      0.645606    1.679951  ...       -0.14743   -0.165281\n",
            "5116       0.645606   -0.595255  ...       -0.14743   -0.165281\n",
            "...             ...         ...  ...            ...         ...\n",
            "9225       0.645606   -0.595255  ...       -0.14743   -0.165281\n",
            "13123     -1.548931   -0.595255  ...       -0.14743   -0.165281\n",
            "9845      -1.548931   -0.595255  ...       -0.14743   -0.165281\n",
            "10799      0.645606    1.679951  ...       -0.14743   -0.165281\n",
            "2732       0.645606   -0.595255  ...       -0.14743   -0.165281\n",
            "\n",
            "[17505 rows x 6667 columns]\n",
            "**************************************************\n",
            "       online_order  book_table  ...  Sarjapur Road  Whitefield\n",
            "3256       0.645606   -0.595255  ...       -0.14743   -0.165281\n",
            "2984      -1.548931   -0.595255  ...       -0.14743   -0.165281\n",
            "3169       0.645606   -0.595255  ...       -0.14743   -0.165281\n",
            "9281      -1.548931    1.679951  ...       -0.14743   -0.165281\n",
            "1050       0.645606   -0.595255  ...       -0.14743    6.050299\n",
            "...             ...         ...  ...            ...         ...\n",
            "4399       0.645606   -0.595255  ...       -0.14743   -0.165281\n",
            "18368     -1.548931   -0.595255  ...       -0.14743   -0.165281\n",
            "7732       0.645606   -0.595255  ...       -0.14743   -0.165281\n",
            "5601       0.645606   -0.595255  ...       -0.14743   -0.165281\n",
            "13104     -1.548931    1.679951  ...       -0.14743   -0.165281\n",
            "\n",
            "[922 rows x 6667 columns]\n",
            "**************************************************\n",
            "17385    4.2\n",
            "31376    4.0\n",
            "20193    3.5\n",
            "29767    4.2\n",
            "11525    3.5\n",
            "        ... \n",
            "20688    3.9\n",
            "29455    3.8\n",
            "22035    4.1\n",
            "24148    4.2\n",
            "6100     3.6\n",
            "Name: rates, Length: 17505, dtype: float64\n",
            "**************************************************\n",
            "7275     3.8\n",
            "6670     4.0\n",
            "7094     4.0\n",
            "20817    3.6\n",
            "2288     3.5\n",
            "        ... \n",
            "9861     3.7\n",
            "41227    3.8\n",
            "17347    3.9\n",
            "12608    4.0\n",
            "29406    4.1\n",
            "Name: rates, Length: 922, dtype: float64\n"
          ],
          "name": "stdout"
        }
      ]
    },
    {
      "cell_type": "markdown",
      "metadata": {
        "id": "S09fZOEwDzCM",
        "colab_type": "text"
      },
      "source": [
        "## Linear Regression"
      ]
    },
    {
      "cell_type": "code",
      "metadata": {
        "id": "HmuruGCRD2z8",
        "colab_type": "code",
        "outputId": "ae449ac5-7341-493f-ea20-357ab116b664",
        "colab": {
          "base_uri": "https://localhost:8080/",
          "height": 117
        }
      },
      "source": [
        "from sklearn.linear_model import LinearRegression\n",
        "from sklearn.metrics import r2_score\n",
        "\n",
        "lr = LinearRegression()\n",
        "lr.fit(X_train,y_train)\n",
        "y_pred = lr.predict(X_test)\n",
        "\n",
        "print('Linear Regression coefficients of Linear model: {}'.format(lr.coef_))\n",
        "print('Linear Regression intercept of Linear model: {}'.format(lr.intercept_))\n",
        "\n",
        "print('R-Squared score on training data: {:.3f}'.format(lr.score(X_train,y_train)))\n",
        "print('R-Squared score on test data: {:.3f}'.format(lr.score(X_test,y_test)))\n",
        "\n",
        "print('r2_score : {:.3f}'.format(r2_score(y_test,y_pred)))\n",
        "\n"
      ],
      "execution_count": 60,
      "outputs": [
        {
          "output_type": "stream",
          "text": [
            "Linear Regression coefficients of Linear model: [ 1.72769900e-15  5.20417043e-17 -2.19269047e-15 ... -1.65025496e-03\n",
            " -1.26668140e-03 -1.41233991e-03]\n",
            "Linear Regression intercept of Linear model: 3.9054523669367858\n",
            "R-Squared score on training data: 1.000\n",
            "R-Squared score on test data: 0.884\n",
            "r2_score : 0.884\n"
          ],
          "name": "stdout"
        }
      ]
    },
    {
      "cell_type": "markdown",
      "metadata": {
        "id": "4LxtLWkI0lpS",
        "colab_type": "text"
      },
      "source": [
        "### Visualization of Linear Regression Model"
      ]
    },
    {
      "cell_type": "code",
      "metadata": {
        "id": "5t-DDzCiuQXz",
        "colab_type": "code",
        "outputId": "971f5fa1-c0b9-416f-8731-b9a57e314f4f",
        "colab": {
          "base_uri": "https://localhost:8080/",
          "height": 296
        }
      },
      "source": [
        "import seaborn as sns\n",
        "\n",
        "ax1 = sns.distplot(y_test, hist=False, color=\"r\", label=\"Actual Value\")\n",
        "sns.distplot(y_pred, hist=False, color=\"b\", label=\"Fitted Values\" , ax=ax1)"
      ],
      "execution_count": 0,
      "outputs": [
        {
          "output_type": "execute_result",
          "data": {
            "text/plain": [
              "<matplotlib.axes._subplots.AxesSubplot at 0x7f4e6e551828>"
            ]
          },
          "metadata": {
            "tags": []
          },
          "execution_count": 84
        },
        {
          "output_type": "display_data",
          "data": {
            "image/png": "[encoded data removed]",
            "text/plain": [
              "<Figure size 432x288 with 1 Axes>"
            ]
          },
          "metadata": {
            "tags": []
          }
        }
      ]
    },
    {
      "cell_type": "markdown",
      "metadata": {
        "id": "AYKhZFh51J2n",
        "colab_type": "text"
      },
      "source": [
        "## Ridge Regression"
      ]
    },
    {
      "cell_type": "code",
      "metadata": {
        "id": "xapettAruO1X",
        "colab_type": "code",
        "outputId": "eec5e7d4-a07e-41d6-9e30-401bd69473d1",
        "colab": {
          "base_uri": "https://localhost:8080/",
          "height": 823
        }
      },
      "source": [
        "from sklearn.linear_model import Ridge\n",
        "\n",
        "for this_alpha in [0.001,0.01,0.1,1.0,10.0,100.0]:\n",
        "  RR = Ridge(alpha = this_alpha)\n",
        "  RR.fit(X_train, y_train)\n",
        "\n",
        "  y_pred_RR = RR.predict(X_test)\n",
        "\n",
        "  print('For alpha : {}'.format(this_alpha))\n",
        "\n",
        "  print('Ridge Regression coefficients of Linear model: {}'.format(RR.coef_))\n",
        "  print('Ridge Regression intercept of Linear model: {}'.format(RR.intercept_))\n",
        "\n",
        "  print('R-Squared score on training data: {:.3f}'.format(RR.score(X_train,y_train)))\n",
        "  print('R-Squared score on test data: {:.3f}'.format(RR.score(X_test,y_test)))\n",
        "\n",
        "  print('r2_score : {:.3f}'.format(r2_score(y_test,y_pred_RR)))\n",
        "  print('*'*50)\n"
      ],
      "execution_count": 0,
      "outputs": [
        {
          "output_type": "stream",
          "text": [
            "For alpha : 0.001\n",
            "Ridge Regression coefficients of Linear model: [ 1.99095803e-07  6.99149627e-08  5.34304945e-07 ...  1.83584202e-08\n",
            "  1.41346969e-09 -1.66254397e-08]\n",
            "Ridge Regression intercept of Linear model: 3.904976391659445\n",
            "R-Squared score on training data: 1.000\n",
            "R-Squared score on test data: 1.000\n",
            "r2_score : 1.000\n",
            "**************************************************\n",
            "For alpha : 0.01\n",
            "Ridge Regression coefficients of Linear model: [ 1.99091929e-06  7.01027046e-07  5.32985108e-06 ...  1.85596240e-07\n",
            "  1.56254487e-08 -1.64630102e-07]\n",
            "Ridge Regression intercept of Linear model: 3.904976376636914\n",
            "R-Squared score on training data: 1.000\n",
            "R-Squared score on test data: 1.000\n",
            "r2_score : 1.000\n",
            "**************************************************\n",
            "For alpha : 0.1\n",
            "Ridge Regression coefficients of Linear model: [ 1.99044506e-05  7.19687562e-06  5.21004675e-05 ...  1.85937065e-06\n",
            "  1.53579593e-07 -1.65286821e-06]\n",
            "Ridge Regression intercept of Linear model: 3.9049762268881776\n",
            "R-Squared score on training data: 1.000\n",
            "R-Squared score on test data: 1.000\n",
            "r2_score : 1.000\n",
            "**************************************************\n",
            "For alpha : 1.0\n",
            "Ridge Regression coefficients of Linear model: [ 1.98091964e-04  8.89889721e-05  4.57674985e-04 ...  1.88248011e-05\n",
            "  1.25777519e-06 -1.70841096e-05]\n",
            "Ridge Regression intercept of Linear model: 3.9049747767558056\n",
            "R-Squared score on training data: 1.000\n",
            "R-Squared score on test data: 1.000\n",
            "r2_score : 1.000\n",
            "**************************************************\n",
            "For alpha : 10.0\n",
            "Ridge Regression coefficients of Linear model: [ 1.81081284e-03  1.57849188e-03  3.29597645e-03 ...  1.84129559e-04\n",
            " -1.62833351e-06 -1.91342847e-04]\n",
            "Ridge Regression intercept of Linear model: 3.904963027387519\n",
            "R-Squared score on training data: 1.000\n",
            "R-Squared score on test data: 1.000\n",
            "r2_score : 1.000\n",
            "**************************************************\n",
            "For alpha : 100.0\n",
            "Ridge Regression coefficients of Linear model: [ 0.0086766   0.0118313   0.01482861 ...  0.00085598 -0.00010236\n",
            " -0.00146344]\n",
            "Ridge Regression intercept of Linear model: 3.9049056530959967\n",
            "R-Squared score on training data: 0.999\n",
            "R-Squared score on test data: 0.994\n",
            "r2_score : 0.994\n",
            "**************************************************\n"
          ],
          "name": "stdout"
        }
      ]
    },
    {
      "cell_type": "code",
      "metadata": {
        "id": "gzgUO1C6iIzK",
        "colab_type": "code",
        "outputId": "36735886-e550-4663-e012-78a580e7e0d8",
        "colab": {
          "base_uri": "https://localhost:8080/",
          "height": 296
        }
      },
      "source": [
        "import seaborn as sns\n",
        "\n",
        "ax1 = sns.distplot(y_test, hist=False, color=\"r\", label=\"Actual Value\")\n",
        "sns.distplot(y_pred_RR, hist=False, color=\"b\", label=\"Fitted Values\" , ax=ax1)"
      ],
      "execution_count": 0,
      "outputs": [
        {
          "output_type": "execute_result",
          "data": {
            "text/plain": [
              "<matplotlib.axes._subplots.AxesSubplot at 0x7f4e6fde22e8>"
            ]
          },
          "metadata": {
            "tags": []
          },
          "execution_count": 86
        },
        {
          "output_type": "display_data",
          "data": {
            "image/png": "[encoded data removed]",
            "text/plain": [
              "<Figure size 432x288 with 1 Axes>"
            ]
          },
          "metadata": {
            "tags": []
          }
        }
      ]
    },
    {
      "cell_type": "markdown",
      "metadata": {
        "id": "ifrhH6ouzOqU",
        "colab_type": "text"
      },
      "source": [
        "## Random Forest Regressor"
      ]
    },
    {
      "cell_type": "code",
      "metadata": {
        "id": "tVW-Qvmfv3rg",
        "colab_type": "code",
        "outputId": "ad418426-a0c4-405c-d7b0-8e17347dd6b2",
        "colab": {
          "base_uri": "https://localhost:8080/",
          "height": 84
        }
      },
      "source": [
        "from sklearn.ensemble import RandomForestRegressor\n",
        "\n",
        "rf_reg = RandomForestRegressor(n_estimators = 10, random_state = 0)\n",
        "rf_reg.fit(X_train, y_train)\n",
        "\n",
        "y_pred_rf = rf_reg.predict(X_test)\n",
        "\n",
        "print('R-Squared score on training data: {:.3f}'.format(rf_reg.score(X_train,y_train)))\n",
        "print('R-Squared score on test data: {:.3f}'.format(rf_reg.score(X_test,y_test)))\n",
        "\n",
        "print('r2_score : {:.3f}'.format(r2_score(y_test,y_pred_rf)))\n",
        "print('*'*50)\n",
        "\n"
      ],
      "execution_count": 0,
      "outputs": [
        {
          "output_type": "stream",
          "text": [
            "R-Squared score on training data: 1.000\n",
            "R-Squared score on test data: 1.000\n",
            "r2_score : 1.000\n",
            "**************************************************\n"
          ],
          "name": "stdout"
        }
      ]
    },
    {
      "cell_type": "code",
      "metadata": {
        "id": "JGmf4Bhkzp2w",
        "colab_type": "code",
        "outputId": "10973927-3f2a-45ab-8982-815958aa1004",
        "colab": {
          "base_uri": "https://localhost:8080/",
          "height": 296
        }
      },
      "source": [
        "import seaborn as sns\n",
        "\n",
        "ax1 = sns.distplot(y_test, hist=False, color=\"r\", label=\"Actual Value\")\n",
        "sns.distplot(y_pred_rf, hist=False, color=\"b\", label=\"Fitted Values\" , ax=ax1)"
      ],
      "execution_count": 0,
      "outputs": [
        {
          "output_type": "execute_result",
          "data": {
            "text/plain": [
              "<matplotlib.axes._subplots.AxesSubplot at 0x7f4e6fd1e240>"
            ]
          },
          "metadata": {
            "tags": []
          },
          "execution_count": 88
        },
        {
          "output_type": "display_data",
          "data": {
            "image/png": "[encoded data removed]",
            "text/plain": [
              "<Figure size 432x288 with 1 Axes>"
            ]
          },
          "metadata": {
            "tags": []
          }
        }
      ]
    },
    {
      "cell_type": "markdown",
      "metadata": {
        "id": "uikCERRpB0Dt",
        "colab_type": "text"
      },
      "source": [
        "## **Model Selection and Evaluation**"
      ]
    },
    {
      "cell_type": "code",
      "metadata": {
        "id": "9VMWuEAEDJem",
        "colab_type": "code",
        "outputId": "79da6c02-0c5f-4dde-d2ea-973d4f87a65e",
        "colab": {
          "base_uri": "https://localhost:8080/",
          "height": 136
        }
      },
      "source": [
        "score = pd.DataFrame({'Training Score': [lr.score(X_train,y_train), RR.score(X_train,y_train), rf_reg.score(X_train,y_train)], \n",
        "                      'Test Score':[lr.score(X_test,y_test), RR.score(X_test,y_test), rf_reg.score(X_test,y_test)]}, \n",
        "                     index = ['Linear Regression','Ridge Regression','Random Forest Regressor'])\n",
        "score"
      ],
      "execution_count": 0,
      "outputs": [
        {
          "output_type": "execute_result",
          "data": {
            "text/html": [
              "<div>\n",
              "<style scoped>\n",
              "    .dataframe tbody tr th:only-of-type {\n",
              "        vertical-align: middle;\n",
              "    }\n",
              "\n",
              "    .dataframe tbody tr th {\n",
              "        vertical-align: top;\n",
              "    }\n",
              "\n",
              "    .dataframe thead th {\n",
              "        text-align: right;\n",
              "    }\n",
              "</style>\n",
              "<table border=\"1\" class=\"dataframe\">\n",
              "  <thead>\n",
              "    <tr style=\"text-align: right;\">\n",
              "      <th></th>\n",
              "      <th>Training Score</th>\n",
              "      <th>Test Score</th>\n",
              "    </tr>\n",
              "  </thead>\n",
              "  <tbody>\n",
              "    <tr>\n",
              "      <th>Linear Regression</th>\n",
              "      <td>1.000000</td>\n",
              "      <td>0.883674</td>\n",
              "    </tr>\n",
              "    <tr>\n",
              "      <th>Ridge Regression</th>\n",
              "      <td>0.999226</td>\n",
              "      <td>0.993930</td>\n",
              "    </tr>\n",
              "    <tr>\n",
              "      <th>Random Forest Regressor</th>\n",
              "      <td>1.000000</td>\n",
              "      <td>1.000000</td>\n",
              "    </tr>\n",
              "  </tbody>\n",
              "</table>\n",
              "</div>"
            ],
            "text/plain": [
              "                         Training Score  Test Score\n",
              "Linear Regression              1.000000    0.883674\n",
              "Ridge Regression               0.999226    0.993930\n",
              "Random Forest Regressor        1.000000    1.000000"
            ]
          },
          "metadata": {
            "tags": []
          },
          "execution_count": 89
        }
      ]
    },
    {
      "cell_type": "markdown",
      "metadata": {
        "id": "ncr6zcczUuEs",
        "colab_type": "text"
      },
      "source": [
        "**Observation-** From the above DataFrame it is very clear that the training score and test score for Random forest regressor model is 100%. Random Forest model does not show any error.<br>\n",
        "* Random Forest Regressor model is the best fit for this data."
      ]
    },
    {
      "cell_type": "markdown",
      "metadata": {
        "id": "mqguhYunW1wb",
        "colab_type": "text"
      },
      "source": [
        "## **Random Forest Regressor**"
      ]
    },
    {
      "cell_type": "code",
      "metadata": {
        "id": "1wMv_N54W0nU",
        "colab_type": "code",
        "outputId": "96c75c1c-85c4-40cb-8327-9938bc593840",
        "colab": {
          "base_uri": "https://localhost:8080/",
          "height": 84
        }
      },
      "source": [
        "from sklearn.ensemble import RandomForestRegressor\n",
        "\n",
        "rf_reg = RandomForestRegressor(n_estimators = 10, random_state = 0)\n",
        "rf_reg.fit(X_train, y_train)\n",
        "\n",
        "y_pred_rf = rf_reg.predict(X_test)\n",
        "\n",
        "print('R-Squared score on training data: {:.3f}'.format(rf_reg.score(X_train,y_train)))\n",
        "print('R-Squared score on test data: {:.3f}'.format(rf_reg.score(X_test,y_test)))\n",
        "\n",
        "print('r2_score : {:.3f}'.format(r2_score(y_test,y_pred_rf)))\n",
        "print('*'*50)\n"
      ],
      "execution_count": 61,
      "outputs": [
        {
          "output_type": "stream",
          "text": [
            "R-Squared score on training data: 1.000\n",
            "R-Squared score on test data: 1.000\n",
            "r2_score : 1.000\n",
            "**************************************************\n"
          ],
          "name": "stdout"
        }
      ]
    },
    {
      "cell_type": "markdown",
      "metadata": {
        "id": "Y7Myb3HLVnp1",
        "colab_type": "text"
      },
      "source": [
        "Let us find **Root Mean Squared Error** on Random Forest Regressor Model.<br>\n",
        "![image.png](data:image/png;base64,iVBORw0KGgoAAAANSUhEUgAAAn4AAACwCAYAAACRrWONAAAgAElEQVR4Ae2dBxgUxf3+I4oNe0GjWGJXghrFAArEghUUjSURW0BFxZqoCcYk9qhobNiNsRsVsWCLWEBRsUZQLFgwtth7TSzzez7z/89lbm9vb/dub29v753nuWf37nZnZ96ZnXnn2+YHRkkICAEhIASEgBAQAkKgIxD4QUfUUpUUAkJACAgBISAEhIAQMCJ+6gRCQAgIASEgBISAEOgQBET8OqShVU0hIASEgBAQAkJACIj4qQ8IASEgBISAEBACQqBDEBDx65CGVjWFgBAQAkJACAgBISDipz4gBISAEBACQkAICIEOQUDEr0MaWtUUAkJACAgBISAEhICIn/qAEBACHYHAd999Zz744APz4osvmsmTJ5v777/fvPnmm+b7778vq/9///tf+/vDDz9sHnroIfPJJ5+U/a8vQkAICIF2RkDEr51bT2UXAkIgFgJffvmlueGGG8zuu+9ufvazn5mVVlrJLLfccmaHHXYw06ZNs3l89dVXlgz++c9/NltssYVZddVVzSqrrGJGjx5t3n333VjP0UVCQAgIgbwjIOKX9xZS+YRAigggzXrjjTfM448/bp577jkDIeqE9P7775t99tnH/OAHP6j4nHDCCWbWrFnmwgsvNKuttpqZbbbZyq6Za665zDnnnFMhGewE3FRHISAEioeAiF/x2lQ1EgKhCKDiRJrVv39/s+yyy5rddtvNvPXWW6HXFu1H1Ll33XWXleIFyd+gQYPMqFGjzIorrmh69Ohh5p9//jLix/W77LKL+fbbb4sGi+ojBIRAByIg4teBja4qdw4C2LXNmDHDnHLKKaZfv35lhKZPnz4dQ/xo8bfffttsvvnmZRg4EjjPPPOYfffd10yaNMkcd9xxZt555y277he/+EXndBrVVAgIgUIjIOJX6OZV5ToZgXfeecdcdNFFZt111zVdunQpIzIQHiR/XNMpCeI3cODAChzAZsSIEZYgI9W77777TPfu3cuuO+CAAzoFJtVTCAiBgiMg4lfwBlb1Og8B7PjwWt1+++0rJFdOwsVxgw02MK+//nrHAPTII49YFbePQdeuXc1+++1n7R1RB/OZOnWq+eEPf1gift26dTM33nhjx+CkigoBIVBsBET8it2+ql0HIQBpIVzJlClTrCfqkCFDzNJLL10iMD7h4bxnz57mmWee6RiEkH4GHTd69+5tnnjiiRIGqMbHjx9vFlxwwRJuOHzMnDmzdI1OhIAQEALtjICIXzu3nsouBDwEiDd3yy23WCLz8ssv23h148aNM6uvvnqJxPjkb/HFFzfEquuE9PXXX5tDDz20DAekfdjzffjhhyUIuO6II44oI4iEdukkyWgJDJ0IASFQSARE/ArZrKpUJyKAive9994r8z6FyBx00EFlhMeRvznmmMPGtusErF599VVr0+jqznHttde2Kl6//ng54+XrrsPp49RTT+2YsDc+FjoXAkKgmAiI+BWzXVUrIWARQHU5duzYUOeOxRZbzNxxxx0dgRSSz4UXXrhE6CB2+++/vyFos5+QgBLWxRG/lVde2Tz66KP+JToXAkJACLQ1AiJ+bd18KrwQiEYAuz+8VInb58iMOxKy5Oabb47OoAD/4rm8zTbblNWful922WUVtbvyyivN3HPPXbp2u+2205ZtFSjpByEgBNoZARG/dm49lV0IxECAHTrWWmutEplxxG/JJZc0DzzwQIwc2vuSp556yiyxxBJl9SemIb8H05gxY8quO+aYYwwqdCUhIASEQFEQEPErSkuqHkKgCgI4emDP5gifO7IPbRj5qZJN2/6Ml/MCCyxQqj+hWvDc/eabb8rqRAy/vffeu3TdfPPNZ6699lrrKf3RRx9VXF92s74IASEgBNoEARG/NmkoFVMI1IvAk08+aZZbbrkSoXHEb5lllim8/Rrk7thjjy3z0h05cmSFbR/Yfvrpp2bAgAElnLCBvOCCC+wevqeddpp56aWX6m0C3ScEhIAQyA0CIn65aQoVRAg0B4EHH3ywQtUJ+VtooYXMvffe25yH5iRXQtzsuuuuJTKHbR92fGEJj+hevXqVrsXreZ111rGfE0880bz77rtht+k3ISAEhEBbISDi11bNpcIKgeQIIPHr0aNHidA4iR8k6KabbkqeYRvdQUDrYcOG2brPPvvs5pe//GXVmHxI/IJ7+S6//PJ2n2PyURICQkAIFAEBEb8itKLqIAQiEJg1a1ZoEGckWpdeemnEne3/F+Fs8GomePPxxx9vwKJawgP66quvNoRwwbO3b9++5h//+IchDyUhIASEQFEQEPErSkuqHkKgCgIzZswIlfgh+bvwwgur3FWsn/HMjUPguG7atGl2b15wUxICQkAIFA0BEb+itajqIwQCCEycOLEieDGkr1u3buaaa64JXK2vQkAICAEhUGQERPyK3LqqmxAwxu7OMf/881fY+EH8CGuiJASEgBAQAp2DgIhf57S1atqhCDz22GOG0CTOqcMdu3TpYq666qoORUXVFgJCQAh0JgIifp3Z7qp1ByEA8QvuXOHIX6fY+HVQc6uqQkAICIFIBET8IuHRn0Kg/RGA+C266KIVEj/Uv0UP59L+racaCAEhIATSRUDEL108lZsQyB0C06dPNz/60Y8qiN/CCy9sbr/99tyVVwUSAkJACAiB5iEg4tc8bJWzEMgFAs8995xZc801K4jfXHPNZW699dZclFGFEAJCQAgIgWwQEPHLBmc9RQi0DIFXXnnF9O7du4L4oeq95557WlYuPVgICAEhIASyR0DEL3vM9UQhkCkCqHqXXnrpCuK31FJLmSlTpmRaFj1MCAgBISAEWouAiF9r8dfThUDTEcCBY84556wgfssuu6yIX9PR1wOEgBAQAvlCQMQvX+2h0giB1BG44IILKkgf4VzYj/aGG25I/XnKUAgIASEgBPKLgIhffttGJRMCqSAwYcKEUIlf165dtXNHKggrEyEgBIRA+yAg4tc+baWSCoG6EMCrd/nll6+Q+i2zzDJm6tSpdeWpm4SAEBACQqA9ERDxa892U6mFQGwEXn31VbPOOutUEL/111/fvPHGG7Hz0YVCQAgIASHQ/giI+LV/G6oGQiASAchdnz59KogfZBBpoJIQEAJCQAh0DgIifp3T1qpphyLw+uuvm/XWW6+C+PXr18+8/PLLHYqKqi0EhIAQ6EwERPw6s91V6w5C4JlnnjErrbRSBfHr37+/ee211zoICVVVCAgBISAERPzUB4RAwRF47LHHDI4chHDxP6h6H330UfP9998XHAFVTwgIASEgBBwCIn4OCR2FQEERQOK3+uqrl5E+COAqq6xiHn744YLWWtUSAkJACAiBMARE/MJQ0W9CoEAIzJgxw/zoRz+qIH5s4zZ58uTc1/Trr782n3/+ufniiy/MRx99ZL788kvz3//+13zzzTf2+Mknn5j33nvP/Pvf/zYvvfSS/WDX+M4775j333/fvPnmm9Z7+a233rK/4ezyr3/9y6q5ue/jjz+2+X/22WeGvD744APzwgsvGCSlHLn/3Xfftdfx/4cffmjzJW9+53/y43mUSUkICAEhUA8C3377rR1bZs2aZcesTz/91PBb2knEL21ElZ8QyBkCEJgllliigvgttthi5h//+EfOSlteHIgWO48cccQR5uCDDza/+MUvzEEHHWT+8Ic/mGOOOcYcffTRZu+99za77bab+eUvf2k23XRTM2jQILPVVlvZ3/bZZx+z44472vv23Xdfw2frrbc2AwcONJtssonZddddzciRI82BBx5oDjvsMJvXTjvtZHB8WXXVVc26665rNt98c3PAAQfY5//qV78yO++8s/3svvvuNt/NNtvMbLzxxmaXXXYx48aNE/krb0J9EwJCoAYCLDofeOABc9xxx5ltt93WYH+9/fbbm0MOOcRcdtlldlFZI4tEf4v4JYJLFwuB9kOAbdnYns237+N8rrnmskQlzzVC0rfHHntUlD1Yl7x8x3tasRHz3KNUNiGQHwTQUjA+//rXv7YLzbBxbKGFFjIsMm+//XYDQUwjifilgaLyEAI5RQA1JhKysAGF35CWzZw50/znP//JaQ2MmTJlill55ZWr1qFa3Vrx+5JLLmmefvrp3GKpggkBIZAPBJ588km7qO3WrZsd22affXYzzzzzmC5duoSOdSussIK56qqrUim8iF8qMCoTIZAvBL777juDnQgq0gUXXDB0IIEYMdAcfvjh1pYtXzX4X2moy/nnnx8qtaxF7uabbz6z1FJLmTXWWMPGMuzZs6dZbbXVzFprrWX69u1rNthgA6v23Wijjew5u5mg5kXFi/MLn969e5u11147EkdXjvnnn9/cc889/yu8zoSAEBACAQSw2zvqqKPMbLPNZpZbbjmz1157mYsvvthcccUV5thjj7VqXhaRblxxx169etlIDIHsEn8V8UsMmW4QAvlFAMnd448/bs444wwzePBg07Vr14rBww0i7ogaeNiwYWbChAk2oHMepX84dqAOYVXsyl3rCLE7++yzrTobqeG0adPMI488Yh566CEzffp08+KLL1oHD9QtOGbgEML2dnz4Dxz5cI5U9NZbbzUnnXSSJYFRz+aaZhhk57fXqWRCQAgkQYDxBpvkLbfc0owfP946pjnHMMZfnM4uv/xy071794rxDtMXnNwaSSJ+jaCne4VAjhDAa/XII480yy+/vF1JRpGTsP+QjuGkcNNNN+WoVv8rCh60Sez9cOB48MEHrZdumkQML+kxY8aEDsrginNIowPz/2qtMyEgBIqGwKRJkwyOZyy2cWALS9g3jxgxooL4EZOVBWwjScSvEfQC9xIIlwmGo/sELtFXIdA0BFDt4oE655xzmjnmmMNgO4Kad4EFFrBevQwYqBWI6YcKs0ePHuaHP/yhWXbZZa06lPAu3H/LLbc0rYyNZowE7sc//nHFYBhGZJFk4vWLJC9N4kcdeL/PPPNMA1kOPvtnP/uZDfHSaF11vxAQAsVDgLHooosuMuedd54NBxVVw7vvvrsiBitOeX/7298aGtPqJn6saBlQiXOFkeITTzxh1SFIHYhzRVyru+66yzJT4mK1IiE6dfG9EK1SNmJucXSxu7766qtSTDAnak1SViYAMMDjBrUS+nnCTBx//PHm3HPPtWomVEuok7BVCiZikhFg96mnnooMA8FzEAETv4x7yA+c3W/UB29C6kZdif9D/DOupY6oyriGDysM2g8JCh/aEdLA59lnn7Vt+fzzz9s25D7y4VmsQJTyiwD9CxUmErtrrrnG9r1rr73WXH311XZlySqTkAHs1kGfpM8SzgWbtIkTJ1onCvpQ2iQpbcQIb4AtXZBwhX2H7LKqbkadeMewoQyqn7HD4f1p58R7z9gZNma1c71UdiEQRID5kZiczK1ZJMaiqVOnWhOSWs9jrt5vv/3KxjoW9fAL5vJ6U2LiB0ngocSuQnKAtACpAR++Yxy9xRZbmD59+lhVCMbUqGcgNlkmgCUGztChQ60UA3snyozdDx/ifaFf32GHHayrNO7SGLlDYmslBkNwuPHGG83o0aNLht80SHDymXfeec3iiy9un8m11113nd0tAQIKMcZuiYlizTXXtJ0h7Nkvv/yy+d3vfmfjkuGFSSwzjNKpA3HIMAzlN2KXUc9tttnG2mwRc4zYYsOHD7f2BPzPZ7vttrP1xqAdLDB8Zy9XpEFIgZgsf/rTn9p4aC5mGVIM4gvheq7JIKyV9FtWCDDgHXroobHV2dgvMrA3I7Eg4r3w33veIewJ2zExrjFGMd4QP5FFn5IQaCYCCFx4P1loQMIgRgg6skrY7jJGEMcTCVueFr/gQcxSf3xZccUV7SK9kcVsYuKHRAF1kF+QOOd//OMfMxtEkIZhZxOnXO6ahRde2BKde++9N7K/sSqAsDHYV5M6kBc7JfBBLOuewRH1G2q2AQMGWFss/z+MOcMSAzEE27+2VeeQRcUpC2sl/ZYlAq+88oq1R4zzHqDqRkrYrMkESar/fuKNh1S13RKBvrEpIrA3Xs9MgkpCoJkIoGVC5QnxQiCBsGLUqFH2t7fffruZjy7l/c9//rPEaRBeITBCC5eHRNy+Pffcs2zuR1hVzS4wbpkTEz/YOcbN2LcggkSyh0tyrQH4Jz/5ibn//vubNvj6FWYgRnpVq0yoaJCOoZJlkENlW8ujEZUY4R2CeeN9Q6c94YQTrFQMldp9991ndfFIJ5CgIf0L3ud/P/nkk/1qlM5ZCbEqQa2EJxASRP++audch6H/IossYkkqUlmki0gLiYtGmAt+Q0KBfRd1YJIMqq78/Akmef311zdFdVaqsE6EQAwEbrvtNiud9vtntXPsAiE2zUiYQOy///6ld5JdUnj32yUxpqP2J4wN+GEjevrpp2e2UG8XnFTO9BDATII+x646Lo6d/+4iPGE3HbhG1IINMzK88BuRflErvPaJd8rcR/9nrkUr1+rEAhdhi8MGrC699NKGi5WY+PlPZMCALLENUpywEWyVhA1ZMxOiUcIp1CKjGH7/9re/TdS4lN0Njq4hOKIqxaYKe7kwNSi/YXeH1AFVuH+vf45aOqqzUTds84j1A1nz7w2e4515xx132GCyTELYcSGtZRXFagEbTFY6Dz/8cOkDWYVg0rFOOeUUq1oObvUFrqis5bXYzF6svOMgwHt15ZVX2oVNsP+HfWeSQRvQjHTnnXeaRRdd1L6TLKYa9bprRhnD8mQsIPQP5h1ghobiT3/6k+x5w8DSb6kggN05dsdh+4f77y1zDVuXYbMcFMhABjGnQD2LECoN+zzsWsmPMkCwsNdnTm9Vgl8xF/txWNFkpmG20hDxc4BgvxdFaFxj4gFXTZ3p8mr0yAohTCLnyuCOhHqAtMZNDJDY17n73ZH9PCFLYYQvLG9EyKxkkMK5PNwRAkn5ayVeAuxvkM65e/0jJByS2WjCfokX1Cd/EGakmvynJARajQCDI85UUVJq925gg8uipRkqJCYzpPE8C+IXx1a41dgx0bE3KEG8KTcYshhGGqMkBJqFAHMc9unuvax1ZFGCIAKHKeY+7E4hfdivo9XCwzWthHMke+RSJuZXxpZWvQ9wBWzrHT6YX6QVcSEV4gcpwjnCFTDqyMDSTO9QIvzHkT4CKOLduIkAsEEVK6rbv/zlL4mlX0jLLrnkEsMWLD5WEKzJkyfHKhKTF6sh/353jqg6DeJHQZjQMPR2EyurDySOaaywYlVUFwmBGgjwLqBNcP0/6oipwqmnnpranpd+0ZBMYB/Hh7AzeU68v0gT/AUoTmCYlSgJgWYhgEoWEsc7ihABE6ghQ4ZYdWaUFou5Fo0YZln0W+zcyAN7+bRNONCQkS/5I6yC/DVjsVgL4wsvvLC0WxHYEKEhLU1bKsQPaRd2bFEDrvsPqRYqxWYkIuxvsskmscpBJ0oyyP35z3+uyHedddaxqtQoG4Rq9QSzoNMGnRuVcZzEaj3o5u0wRl3z17/+NdI2Is4z3DXYP2IrSP5IOPM+qbly69g5CDBY0zfdOxB1xPni73//e4X6qFG0MOdgEoP45Vnih7QeKYmvaiPCQbPU4I3iqvuLg8Bzzz1nyR42txCb1157zZoeMRfjA0BEkKh3F+m0U31CHJFY4wCRZmJuxo4du3fKwnz6m9/8JjXSFaesjB9OsIMTKaHimPPTSqkQPwoDCw8LZxJsRK5hxR3U2TdaIUDBVsVJpoLPDX7HGDtuGbjOqXH8fAgPQ8etN9Fhid7t5xlXbM3Kic4QVl8mtjSNyxHN4xBCOSHWrbR7qBdr3VdsBHhHMUuI49RFP2bvXUI+pZlQO6NxwGHspZdeSjPr1PJikYo2wJf0sS9xu4afSQ0YZdR0BOh7kD2EP9U0UtjRx43IgfdvlE18IxVifiVsXZcuXey8h+QPfoGdfbMTns6EaWOcQnsH6USrmmZKjfihCnVM3CcyYefE9Uu7Ikj7GHDDnhf2G8QPNWacRGwr9OvBfLATZAXTSEJtSuO6vPGmi2svyEQXDBdDPhiZ1wpLk6TMtBUrK1ZYtF2aK48k5dC1QiAKAQZl1EhxTD14TxhQ045Tx5iCCUncRWVUfZrxH16QxPJ04w1HYolCWpWEQDMRYN7g/WQuibIRZxFC/NhqgiTmPAQxSUy16qkXBMwJPHhPCNmEJ3KjHsRRZcGeEHzcvI4dI/wj7ZQa8UP9F7ahsD/AuHMCELKHZlqJlQRqU8KTuGdgO7DhhhtW9e4lrmBcgoVLNasUl7c7Il1APB03n7D6IjH0CSteRXFsIKkz0sGwSQ6PpLgq47Ayhf2Gyzze0sQwVBICeUWAGJOEVarl1c87zHiRlrF0XvHwy8WYgYrbl/axmOM3JSHQbASYJ3k/4+zkxXxz1FFHlTgFkjdCvBA/Fy9eolJkkXCi9OdYQqs0y2OfxRfzNuMS4xebMjRLc5Aa8UNE60ICOGIUdcSQGCabxkoTiZSvisWrl1Al48aNs/Y2YeUgTk9cBwVWFmH2QwygGFw2Kv5F5eQMWxFzxzHgZNXBfn++tNDVExsjtuJKO6XRVmmXSfkJAR8B+ijvk7OPce9EtSN2uhiHQ4qKnohigFrXxwKbqjiRBIqOjeqXPwSQniNhQwI2ZswYu/UiThaNCFqS1hJNYlDbh9Aoba0X4w/RQVZbbTUbSobdOpppUpUa8WNQYdsvN6iwu0eUyzbsnRhccaRbUY1FJ0CtSQgF92wahoQTSRgZZfWAp05cNQ9u5H7d3HNg5axAGo3yjVpo5MiRtvx4G8c1skbK6UTCrkwccRIhuK2SEOhEBHif2E7RHxP89yN4joSwFV57WbYN9sSMi776zI3BUWq3LMuoZwmBvCHAWEIIKH/MYFHJYimNxSL8BccWonnAmeAr2BbG5QD14pUa8YMZ++QIsMaPHx9pbI0eH5FuIwnjzt12263UMKiR8UJFmgf5cZ45fsNB/IhFF1dXz6BJWf083DliYAKexhFfR9WTLZ5+/vOfWxu6uFui3XzzzaUYXK48HCGkSDsbTQSKbFUMo0bLrvs7GwHe7aOPPjr0nfXfFc4x3GbXnEbf4TwjTjB3NAF+3YlX1kypQp7xUNmEQFwEJkyYULY9K8IWwsqkIfVDW0gYKILLs2Ud5ltoQqOkmoxT+BZAGOsln6kSP0iXIx4MpFTA38rIH3Q4J0DiVVddVbe6l8Ed8aizLYTQsaqFrMDUIT/uP//ZECMmhbiqXjqIiz3k5+POqQfxCZ9++umG1L4QPmz+4hLS0047LdSWCRwatdvBnRxHjrPOOqvu9on7Yuk6IdAMBLADIkyJe0+jjoRMOOeccwq50GESOfjgg8twwESEPVKVhEAzEYg7lzWzDI3mjdmYH/qIcWTQoEFW6hdXaxhWBkgfCzJs/AcPHmy5DGMWEnj+w4QNcofgCRw//vhju8sWnAqi+MQTT4RlG+u31Igfnjj+Dg9I1IhrhTqXFXW1QZdAjPWKNQHGqUjJn1hzOFu4hOTPd/hwZYAYQdS4P26C9YftKejy5Mgkg/NDGiuBOOWC+PnPd+fUr5q7fJx8mSjw9CM/ViFFloTEwUPXtC8CGGIPGDAg9D1x74s7YsvD1oYsGouU0IqwV7qrJ0dUSmk62AXxYlHN+IrWgOczgSVZaLv8MAViIixam7j6FfmIrTrCEIgTEiqIS5IE2WEupe1baV+OVrJPnz5l7w8LRZxMENTUI3WDMOLI0atXLyu8QX2MXR8CJkLeEIeX/LFvZJMInEzgOs7JdL311jNoWetNqRI/f2eLI4880rD9CQ0fFZQRrzJISj3gQbKcUwSDGQ4ekE2X8DQO7o7BdcS+w7kjCfFzgSf9wTPsvGfPnnaDc+wCkTxGiWxdOes9XnzxxaU4Q8GyIKmr99m4sa+55pq2ozNpvvzyy/UWUfcJgZYjQEzLMJOP4DvDdwIwNxqiqeUVDhQAVRITlV9fnDzSfq8ZwxlzmPAJU4XGgHAUhI9h73D2dGdv8LjJbW85YsQIa2d1ww03JCYPcZ+l6xpDwLU7RAj7N9r/gAMOsHb+9DUWVczPOGvEmZfoS4SIQwDBRgXkBU/ISqjiowFJwxnVf384J2pIkm1fXZ5I8KhLUIqIwAY1Mu8qQia4EaZkHPn4z8e8rRG75NSI3/Tp08skfuzkgf0IbB1m64cQ8CvAOQMDJDFJYgVw+OGHl8Agdh3SRT82H1LIlVdeuXSNey5qDoIxxumArkzkCwsPUx27fN2R/OkUSOQoA6vWZqxYgjEA3fM5jh07NjGZBg/IMCsN5zQCAWxkZeHwS/OI5ICXBykCRJ8Pq0mINkfaiv+RNiCt5JwBw60efckDq0pebPop9yGdAAOuoc0QuXM/eZMfL5vfx9Ksl/JqDgK0LTvv4PTkvyNh5zg/sPJOsihsTqnTyZV6QJyCdcVmOU70gLilYLHIeISEArJXbbzHGS6uXSHmQn65cdZhsZtk3I5bfl3XGAI4UmJmhYZo9dVXryAqrh3Z9CBOXDrG5KB5AtstNqLJaqSGxNd1dXBH4hYjfEqqzn7ooYcqPIVdnnGOSPvuvPPOxM/1658a8Zs0aZK12aPgDJ6ILB0gqHLRSVerFIMEq7kkLzSdBwBcnsS8CZJHRMy+w4m7lgkAkpg0QQDYdQSbPpdX1BHWjqcOBptpr64pO7sE+F56flmY6CBGtTBlZQWpQZxNGxLUlkCVLi/wy0O4B0gX6nbINGXcc8897QqSfkUIHCa3vfbayzr64KVJ5HP6BCsj1Po44OBwhCSa+FC8yHyOPfZYa4fKDip777233fOV1R2LChYvrDZ5Fr/xLCRCBx54YC4wSdp/O/l6xqC4+4mzuGvURjYvWGMzRHgr9z67I7v+pJUYQ7A34n065JBD7J6qYZoWns2uQnG2fGThxfvoyuuOSA4bkXSkVWflU44AzokIDGj/fv36VSX+kCXfHKs8l/99Y7HGAgDkZnAAACAASURBVMK1uzv27ds3sxh+/yuNsUTL12i68jCvJFVhs0hiLiI4NFvXEVIKnoBzJ/VDa8gHAs1czDk2hQcddJBdWGF/zzvXSEqN+CHVYx89AIFYXXLJJaVyUUjUDUjlHGDBI5M10haYfi2yAqHEccPZDvI8yFUQDOJzhRE/RKmsToPXlwoccYIEiEEzruqIejKRQCAmTpzYcPgaVzQwwI4SR5UglnxH0onkgpAv2C0hkeWD+BzVF6sOvJ6RYkKEWF0R9DqYF1ixHV89WLmypnG8/PLLTdiLFyxv3O+I1athFycPjHGLMgHxziHF9CWhfpvR9vzHQoIFFwugdkxMTs6EoVYbo57K8367cfFHbR3cxg71EeFu0kyM2fQjtBtI9MDaD0zv8OadQyhQKyFtD3MMZDyClLd6PKpV/k78nz7AOAKxYZHOYtlxAr/9EUrUmuNpXxbe7j53JD/m+mpjVbNwp05hsUGRYBI31Am54j6fMRRhEEIVYiAjeGF8RbuGeRy/cUSS+tRTT9lxl/crrZQa8aOAiGJpIGzo8JDzE2oFP+yKa0h3xDEDUhLnhQYwX4JIg4Rt30KDrLLKKhWdBzUmBpP1AkmnI1RN3EnEryMSJxq7UdUvOGEEGhbA2T2PI9JUBn6MSCkvhBDva47YRwZfTP9ezrEtwF4wacf22z6N86DaJ1jOrL+ziEGN3+yEGps4lYj22WUCIo+6i4UViymktCwomAwh8YT4YdIlLhTEngEY4s/7yfsA6ecaVCYsfriPRRttjPkD/Zr/8ZZHjYHXPf2MD5JOpKgcub4ZUuxm4sk7B2a+E1pUv0Etic1SOycWyEEVN+9/HKlbo/WGOIdJG4lVGtTOhD2L+YB5wW8j6oIZS9YTf1j59Ft1BJifsNFkgey3H+eQpTgOnYxtLlKIy4P5jHEua3MbFjTYrLpyuCPzKONn1uWpjny8f1Ilfn6cKFRoPqvnRUW9StBQB5p/ZBXK5FIrQdZg/Kz83P04aiCJCyYmS1QL7jr/iD0C4uRGElKzrbfeuqo9g/88/xwRL50FbzUfo6RlAS9Itp932ueotSEajRLVpHULXo/aHichJm1n9IragMUGfQECi9qbfsR3iBltjwEtLycTCAQYqSGDB6SXKOmI0ckT6TF1RTqLLRH3cy3ej4jbud7tRQ3mqA2b7e3MChCVM3Xg+bw71J2FCx/Ky++Ume/UnXpwPd7slJfv1AUJNXWhruBDPu7DZMoCgvs558O95Iu5Av+Rv9+3wBoVe1ZbJwX7Q73feecJ3h73vcG4vF3t/Zh8g8FnaUOkmY3GT42LP/HOgotT3j8WK3ES2hU/mgLvMQuhOAKCOPnrmuYhgE01c7M/bnDOuMwCrNbch7ABTQ9jnMsDrRSaq6wT/S1MAsm4iMlVrbpkXd5az0uN+MHOg8TPfzjAISEgaKhrxOCRiaSW4SdSi7XXXruUB4MI0omwgQDpBpNd8Dl8R/KWxqqRlQuDE3r64AAX9lz3G52ZvW/Ziy+s7D521c6R+qCydHn6R37nBWN1DTnFRgAP3U022cTaE+BQAwElzAPkBxyDkzv5QRwgmK2W+IEBWGMfgrQKMkq7EweJQQTpFVvYsShgGz28x2h/bI8QlfNhBUo/ZTs7pGKI05G+MglhY4qEjBAXhADhGvLgOyYD/MbzsDFEml2rn1ZrsyS/U35/0PPbNw/nqO0wA2i3BKH2t3iMwhKSTL/KQ/9PijNSCBYowfrxvmclyWRhANH0y0C/wQkkzmTJPulDhw4t3U/4r7ybWDgHM/oMbRCnnlFti1ADyT9aM78fco7KkGfwgWjxLIQjrV6oUx/KgYDDaQL9PoDWIM6CirqjGmZRyv04JcW5LwrPev9j27gw8yBMElpVpnrrkhrxYxXmJCKAgyooLCH181dwfmfg/quvvjpUekdedGrs1vx7cBNnAg9LqLjCiB+rfexM0no5yIcyQD4wSEVS4pex2jkSF5wSkGbVMziglqtGNpnYkHjibs4HWx/sByAsECgGTwJGQ8YhRJCM66+/3jpF+NIQpD/1OMKEtYd+S4YAEuW4aslqfazZvzMYtmNCDeliYtXCqF0dCpBIh6nakJqFmcY0ox0hJDhHBTHGkD2Ody/kgQWyG5Mw+chjQpLMOIuZBFtuERybD4tEFkfMa5hVYKrB4pXxlsUnC0sWo4S5YXHJPMrCFikS4zvEibkKwoOd+IknnmjzRdgAIfr9739vJdjYe/NcsOLDc7NQ50e1BQIN5htMJoLtj+Qubh8EL4QY8AoWYa1KzKdoT4J1IX5v3hcjQcxSIX40MB0akgAoqIGqqW0BKGoPXwyCEeWGScHoRMFgrIcddlhVY3NslMICOFM+HBqawdJZlSFxirtjAHgxsWDPkjQxyEAegx0RlSDG26wAkyYILFJBlycdnQ6vlD0CmAJgU8eCyE18rl1odxZQqLiR7jo1N0en6qbt6Au8l1zPOUSS3/nOh/u5ng/nLCT4IP3lmay0eQ5lQPrLPfzGtUjemxkEuJmIs9DCVsyNWQ7XsCOqcxZn7ZZY1IXZ2DGJYvOZVQqT+rAgj7PzAFIt58TGPXltB4jcwIED7TvCO8h74t4l965x5F3CdATyjeR11VVXtSYo2KKzEGG+4t3jXkw5eM+ctIu+6d51nsE5ZIgP57yv7n/uZxxvNflDKMLiMDh+MZ6gramVkGhyP/UFMzQ3rUoQ8zCnTt6xdjN5SYX40bhIi5g83MDJlmhh5I1G40V21wWPvBi4hQdJCwMAAwiTl7sHV2jUcNUSq/qwsAJ0QiSHacax8stAWZGiEUYkTOLoyu8fUYcksV3hGRi5hqlnsVFDLclqO0mivcAdnJ3ano6Oel2pNQig6kIFzUKKRQ42fzgmYfvCYgtpAhIB3hnU30gZIP0sepB44xCCSQDXkQ8TFAMu9/Nx0ggWK3x3jiM8jwEX1TYSXxYZXMP/PAunDwbhau94a9BK9lTUZ2HSKP+95JzAw3GkU8me3vyrIXeQvGB9MB9gV6OsEpqFYBB/CAoaklqJME7OO3ijjTZq2phdqxy1/uc9CeKch+9ICFudGIOCERkgq4wltRLvnRMUYa6EmUarEosOP9SZa19sx5MEJm9V+f3npkL8yBAC5otBEUNXSzBnDOsdcMEj0jJsr3z1Jx3Aj57N6olJLmrigXxh2B/Mn+/E3wmSy2rlrfd3xP9I8hB1+6u2sPLwGx0cm784CftEYgoygAbzY6XIf3E858KexX3OBopVVpyVeVg++q29EeDd8t/B9q5NeOkJmeDbDAffJSSu7ea97GoK0Q+zr8o6Nif96He/+13FOEVcslqLU+YVJ2VJyy7b4ZPmEdtipFjB/lPrOwSo1jVhY3yte/gfaSJe3a1OaOqwKQ+WGWeJWu1P5ATmIDBgIdrK8QjiF2ZzTf9kQd1OKTXih4rQt0fCzqBaQnwL8QqKf13HQHKInYNvg4eenw7grll//fVr7ijBtml0fnePf0Ti16hXb7X6BX9HDIz0z5eI+mVx50jvsO2I63SCVCYMQ9QD4N+I1yn2KEhXWWWxYlcSAkVEgIkHu7Gw9wgpfJRGIe94IKUNG3OQUMS1r0qrjkiLg9oJHMtqhUSCUEGOMPFhPM9rYsGOBzN2dpgQIPgg0DzxaZEYM98QSYIjJBjSgzSOPVgJo8RCnf9HjRplveXZAQMHGGcnyP985348zQlujeMOGgA0aMynPJt8sQVEK4DEFxvJPCS0Bqhr3VzHkbklalco5n98BbiW+T4rh6RqeCHV8zmOqwvqecJntVNKjfjhPOATMzpoVOKFD4ux58BESkbIAVaLeEnhFu6vjujctWIBUSaiX7s8/WPWYRpQK/EyYi/klyN4zs4QcTs45Dg4mJIf0kXUwI2sjsCcPHhGrVVZVDs34z9sM5FKIgVGXY/kljhLHPkNwosqnHJTD3Ym4X8+DIR4ijlJsTu6crp7UCnwHK4l32ZLh93zdcwOAdoeVSKq8iDxgxxhvuIvPrMrWTpPQlIfjIPG+IApSNa2cpC2YDB9pJE4PfCuhiXe3WHDhtnxkgDzvItxEmMCbYcDRJZkkf7kxlzOKS91YEzhnPEHYQP15RMce+hrXMe4w33+/5zzP0IB8mGMo++6/ukw5JiVQCNOW7hrMAvhnfLnO9S/2I+7Orhr3ZE5kyggSPuSOHWAN45x5I2pjI+jy7ueI/kR/cKvg3uf4tgr1vPMZt2TGvFDZcKA4kBhVRMFOJNxWKgBdz+2fqyakCRiy+Tr1ulAeEK5zl4NHNTF1VTKSODoIFkmXlZWsD5Orr7uiE0O4UWisHNlxiYrjPgxiWE/AcaNpjjlaPQZce5nMMRuDekMgcBZLRKmBhst3OkxA+CDmQCLBla+2MThNU0/48O1tDv/sTAh1iQrZVQI5IvDD5uBo+ZGNcGRBcbIkSPtzibEf2N1jlQ2a4lJHIx0TTIEmKSxqyUygHv/OOLEgvQmruQ92VOzu5pJjzBTft04Z4GOuU2WiQVX2J7BbLNYbaGLlgfVGhoMxrNqBMGvB+MVtoMusgIODnHNZ/x8dJ4uApBxzCaCfRGJKIv1YIK8Ms7yLvbp08cSuOA1Yd/pZ0hR0fTRB5gL4CZpJMJ7Odt3vx445fA+5WWujFPX1IgfDgC+PQkStVrEDAcE31nDB5NzRKhMuqgE/P/4Lc7qD717mE6evJj8a5UPANNePeGpiUg/KPb264dIv9YgR/0hIv59/jmqgUZUvXE6T5bXoLaiLX2pr1/fLM9ZgWKflHbfyBJPPcvYUBMsHvy+g5cv71UR3h1sq9g31a8f5+wLijQl64S6L/j+ovUJ8zyFdKMqpbws2OI64jGmB3dYqBZaLOv6d/rzwhxgEMwQ1iaYkNg5CTGasrhjLSF1fLt+tF+ExWk0QeqQ+IU5S0FokcK2U0qN+LFy9u1JkPjVSkhxIHHBgcn/HjRsBXg8CuOwa+xzfPWzny8BJGvZP+AVzHVse+VE+LXqFOd/xN7rrbde1Xpjv1GLlPI/dnzBgdTVEUNobCmLklA7u7rl4ciEyt7SSu2JAMQCCW+wLyHxDZNAtGMtUReGBczHfixrbQf4oX4NaigYz5Hs+eMdYzse6Wh52GYyjBhWaw/uRZrv2hXNEWOHUusRQHNHmBnXNhyZnyFU/nyOUANtDf8jsU6iXcEEyPcgp/+kZdYAxwkjfixManGJ1qNfXoLUiB8MHbGsa1SIRxyyxAtey+7N5ckRNV9cLzsaPCycC2SJwJdRdlt0RJwneCaSJnZySCsx6WCQW83TFzVjnMmHFXRwIKW85ItKuZbUsN76MEijRqrXa7ie5xIvDkkFIXywW0LdT7sgzsfgFukwH8LnsIpEksD/SKG5htUjLy0SZu7lGuw/6Xv8j/qd+zlix8F1XI9oHy9pJLRIg7gX0T7q5XYL2lkP7kW8h3ebSSiotiGeJhKDoiTIHZOSP35yjh0xpDDrhHF80NkOT1jCR/nEj2gMmGyg4sVRwv8vTpm5f9dddzV9+/Y1hBXTexoHteZfA0cIvnN4xKL5c4l300nWiNxBIOo4PMLdz5H2Z37fZ599bAiqONpB//5q5yxcfI7j3ivsT1uxkKpWzji/p0b88Grxg6FCbOIQDwxU0fM7EKOOSTcXJ5SKbxvo8ob41YoAT2fBS8rdA+FMq3Hp3MRaC8Y2cs9ixRJHFcOAycvh7nNHBky2MWtWwpCVyPs4flCXLBIrKgg/Np+oBuhvtC+2nhwZVPiN70hU+SBJYCs2bCaR3rJiI8QF92P/yQfbDGw3uI/rOcejmdhT5ItdIfdAsmkz7mVgQRWYVd2zwLdTnkE/wgQkGMKFGHGt2AO0mbgzXuEl6sYFd0TbEHfxnGb5wuy6GYsxbXGJ9wozIcrKQq/ePYXJB9s+TGuU8oEAwoygzSkSQMidS2jp2GaU9mdL0Xq1KnAPFjdJFw2uHMEjYz024e4dckfs6TGrajd74NSIH5I7n/hFhXMJgooq1bcPdKAGj4h/kyRWmGESP/LFyD+qU0D8CFTrvP2QBKUV7Z5OCbFAwhSsI98xeI6jpiUwb5jUkDKjDk+6UoqDLaFpkIygQmk3T6Y49eOaqH4RNw9dlz8EGJwh8jgG+e/dhhtuaBcB+StxYyVinMFBzo1hrs4sDFk0piUJSVJKNEGuHO6I04fzzsdhDakKZkNIZdttQk2CRaddC/F3wZhd23NEqIJUligdbHnq/jv99NNzAxELRiSIrmzuiPYHgUK79dPUiB9SFV8MCkmLKyHjpcd70oEZdkRE7IuE4/QIvHlomGB+2A0SHiZK1Qtpguj5XsHY3qWh3mTAxfPMD3jtyuhWELXIBx2tmo0fakkG0LTtDpDOjh492tppoF5NYnsTp710jRBoJgJI+tgj1L1rHFHdx7UZbmbZmpU3kuygeo16owJNYyxLWm7i+UE8/TZgqzNMOSDlbrtINAr17NLAuIkjQDMWvUnrquvLEaBtcGwMLkQQqjAfotZ3fgJ48qJZSZJY6MAlkCymrZFh7sND2O+3nOMcFkc7l6QeWVybGvFj8PSlT7zMSNzivoCo0MJiTjmgWRUmsUtBNMtAUk3VSwesteKlQX0XdCSarELoYI0k7sdV3ZeQunoySCMNrJXIA9sCd59/RP2LujIu9rWexf/khXeVI/fYxqXlJh/n+bpGCDSCALZ7qA7994RFHe9JkW3AkKJsttlmZfUGA8xrWhHmBEP9oJ0fkz3OgEysqH4h42iB4ibGJsYiSCVjFBEbUB/i1ayULwSIzhB0kEAQQ4Bm2p2+iX02pkpxpWgIcGh/bPKxacV5iSOCm7TmQPwFgmpqyoogJK7HcZ5aIjXiRyw0f1Dt1atXoq2+YNRBN3yXH2rFpFvPQIxQ1QZXly5PbF9qSSRZoeCCzmDk7kN1jK1XI9I08sV+0M/X5Y+oO+4KwtnCuHv9IyEpkhDlqE4JiUac7aumIfZMHLJzi0JO/+UBAVRMQY0Cjj2QPt7FIifeTwJUB8caxmdsWrNOkGxU6/5YxblbUHJ+yCGH2CDGccpG/ZBqYn6CuZCTJrH4ZQystbiP8wxdkx4C2FRHbdxA+9NuteZmVyKuY79x7AHhCX6/YjGRVvtj+x0UItHHMEdox5QK8WPwJK6ZDzoSoSTbHfECs2Jzol4/L1bqUVu7hAFPgxOKxc/HP8eYmzyjBn7KFBZ7CM9Rttup1/AUtUZQ5UTZIFZxt35BpL3zzjtXrR+BieN4Bodh5/+GugV7IIiejx92GbNmzfIv1bkQyB0CSAOQ0vthJIjzhX1qo5L73FW2SoFwfApKWQijgfNS1gkpTnCu8McVJtck5UKiw6K0d+/eZeMTeUIgG1mgZ41NJzwPYUEwLq/f/sytSWzp6U+YcATtdsmTOTpqfk+CN4KnILFEco0TYTumVIgfuvggMUCNiToTSV7cBBEL5gPYrMwhYUkSKgXc+f1O5Z+zOsQbB3VAVOcIs0khH9TahAzAqQV1ShyRMtfQUQhV4JeFc1YPcUMXgAUvhwtwGcyL76g7IGbVcIsqL6JrnDgQnUMuwxxvMNIusoosSV/TtflFABMUwvq4d4TwIex/Wu29yG9N6i8Z9k6DBw8uYQAWTLBMmK1I7KwQlEC69okbWN8vN8FzgxJdJH9IgpTyhQCxe1HFuvb2j6h8CdrNNUkTsRqdtJc8ESAR0SGNxFgRFvMTZ492C9zs8GiI+EEeYPB4yIapVNHbEzUd/TiDTxTBokD8T5gVf1Agpl0SI2S8Ydmjl9VeMPiz38k4J14bTh7sG1xtZUgYkKgVCoapQ4cOtWplwoMEt0lD8sgH6RshQcIi6UP64gZcppyENGHVHFU/VvS4n7MahlCjPn7jjTds/D328ER0jUMOWLmwJ9hVsHcmgy+i8zAbRHDjdyZUJSGQZwTo175aiXGFcSGuKUUadWNMIyQJ714rySZST3/8Y+GKc1grpJ4sWsNCWWHQX0+wXRaqQSkiZL+evNJoc+URjQACDp+kuX6JoCaJtM9/CuZXvlQfoUha7Q93CdoHE+e1mSHT/Lo14zwx8WPwIngvkjBEqcScg7i4xgseCX677rrr2n1UMbit5akFKXG6dIITQxyjpFMOFPKFzDCwQzjDiGiwbO471xPtHfVP0FCTfH0HD3dP8EhZUR+jYmVfSYI9ov/H9hGckA4SKDh4Hx2UQTlq5cB/kFPi5mG3QJwj3yYmmKf7jncvDjPgzz2QOQZXjFR5Lqt+4plht4hTCdKQOLiRV5EC3bo+pGMxEED9wwQSNKdg7+Vq+8I2q+bYn+G0EHcca1Y5iNvXv3//svGHiZbFatYJYUHQwYPvmLnUQ45ZWAclfsQqTCIwyBqDTn7e3XffbYPiu3mKI+YXqFPj2vYF8SO0mU8micCRVgxHOIlzPHFlZixJos0MlrfV3xMTPyqLh23UXrMOnOCRVV6tHTBwSIAkcS+EJY5LNyrH4cOHxyJDwTL532ncoI0dpAsy565jsGR1iRs3q8owm0Q6IGQYEgVOYZI5bCDxyo2zWTo2dr7kwpWlFUfUvrjeKwmBPCLAxIGJQjCME+YVccaSNOsEIXFjGYu7VidUX/7e6CxW8YKNCmvVjDJjG83Y7sYvFrGo3+tNqAaDW9PhyZyWc1u95dJ94Qhg7uRH8MC2HU1TXC/eYK5IrX1HR8Kk4RVezyIimDfvMIs2n+9QXrRl7ZwSEz8GCdSxSI7WWmstu3Lr2bOn3XsW4oTUiG1YkCLRAKhTITlcyyCI5KpWAlQYNZ2hlnqYvBhI2EILSRZSLFSzBIpkhYvNIB8mAqRbAwYMsP/hBcaqkOvx8CN+FM4gYdH7IYOsSJk8EB9DBlHdco7kk/09qXs1kscAh5qJQZe9AyGOhLqJUzfqx4CNNBGcwRJDbQgnLw/tgCSPuvAfnRLpHXH22N6MukG4kaIiAQEDykooC/KjXvwGsXQYceQ/8uZDmfmOATVb4bTzSqdW39P/7YsA7xMDPuOPIxUcedfTUvskQQdVs4uhhxag1Ymx2w+QCzYsZLPGBrvqbbbZptRGw4YNa8heGNMXn0hQLzQ4aUz8rW6zIj6f0CvMS7QTfIHFR5wNC6phgT06Wijy4wMPSEsjhZmU31fJH65RzTSsWhnz9nti4kcFsGNj9YwIlPh72MEBNN5YDLyoNyA2nCPhw7uX/+MSBhg8XqtJ7E8Q6z7//PM2EChHHC5QKdApsLGhjKg1UFNDFBl8qAPOGfxO2WD3YYlGJrZeNekceGAoTdBk1LHYzhBHaKeddrJkESNQvIPHjx9vgx5HqXXDng8O2CWBIfUAX1TJTCx0TOpCvQioPHXqVPs7/1E/VleI1t132ox2guDyAvI/dn4M/pByvtN2fAc7MCRP6sf/cdswrB76TQg0CwEmed5PzDbcBMCRRQ1e9Fkn7IJGjhxpy8KiLy82sdgl+c5aaCfYXjPLiYzxyqmdObKwjrsIDmtH6uSbG7HwZ5xTyicCcAZs0Hk/0R424iSIGRgcA2GGe+8JC8f712gib4RPmKu5vAmDRPnbPdVF/Nq90lmVn47DKjsJgc2qbHqOECgSAixIMPdwAzRHJODss5x14r3HnhlpBuVg4iCYfB4S4xEObb49FBL+rKR+EDw0GERrwDGOxTJlaiRhR+07BCLtq1dt2Eg5dG9tBBCuEF+X9wJpM8KHRhLqfLRQzpwK8wWiiTSykHDlQUDEDjJuTEGqfOedd7q/2/oo4tfWzafCCwEhgLSKyd93TGICOPvss1ui7kM67jsvYIaRtVNJVK9AE+Db2EGamDybvUAlf7bdxOwHcxW8O9HsNJJwvvPDg+DZSWgPpfwhwHuKdBY1LyZJaMca7XNoEzFpcuSMxVbSrV3DkMLJkzHFRbbAjAsnzaIkEb+itKTqIQQ6EAEmDjz6fKcFJgGcr1phloAJRTBmHrEws1Sl1uoGYHbuueeWqXzxqsTEo5kJ0xHCc9E+2EWn4XWJGt+pDckXm+2iSGWa2RatyBv1O7bqSHvZK7pWhI84ZcSMyd/zHkLJb40SSsymfIdKnIXSshuMU69mXyPi12yElb8QEAJNQQAPXoIBB3elQAKAXWqWCXUlO2QMGTKkJH1wUgiC0qL+zVPCmB5PY58wMykn2W0pSX2wQUbFjC0eEzWRCtJIOM34Hpc4umGnnDe806hrO+eBSpd3A9JHP2jErs/HAemeM6ngfSNOLgsYFn31hoZh4wP2snbvL6Ya9Nci9SkRP78X6VwICIG2QACihSomGM8SFSs7NtQ76MetPM4kOGnhOIbjFJH9fZWTmzSwPcJrMY+J8hOqAg9/V14kckg70kw4piHhw64QiRxkHfupNNLhhx9eKjt1wIMb43uIP2RTqfUIsCByzjxIv9MMoM6e986+j/bHoRKJ79/+9jfrNJRU8ke/JAagW0ywSDnuuOMa8jpufQtUlkDErxIT/SIEhEDOESDYuguV4kgL9l3sIoTnOxIFpFrY6qBmZQJgxc6Hc4z/IYd45BMHDqNzroUMQSrdhzz4kAdHggITBYCdAthMnl17CHXkyhA8QkwJTJvXBA44wCApc2Un5EtaNolgyw5ChJ9igmYSTYuU04577bVXqdyUH69u2oW9xFvh2JPXdm5VuQgczjtC27AoS9sjFmm667ccccYYNWqUDe9C5IskTh701TPOOKO0Awi2qCwu0zBJaBX+1Z4r4lcNGf0uBIRA7hBgIMcDdcMNNywb8Bn0kSgRygOpAqFUCOqKLRFenqNHj7aEAFKAqgmCSNxOdnwgkDo74iC1YyJBOsXvhGEiLBMTCTsCESYCiRISMkdk/Ekn7JxwMjhT5D1RRjdBI+3YfffdY6l9IdJM5sQzRfLJ1nSQaNoJGy4wdVJZYrPyf1opjPihSqR9iLWGTaFScxFggUXwbcKVYW/JggGixO/E43VesbwvmBYkXD8/AQAAEydJREFUIWJxSh7cQxcbP9S9vO9JQrpQXiTzxABFdUysXcweikj6wFXEL07v0jVCQAjkAgFUeMF9M8MIV15+QyKFpLAdEjE7IWfOO5pzYqJWS6i7kaoQQw3vR8KzQMghy5BqHGzc/qmQcWKOppl4Pk4qrry0ORsGQO4JsK/UXAQgS6hFWXDhGY5Eb8cdd7SLBrZypT/QJkh6IWJcn3bCS5g2d+87pI+tUpO0P2MKEmJs+diwAHu+pLF2065Xs/MT8Ws2wspfCAiBVBBAbYTUzQ3yeT8SUgaP43ZK2DjhMIGtFB9C01RLXDto0KCa7cEuSs3yiCRQPxJcJmy2bcO2K4mkp1rd9Hs0ApBu+gl9POo9hJRBDnG4aUaC4BFmBcckHDLYkCGJEwb1QNKHLR+7d9Hfk9zfjDplkaeIXxYo6xlCQAg0hAC7yyCB8g25oyacPPzHNonYG7ZjQkqJWhZbx2oJT00/XmEY5mwT+cADD1TLIpXfsVOEhGKjpZQNApAjbDfD2tz9RjgUiHgaYVuiaoVpAQsA7HXrSTNnzrQ76zSLnNZTpmbfI+LXbISVvxAQAg0hwBZfqA3dhNIuR6RhjQYobgi4Jt8MOXTb0gXbhDAxOImk7SHc5Cop+wQIEDYFm9pg27M4wzGCLUqRqCnlDwERv/y1iUokBITA/0cAT1v2kg1OLu3w/eSTTy58O2IDCMFbYYUVbKgWnFlwDEHFjQe0UnERgNRNmDDBqvshemzBNmzYMHPKKafYWHraNi+/bS/il9+2UcmEQMcjgPpm3333tUGaMRbHa4+AzZxDNthnFpUS+/ISVgXVIuSDbaGYjPiNnR24lutwRFhiiSXskd/Zf5M8UFkSY458+I2dLPAOJTYf/7PtWu/eva2EgwmOvHkG/3Hkg2q3R48eNh/ID84SnZDwfGRXBlS61DlKPdwJeHRaHbGzw3GHuIlIuCXly38PEPHLfxuphEKgoxEgLAchXPhgM4eKCRXis88+awMoM+G4iYfgsEiaiL7PEU9C/sMxBJs1JFSEnSAf7Ab5Hfsgrp82bZrdNB7bNWL18Zv7cC+khoDNPIPvPNd9KCP3cC/lYvN4JSEgBIRAHhEQ8ctjq6hMQiAhAqyyMbhO4pHGPUhnMIpHpaokBISAEBACxUdAxK/4bawaFgwBCBvBa1GDIrG6+eabbewyggwTuBZPuigPN8ge2yhhg0acObxlCVjMVmdFdkYoWDdQdYSAEBACdSEg4lcXbLpJCGSPAIRt0qRJlrCxmwRxy7Bhw4PSd3bo3r17aPw1JHtsH4YBNhHq/Xs4JxAuu1bgRaskBISAEBACxURAxK+Y7apaFRABbMtccN3FF1+8grg5IseWW+w56atvIX0EOo26j/u7du1qxo4da7fdKiCEqpIQEAJCoOMREPHr+C4gANoJAfa6JFgt6l2kfY7sBY/HH3+8+frrr23Vpk+fbveiZR9Tt5cpXqrsnxm8j+/sW+uTxnbCR2UVAkJACAiBaARE/KLx0b9CILcI/PGPfwwlbqh6b7zxRutZigcswY8JMzJixAhz2223WU9VPFnHjBkTuuXSkUcemds6q2BCQAgIASHQGAIifo3hp7uFQMsQOOqoo0KJHzZ8SAUJV8L+lUgGzzzzzIpN0rEXJPZcUOqHnR+SRSUhIASEgBAoHgIifsVrU9WoAxBAjUuQ4CBpc/Z9eOfi3Usw41NPPdV8/vnnZagQ9oUtlcJs/tj0XsSvDC59EQJCQAgUBgERv8I0pSrSSQgQlDjMxg+V7vXXX2+uvfZas/HGG9u9VMO2zmI7pbCt0Nhn85xzzukkKFVXISAEhEBHISDi11HNrcoWBYELLrgg1D4Psnf66aebTTfd1Oywww4Gx46w9N5775nNN9+8QmJIaBjsAJWEgBAQAkKgmAiI+BWzXVWrAiOAx+3w4cMrSBtqXwjfTjvtZAYMGGBuuOGGqvtmzpw50+4zG1QV9+/fv2P2mC1wF1HVhIAQEAJVERDxqwqN/hAC+USAAMth0jpI3LzzzmsGDhxorrnmmshYfOx1u8wyy1SQRwJDuzAw+ay9SiUEhIAQEAKNICDi1wh6ulcItACBiRMnmhVXXLGCtDnp3ejRo2uSNwJBzznnnBV5HH300XLsaEGb6pFCQAgIgawQEPHLCmk9RwikhMB5551nZp999grSBvFbaKGFzIQJEyKfhGPHnnvuWXH/IossYq677rqq6uHITPWnEBACQkAItAUCIn5t0UwqpBD4fwh8/PHHVe37IH5bbLGFefXVVyPheu2110y/fv0qiB+/aZ/eSOj0pxAQAkKg7REQ8Wv7JlQFOgmBBx54wO7C4dS6/nHRRRc1t9xyS004pkyZEhq/78ADD5SatyZ6ukAICAEh0N4IiPi1d/up9B2GwLhx40zXrl0rpHUQQNS3n376aSQi33//vfnrX/8aGgrmT3/6k/nyyy8j79efQkAICAEh0N4IiPi1d/up9B2EAKTt+OOPDyV9SPuQBtZKqHmHDh1akcdiiy1mrrzyyprEsVb++l8ICAEhIATyjYCIX77bR6UTAiUEkObtvPPOFaQNaR/7837yySela6ud3HvvvQaS56uIOd9yyy0Nsf2UhIAQEAJCoNgIiPgVu31VuwIh8Oyzz4YGXWa3jZtuuilWTVHzBj2CCesyduxYQ2BoJSEgBISAECg2AiJ+xW5f1a5ACOC4AckLSuuGDBliwvbjDVb9gw8+MHvssUfF/UsuuaS55557gpfruxAQAkJACBQQARG/AjaqqlQ8BL799ltDYObZZputjLjNMccc5sILL4xV4WeeeSZUYtizZ0/z6KOPluXxzTfflH3XFyEgBISAECgGAiJ+xWhH1aLgCLzzzjuh27RB2p5++ulYtUeqF7ZN29Zbb10mMcTW74orrjA8My/p888/N6+88or54osv8lKkyHIQJPvtt982t956q7n99tvNZ599Fnm9/hQCQkAIZIWAiF9WSOs5QqABBFDzLrjggmXSPlS+2267bSynDh59xhlnGCSEQVXx3nvvbf7973/b0kGuDj74YPtBNZyH9MILL5iDDjrIrL766oZYg2+++WYeihVaBiSzkydPNkcccYRBBd+9e3ez9NJL272TQ2/Qj0JACAiBjBEQ8csYcD1OCNSDQLUwLr/5zW8M0qVaCULy+9//voL0zTvvvOa4444zM2bMMI899piNBbjmmmuau+66q1aWmfzvyu1U3F26dLGOKIS2yVuCKJ9zzjlmlVVWqcAZ28o4dph5q5PKIwSEQPEQEPErXpuqRgVE4LDDDqsgE5C2ODt1AAceu0jNgtK+ueee28b122+//cwGG2xgAzsj8cuLahLiN3z48LJyjxo1KnceyNhE3njjjWarrbYqK6vDe8CAAebFF18sYM9UlYSAEGg3BET82q3FVN6OQ4DdNLbffvsKQtG/f//YUqTvvvvOHHnkkRV5OGLijoMHD84dQcFGbq211rJq6p/+9KfmjjvuMHmT+EGs33jjDSs53X///SuccHr16mVwrlESAkJACLQaARG/VreAni8EaiCApGiNNdaoIG0nnnhijTvL/z7//PMr8nCEr1u3bmajjTbKbVgXHFguu+wyM23atNzvJ/z444+b5ZZbrgxr7BMpu5IQEAJCoNUIiPi1ugX0fCFQA4EpU6aYgQMH2hh+xPFbZJFF7PdgCJYa2VhJ3qabbmpQ7xLEea655jKLL7642WGHHczFF19spk+frr16a4EY4392UIFEO1LNcb311rMSwRi36xIhIASEQFMREPFrKrzKXAg0jsBXX31lSRvbrd13330GIoinK/ZvSRNeu+zJe/bZZ9v4f4Qbef/995Nmo+sjEMDZBjLtE7+f//znubNLjKiC/hICQqDACIj4FbhxVTUh0K4IQJ7Ym3jWrFnmySeftMSX7+2QPvzwQ7PxxhuXEb999tmnHYquMgoBIdABCIj4dUAjq4pCoF0QwAnlqaeeMqeffroZMWKE2XDDDa19I44sl19+eWQ18Kzlg6MFDjHvvvuuef755w1ELCz5ElOcRXi2n/ge/M3/v9o5YV0ory/xI1aikhAQAkIgDwiI+OWhFVQGISAELAIQtquuusqwI4lPnDhny7pq6eGHH7ZeywcccIAZOXKkDQGz6667mi233NIQ/gUiee6555rzzjvPXHrppeass84yf/jDHwwOMmPGjDHHHnusOemkk6wDCWFZLrjgAhv38JhjjrHksdpzw37Hu7dv375l5d9kk03Mxx9/HHa5fhMCQkAIZIqAiF+mcOthQkAIRCGA5I1dRHbfffcy4gTxg6CFJWwgCWQ9zzzzVNzjyCPOLMQ9nG+++cxCCy1knVvcf+7I/Ti7LLrooqV8evToYfCGTiL5Qz1NEGyXL8d11lnHvPTSS2HF129CQAgIgUwREPHLFG49TAgIgVoIsC8vW575xImdO5DShSVI2dSpU600b+zYsVaSh5p4t912M8TUO+qoo8zJJ59sJXocTzvtNEsikfhBGHkW0j4IHtvaHXrooXZrOK67+eabzb/+9a9EcQOR7K2//vpl5UcC+Oqrr4YVX78JASEgBDJFQMQvU7j1MCEgBGohgLoXFavbpg0C2LVrV3PRRRfVutX+j+3eF198Yfcw/vrrr620Dkkiv0MSXfBnzp1doC/R4x7sBOtNeEn36dOnjPihcq5ma1jvc3SfEBACQqAeBET86kFN9wgBIdA0BHCO+PWvf11GnBZbbDEzYcKEpj0zzYxfe+01u9OIL7Ekrt9HH32U5mOUlxAQAkKgLgRE/OqCTTcJASHQLARwjthpp53KiN+ee+5pbf/qfaaT8nFEGvjee+9ZiaD7nXz983qfw33ESvzxj39cVv4hQ4ZI4tcIqLpXCAiB1BAQ8UsNSmUkBIRAGghgU9evX78ScVpwwQWtJ66vjg0+ByLHtm4PPvigmTx5shk3bpzdjQQPXrx5se0jcDUew6iRCa+Cjd/48ePt3r/XXnutuemmm8zVV19tLrnkEnPdddeZO++809x1113m9ddfDz4u8jvhaFZeeeVS+ZH8EdfvrbfeirxPfwoBISAEskBAxC8LlPUMISAEYiMwadIks9RSS5WIEx6x//znP6veT2DnE044wfTq1cvukbvMMstYD15sBPHmdSrXOeaYw25T575zxIO3e/fuZoEFFjDLLrus3Q6vS5cuZv755zeol5deemnrNFL14SF/zJw5s2Jv5XXXXdfwu5IQEAJCoNUIiPi1ugX0fCEgBMoQOOWUUwzkyxE0Qrugnq2W+I+4ezvvvLPZZpttDDHzkLBtttlmNgA00kMCQW+++eZm0KBB5ic/+YnZYIMNbIy/oUOHmm233dZw5H6OvXv3tv8RB/CQQw4xjz/+eLVHh/5O0OiVVlqpVH7qseqqq5onnngi9Hr9KASEgBDIEgERvyzR1rOEgBCIRAAHiO22266MNBFcuVbCPg9vYKR/eM++8847BicRdu9AVfvmm2/a38mf76hd+Z/v3PPZZ58Z4gF+8sknNt4e9+HdW4/dH9JJ4v854spxxRVXNASZVhICQkAItBoBEb9Wt4CeLwSEQAmBGTNmGFS1jjQRxgXbvHZKqKpRH7s6cEQN/cwzz7RTNVRWISAECoqAiF9BG1bVEgLtiABSMXbPcKSpW7du5rbbbrPx9uqVwGWNw/33319GXqkLO3mgAlYSAkJACLQaARG/VreAni8EhEAJgdtvv906Wjjih8qU3Tj4/P3vf7fq19LFOT1hr18cQ1wdOPKduikJASEgBFqNgIhfq1tAzxcCQqCEALtzoN51pGm11VazDhs4Y9xyyy2l6/J6gjp3xx13LJXf1YPj6NGjbfzAqLA0ea2XyiUEhEBxEBDxK05bqiZCoO0ROPPMMytI0yKLLGL308UBI6+JLd4mTpxo2CPYDyHjE78llljC7LXXXlbyx/ZxSkJACAiBViAg4tcK1PVMISAEQhHAxm+NNdaw5I84fD179jQnnXSSIahznhP7844ZM8YSO8LCDB482G7bhjcvcQjZyQM7v+HDh9vg0OwRrCQEhIAQaAUCIn6tQF3PFAJCIBQB1KCQv7PPPtvuoDF9+vS2sOuj3EgkCSXjjjhzENrlhRdesB69zz77rA0hI1VvaNPrRyEgBDJCQMQvI6D1GCEgBISAEBACQkAItBoBEb9Wt4CeLwSEgBAQAkJACAiBjBAQ8csIaD1GCAgBISAEhIAQEAKtRkDEr9UtoOcLASEgBISAEBACQiAjBET8MgJajxECQkAICAEhIASEQKsREPFrdQvo+UJACAgBISAEhIAQyAgBEb+MgNZjhIAQEAJCQAgIASHQagRE/FrdAnq+EBACQkAICAEhIAQyQkDELyOg9RghIASEgBAQAkJACLQaARG/VreAni8EhIAQEAJCQAgIgYwQEPHLCGg9RggIASEgBISAEBACrUZAxK/VLaDnCwEhIASEgBAQAkIgIwRE/DICWo8RAkJACAgBISAEhECrERDxa3UL6PlCQAgIASEgBISAEMgIgf8DOCuCxddOL6gAAAAASUVORK5CYII=)"
      ]
    },
    {
      "cell_type": "code",
      "metadata": {
        "id": "uhgi1fgbWeE-",
        "colab_type": "code",
        "outputId": "d584a4f4-3402-4cb5-a21f-30e4d832b395",
        "colab": {
          "base_uri": "https://localhost:8080/",
          "height": 50
        }
      },
      "source": [
        "from sklearn.metrics import mean_squared_error\n",
        "mse = mean_squared_error(y_test,y_pred_rf)\n",
        "print('Mean Squared Error:{:.3f} '.format(mse))\n",
        "print('Root mean squared Error:{:.3f} '.format(np.sqrt(mse)))"
      ],
      "execution_count": 62,
      "outputs": [
        {
          "output_type": "stream",
          "text": [
            "Mean Squared Error:0.000 \n",
            "Root mean squared Error:0.000 \n"
          ],
          "name": "stdout"
        }
      ]
    },
    {
      "cell_type": "markdown",
      "metadata": {
        "id": "WpaL6jTFXuQ2",
        "colab_type": "text"
      },
      "source": [
        "**Observation-** Root mean squared error value equal to zero show that the model is best fit for the data. i.e better generalisation."
      ]
    },
    {
      "cell_type": "markdown",
      "metadata": {
        "id": "HAXC-D0OYF2g",
        "colab_type": "text"
      },
      "source": [
        "# ***Thank You!***"
      ]
    }
  ]
}