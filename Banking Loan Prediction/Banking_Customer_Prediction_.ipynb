{
  "nbformat": 4,
  "nbformat_minor": 0,
  "metadata": {
    "colab": {
      "name": "Banking Customer Prediction .ipynb",
      "provenance": [],
      "collapsed_sections": []
    },
    "kernelspec": {
      "name": "python3",
      "display_name": "Python 3"
    }
  },
  "cells": [
    {
      "cell_type": "markdown",
      "metadata": {
        "id": "vJUR9Gxj5xRq"
      },
      "source": [
        "# **Bank Customer Turnover**\n"
      ]
    },
    {
      "cell_type": "markdown",
      "metadata": {
        "id": "f10golIk529T"
      },
      "source": [
        "## **Data Description:**\n",
        " The data contains customer information of a leading bank from European region. Data is generated for a certain duration of time regarding the customer behaviour. \n",
        " \n"
      ]
    },
    {
      "cell_type": "markdown",
      "metadata": {
        "id": "ufps0Fg057Kj"
      },
      "source": [
        "## **Format:**\n",
        " A data frame with 3153 observations and 14 variables. \n",
        "* **Row Number** – Serial Number\n",
        "* **CustomerId**- Bank Customer Id\n",
        "* **Surname**- Surname of customer \n",
        "* **Credit Score**- Integer value \n",
        "* **Geography**- Country of customer \n",
        "* **Gender**- Gender of customer \n",
        "* **Age**- Age in years \n",
        "* **Tenure**- A factor with 10 levels. \n",
        "* **Balance**- Account balance\n",
        "* **Num Of Products**- How many accounts, bank account affiliated products the person has \n",
        "* **HasCrCard**- Does the customer have a credit card through the bank? \n",
        "* **IsActiveMember**- Subjective, but for the concept \n",
        "* **EstimatedSalary**- Estimated field of customer salary \n",
        "* **Exited**- Did they leave the bank after all?"
      ]
    },
    {
      "cell_type": "markdown",
      "metadata": {
        "id": "aj6UsEkj6Awh"
      },
      "source": [
        "## **Objective:**\n",
        "Explore and manipulate the data to build a classifier model to determine whether the customer will leave or not? "
      ]
    },
    {
      "cell_type": "code",
      "metadata": {
        "id": "U7k_eXr_0VkD",
        "colab": {
          "base_uri": "https://localhost:8080/",
          "height": 121
        },
        "outputId": "22a344a5-11bf-4f37-c15b-41bf62116ff6"
      },
      "source": [
        "from google.colab import drive\n",
        "drive.mount('/content/gdrive')"
      ],
      "execution_count": null,
      "outputs": [
        {
          "output_type": "stream",
          "text": [
            "Go to this URL in a browser: https://accounts.google.com/o/oauth2/auth?client_id=947318989803-6bn6qk8qdgf4n4g3pfee6491hc0brc4i.apps.googleusercontent.com&redirect_uri=urn%3aietf%3awg%3aoauth%3a2.0%3aoob&response_type=code&scope=email%20https%3a%2f%2fwww.googleapis.com%2fauth%2fdocs.test%20https%3a%2f%2fwww.googleapis.com%2fauth%2fdrive%20https%3a%2f%2fwww.googleapis.com%2fauth%2fdrive.photos.readonly%20https%3a%2f%2fwww.googleapis.com%2fauth%2fpeopleapi.readonly\n",
            "\n",
            "Enter your authorization code:\n",
            "··········\n",
            "Mounted at /content/gdrive\n"
          ],
          "name": "stdout"
        }
      ]
    },
    {
      "cell_type": "markdown",
      "metadata": {
        "id": "x1S8_der8kFK"
      },
      "source": [
        "## **Importing Required Libraries**"
      ]
    },
    {
      "cell_type": "code",
      "metadata": {
        "id": "gz4ziiUz7-25",
        "colab": {
          "base_uri": "https://localhost:8080/",
          "height": 70
        },
        "outputId": "4b3a9e19-0ffb-4043-9cae-83dffc46cdab"
      },
      "source": [
        "import pandas as pd\n",
        "import numpy as np\n",
        "import matplotlib.pyplot as plt\n",
        "%matplotlib inline\n",
        "import seaborn as sns\n",
        "from sklearn.model_selection import train_test_split\n",
        "from sklearn.preprocessing import StandardScaler\n",
        "from sklearn.linear_model import LogisticRegression\n",
        "from sklearn.tree import DecisionTreeClassifier\n",
        "from sklearn.ensemble import RandomForestClassifier\n",
        "from sklearn.metrics import accuracy_score\n",
        "from sklearn.metrics import roc_auc_score"
      ],
      "execution_count": null,
      "outputs": [
        {
          "output_type": "stream",
          "text": [
            "/usr/local/lib/python3.6/dist-packages/statsmodels/tools/_testing.py:19: FutureWarning: pandas.util.testing is deprecated. Use the functions in the public API at pandas.testing instead.\n",
            "  import pandas.util.testing as tm\n"
          ],
          "name": "stderr"
        }
      ]
    },
    {
      "cell_type": "markdown",
      "metadata": {
        "id": "rPNp85WN8wL3"
      },
      "source": [
        "### **Loading training dataset.**"
      ]
    },
    {
      "cell_type": "code",
      "metadata": {
        "id": "z2MZDwd02NNU",
        "colab": {
          "base_uri": "https://localhost:8080/",
          "height": 195
        },
        "outputId": "07b65a6f-0b19-4b2d-a1e2-6bae223ff601"
      },
      "source": [
        "data = pd.read_csv('/content/gdrive/My Drive/Colab Notebooks/Uptricks Intern/Task 1/Bank_customer.csv')\n",
        "data.head()"
      ],
      "execution_count": null,
      "outputs": [
        {
          "output_type": "execute_result",
          "data": {
            "text/html": [
              "<div>\n",
              "<style scoped>\n",
              "    .dataframe tbody tr th:only-of-type {\n",
              "        vertical-align: middle;\n",
              "    }\n",
              "\n",
              "    .dataframe tbody tr th {\n",
              "        vertical-align: top;\n",
              "    }\n",
              "\n",
              "    .dataframe thead th {\n",
              "        text-align: right;\n",
              "    }\n",
              "</style>\n",
              "<table border=\"1\" class=\"dataframe\">\n",
              "  <thead>\n",
              "    <tr style=\"text-align: right;\">\n",
              "      <th></th>\n",
              "      <th>RowNumber</th>\n",
              "      <th>CustomerId</th>\n",
              "      <th>Surname</th>\n",
              "      <th>CreditScore</th>\n",
              "      <th>Geography</th>\n",
              "      <th>Gender</th>\n",
              "      <th>Age</th>\n",
              "      <th>Tenure</th>\n",
              "      <th>Balance</th>\n",
              "      <th>NumOfProducts</th>\n",
              "      <th>HasCrCard</th>\n",
              "      <th>IsActiveMember</th>\n",
              "      <th>EstimatedSalary</th>\n",
              "      <th>Exited</th>\n",
              "    </tr>\n",
              "  </thead>\n",
              "  <tbody>\n",
              "    <tr>\n",
              "      <th>0</th>\n",
              "      <td>1</td>\n",
              "      <td>15634602</td>\n",
              "      <td>Hargrave</td>\n",
              "      <td>619</td>\n",
              "      <td>France</td>\n",
              "      <td>Female</td>\n",
              "      <td>42</td>\n",
              "      <td>2</td>\n",
              "      <td>0.00</td>\n",
              "      <td>1</td>\n",
              "      <td>1</td>\n",
              "      <td>1</td>\n",
              "      <td>101348.88</td>\n",
              "      <td>1</td>\n",
              "    </tr>\n",
              "    <tr>\n",
              "      <th>1</th>\n",
              "      <td>2</td>\n",
              "      <td>15647311</td>\n",
              "      <td>Hill</td>\n",
              "      <td>608</td>\n",
              "      <td>Spain</td>\n",
              "      <td>Female</td>\n",
              "      <td>41</td>\n",
              "      <td>1</td>\n",
              "      <td>83807.86</td>\n",
              "      <td>1</td>\n",
              "      <td>0</td>\n",
              "      <td>1</td>\n",
              "      <td>112542.58</td>\n",
              "      <td>0</td>\n",
              "    </tr>\n",
              "    <tr>\n",
              "      <th>2</th>\n",
              "      <td>3</td>\n",
              "      <td>15619304</td>\n",
              "      <td>Onio</td>\n",
              "      <td>502</td>\n",
              "      <td>France</td>\n",
              "      <td>Female</td>\n",
              "      <td>42</td>\n",
              "      <td>8</td>\n",
              "      <td>159660.80</td>\n",
              "      <td>3</td>\n",
              "      <td>1</td>\n",
              "      <td>0</td>\n",
              "      <td>113931.57</td>\n",
              "      <td>1</td>\n",
              "    </tr>\n",
              "    <tr>\n",
              "      <th>3</th>\n",
              "      <td>4</td>\n",
              "      <td>15701354</td>\n",
              "      <td>Boni</td>\n",
              "      <td>699</td>\n",
              "      <td>France</td>\n",
              "      <td>Female</td>\n",
              "      <td>39</td>\n",
              "      <td>1</td>\n",
              "      <td>0.00</td>\n",
              "      <td>2</td>\n",
              "      <td>0</td>\n",
              "      <td>0</td>\n",
              "      <td>93826.63</td>\n",
              "      <td>0</td>\n",
              "    </tr>\n",
              "    <tr>\n",
              "      <th>4</th>\n",
              "      <td>5</td>\n",
              "      <td>15737888</td>\n",
              "      <td>Mitchell</td>\n",
              "      <td>850</td>\n",
              "      <td>Spain</td>\n",
              "      <td>Female</td>\n",
              "      <td>43</td>\n",
              "      <td>2</td>\n",
              "      <td>125510.82</td>\n",
              "      <td>1</td>\n",
              "      <td>1</td>\n",
              "      <td>1</td>\n",
              "      <td>79084.10</td>\n",
              "      <td>0</td>\n",
              "    </tr>\n",
              "  </tbody>\n",
              "</table>\n",
              "</div>"
            ],
            "text/plain": [
              "   RowNumber  CustomerId   Surname  ...  IsActiveMember EstimatedSalary Exited\n",
              "0          1    15634602  Hargrave  ...               1       101348.88      1\n",
              "1          2    15647311      Hill  ...               1       112542.58      0\n",
              "2          3    15619304      Onio  ...               0       113931.57      1\n",
              "3          4    15701354      Boni  ...               0        93826.63      0\n",
              "4          5    15737888  Mitchell  ...               1        79084.10      0\n",
              "\n",
              "[5 rows x 14 columns]"
            ]
          },
          "metadata": {
            "tags": []
          },
          "execution_count": 132
        }
      ]
    },
    {
      "cell_type": "markdown",
      "metadata": {
        "id": "ot07164e83dg"
      },
      "source": [
        "## **Data Understanding**"
      ]
    },
    {
      "cell_type": "markdown",
      "metadata": {
        "id": "1nVJR2e69BRF"
      },
      "source": [
        "**Contionous Variables**\n",
        "* Credit score\n",
        "* Age\n",
        "* Balance\n",
        "* EstimatedSalary\n",
        "\n",
        "**Categorical Variable**\n",
        "* Row Number\n",
        "* CustomerId\n",
        "* Surname\n",
        "* Geography\n",
        "* Gender\n",
        "* Tenure\n",
        "* NumofProducts\n",
        "* HasCrCard\n",
        "* Is ActiveMember\n",
        "* Exited(Target Variable)\n",
        "\n",
        "**Note**: Since our target variable has categorical values then the problem is Classification problem.\n"
      ]
    },
    {
      "cell_type": "code",
      "metadata": {
        "id": "rYoaFHOv78MR",
        "colab": {
          "base_uri": "https://localhost:8080/",
          "height": 34
        },
        "outputId": "7f477be5-1e8a-4f8e-b9c0-163f45102402"
      },
      "source": [
        "# Shape of the dataset.\n",
        "data.shape"
      ],
      "execution_count": null,
      "outputs": [
        {
          "output_type": "execute_result",
          "data": {
            "text/plain": [
              "(10000, 14)"
            ]
          },
          "metadata": {
            "tags": []
          },
          "execution_count": 133
        }
      ]
    },
    {
      "cell_type": "markdown",
      "metadata": {
        "id": "phyiexFd_6Q7"
      },
      "source": [
        "**Observation**\n",
        "* The data has 10,000 rows and 14 columns"
      ]
    },
    {
      "cell_type": "code",
      "metadata": {
        "id": "yJjbveDm_1xX",
        "colab": {
          "base_uri": "https://localhost:8080/",
          "height": 370
        },
        "outputId": "45980819-1761-4eee-b0e3-bb9a120551c7"
      },
      "source": [
        "data.info()"
      ],
      "execution_count": null,
      "outputs": [
        {
          "output_type": "stream",
          "text": [
            "<class 'pandas.core.frame.DataFrame'>\n",
            "RangeIndex: 10000 entries, 0 to 9999\n",
            "Data columns (total 14 columns):\n",
            " #   Column           Non-Null Count  Dtype  \n",
            "---  ------           --------------  -----  \n",
            " 0   RowNumber        10000 non-null  int64  \n",
            " 1   CustomerId       10000 non-null  int64  \n",
            " 2   Surname          10000 non-null  object \n",
            " 3   CreditScore      10000 non-null  int64  \n",
            " 4   Geography        10000 non-null  object \n",
            " 5   Gender           10000 non-null  object \n",
            " 6   Age              10000 non-null  int64  \n",
            " 7   Tenure           10000 non-null  int64  \n",
            " 8   Balance          10000 non-null  float64\n",
            " 9   NumOfProducts    10000 non-null  int64  \n",
            " 10  HasCrCard        10000 non-null  int64  \n",
            " 11  IsActiveMember   10000 non-null  int64  \n",
            " 12  EstimatedSalary  10000 non-null  float64\n",
            " 13  Exited           10000 non-null  int64  \n",
            "dtypes: float64(2), int64(9), object(3)\n",
            "memory usage: 1.1+ MB\n"
          ],
          "name": "stdout"
        }
      ]
    },
    {
      "cell_type": "code",
      "metadata": {
        "id": "EOfaOp_UAVHg",
        "colab": {
          "base_uri": "https://localhost:8080/",
          "height": 284
        },
        "outputId": "aeba9656-b9df-442c-bea9-5fd7da5df221"
      },
      "source": [
        "data.describe()"
      ],
      "execution_count": null,
      "outputs": [
        {
          "output_type": "execute_result",
          "data": {
            "text/html": [
              "<div>\n",
              "<style scoped>\n",
              "    .dataframe tbody tr th:only-of-type {\n",
              "        vertical-align: middle;\n",
              "    }\n",
              "\n",
              "    .dataframe tbody tr th {\n",
              "        vertical-align: top;\n",
              "    }\n",
              "\n",
              "    .dataframe thead th {\n",
              "        text-align: right;\n",
              "    }\n",
              "</style>\n",
              "<table border=\"1\" class=\"dataframe\">\n",
              "  <thead>\n",
              "    <tr style=\"text-align: right;\">\n",
              "      <th></th>\n",
              "      <th>RowNumber</th>\n",
              "      <th>CustomerId</th>\n",
              "      <th>CreditScore</th>\n",
              "      <th>Age</th>\n",
              "      <th>Tenure</th>\n",
              "      <th>Balance</th>\n",
              "      <th>NumOfProducts</th>\n",
              "      <th>HasCrCard</th>\n",
              "      <th>IsActiveMember</th>\n",
              "      <th>EstimatedSalary</th>\n",
              "      <th>Exited</th>\n",
              "    </tr>\n",
              "  </thead>\n",
              "  <tbody>\n",
              "    <tr>\n",
              "      <th>count</th>\n",
              "      <td>10000.00000</td>\n",
              "      <td>1.000000e+04</td>\n",
              "      <td>10000.000000</td>\n",
              "      <td>10000.000000</td>\n",
              "      <td>10000.000000</td>\n",
              "      <td>10000.000000</td>\n",
              "      <td>10000.000000</td>\n",
              "      <td>10000.00000</td>\n",
              "      <td>10000.000000</td>\n",
              "      <td>10000.000000</td>\n",
              "      <td>10000.000000</td>\n",
              "    </tr>\n",
              "    <tr>\n",
              "      <th>mean</th>\n",
              "      <td>5000.50000</td>\n",
              "      <td>1.569094e+07</td>\n",
              "      <td>650.528800</td>\n",
              "      <td>38.921800</td>\n",
              "      <td>5.012800</td>\n",
              "      <td>76485.889288</td>\n",
              "      <td>1.530200</td>\n",
              "      <td>0.70550</td>\n",
              "      <td>0.515100</td>\n",
              "      <td>100090.239881</td>\n",
              "      <td>0.203700</td>\n",
              "    </tr>\n",
              "    <tr>\n",
              "      <th>std</th>\n",
              "      <td>2886.89568</td>\n",
              "      <td>7.193619e+04</td>\n",
              "      <td>96.653299</td>\n",
              "      <td>10.487806</td>\n",
              "      <td>2.892174</td>\n",
              "      <td>62397.405202</td>\n",
              "      <td>0.581654</td>\n",
              "      <td>0.45584</td>\n",
              "      <td>0.499797</td>\n",
              "      <td>57510.492818</td>\n",
              "      <td>0.402769</td>\n",
              "    </tr>\n",
              "    <tr>\n",
              "      <th>min</th>\n",
              "      <td>1.00000</td>\n",
              "      <td>1.556570e+07</td>\n",
              "      <td>350.000000</td>\n",
              "      <td>18.000000</td>\n",
              "      <td>0.000000</td>\n",
              "      <td>0.000000</td>\n",
              "      <td>1.000000</td>\n",
              "      <td>0.00000</td>\n",
              "      <td>0.000000</td>\n",
              "      <td>11.580000</td>\n",
              "      <td>0.000000</td>\n",
              "    </tr>\n",
              "    <tr>\n",
              "      <th>25%</th>\n",
              "      <td>2500.75000</td>\n",
              "      <td>1.562853e+07</td>\n",
              "      <td>584.000000</td>\n",
              "      <td>32.000000</td>\n",
              "      <td>3.000000</td>\n",
              "      <td>0.000000</td>\n",
              "      <td>1.000000</td>\n",
              "      <td>0.00000</td>\n",
              "      <td>0.000000</td>\n",
              "      <td>51002.110000</td>\n",
              "      <td>0.000000</td>\n",
              "    </tr>\n",
              "    <tr>\n",
              "      <th>50%</th>\n",
              "      <td>5000.50000</td>\n",
              "      <td>1.569074e+07</td>\n",
              "      <td>652.000000</td>\n",
              "      <td>37.000000</td>\n",
              "      <td>5.000000</td>\n",
              "      <td>97198.540000</td>\n",
              "      <td>1.000000</td>\n",
              "      <td>1.00000</td>\n",
              "      <td>1.000000</td>\n",
              "      <td>100193.915000</td>\n",
              "      <td>0.000000</td>\n",
              "    </tr>\n",
              "    <tr>\n",
              "      <th>75%</th>\n",
              "      <td>7500.25000</td>\n",
              "      <td>1.575323e+07</td>\n",
              "      <td>718.000000</td>\n",
              "      <td>44.000000</td>\n",
              "      <td>7.000000</td>\n",
              "      <td>127644.240000</td>\n",
              "      <td>2.000000</td>\n",
              "      <td>1.00000</td>\n",
              "      <td>1.000000</td>\n",
              "      <td>149388.247500</td>\n",
              "      <td>0.000000</td>\n",
              "    </tr>\n",
              "    <tr>\n",
              "      <th>max</th>\n",
              "      <td>10000.00000</td>\n",
              "      <td>1.581569e+07</td>\n",
              "      <td>850.000000</td>\n",
              "      <td>92.000000</td>\n",
              "      <td>10.000000</td>\n",
              "      <td>250898.090000</td>\n",
              "      <td>4.000000</td>\n",
              "      <td>1.00000</td>\n",
              "      <td>1.000000</td>\n",
              "      <td>199992.480000</td>\n",
              "      <td>1.000000</td>\n",
              "    </tr>\n",
              "  </tbody>\n",
              "</table>\n",
              "</div>"
            ],
            "text/plain": [
              "         RowNumber    CustomerId  ...  EstimatedSalary        Exited\n",
              "count  10000.00000  1.000000e+04  ...     10000.000000  10000.000000\n",
              "mean    5000.50000  1.569094e+07  ...    100090.239881      0.203700\n",
              "std     2886.89568  7.193619e+04  ...     57510.492818      0.402769\n",
              "min        1.00000  1.556570e+07  ...        11.580000      0.000000\n",
              "25%     2500.75000  1.562853e+07  ...     51002.110000      0.000000\n",
              "50%     5000.50000  1.569074e+07  ...    100193.915000      0.000000\n",
              "75%     7500.25000  1.575323e+07  ...    149388.247500      0.000000\n",
              "max    10000.00000  1.581569e+07  ...    199992.480000      1.000000\n",
              "\n",
              "[8 rows x 11 columns]"
            ]
          },
          "metadata": {
            "tags": []
          },
          "execution_count": 135
        }
      ]
    },
    {
      "cell_type": "code",
      "metadata": {
        "id": "ciy5Jz6v_iDJ",
        "colab": {
          "base_uri": "https://localhost:8080/",
          "height": 166
        },
        "outputId": "b9557d54-8ab3-41fd-82d6-4910c8705611"
      },
      "source": [
        "data.describe(include = 'object')"
      ],
      "execution_count": null,
      "outputs": [
        {
          "output_type": "execute_result",
          "data": {
            "text/html": [
              "<div>\n",
              "<style scoped>\n",
              "    .dataframe tbody tr th:only-of-type {\n",
              "        vertical-align: middle;\n",
              "    }\n",
              "\n",
              "    .dataframe tbody tr th {\n",
              "        vertical-align: top;\n",
              "    }\n",
              "\n",
              "    .dataframe thead th {\n",
              "        text-align: right;\n",
              "    }\n",
              "</style>\n",
              "<table border=\"1\" class=\"dataframe\">\n",
              "  <thead>\n",
              "    <tr style=\"text-align: right;\">\n",
              "      <th></th>\n",
              "      <th>Surname</th>\n",
              "      <th>Geography</th>\n",
              "      <th>Gender</th>\n",
              "    </tr>\n",
              "  </thead>\n",
              "  <tbody>\n",
              "    <tr>\n",
              "      <th>count</th>\n",
              "      <td>10000</td>\n",
              "      <td>10000</td>\n",
              "      <td>10000</td>\n",
              "    </tr>\n",
              "    <tr>\n",
              "      <th>unique</th>\n",
              "      <td>2932</td>\n",
              "      <td>3</td>\n",
              "      <td>2</td>\n",
              "    </tr>\n",
              "    <tr>\n",
              "      <th>top</th>\n",
              "      <td>Smith</td>\n",
              "      <td>France</td>\n",
              "      <td>Male</td>\n",
              "    </tr>\n",
              "    <tr>\n",
              "      <th>freq</th>\n",
              "      <td>32</td>\n",
              "      <td>5014</td>\n",
              "      <td>5457</td>\n",
              "    </tr>\n",
              "  </tbody>\n",
              "</table>\n",
              "</div>"
            ],
            "text/plain": [
              "       Surname Geography Gender\n",
              "count    10000     10000  10000\n",
              "unique    2932         3      2\n",
              "top      Smith    France   Male\n",
              "freq        32      5014   5457"
            ]
          },
          "metadata": {
            "tags": []
          },
          "execution_count": 136
        }
      ]
    },
    {
      "cell_type": "markdown",
      "metadata": {
        "id": "qlW1ZcBE8Llm"
      },
      "source": [
        "* **Checking for missing values.**"
      ]
    },
    {
      "cell_type": "code",
      "metadata": {
        "id": "vy22uY0j8UmC",
        "colab": {
          "base_uri": "https://localhost:8080/",
          "height": 269
        },
        "outputId": "a39f5d28-7166-4056-a03e-3251e4a85320"
      },
      "source": [
        "data.isnull().sum()"
      ],
      "execution_count": null,
      "outputs": [
        {
          "output_type": "execute_result",
          "data": {
            "text/plain": [
              "RowNumber          0\n",
              "CustomerId         0\n",
              "Surname            0\n",
              "CreditScore        0\n",
              "Geography          0\n",
              "Gender             0\n",
              "Age                0\n",
              "Tenure             0\n",
              "Balance            0\n",
              "NumOfProducts      0\n",
              "HasCrCard          0\n",
              "IsActiveMember     0\n",
              "EstimatedSalary    0\n",
              "Exited             0\n",
              "dtype: int64"
            ]
          },
          "metadata": {
            "tags": []
          },
          "execution_count": 137
        }
      ]
    },
    {
      "cell_type": "markdown",
      "metadata": {
        "id": "llaFzjDV8dLS"
      },
      "source": [
        "**Observation:**\n",
        "* Data does not have any missing values."
      ]
    },
    {
      "cell_type": "markdown",
      "metadata": {
        "id": "zP7YXNa48lwP"
      },
      "source": [
        "## **Exploratory Data Anlysis**"
      ]
    },
    {
      "cell_type": "markdown",
      "metadata": {
        "id": "JN3Bye7q9ogZ"
      },
      "source": [
        "* **Univariate Analysis**"
      ]
    },
    {
      "cell_type": "code",
      "metadata": {
        "id": "5vDloO1eDgeP",
        "colab": {
          "base_uri": "https://localhost:8080/",
          "height": 67
        },
        "outputId": "940975cb-e9a7-4479-d635-f9d7122c6c38"
      },
      "source": [
        "# Explore target variable.\n",
        "data['Exited'].value_counts()"
      ],
      "execution_count": null,
      "outputs": [
        {
          "output_type": "execute_result",
          "data": {
            "text/plain": [
              "0    7963\n",
              "1    2037\n",
              "Name: Exited, dtype: int64"
            ]
          },
          "metadata": {
            "tags": []
          },
          "execution_count": 138
        }
      ]
    },
    {
      "cell_type": "code",
      "metadata": {
        "id": "58Yk2Wk-EDrY",
        "colab": {
          "base_uri": "https://localhost:8080/",
          "height": 296
        },
        "outputId": "8982750a-ae27-41e9-87ac-04f0985644b3"
      },
      "source": [
        "sns.countplot(x = 'Exited', data = data)"
      ],
      "execution_count": null,
      "outputs": [
        {
          "output_type": "execute_result",
          "data": {
            "text/plain": [
              "<matplotlib.axes._subplots.AxesSubplot at 0x7fd110be81d0>"
            ]
          },
          "metadata": {
            "tags": []
          },
          "execution_count": 139
        },
        {
          "output_type": "display_data",
          "data": {
            "image/png": "[encoded data removed]",
            "text/plain": [
              "<Figure size 432x288 with 1 Axes>"
            ]
          },
          "metadata": {
            "tags": [],
            "needs_background": "light"
          }
        }
      ]
    },
    {
      "cell_type": "markdown",
      "metadata": {
        "id": "jNDBVxgNDw_9"
      },
      "source": [
        "Observation\n",
        "* Customer who leaves bank are 2,037 while customer who does not leave are 7963 in number.\n",
        "* This is an imbalanced dataset."
      ]
    },
    {
      "cell_type": "code",
      "metadata": {
        "id": "xI0rZCs--4qu",
        "colab": {
          "base_uri": "https://localhost:8080/",
          "height": 1000
        },
        "outputId": "c471bf46-9038-49f3-87db-fe99ba934d4a"
      },
      "source": [
        "list(data['Surname'].unique())"
      ],
      "execution_count": null,
      "outputs": [
        {
          "output_type": "execute_result",
          "data": {
            "text/plain": [
              "['Hargrave',\n",
              " 'Hill',\n",
              " 'Onio',\n",
              " 'Boni',\n",
              " 'Mitchell',\n",
              " 'Chu',\n",
              " 'Bartlett',\n",
              " 'Obinna',\n",
              " 'He',\n",
              " 'H?',\n",
              " 'Bearce',\n",
              " 'Andrews',\n",
              " 'Kay',\n",
              " 'Chin',\n",
              " 'Scott',\n",
              " 'Goforth',\n",
              " 'Romeo',\n",
              " 'Henderson',\n",
              " 'Muldrow',\n",
              " 'Hao',\n",
              " 'McDonald',\n",
              " 'Dellucci',\n",
              " 'Gerasimov',\n",
              " 'Mosman',\n",
              " 'Yen',\n",
              " 'Maclean',\n",
              " 'Young',\n",
              " 'Nebechi',\n",
              " 'McWilliams',\n",
              " 'Lucciano',\n",
              " 'Azikiwe',\n",
              " 'Odinakachukwu',\n",
              " 'Sanderson',\n",
              " 'Maggard',\n",
              " 'Clements',\n",
              " 'Lombardo',\n",
              " 'Watson',\n",
              " 'Lorenzo',\n",
              " 'Armstrong',\n",
              " 'Cameron',\n",
              " 'Hsiao',\n",
              " 'Clarke',\n",
              " 'Osborne',\n",
              " 'Lavine',\n",
              " 'Bianchi',\n",
              " 'Tyler',\n",
              " 'Martin',\n",
              " 'Okagbue',\n",
              " 'Yin',\n",
              " 'Buccho',\n",
              " 'Chidiebele',\n",
              " 'Trevisani',\n",
              " \"O'Brien\",\n",
              " 'Parkhill',\n",
              " 'Yoo',\n",
              " 'Phillipps',\n",
              " 'Tsao',\n",
              " 'Endrizzi',\n",
              " \"T'ien\",\n",
              " 'Velazquez',\n",
              " 'Hunter',\n",
              " 'Clark',\n",
              " 'Jeffrey',\n",
              " 'Pirozzi',\n",
              " 'Jackson',\n",
              " 'Hammond',\n",
              " 'Brownless',\n",
              " 'Chibugo',\n",
              " 'Glauert',\n",
              " 'Pisano',\n",
              " 'Konovalova',\n",
              " 'McKee',\n",
              " 'Palermo',\n",
              " 'Ballard',\n",
              " 'Wallace',\n",
              " 'Cavenagh',\n",
              " 'Hu',\n",
              " 'Read',\n",
              " 'Bushell',\n",
              " 'Postle',\n",
              " 'Buley',\n",
              " 'Leonard',\n",
              " 'Mills',\n",
              " 'Onyeorulu',\n",
              " 'Beit',\n",
              " 'Ndukaku',\n",
              " 'Gant',\n",
              " 'Rowley',\n",
              " 'Sharpe',\n",
              " 'Heap',\n",
              " 'Ritchie',\n",
              " 'Cole',\n",
              " 'Capon',\n",
              " 'Fiorentini',\n",
              " 'Graham',\n",
              " 'Yuille',\n",
              " 'Allard',\n",
              " 'Fanucci',\n",
              " 'Fu',\n",
              " 'Hung',\n",
              " 'Bradley',\n",
              " 'Dunbabin',\n",
              " 'Mauldon',\n",
              " 'Stiger',\n",
              " 'Parsons',\n",
              " 'Walkom',\n",
              " \"T'ang\",\n",
              " 'Eremenko',\n",
              " 'Rowntree',\n",
              " 'Thorpe',\n",
              " 'Chiemela',\n",
              " 'Ko',\n",
              " 'Welch',\n",
              " 'Duncan',\n",
              " 'Chidozie',\n",
              " 'Wu',\n",
              " 'Culbreth',\n",
              " 'Kennedy',\n",
              " 'Calabresi',\n",
              " 'Zetticci',\n",
              " 'Fuller',\n",
              " 'MacDonald',\n",
              " 'Piccio',\n",
              " 'Fernie',\n",
              " 'Kaodilinakachukwu',\n",
              " 'Cocci',\n",
              " 'Alekseeva',\n",
              " 'Chinweike',\n",
              " 'Arthur',\n",
              " 'Li',\n",
              " 'Ma',\n",
              " 'Chia',\n",
              " 'Vasin',\n",
              " 'Groves',\n",
              " 'Tien',\n",
              " 'Forwood',\n",
              " 'Greeves',\n",
              " 'Taylor',\n",
              " 'Madukwe',\n",
              " 'Bennelong',\n",
              " 'Olisanugo',\n",
              " 'Chukwufumnanya',\n",
              " 'Harris',\n",
              " 'Morgan',\n",
              " 'Alexeeva',\n",
              " 'Metcalfe',\n",
              " 'Humphries',\n",
              " 'Milne',\n",
              " 'Chou',\n",
              " 'Clayton',\n",
              " 'Chigolum',\n",
              " 'Wilkinson',\n",
              " 'Wei',\n",
              " 'Treacy',\n",
              " 'Taverner',\n",
              " 'Sherman',\n",
              " 'Taubman',\n",
              " 'Robinson',\n",
              " 'Pinto',\n",
              " 'Wood',\n",
              " 'Hawkins',\n",
              " 'Sun',\n",
              " 'Yost',\n",
              " 'Ting',\n",
              " 'Rowe',\n",
              " 'Ho',\n",
              " 'Okechukwu',\n",
              " 'Campbell',\n",
              " 'Ashbolt',\n",
              " 'Rozier',\n",
              " 'Hsia',\n",
              " 'Ogbonnaya',\n",
              " 'Chang',\n",
              " \"T'ao\",\n",
              " 'Ford',\n",
              " 'Marshall',\n",
              " 'Tsai',\n",
              " 'Onwumelu',\n",
              " 'Golovanov',\n",
              " 'Potts',\n",
              " 'Crawford',\n",
              " 'Aleshire',\n",
              " 'Moran',\n",
              " 'Samsonova',\n",
              " 'Jenkins',\n",
              " 'Volkov',\n",
              " 'Chiemezie',\n",
              " 'Jude',\n",
              " 'Onuora',\n",
              " 'Ginikanwa',\n",
              " 'Ku',\n",
              " 'Collins',\n",
              " 'Hackett',\n",
              " 'Dike',\n",
              " 'Trevisano',\n",
              " 'Tan',\n",
              " 'Glassman',\n",
              " 'Miller',\n",
              " 'Kornilova',\n",
              " 'Marchesi',\n",
              " 'Millar',\n",
              " 'Shih',\n",
              " 'Hay',\n",
              " 'Yang',\n",
              " 'McIntyre',\n",
              " 'Stevenson',\n",
              " 'Poole',\n",
              " 'Bagley',\n",
              " \"Ch'ien\",\n",
              " 'Cattaneo',\n",
              " \"O'Sullivan\",\n",
              " 'Lucas',\n",
              " 'Ringrose',\n",
              " 'Freeman',\n",
              " 'Sergeyev',\n",
              " 'Fiore',\n",
              " 'Smith',\n",
              " 'Dumetochukwu',\n",
              " 'Pacheco',\n",
              " 'Synnot',\n",
              " 'Johnston',\n",
              " 'Stevens',\n",
              " 'Grant',\n",
              " 'Barnes',\n",
              " 'McIntosh',\n",
              " 'Madison',\n",
              " 'Ifesinachi',\n",
              " 'Glazkov',\n",
              " 'Dimauro',\n",
              " 'Wieck',\n",
              " 'Liao',\n",
              " 'Hughes',\n",
              " 'Morrison',\n",
              " 'Matveyeva',\n",
              " 'Cheatham',\n",
              " 'Yao',\n",
              " 'Kirkland',\n",
              " 'Rose',\n",
              " 'Jess',\n",
              " 'Ifeajuna',\n",
              " 'Morton',\n",
              " 'Rossi',\n",
              " 'Reppert',\n",
              " 'Kang',\n",
              " \"Ch'iu\",\n",
              " 'Wallis',\n",
              " 'Fielding',\n",
              " 'Dulhunty',\n",
              " 'Bevington',\n",
              " 'Boyle',\n",
              " 'Newton',\n",
              " 'Bowman',\n",
              " 'Dubinina',\n",
              " 'Toscani',\n",
              " 'Chiazagomekpere',\n",
              " 'Allen',\n",
              " \"K'ung\",\n",
              " 'Wilsmore',\n",
              " 'Hargreaves',\n",
              " 'Huang',\n",
              " 'Wallwork',\n",
              " 'Davidson',\n",
              " \"O'Donnell\",\n",
              " 'Nnachetam',\n",
              " 'Ahmed',\n",
              " 'Booth',\n",
              " 'Chuang',\n",
              " 'Shao',\n",
              " 'Johnson',\n",
              " 'French',\n",
              " 'Efremov',\n",
              " 'Hartley',\n",
              " 'Calabrese',\n",
              " 'Chiu',\n",
              " 'Brennan',\n",
              " 'Onwuatuegwu',\n",
              " 'Hewitt',\n",
              " 'Balashov',\n",
              " 'Doyle',\n",
              " 'Pokrovskii',\n",
              " 'Russo',\n",
              " 'Skinner',\n",
              " 'Robertson',\n",
              " 'Atkinson',\n",
              " 'McEncroe',\n",
              " 'Pearson',\n",
              " 'Gordon',\n",
              " \"Ts'ai\",\n",
              " 'Lung',\n",
              " 'Yuan',\n",
              " 'Pardey',\n",
              " 'Tai',\n",
              " 'Mazzanti',\n",
              " 'L?',\n",
              " 'Beach',\n",
              " 'Hsieh',\n",
              " 'Faulkner',\n",
              " 'Knowles',\n",
              " 'Day',\n",
              " 'Hsueh',\n",
              " 'Nwabugwu',\n",
              " 'Kerr',\n",
              " 'Marrero',\n",
              " 'White',\n",
              " 'Brown',\n",
              " 'Russell',\n",
              " 'Seleznyov',\n",
              " 'Yusupova',\n",
              " 'Foley',\n",
              " 'Ikedinachukwu',\n",
              " 'Power',\n",
              " 'Amos',\n",
              " 'Reed',\n",
              " 'Simmons',\n",
              " 'Ricci',\n",
              " 'West',\n",
              " 'Chen',\n",
              " 'Madukaego',\n",
              " 'Ibrahimova',\n",
              " 'Nolan',\n",
              " 'Blair',\n",
              " 'Monaldo',\n",
              " 'Sutherland',\n",
              " 'Briggs',\n",
              " 'Gregory',\n",
              " 'Angelo',\n",
              " 'Gardiner',\n",
              " 'Distefano',\n",
              " 'Farrell',\n",
              " 'Milano',\n",
              " 'Boyd',\n",
              " 'Onyemaechi',\n",
              " 'Black',\n",
              " 'Oliver',\n",
              " 'Greco',\n",
              " 'Whitehead',\n",
              " 'Ikemefuna',\n",
              " 'Onyeoruru',\n",
              " 'Cunningham',\n",
              " 'Demidov',\n",
              " 'Celis',\n",
              " 'Cheng',\n",
              " 'Knight',\n",
              " 'Morin',\n",
              " 'Outhwaite',\n",
              " 'Tung',\n",
              " 'Pai',\n",
              " 'Carpenter',\n",
              " 'Fennell',\n",
              " 'Fontaine',\n",
              " 'Pratt',\n",
              " 'Franklin',\n",
              " 'McKenzie',\n",
              " 'Pino',\n",
              " 'Fisk',\n",
              " 'Chiang',\n",
              " 'Moseley',\n",
              " 'Hsiung',\n",
              " 'Heath',\n",
              " 'De Salis',\n",
              " 'Richardson',\n",
              " 'Fitch',\n",
              " 'Estes',\n",
              " 'Lattimore',\n",
              " 'Chung',\n",
              " 'Utz',\n",
              " 'Nwachinemelu',\n",
              " 'Kuznetsova',\n",
              " 'Pisani',\n",
              " 'Manna',\n",
              " 'Collier',\n",
              " 'Carr',\n",
              " 'Hs?',\n",
              " 'Findlay',\n",
              " 'Chukwuemeka',\n",
              " 'Genovese',\n",
              " 'Swift',\n",
              " 'Ugoji',\n",
              " 'Parkinson',\n",
              " 'Ross',\n",
              " 'Oleary',\n",
              " 'Turnbull',\n",
              " 'Uspensky',\n",
              " 'Cook',\n",
              " 'Newbold',\n",
              " 'Uchechukwu',\n",
              " \"Ch'en\",\n",
              " 'Hilton',\n",
              " 'Sal',\n",
              " 'Eluemuno',\n",
              " 'Titus',\n",
              " 'Lettiere',\n",
              " 'Templeman',\n",
              " 'Chibuzo',\n",
              " 'Evans',\n",
              " 'Enyinnaya',\n",
              " 'Brookes',\n",
              " 'Padovano',\n",
              " 'Hare',\n",
              " 'Muir',\n",
              " 'Elewechi',\n",
              " 'Ankudinov',\n",
              " 'Nwokike',\n",
              " 'Atkins',\n",
              " 'Burns',\n",
              " 'Obiuto',\n",
              " 'George',\n",
              " 'Lewis',\n",
              " 'Dalrymple',\n",
              " 'Carslaw',\n",
              " 'Kirby',\n",
              " 'Houghton',\n",
              " 'Westerberg',\n",
              " 'Hale',\n",
              " 'Kryukova',\n",
              " 'Sopuluchukwu',\n",
              " 'Barry',\n",
              " 'Selezneva',\n",
              " 'Chizuoke',\n",
              " 'Lueck',\n",
              " 'Udinese',\n",
              " 'Udobata',\n",
              " 'Outlaw',\n",
              " 'Lo',\n",
              " 'King',\n",
              " 'Forbes',\n",
              " 'Macleod',\n",
              " 'Gibbs',\n",
              " 'Isayev',\n",
              " 'Belstead',\n",
              " 'Vassiliev',\n",
              " 'Schneider',\n",
              " 'Knipe',\n",
              " 'Macartney',\n",
              " 'Watts',\n",
              " 'Humphreys',\n",
              " 'Chesnokova',\n",
              " 'Kung',\n",
              " 'Lu',\n",
              " 'Nkemakolam',\n",
              " 'Walton',\n",
              " 'Baldwin',\n",
              " 'Mai',\n",
              " 'Ferreira',\n",
              " 'Ukaegbunam',\n",
              " 'De Luca',\n",
              " 'Davide',\n",
              " 'Kodilinyechukwu',\n",
              " 'Little',\n",
              " 'Paterson',\n",
              " 'Han',\n",
              " 'Ijendu',\n",
              " 'Reichard',\n",
              " 'Price',\n",
              " 'Bruce',\n",
              " 'Sumrall',\n",
              " 'Lazarev',\n",
              " 'Wentworth-Shields',\n",
              " 'Mackenzie',\n",
              " 'Pendergrass',\n",
              " 'Billson',\n",
              " 'Teng',\n",
              " 'Moretti',\n",
              " 'Jordan',\n",
              " \"Ts'ao\",\n",
              " \"Ch'ang\",\n",
              " 'Obialo',\n",
              " 'Gray',\n",
              " 'Lin',\n",
              " 'Hopkins',\n",
              " 'Dobson',\n",
              " 'McKay',\n",
              " 'Revell',\n",
              " 'Rickards',\n",
              " 'Begum',\n",
              " 'Onyinyechukwuka',\n",
              " 'Zuyev',\n",
              " 'Nwankwo',\n",
              " 'Okwuadigbo',\n",
              " 'Chan',\n",
              " 'Buchi',\n",
              " 'Lombardi',\n",
              " 'Uchenna',\n",
              " 'Coffman',\n",
              " 'Alexandrova',\n",
              " 'Fallaci',\n",
              " 'Hudson',\n",
              " 'Stout',\n",
              " 'Burke',\n",
              " 'Chadwick',\n",
              " 'Lawrence',\n",
              " 'Bellucci',\n",
              " 'Harper',\n",
              " 'Moss',\n",
              " 'Avdeyeva',\n",
              " 'Lynton',\n",
              " 'Gether',\n",
              " 'Larionova',\n",
              " 'Loggia',\n",
              " 'Steinhoff',\n",
              " 'Guerra',\n",
              " 'Craig',\n",
              " 'Lazareva',\n",
              " 'Alderete',\n",
              " 'Rahman',\n",
              " 'McMillan',\n",
              " 'Pickering',\n",
              " 'Mirams',\n",
              " 'Douglas',\n",
              " 'Jideofor',\n",
              " 'Bell',\n",
              " 'Mairinger',\n",
              " 'Pagnotto',\n",
              " 'Feng',\n",
              " 'Donaldson',\n",
              " 'Chambers',\n",
              " 'Marcelo',\n",
              " 'Ejimofor',\n",
              " 'Dale',\n",
              " 'Pokrovsky',\n",
              " 'Stonebraker',\n",
              " 'Liang',\n",
              " 'Anderson',\n",
              " 'Christian',\n",
              " 'Mao',\n",
              " 'Sagese',\n",
              " 'Fleming',\n",
              " 'Grubb',\n",
              " 'Napolitani',\n",
              " 'Anenechi',\n",
              " 'Chandler',\n",
              " 'Howells',\n",
              " 'Akeroyd',\n",
              " 'Uwaezuoke',\n",
              " 'Loyau',\n",
              " 'Small',\n",
              " 'Bledsoe',\n",
              " 'Kao',\n",
              " 'Wickens',\n",
              " 'Wertheim',\n",
              " 'Jarvis',\n",
              " \"P'an\",\n",
              " 'Repina',\n",
              " 'Pugliesi',\n",
              " 'Blakey',\n",
              " 'Nucci',\n",
              " 'Higinbotham',\n",
              " 'Achebe',\n",
              " 'Dobie',\n",
              " 'Maccallum',\n",
              " 'Watkins',\n",
              " 'Mitchel',\n",
              " 'Ferdinand',\n",
              " 'Otitodilinna',\n",
              " 'Mamelu',\n",
              " 'Beneventi',\n",
              " 'Perrodin',\n",
              " 'Chinagorom',\n",
              " 'Napolitano',\n",
              " 'Edgar',\n",
              " 'Walker',\n",
              " 'Steele',\n",
              " 'Elkins',\n",
              " 'Toscano',\n",
              " 'Savage',\n",
              " 'Mordvinova',\n",
              " 'Kent',\n",
              " 'Cooper',\n",
              " 'Mazzi',\n",
              " 'Fisher',\n",
              " 'Summers',\n",
              " 'Brady',\n",
              " 'Nicholls',\n",
              " 'Golubov',\n",
              " 'Oldham',\n",
              " 'Kambinachi',\n",
              " 'Chinwemma',\n",
              " 'Olsen',\n",
              " 'Jen',\n",
              " 'Preston',\n",
              " 'Ozioma',\n",
              " 'Cody',\n",
              " 'Ponomarev',\n",
              " 'Milani',\n",
              " 'Tang',\n",
              " 'Romani',\n",
              " 'Davis',\n",
              " 'Onyemauchechukwu',\n",
              " 'Gell',\n",
              " 'Chiwetelu',\n",
              " 'Kirillova',\n",
              " 'Shaw',\n",
              " 'Okwudilichukwu',\n",
              " 'Onuoha',\n",
              " 'Muecke',\n",
              " 'Azubuike',\n",
              " 'Nnonso',\n",
              " 'Ashley',\n",
              " \"Ts'ui\",\n",
              " 'Kenenna',\n",
              " 'Beluchi',\n",
              " 'Williamson',\n",
              " 'Bobrov',\n",
              " 'Pitts',\n",
              " 'Standish',\n",
              " 'Cartwright',\n",
              " 'Johnstone',\n",
              " 'Nikitina',\n",
              " 'McElroy',\n",
              " 'Shen',\n",
              " 'Archer',\n",
              " 'Otutodilinna',\n",
              " 'Denisov',\n",
              " 'Owens',\n",
              " \"P'eng\",\n",
              " 'Verco',\n",
              " 'Bergamaschi',\n",
              " 'Outtrim',\n",
              " 'Hou',\n",
              " 'Galkin',\n",
              " 'Echezonachukwu',\n",
              " 'Munro',\n",
              " 'Ball',\n",
              " 'Virgo',\n",
              " 'Tao',\n",
              " 'Perez',\n",
              " 'Fraser',\n",
              " 'Alley',\n",
              " 'Hooper',\n",
              " 'Rice',\n",
              " 'Cox',\n",
              " 'Ikenna',\n",
              " 'Alexander',\n",
              " 'Piazza',\n",
              " 'Ni',\n",
              " 'Harker',\n",
              " 'Chiabuotu',\n",
              " 'Kuo',\n",
              " 'Gallagher',\n",
              " 'Zhirov',\n",
              " 'Lloyd',\n",
              " 'Palmer',\n",
              " \"Ch'eng\",\n",
              " 'Avent',\n",
              " 'Trentini',\n",
              " 'Koehler',\n",
              " 'Okoli',\n",
              " 'Nwokezuike',\n",
              " 'Artemiev',\n",
              " 'Esposito',\n",
              " 'Abbie',\n",
              " 'Averyanov',\n",
              " 'Unaipon',\n",
              " 'Clamp',\n",
              " 'Lim',\n",
              " 'Wan',\n",
              " 'Pettit',\n",
              " 'Baresi',\n",
              " 'Newbery',\n",
              " 'Iheanacho',\n",
              " 'Landry',\n",
              " 'McGregor',\n",
              " 'Pirogov',\n",
              " 'Oguejiofor',\n",
              " 'Ugochukwu',\n",
              " 'Rohu',\n",
              " 'Cary',\n",
              " \"O'Loghlen\",\n",
              " 'Quinn',\n",
              " 'Page',\n",
              " 'Stanley',\n",
              " 'Bednall',\n",
              " 'She',\n",
              " 'May',\n",
              " 'Seabrook',\n",
              " 'Herrera',\n",
              " 'Kincaid',\n",
              " 'Sleeman',\n",
              " 'Artemieva',\n",
              " 'Barwell',\n",
              " 'Wright',\n",
              " 'Moore',\n",
              " 'Sung',\n",
              " 'Mello',\n",
              " 'Mistry',\n",
              " 'Chukwukadibia',\n",
              " 'Zikoranachidimma',\n",
              " 'Oluchukwu',\n",
              " 'Rivera',\n",
              " 'Niu',\n",
              " 'Bennett',\n",
              " 'Wollstonecraft',\n",
              " 'Thomsen',\n",
              " 'Chinwendu',\n",
              " 'James',\n",
              " 'Lamb',\n",
              " 'Olejuru',\n",
              " 'Chiawuotu',\n",
              " 'Yeates',\n",
              " 'Thurgood',\n",
              " 'Knupp',\n",
              " 'Baryshnikov',\n",
              " 'Shephard',\n",
              " 'Avdeeva',\n",
              " 'Hsu',\n",
              " 'Buchanan',\n",
              " 'Yeh',\n",
              " 'Palazzi',\n",
              " 'Y?an',\n",
              " 'Schofield',\n",
              " 'Wall',\n",
              " 'Blackburn',\n",
              " 'Wickham',\n",
              " 'Bird',\n",
              " 'Brizendine',\n",
              " \"Ch'in\",\n",
              " 'Yusupov',\n",
              " 'Jibunoh',\n",
              " 'Wilder',\n",
              " 'Nepean',\n",
              " 'McNess',\n",
              " 'Coles',\n",
              " 'Benson',\n",
              " 'Gilbert',\n",
              " 'Wilhelm',\n",
              " 'Sinclair',\n",
              " 'Buckner',\n",
              " 'Padovesi',\n",
              " 'Palerma',\n",
              " 'Pan',\n",
              " 'Kenniff',\n",
              " 'Spencer',\n",
              " 'Lees',\n",
              " 'David',\n",
              " 'Hsing',\n",
              " 'Ginn',\n",
              " 'Sozonov',\n",
              " 'Manfrin',\n",
              " 'Artamonova',\n",
              " 'Hansen',\n",
              " 'Larsen',\n",
              " 'Owen',\n",
              " 'Murphy',\n",
              " 'Ekechukwu',\n",
              " 'Ayers',\n",
              " 'Sanders',\n",
              " 'Eberechukwu',\n",
              " 'Bardin',\n",
              " 'Talbot',\n",
              " 'Goold',\n",
              " 'Zikoranaudodimma',\n",
              " 'Garner',\n",
              " 'Naylor',\n",
              " 'Fulton',\n",
              " 'McCaffrey',\n",
              " 'Zuev',\n",
              " 'Fabro',\n",
              " 'Chatfield',\n",
              " 'Volkova',\n",
              " 'Abramovich',\n",
              " 'Chien',\n",
              " 'Timms',\n",
              " 'Williford',\n",
              " 'Hamilton',\n",
              " 'Su',\n",
              " 'Akobundu',\n",
              " 'Chukwuebuka',\n",
              " 'Lampungmeiua',\n",
              " 'Kline',\n",
              " 'Riggs',\n",
              " 'Davison',\n",
              " 'Ingram',\n",
              " 'Dilke',\n",
              " 'Gibson',\n",
              " 'Iadanza',\n",
              " 'Hebert',\n",
              " 'Jamieson',\n",
              " 'Chiganu',\n",
              " 'Burgess',\n",
              " 'Woods',\n",
              " 'Bluett',\n",
              " 'Chapman',\n",
              " 'Andrejew',\n",
              " 'Spyer',\n",
              " 'Philip',\n",
              " 'Perry',\n",
              " 'Fokine',\n",
              " 'Mackay',\n",
              " 'Maslova',\n",
              " 'McLean',\n",
              " 'Thompson',\n",
              " 'Tisdall',\n",
              " 'Onochie',\n",
              " 'Mironova',\n",
              " 'Ndubueze',\n",
              " 'Stephenson',\n",
              " 'Golubev',\n",
              " 'Mullan',\n",
              " 'Glover',\n",
              " 'Northey',\n",
              " 'Howarde',\n",
              " 'Colman',\n",
              " 'Butcher',\n",
              " 'Wilkie',\n",
              " 'Bray',\n",
              " 'Ann',\n",
              " 'Souter',\n",
              " 'Medvedeva',\n",
              " 'Onwudiwe',\n",
              " 'Ferrari',\n",
              " 'Hazon',\n",
              " 'Hardy',\n",
              " 'Dickson',\n",
              " 'Holden',\n",
              " 'Doherty',\n",
              " 'Samuel',\n",
              " 'Malloy',\n",
              " 'Fitts',\n",
              " 'Yefimova',\n",
              " 'Abramov',\n",
              " 'Demuth',\n",
              " 'Lawless',\n",
              " 'Brooks',\n",
              " 'Ignatyeva',\n",
              " 'Balmain',\n",
              " 'Ecuyer',\n",
              " 'Li Fonti',\n",
              " 'Despeissis',\n",
              " 'Williams',\n",
              " 'Hancock',\n",
              " 'Wilkins',\n",
              " 'Longo',\n",
              " 'Mancini',\n",
              " 'Winter-Irving',\n",
              " 'Stewart',\n",
              " 'Murray',\n",
              " 'Rischbieth',\n",
              " 'Otutodilichukwu',\n",
              " 'Thomas',\n",
              " 'Whitworth',\n",
              " 'Trentino',\n",
              " 'McMasters',\n",
              " 'Alekseyeva',\n",
              " 'Baranova',\n",
              " 'Yobachi',\n",
              " 'Sorokina',\n",
              " 'Ervin',\n",
              " 'Vance',\n",
              " 'Noble',\n",
              " 'Milanesi',\n",
              " 'Parkin',\n",
              " 'Cremonesi',\n",
              " 'Docherty',\n",
              " 'Ugonna',\n",
              " 'Bevan',\n",
              " \"O'Neill\",\n",
              " 'Pham',\n",
              " 'Osinachi',\n",
              " 'Muravyov',\n",
              " 'Igwebuike',\n",
              " 'Zack',\n",
              " 'Chidiegwu',\n",
              " 'Lucchesi',\n",
              " 'Yudin',\n",
              " 'Wade',\n",
              " 'Septimus',\n",
              " 'Hargraves',\n",
              " 'Sidorov',\n",
              " 'Bunton',\n",
              " 'Conti',\n",
              " 'Sims',\n",
              " 'Carter',\n",
              " 'Dumetolisa',\n",
              " 'Peng',\n",
              " 'Drake-Brockman',\n",
              " 'Tretiakov',\n",
              " 'Lai',\n",
              " 'Justice',\n",
              " 'Osonduagwuike',\n",
              " 'Ewing',\n",
              " 'Tsou',\n",
              " 'Ubanwa',\n",
              " 'Kapustin',\n",
              " 'Nnamutaezinwa',\n",
              " 'Ferri',\n",
              " 'Amechi',\n",
              " 'Kirk',\n",
              " 'Griffin',\n",
              " 'Longstaff',\n",
              " 'McWilliam',\n",
              " 'Coffee',\n",
              " 'Creswell',\n",
              " 'Dodds',\n",
              " 'Ewen',\n",
              " 'Boniwell',\n",
              " 'Vasilieva',\n",
              " 'Kwemto',\n",
              " 'Bocharova',\n",
              " 'Morres',\n",
              " 'Vogel',\n",
              " \"T'an\",\n",
              " 'Wisdom',\n",
              " 'Shahan',\n",
              " 'Bryant',\n",
              " 'Hayward',\n",
              " 'Liu',\n",
              " 'Greece',\n",
              " 'Norman',\n",
              " 'Chukwudi',\n",
              " 'Fedorov',\n",
              " 'Reid',\n",
              " 'Wofford',\n",
              " 'Stephens',\n",
              " 'Frolov',\n",
              " 'Fields',\n",
              " 'Suffolk',\n",
              " 'Judd',\n",
              " 'Degtyarev',\n",
              " 'Kinlaw',\n",
              " 'Omeokachie',\n",
              " 'Gorbunova',\n",
              " 'Tikhonov',\n",
              " 'Campa',\n",
              " 'Donoghue',\n",
              " 'Tuan',\n",
              " 'Baxter',\n",
              " 'Rogers',\n",
              " 'Byrne',\n",
              " 'Aitken',\n",
              " 'Macintyre',\n",
              " 'Simpson',\n",
              " 'Praed',\n",
              " 'Laurens',\n",
              " 'Bykov',\n",
              " 'Vorobyova',\n",
              " 'Pirogova',\n",
              " 'Sturt',\n",
              " 'Panicucci',\n",
              " 'Siciliani',\n",
              " 'Lucchese',\n",
              " 'Swaim',\n",
              " 'Quinones',\n",
              " 'Ludowici',\n",
              " 'Larson',\n",
              " 'Landman',\n",
              " 'K?',\n",
              " 'Alexeyeva',\n",
              " 'Chukwualuka',\n",
              " 'McCall',\n",
              " 'Okeke',\n",
              " 'Iloabuchi',\n",
              " 'Nebechukwu',\n",
              " 'Diribe',\n",
              " 'Macgroarty',\n",
              " 'Artemova',\n",
              " 'Kelly',\n",
              " 'Reilly',\n",
              " 'Ojiofor',\n",
              " 'Shelton',\n",
              " 'Lange',\n",
              " 'Hovell',\n",
              " 'Espinosa',\n",
              " 'Barbour',\n",
              " 'Ozerova',\n",
              " 'Ulyanova',\n",
              " 'Steiner',\n",
              " 'Akabueze',\n",
              " 'Aleksandrova',\n",
              " 'Griffiths',\n",
              " 'McNeil',\n",
              " 'Bruno',\n",
              " 'Okorie',\n",
              " 'Moen',\n",
              " 'McGuigan',\n",
              " 'Fancher',\n",
              " 'Matthews',\n",
              " 'Kaeppel',\n",
              " 'Yudina',\n",
              " 'Jamison',\n",
              " 'Hardiman',\n",
              " 'Woodard',\n",
              " 'Chienezie',\n",
              " 'Chineze',\n",
              " 'Buckland',\n",
              " 'Flannery',\n",
              " 'Payne',\n",
              " 'Vincent',\n",
              " 'Pearce',\n",
              " 'Riley',\n",
              " 'Honore',\n",
              " 'Macarthur',\n",
              " 'Gould',\n",
              " 'Medvedev',\n",
              " 'Sholes',\n",
              " 'Rolon',\n",
              " 'Bligh',\n",
              " 'Lamble',\n",
              " 'Jose',\n",
              " 'Howard',\n",
              " 'Onwuamaeze',\n",
              " ...]"
            ]
          },
          "metadata": {
            "tags": []
          },
          "execution_count": 140
        }
      ]
    },
    {
      "cell_type": "code",
      "metadata": {
        "id": "hA4b91peAs2b",
        "colab": {
          "base_uri": "https://localhost:8080/",
          "height": 235
        },
        "outputId": "36c103a7-6faa-449d-d2a5-4794e865b80f"
      },
      "source": [
        "print(data['Surname'].value_counts())\n",
        "len(data['Surname'].value_counts())"
      ],
      "execution_count": null,
      "outputs": [
        {
          "output_type": "stream",
          "text": [
            "Smith        32\n",
            "Scott        29\n",
            "Martin       29\n",
            "Walker       28\n",
            "Brown        26\n",
            "             ..\n",
            "Shaver        1\n",
            "Reppert       1\n",
            "Longstaff     1\n",
            "Townsley      1\n",
            "Naquin        1\n",
            "Name: Surname, Length: 2932, dtype: int64\n"
          ],
          "name": "stdout"
        },
        {
          "output_type": "execute_result",
          "data": {
            "text/plain": [
              "2932"
            ]
          },
          "metadata": {
            "tags": []
          },
          "execution_count": 141
        }
      ]
    },
    {
      "cell_type": "markdown",
      "metadata": {
        "id": "OFh2naIU-tC2"
      },
      "source": [
        "Observation\n",
        "* Total unique surnames are 2,932.\n",
        "* The most common surnames are Smith, Scott, Martin, Walker, Brown."
      ]
    },
    {
      "cell_type": "code",
      "metadata": {
        "id": "lBnGpQPQ9Pkm",
        "colab": {
          "base_uri": "https://localhost:8080/",
          "height": 84
        },
        "outputId": "1b11b2fa-2aa8-4830-a668-86d25b27e038"
      },
      "source": [
        "data['Geography'].value_counts()"
      ],
      "execution_count": null,
      "outputs": [
        {
          "output_type": "execute_result",
          "data": {
            "text/plain": [
              "France     5014\n",
              "Germany    2509\n",
              "Spain      2477\n",
              "Name: Geography, dtype: int64"
            ]
          },
          "metadata": {
            "tags": []
          },
          "execution_count": 142
        }
      ]
    },
    {
      "cell_type": "code",
      "metadata": {
        "id": "CagQXJpQAMn7",
        "colab": {
          "base_uri": "https://localhost:8080/",
          "height": 296
        },
        "outputId": "eb8c5aac-1de2-47a8-f2e7-0856a5e370b4"
      },
      "source": [
        "sns.countplot(x = 'Geography', data = data)"
      ],
      "execution_count": null,
      "outputs": [
        {
          "output_type": "execute_result",
          "data": {
            "text/plain": [
              "<matplotlib.axes._subplots.AxesSubplot at 0x7fd110bba550>"
            ]
          },
          "metadata": {
            "tags": []
          },
          "execution_count": 143
        },
        {
          "output_type": "display_data",
          "data": {
            "image/png": "[encoded data removed]",
            "text/plain": [
              "<Figure size 432x288 with 1 Axes>"
            ]
          },
          "metadata": {
            "tags": [],
            "needs_background": "light"
          }
        }
      ]
    },
    {
      "cell_type": "code",
      "metadata": {
        "id": "60Ip5t0r_u9j",
        "colab": {
          "base_uri": "https://localhost:8080/",
          "height": 296
        },
        "outputId": "55a50673-035d-47c2-dead-f739d0a220e1"
      },
      "source": [
        "sns.countplot(x = 'Geography', hue = 'Exited', data = data)"
      ],
      "execution_count": null,
      "outputs": [
        {
          "output_type": "execute_result",
          "data": {
            "text/plain": [
              "<matplotlib.axes._subplots.AxesSubplot at 0x7fd110b09c18>"
            ]
          },
          "metadata": {
            "tags": []
          },
          "execution_count": 144
        },
        {
          "output_type": "display_data",
          "data": {
            "image/png": "[encoded data removed]",
            "text/plain": [
              "<Figure size 432x288 with 1 Axes>"
            ]
          },
          "metadata": {
            "tags": [],
            "needs_background": "light"
          }
        }
      ]
    },
    {
      "cell_type": "markdown",
      "metadata": {
        "id": "iNtb9ggM_xp_"
      },
      "source": [
        "Observations:\n",
        "* The customer belongs to three different location. they are France, Germany, Spain.\n",
        "* Mostly customer belongs to France.\n",
        "* Number of customer belongs to Spain and Germany are amlost equal.\n",
        "* Mostly Customer who leaves bank are from Germany and France."
      ]
    },
    {
      "cell_type": "code",
      "metadata": {
        "id": "zKwElKb9B7uY",
        "colab": {
          "base_uri": "https://localhost:8080/",
          "height": 67
        },
        "outputId": "4be6d5f4-5d23-433d-a1da-f3bc723dd370"
      },
      "source": [
        "data['Gender'].value_counts()"
      ],
      "execution_count": null,
      "outputs": [
        {
          "output_type": "execute_result",
          "data": {
            "text/plain": [
              "Male      5457\n",
              "Female    4543\n",
              "Name: Gender, dtype: int64"
            ]
          },
          "metadata": {
            "tags": []
          },
          "execution_count": 145
        }
      ]
    },
    {
      "cell_type": "code",
      "metadata": {
        "id": "qWcb3US9A_Cs",
        "colab": {
          "base_uri": "https://localhost:8080/",
          "height": 296
        },
        "outputId": "5c7dc022-dfa4-4a46-8791-d57650bc9171"
      },
      "source": [
        "sns.countplot(x = 'Gender', data = data)"
      ],
      "execution_count": null,
      "outputs": [
        {
          "output_type": "execute_result",
          "data": {
            "text/plain": [
              "<matplotlib.axes._subplots.AxesSubplot at 0x7fd110aec9e8>"
            ]
          },
          "metadata": {
            "tags": []
          },
          "execution_count": 146
        },
        {
          "output_type": "display_data",
          "data": {
            "image/png": "[encoded data removed]",
            "text/plain": [
              "<Figure size 432x288 with 1 Axes>"
            ]
          },
          "metadata": {
            "tags": [],
            "needs_background": "light"
          }
        }
      ]
    },
    {
      "cell_type": "code",
      "metadata": {
        "id": "x_hj-ambCY7R",
        "colab": {
          "base_uri": "https://localhost:8080/",
          "height": 296
        },
        "outputId": "553d8fbf-65b3-4382-f3c3-52697e8a7998"
      },
      "source": [
        "sns.countplot(x = 'Gender', hue = 'Exited', data = data)"
      ],
      "execution_count": null,
      "outputs": [
        {
          "output_type": "execute_result",
          "data": {
            "text/plain": [
              "<matplotlib.axes._subplots.AxesSubplot at 0x7fd110a3efd0>"
            ]
          },
          "metadata": {
            "tags": []
          },
          "execution_count": 147
        },
        {
          "output_type": "display_data",
          "data": {
            "image/png": "[encoded data removed]",
            "text/plain": [
              "<Figure size 432x288 with 1 Axes>"
            ]
          },
          "metadata": {
            "tags": [],
            "needs_background": "light"
          }
        }
      ]
    },
    {
      "cell_type": "code",
      "metadata": {
        "id": "zbL95i6BDP9U",
        "colab": {
          "base_uri": "https://localhost:8080/",
          "height": 296
        },
        "outputId": "fc0debfe-d568-4615-8955-87e52cbaa412"
      },
      "source": [
        "sns.countplot(x = 'Gender', hue = 'Geography', data = data )"
      ],
      "execution_count": null,
      "outputs": [
        {
          "output_type": "execute_result",
          "data": {
            "text/plain": [
              "<matplotlib.axes._subplots.AxesSubplot at 0x7fd110a15cf8>"
            ]
          },
          "metadata": {
            "tags": []
          },
          "execution_count": 148
        },
        {
          "output_type": "display_data",
          "data": {
            "image/png": "[encoded data removed]",
            "text/plain": [
              "<Figure size 432x288 with 1 Axes>"
            ]
          },
          "metadata": {
            "tags": [],
            "needs_background": "light"
          }
        }
      ]
    },
    {
      "cell_type": "markdown",
      "metadata": {
        "id": "Hy3cwwgbCIXX"
      },
      "source": [
        "**Observation:**\n",
        "* Male customer are more than the female customer.\n",
        "* Female customer are more in number who leaves bank than the male customer.\n",
        "* Customer belongs to France are more male than female\n",
        "* If we look up female customers then female customers belongs to France are more then the customer belongs to Spain and Germany.\n",
        "* If we look up male customer than customer belongs to France are more than customer belongs to Spain and France.\n",
        "* Female customers belongs to Germany are little bit more than the customers belongs to Spain.\n",
        "* Male customers belongs to Spain are more than the customers belongs to Germany."
      ]
    },
    {
      "cell_type": "markdown",
      "metadata": {
        "id": "a6Ju_PRvHSkG"
      },
      "source": [
        "* **Tenure** is the period or duration for which the loan amount is sanctioned"
      ]
    },
    {
      "cell_type": "code",
      "metadata": {
        "id": "n2uUd_ILB2YJ",
        "colab": {
          "base_uri": "https://localhost:8080/",
          "height": 218
        },
        "outputId": "e6920440-0396-4596-be1d-c48a8b5de8cf"
      },
      "source": [
        "data['Tenure'].value_counts()"
      ],
      "execution_count": null,
      "outputs": [
        {
          "output_type": "execute_result",
          "data": {
            "text/plain": [
              "2     1048\n",
              "1     1035\n",
              "7     1028\n",
              "8     1025\n",
              "5     1012\n",
              "3     1009\n",
              "4      989\n",
              "9      984\n",
              "6      967\n",
              "10     490\n",
              "0      413\n",
              "Name: Tenure, dtype: int64"
            ]
          },
          "metadata": {
            "tags": []
          },
          "execution_count": 149
        }
      ]
    },
    {
      "cell_type": "code",
      "metadata": {
        "id": "V8BxVVkEG_SA",
        "colab": {
          "base_uri": "https://localhost:8080/",
          "height": 405
        },
        "outputId": "d9e23fab-250d-45c9-a5ec-eee854d3deb9"
      },
      "source": [
        "plt.figure(figsize = (8,6))\n",
        "sns.countplot(x = 'Tenure', data = data)"
      ],
      "execution_count": null,
      "outputs": [
        {
          "output_type": "execute_result",
          "data": {
            "text/plain": [
              "<matplotlib.axes._subplots.AxesSubplot at 0x7fd110a07ba8>"
            ]
          },
          "metadata": {
            "tags": []
          },
          "execution_count": 150
        },
        {
          "output_type": "display_data",
          "data": {
            "image/png": "[encoded data removed]",
            "text/plain": [
              "<Figure size 576x432 with 1 Axes>"
            ]
          },
          "metadata": {
            "tags": [],
            "needs_background": "light"
          }
        }
      ]
    },
    {
      "cell_type": "code",
      "metadata": {
        "id": "N30ASROdKQyh",
        "colab": {
          "base_uri": "https://localhost:8080/",
          "height": 405
        },
        "outputId": "13c97a4f-36f1-47fd-9dcb-4e90f874e03e"
      },
      "source": [
        "plt.figure(figsize = (8,6))\n",
        "sns.countplot(x = 'Tenure', hue = 'Exited', data = data)"
      ],
      "execution_count": null,
      "outputs": [
        {
          "output_type": "execute_result",
          "data": {
            "text/plain": [
              "<matplotlib.axes._subplots.AxesSubplot at 0x7fd11097b160>"
            ]
          },
          "metadata": {
            "tags": []
          },
          "execution_count": 151
        },
        {
          "output_type": "display_data",
          "data": {
            "image/png": "[encoded data removed]",
            "text/plain": [
              "<Figure size 576x432 with 1 Axes>"
            ]
          },
          "metadata": {
            "tags": [],
            "needs_background": "light"
          }
        }
      ]
    },
    {
      "cell_type": "code",
      "metadata": {
        "id": "fWNDKyeOKf2x",
        "colab": {
          "base_uri": "https://localhost:8080/",
          "height": 405
        },
        "outputId": "f103c7ad-611d-4043-d3da-be59b2174d78"
      },
      "source": [
        "plt.figure(figsize = (8,6))\n",
        "sns.countplot(x = 'Tenure', hue = 'Gender', data = data)"
      ],
      "execution_count": null,
      "outputs": [
        {
          "output_type": "execute_result",
          "data": {
            "text/plain": [
              "<matplotlib.axes._subplots.AxesSubplot at 0x7fd11097b198>"
            ]
          },
          "metadata": {
            "tags": []
          },
          "execution_count": 152
        },
        {
          "output_type": "display_data",
          "data": {
            "image/png": "[encoded data removed]",
            "text/plain": [
              "<Figure size 576x432 with 1 Axes>"
            ]
          },
          "metadata": {
            "tags": [],
            "needs_background": "light"
          }
        }
      ]
    },
    {
      "cell_type": "code",
      "metadata": {
        "id": "UhBKEH7PL9Hi",
        "colab": {
          "base_uri": "https://localhost:8080/",
          "height": 405
        },
        "outputId": "52b5ed7c-dce7-40bc-c29b-578542070616"
      },
      "source": [
        "plt.figure(figsize = (8,6))\n",
        "sns.countplot(x = 'Tenure', hue = 'Geography', data = data)"
      ],
      "execution_count": null,
      "outputs": [
        {
          "output_type": "execute_result",
          "data": {
            "text/plain": [
              "<matplotlib.axes._subplots.AxesSubplot at 0x7fd110893898>"
            ]
          },
          "metadata": {
            "tags": []
          },
          "execution_count": 153
        },
        {
          "output_type": "display_data",
          "data": {
            "image/png": "[encoded data removed]",
            "text/plain": [
              "<Figure size 576x432 with 1 Axes>"
            ]
          },
          "metadata": {
            "tags": [],
            "needs_background": "light"
          }
        }
      ]
    },
    {
      "cell_type": "markdown",
      "metadata": {
        "id": "DVqSj3tOJRWZ"
      },
      "source": [
        "**Observations:**\n",
        "* Only a few customers have received a loan of 10 years and less than 1 year\n",
        "* Maximum customers has received a loan for 2 years\n",
        "* Number of male customers are more than female customers who has recieved a loan.\n",
        "* Number of male customers are equal to female customers who has a tenure of 10.\n",
        "* There are more number of customers who has received a loan and belongs to France.\n",
        "\n"
      ]
    },
    {
      "cell_type": "code",
      "metadata": {
        "id": "kLBvIMQwI4EU",
        "colab": {
          "base_uri": "https://localhost:8080/",
          "height": 101
        },
        "outputId": "14423dc3-06d8-41e0-8fa8-8336e7789dce"
      },
      "source": [
        "data['NumOfProducts'].value_counts()"
      ],
      "execution_count": null,
      "outputs": [
        {
          "output_type": "execute_result",
          "data": {
            "text/plain": [
              "1    5084\n",
              "2    4590\n",
              "3     266\n",
              "4      60\n",
              "Name: NumOfProducts, dtype: int64"
            ]
          },
          "metadata": {
            "tags": []
          },
          "execution_count": 154
        }
      ]
    },
    {
      "cell_type": "code",
      "metadata": {
        "id": "SF06B-ki8_B9",
        "colab": {
          "base_uri": "https://localhost:8080/",
          "height": 296
        },
        "outputId": "3af1fa61-cf14-48be-c25c-329094b3dcc8"
      },
      "source": [
        "sns.countplot(x = 'NumOfProducts', data = data)"
      ],
      "execution_count": null,
      "outputs": [
        {
          "output_type": "execute_result",
          "data": {
            "text/plain": [
              "<matplotlib.axes._subplots.AxesSubplot at 0x7fd11090acc0>"
            ]
          },
          "metadata": {
            "tags": []
          },
          "execution_count": 155
        },
        {
          "output_type": "display_data",
          "data": {
            "image/png": "[encoded data removed]",
            "text/plain": [
              "<Figure size 432x288 with 1 Axes>"
            ]
          },
          "metadata": {
            "tags": [],
            "needs_background": "light"
          }
        }
      ]
    },
    {
      "cell_type": "code",
      "metadata": {
        "id": "0MTGI8tY9377",
        "colab": {
          "base_uri": "https://localhost:8080/",
          "height": 296
        },
        "outputId": "9de9f4f1-33df-4ace-cd4c-a6bf97ddee76"
      },
      "source": [
        "sns.countplot(x = 'NumOfProducts', hue = 'Exited',data = data)"
      ],
      "execution_count": null,
      "outputs": [
        {
          "output_type": "execute_result",
          "data": {
            "text/plain": [
              "<matplotlib.axes._subplots.AxesSubplot at 0x7fd1106832e8>"
            ]
          },
          "metadata": {
            "tags": []
          },
          "execution_count": 156
        },
        {
          "output_type": "display_data",
          "data": {
            "image/png": "[encoded data removed]",
            "text/plain": [
              "<Figure size 432x288 with 1 Axes>"
            ]
          },
          "metadata": {
            "tags": [],
            "needs_background": "light"
          }
        }
      ]
    },
    {
      "cell_type": "code",
      "metadata": {
        "id": "sSdSpYE8-1VP",
        "colab": {
          "base_uri": "https://localhost:8080/",
          "height": 296
        },
        "outputId": "d4580e7d-1177-4417-de48-aeac8d7e3046"
      },
      "source": [
        "sns.countplot(x = 'NumOfProducts', hue = 'Gender',data = data)"
      ],
      "execution_count": null,
      "outputs": [
        {
          "output_type": "execute_result",
          "data": {
            "text/plain": [
              "<matplotlib.axes._subplots.AxesSubplot at 0x7fd11060fd30>"
            ]
          },
          "metadata": {
            "tags": []
          },
          "execution_count": 157
        },
        {
          "output_type": "display_data",
          "data": {
            "image/png": "[encoded data removed]",
            "text/plain": [
              "<Figure size 432x288 with 1 Axes>"
            ]
          },
          "metadata": {
            "tags": [],
            "needs_background": "light"
          }
        }
      ]
    },
    {
      "cell_type": "code",
      "metadata": {
        "id": "UIq5fx5E_lJU",
        "colab": {
          "base_uri": "https://localhost:8080/",
          "height": 296
        },
        "outputId": "64c6faf4-3a64-495c-d21c-c26233bd06d0"
      },
      "source": [
        "sns.countplot(x = 'NumOfProducts', hue = 'Geography',data = data)"
      ],
      "execution_count": null,
      "outputs": [
        {
          "output_type": "execute_result",
          "data": {
            "text/plain": [
              "<matplotlib.axes._subplots.AxesSubplot at 0x7fd1105f29b0>"
            ]
          },
          "metadata": {
            "tags": []
          },
          "execution_count": 158
        },
        {
          "output_type": "display_data",
          "data": {
            "image/png": "[encoded data removed]",
            "text/plain": [
              "<Figure size 432x288 with 1 Axes>"
            ]
          },
          "metadata": {
            "tags": [],
            "needs_background": "light"
          }
        }
      ]
    },
    {
      "cell_type": "markdown",
      "metadata": {
        "id": "iwsGrjI59ZMC"
      },
      "source": [
        "**Observation**\n",
        "* Many of the customers have open accounts either 1 or 2.\n",
        "* Only few of the customers have accounts more than 2.\n",
        "* Customers who leaves the bank are mostly have only single counts.\n",
        "* Customers who have 4 open accounts mostly all leaves the bank.\n",
        "* Male customers are slightly more than female customers who have acounts either 1 or 2.\n",
        "* Customers belong to France are more than others who have account 1 and 2.\n"
      ]
    },
    {
      "cell_type": "code",
      "metadata": {
        "id": "LdoVDzw69URs",
        "colab": {
          "base_uri": "https://localhost:8080/",
          "height": 67
        },
        "outputId": "54bfe545-7779-4368-e9f8-1c9be57608a8"
      },
      "source": [
        "data['HasCrCard'].value_counts()"
      ],
      "execution_count": null,
      "outputs": [
        {
          "output_type": "execute_result",
          "data": {
            "text/plain": [
              "1    7055\n",
              "0    2945\n",
              "Name: HasCrCard, dtype: int64"
            ]
          },
          "metadata": {
            "tags": []
          },
          "execution_count": 159
        }
      ]
    },
    {
      "cell_type": "code",
      "metadata": {
        "id": "5ncJUSUgATY9",
        "colab": {
          "base_uri": "https://localhost:8080/",
          "height": 296
        },
        "outputId": "cb13d3da-46b7-4751-9cad-2ba9e1d636b4"
      },
      "source": [
        "sns.countplot(x = 'HasCrCard',data = data)"
      ],
      "execution_count": null,
      "outputs": [
        {
          "output_type": "execute_result",
          "data": {
            "text/plain": [
              "<matplotlib.axes._subplots.AxesSubplot at 0x7fd11096ceb8>"
            ]
          },
          "metadata": {
            "tags": []
          },
          "execution_count": 160
        },
        {
          "output_type": "display_data",
          "data": {
            "image/png": "[encoded data removed]",
            "text/plain": [
              "<Figure size 432x288 with 1 Axes>"
            ]
          },
          "metadata": {
            "tags": [],
            "needs_background": "light"
          }
        }
      ]
    },
    {
      "cell_type": "code",
      "metadata": {
        "id": "EdEaEtPPAbCS",
        "colab": {
          "base_uri": "https://localhost:8080/",
          "height": 296
        },
        "outputId": "a86decdb-3ac4-49e3-c197-4881e699f62d"
      },
      "source": [
        "sns.countplot(x = 'HasCrCard', hue = 'Exited', data = data)"
      ],
      "execution_count": null,
      "outputs": [
        {
          "output_type": "execute_result",
          "data": {
            "text/plain": [
              "<matplotlib.axes._subplots.AxesSubplot at 0x7fd110b6a208>"
            ]
          },
          "metadata": {
            "tags": []
          },
          "execution_count": 161
        },
        {
          "output_type": "display_data",
          "data": {
            "image/png": "[encoded data removed]",
            "text/plain": [
              "<Figure size 432x288 with 1 Axes>"
            ]
          },
          "metadata": {
            "tags": [],
            "needs_background": "light"
          }
        }
      ]
    },
    {
      "cell_type": "code",
      "metadata": {
        "id": "aZp1dR2oBXhy",
        "colab": {
          "base_uri": "https://localhost:8080/",
          "height": 297
        },
        "outputId": "bba9789c-7def-40ab-f71d-c5fb1f2b7446"
      },
      "source": [
        "sns.countplot(x = 'HasCrCard', hue = 'Gender', data = data)"
      ],
      "execution_count": null,
      "outputs": [
        {
          "output_type": "execute_result",
          "data": {
            "text/plain": [
              "<matplotlib.axes._subplots.AxesSubplot at 0x7fd11049e208>"
            ]
          },
          "metadata": {
            "tags": []
          },
          "execution_count": 162
        },
        {
          "output_type": "display_data",
          "data": {
            "image/png": "[encoded data removed]",
            "text/plain": [
              "<Figure size 432x288 with 1 Axes>"
            ]
          },
          "metadata": {
            "tags": [],
            "needs_background": "light"
          }
        }
      ]
    },
    {
      "cell_type": "code",
      "metadata": {
        "id": "lYYZguhaBqx7",
        "colab": {
          "base_uri": "https://localhost:8080/",
          "height": 296
        },
        "outputId": "c9014b1f-ff89-4aa1-9f5f-e70417ae03f6"
      },
      "source": [
        "sns.countplot(x = 'HasCrCard', hue = 'Geography', data = data)"
      ],
      "execution_count": null,
      "outputs": [
        {
          "output_type": "execute_result",
          "data": {
            "text/plain": [
              "<matplotlib.axes._subplots.AxesSubplot at 0x7fd11041b0f0>"
            ]
          },
          "metadata": {
            "tags": []
          },
          "execution_count": 163
        },
        {
          "output_type": "display_data",
          "data": {
            "image/png": "[encoded data removed]",
            "text/plain": [
              "<Figure size 432x288 with 1 Axes>"
            ]
          },
          "metadata": {
            "tags": [],
            "needs_background": "light"
          }
        }
      ]
    },
    {
      "cell_type": "markdown",
      "metadata": {
        "id": "IfLzbIQgAMSy"
      },
      "source": [
        "**Observation**\n",
        "* Mostly customers have credit card.\n",
        "* Both customers having credit card and not having credit has leaves the bank.\n",
        "* Male customer are more who have credit card than female customers\n",
        "* France customer are more who have credit card than Spain and Germany customers."
      ]
    },
    {
      "cell_type": "code",
      "metadata": {
        "id": "EZzf2-4_AKF4",
        "colab": {
          "base_uri": "https://localhost:8080/",
          "height": 67
        },
        "outputId": "1ed63804-5f09-4cff-ab5f-f25322512b85"
      },
      "source": [
        "data['IsActiveMember'].value_counts()"
      ],
      "execution_count": null,
      "outputs": [
        {
          "output_type": "execute_result",
          "data": {
            "text/plain": [
              "1    5151\n",
              "0    4849\n",
              "Name: IsActiveMember, dtype: int64"
            ]
          },
          "metadata": {
            "tags": []
          },
          "execution_count": 164
        }
      ]
    },
    {
      "cell_type": "code",
      "metadata": {
        "id": "Gh1Wkw7nDTpw",
        "colab": {
          "base_uri": "https://localhost:8080/",
          "height": 296
        },
        "outputId": "a033bc63-36ca-418a-eb1a-775fc8a97308"
      },
      "source": [
        "sns.countplot(x = 'IsActiveMember', data = data)"
      ],
      "execution_count": null,
      "outputs": [
        {
          "output_type": "execute_result",
          "data": {
            "text/plain": [
              "<matplotlib.axes._subplots.AxesSubplot at 0x7fd1103f25f8>"
            ]
          },
          "metadata": {
            "tags": []
          },
          "execution_count": 165
        },
        {
          "output_type": "display_data",
          "data": {
            "image/png": "[encoded data removed]",
            "text/plain": [
              "<Figure size 432x288 with 1 Axes>"
            ]
          },
          "metadata": {
            "tags": [],
            "needs_background": "light"
          }
        }
      ]
    },
    {
      "cell_type": "code",
      "metadata": {
        "id": "eVh2g1bRDolx",
        "colab": {
          "base_uri": "https://localhost:8080/",
          "height": 296
        },
        "outputId": "b35c15e6-4922-4608-d498-dc1596da36aa"
      },
      "source": [
        "sns.countplot(x = 'IsActiveMember', hue = 'Exited',data = data)"
      ],
      "execution_count": null,
      "outputs": [
        {
          "output_type": "execute_result",
          "data": {
            "text/plain": [
              "<matplotlib.axes._subplots.AxesSubplot at 0x7fd1103b9668>"
            ]
          },
          "metadata": {
            "tags": []
          },
          "execution_count": 166
        },
        {
          "output_type": "display_data",
          "data": {
            "image/png": "[encoded data removed]",
            "text/plain": [
              "<Figure size 432x288 with 1 Axes>"
            ]
          },
          "metadata": {
            "tags": [],
            "needs_background": "light"
          }
        }
      ]
    },
    {
      "cell_type": "code",
      "metadata": {
        "id": "NOAN8IpsEXNQ",
        "colab": {
          "base_uri": "https://localhost:8080/",
          "height": 300
        },
        "outputId": "4aa7d277-9fa5-4895-c6a5-13394f950451"
      },
      "source": [
        "sns.countplot(x = 'IsActiveMember', hue = 'Gender',data = data)"
      ],
      "execution_count": null,
      "outputs": [
        {
          "output_type": "execute_result",
          "data": {
            "text/plain": [
              "<matplotlib.axes._subplots.AxesSubplot at 0x7fd1103231d0>"
            ]
          },
          "metadata": {
            "tags": []
          },
          "execution_count": 167
        },
        {
          "output_type": "display_data",
          "data": {
            "image/png": "[encoded data removed]",
            "text/plain": [
              "<Figure size 432x288 with 1 Axes>"
            ]
          },
          "metadata": {
            "tags": [],
            "needs_background": "light"
          }
        }
      ]
    },
    {
      "cell_type": "code",
      "metadata": {
        "id": "CWVsGA2PEmVH",
        "colab": {
          "base_uri": "https://localhost:8080/",
          "height": 296
        },
        "outputId": "1fe5dabc-354f-4e83-caa1-ca5936689a88"
      },
      "source": [
        "sns.countplot(x = 'IsActiveMember', hue = 'Geography',data = data)"
      ],
      "execution_count": null,
      "outputs": [
        {
          "output_type": "execute_result",
          "data": {
            "text/plain": [
              "<matplotlib.axes._subplots.AxesSubplot at 0x7fd110b0ed68>"
            ]
          },
          "metadata": {
            "tags": []
          },
          "execution_count": 168
        },
        {
          "output_type": "display_data",
          "data": {
            "image/png": "[encoded data removed]",
            "text/plain": [
              "<Figure size 432x288 with 1 Axes>"
            ]
          },
          "metadata": {
            "tags": [],
            "needs_background": "light"
          }
        }
      ]
    },
    {
      "cell_type": "markdown",
      "metadata": {
        "id": "fW4t2u7pDH-a"
      },
      "source": [
        "**Observation**\n",
        "* Almost half of the customers are not an active member.\n",
        "* Customers who are not an active memeber are leaving the bank as compared to customer who are an active member.\n",
        "* Male customer are more active than female customer.\n",
        "* Almost equal number of customers are active in France as compared with no active member."
      ]
    },
    {
      "cell_type": "code",
      "metadata": {
        "id": "qLRnwUJJDCOp",
        "colab": {
          "base_uri": "https://localhost:8080/",
          "height": 388
        },
        "outputId": "44f8fe75-95c6-4ba0-8075-642bee430010"
      },
      "source": [
        "plt.figure(figsize=(8,6))\n",
        "sns.distplot(data['CreditScore'], hist = True, bins = 20)\n",
        "plt.show()"
      ],
      "execution_count": null,
      "outputs": [
        {
          "output_type": "display_data",
          "data": {
            "image/png": "[encoded data removed]",
            "text/plain": [
              "<Figure size 576x432 with 1 Axes>"
            ]
          },
          "metadata": {
            "tags": [],
            "needs_background": "light"
          }
        }
      ]
    },
    {
      "cell_type": "markdown",
      "metadata": {
        "id": "UWi1T2WuGSyX"
      },
      "source": [
        "Observation\n",
        "* Credit score values are normally distributed across the whole data.\n",
        "* Most customer has credit score range between 500 - 700."
      ]
    },
    {
      "cell_type": "code",
      "metadata": {
        "id": "f5zj5SLvFXnG",
        "colab": {
          "base_uri": "https://localhost:8080/",
          "height": 402
        },
        "outputId": "36bedd44-ad31-4cea-8299-b61f1c2a5c72"
      },
      "source": [
        "plt.figure(figsize=(8,6))\n",
        "sns.distplot(data['Balance'], hist = True, bins = 20)\n",
        "plt.xlabel('Account Balance', fontsize = 12, fontweight = 'bold')\n",
        "plt.ylabel('Frequency', fontsize = 12, fontweight = 'bold')\n",
        "plt.show()"
      ],
      "execution_count": null,
      "outputs": [
        {
          "output_type": "display_data",
          "data": {
            "image/png": "[encoded data removed]",
            "text/plain": [
              "<Figure size 576x432 with 1 Axes>"
            ]
          },
          "metadata": {
            "tags": [],
            "needs_background": "light"
          }
        }
      ]
    },
    {
      "cell_type": "markdown",
      "metadata": {
        "id": "UZ11--MJG_LV"
      },
      "source": [
        "**Observation:**\n",
        "* Many of the customers have account balance 0. which seems to it can be error in a data and if it is not error then it can be concluded that the customers with zero account balance might be leaving the bank.\n",
        "* This point can become our good hypothesis.\n",
        "* If we remove the values of zero account balance then it is a normal distribution."
      ]
    },
    {
      "cell_type": "code",
      "metadata": {
        "id": "EU38LuorG43z",
        "colab": {
          "base_uri": "https://localhost:8080/",
          "height": 402
        },
        "outputId": "17887963-b96c-4133-c986-d7799c68ced1"
      },
      "source": [
        "plt.figure(figsize=(8,6))\n",
        "sns.distplot(data['EstimatedSalary'], hist = True)\n",
        "plt.xlabel('Estimated Salary', fontsize = 12, fontweight = 'bold')\n",
        "plt.ylabel('Frequency', fontsize = 12, fontweight = 'bold')\n",
        "plt.show()"
      ],
      "execution_count": null,
      "outputs": [
        {
          "output_type": "display_data",
          "data": {
            "image/png": "[encoded data removed]",
            "text/plain": [
              "<Figure size 576x432 with 1 Axes>"
            ]
          },
          "metadata": {
            "tags": [],
            "needs_background": "light"
          }
        }
      ]
    },
    {
      "cell_type": "markdown",
      "metadata": {
        "id": "Wd5uYa7PJXA4"
      },
      "source": [
        "**Observation**\n",
        "* The salary of the customers ranges between 0 to 2 lakhs."
      ]
    },
    {
      "cell_type": "code",
      "metadata": {
        "id": "Hio7HuU8I5eZ",
        "colab": {
          "base_uri": "https://localhost:8080/",
          "height": 296
        },
        "outputId": "04df5a5c-c5e8-4bf5-d6f5-0c07177ae856"
      },
      "source": [
        "sns.boxplot(x = 'Exited', y = 'CreditScore', data = data)"
      ],
      "execution_count": null,
      "outputs": [
        {
          "output_type": "execute_result",
          "data": {
            "text/plain": [
              "<matplotlib.axes._subplots.AxesSubplot at 0x7fd1101e0320>"
            ]
          },
          "metadata": {
            "tags": []
          },
          "execution_count": 172
        },
        {
          "output_type": "display_data",
          "data": {
            "image/png": "[encoded data removed]",
            "text/plain": [
              "<Figure size 432x288 with 1 Axes>"
            ]
          },
          "metadata": {
            "tags": [],
            "needs_background": "light"
          }
        }
      ]
    },
    {
      "cell_type": "code",
      "metadata": {
        "id": "MRUGvu-gsWNY",
        "colab": {
          "base_uri": "https://localhost:8080/",
          "height": 296
        },
        "outputId": "f5983c96-3120-4999-8712-d042450912ed"
      },
      "source": [
        "sns.boxplot(x = 'Geography', y = 'Balance', data = data)"
      ],
      "execution_count": null,
      "outputs": [
        {
          "output_type": "execute_result",
          "data": {
            "text/plain": [
              "<matplotlib.axes._subplots.AxesSubplot at 0x7fd110001e80>"
            ]
          },
          "metadata": {
            "tags": []
          },
          "execution_count": 173
        },
        {
          "output_type": "display_data",
          "data": {
            "image/png": "[encoded data removed]",
            "text/plain": [
              "<Figure size 432x288 with 1 Axes>"
            ]
          },
          "metadata": {
            "tags": [],
            "needs_background": "light"
          }
        }
      ]
    },
    {
      "cell_type": "code",
      "metadata": {
        "id": "ALs4VKTWtBlZ",
        "colab": {
          "base_uri": "https://localhost:8080/",
          "height": 296
        },
        "outputId": "8d78c698-3ae4-43ec-e914-f9724b2c1962"
      },
      "source": [
        "sns.boxplot(x = 'Exited', y = 'Balance', data = data)"
      ],
      "execution_count": null,
      "outputs": [
        {
          "output_type": "execute_result",
          "data": {
            "text/plain": [
              "<matplotlib.axes._subplots.AxesSubplot at 0x7fd10ff922e8>"
            ]
          },
          "metadata": {
            "tags": []
          },
          "execution_count": 174
        },
        {
          "output_type": "display_data",
          "data": {
            "image/png": "[encoded data removed]",
            "text/plain": [
              "<Figure size 432x288 with 1 Axes>"
            ]
          },
          "metadata": {
            "tags": [],
            "needs_background": "light"
          }
        }
      ]
    },
    {
      "cell_type": "markdown",
      "metadata": {
        "id": "g4ilbd0mKR1_"
      },
      "source": [
        "**Observation**\n",
        "* Mean Credit score for type of customers who leaves bank or not are almost same.\n",
        "* Customer belongs to Germany does not have zero balance."
      ]
    },
    {
      "cell_type": "code",
      "metadata": {
        "id": "UNztv9JEKEHD",
        "colab": {
          "base_uri": "https://localhost:8080/",
          "height": 584
        },
        "outputId": "cc5f14a8-f082-4d32-adda-a12f72766473"
      },
      "source": [
        "df = data[['CreditScore','Balance','EstimatedSalary','Exited']]\n",
        "sns.pairplot(df, hue = 'Exited',kind = 'scatter')"
      ],
      "execution_count": null,
      "outputs": [
        {
          "output_type": "execute_result",
          "data": {
            "text/plain": [
              "<seaborn.axisgrid.PairGrid at 0x7fd112565f60>"
            ]
          },
          "metadata": {
            "tags": []
          },
          "execution_count": 175
        },
        {
          "output_type": "display_data",
          "data": {
            "image/png": "[encoded data removed]",
            "text/plain": [
              "<Figure size 582.375x540 with 12 Axes>"
            ]
          },
          "metadata": {
            "tags": [],
            "needs_background": "light"
          }
        }
      ]
    },
    {
      "cell_type": "markdown",
      "metadata": {
        "id": "nwfejHvQKkaD"
      },
      "source": [
        "## **Feature Engineering**"
      ]
    },
    {
      "cell_type": "code",
      "metadata": {
        "id": "Y63QvVJHJcza",
        "colab": {
          "base_uri": "https://localhost:8080/",
          "height": 467
        },
        "outputId": "4d7028d6-94c2-44e8-f4ee-5a625398d8d4"
      },
      "source": [
        "plt.figure(figsize = (10,6))\n",
        "sns.heatmap(data.corr(method = 'pearson'), annot = True, fmt = '.2g', linewidths=3, linecolor='black')"
      ],
      "execution_count": null,
      "outputs": [
        {
          "output_type": "execute_result",
          "data": {
            "text/plain": [
              "<matplotlib.axes._subplots.AxesSubplot at 0x7fd10fb6c940>"
            ]
          },
          "metadata": {
            "tags": []
          },
          "execution_count": 176
        },
        {
          "output_type": "display_data",
          "data": {
            "image/png": "[encoded data removed]",
            "text/plain": [
              "<Figure size 720x432 with 2 Axes>"
            ]
          },
          "metadata": {
            "tags": [],
            "needs_background": "light"
          }
        }
      ]
    },
    {
      "cell_type": "markdown",
      "metadata": {
        "id": "EgFd4E_-K6-9"
      },
      "source": [
        "**Observation**\n",
        "* Age and Balance features are corrlerated with the Exited(target variable)."
      ]
    },
    {
      "cell_type": "markdown",
      "metadata": {
        "id": "PfG0KdSSMlGB"
      },
      "source": [
        "Generating new features from the existing ones.\n",
        "* **Credit_Sc_Tenure** is credit score for the given tenure.\n",
        "* **Bal_before_Cr_sc** is the balance before credit score"
      ]
    },
    {
      "cell_type": "code",
      "metadata": {
        "id": "QDDMqqXyMKyM",
        "colab": {
          "base_uri": "https://localhost:8080/",
          "height": 215
        },
        "outputId": "2fe1d589-420b-4db3-e908-1b14b57e4fb1"
      },
      "source": [
        "data['Credit_Sc_Tenure'] = data['CreditScore']*data['Tenure']\n",
        "data['Bal_before_Cr_Sc'] = data['Balance'] - data['CreditScore']\n",
        "data['Bal_diff'] = data['Balance'] - data['EstimatedSalary']\n",
        "data.head()"
      ],
      "execution_count": null,
      "outputs": [
        {
          "output_type": "execute_result",
          "data": {
            "text/html": [
              "<div>\n",
              "<style scoped>\n",
              "    .dataframe tbody tr th:only-of-type {\n",
              "        vertical-align: middle;\n",
              "    }\n",
              "\n",
              "    .dataframe tbody tr th {\n",
              "        vertical-align: top;\n",
              "    }\n",
              "\n",
              "    .dataframe thead th {\n",
              "        text-align: right;\n",
              "    }\n",
              "</style>\n",
              "<table border=\"1\" class=\"dataframe\">\n",
              "  <thead>\n",
              "    <tr style=\"text-align: right;\">\n",
              "      <th></th>\n",
              "      <th>RowNumber</th>\n",
              "      <th>CustomerId</th>\n",
              "      <th>Surname</th>\n",
              "      <th>CreditScore</th>\n",
              "      <th>Geography</th>\n",
              "      <th>Gender</th>\n",
              "      <th>Age</th>\n",
              "      <th>Tenure</th>\n",
              "      <th>Balance</th>\n",
              "      <th>NumOfProducts</th>\n",
              "      <th>HasCrCard</th>\n",
              "      <th>IsActiveMember</th>\n",
              "      <th>EstimatedSalary</th>\n",
              "      <th>Exited</th>\n",
              "      <th>Credit_Sc_Tenure</th>\n",
              "      <th>Bal_before_Cr_Sc</th>\n",
              "      <th>Bal_diff</th>\n",
              "    </tr>\n",
              "  </thead>\n",
              "  <tbody>\n",
              "    <tr>\n",
              "      <th>0</th>\n",
              "      <td>1</td>\n",
              "      <td>15634602</td>\n",
              "      <td>Hargrave</td>\n",
              "      <td>619</td>\n",
              "      <td>France</td>\n",
              "      <td>Female</td>\n",
              "      <td>42</td>\n",
              "      <td>2</td>\n",
              "      <td>0.00</td>\n",
              "      <td>1</td>\n",
              "      <td>1</td>\n",
              "      <td>1</td>\n",
              "      <td>101348.88</td>\n",
              "      <td>1</td>\n",
              "      <td>1238</td>\n",
              "      <td>-619.00</td>\n",
              "      <td>-101348.88</td>\n",
              "    </tr>\n",
              "    <tr>\n",
              "      <th>1</th>\n",
              "      <td>2</td>\n",
              "      <td>15647311</td>\n",
              "      <td>Hill</td>\n",
              "      <td>608</td>\n",
              "      <td>Spain</td>\n",
              "      <td>Female</td>\n",
              "      <td>41</td>\n",
              "      <td>1</td>\n",
              "      <td>83807.86</td>\n",
              "      <td>1</td>\n",
              "      <td>0</td>\n",
              "      <td>1</td>\n",
              "      <td>112542.58</td>\n",
              "      <td>0</td>\n",
              "      <td>608</td>\n",
              "      <td>83199.86</td>\n",
              "      <td>-28734.72</td>\n",
              "    </tr>\n",
              "    <tr>\n",
              "      <th>2</th>\n",
              "      <td>3</td>\n",
              "      <td>15619304</td>\n",
              "      <td>Onio</td>\n",
              "      <td>502</td>\n",
              "      <td>France</td>\n",
              "      <td>Female</td>\n",
              "      <td>42</td>\n",
              "      <td>8</td>\n",
              "      <td>159660.80</td>\n",
              "      <td>3</td>\n",
              "      <td>1</td>\n",
              "      <td>0</td>\n",
              "      <td>113931.57</td>\n",
              "      <td>1</td>\n",
              "      <td>4016</td>\n",
              "      <td>159158.80</td>\n",
              "      <td>45729.23</td>\n",
              "    </tr>\n",
              "    <tr>\n",
              "      <th>3</th>\n",
              "      <td>4</td>\n",
              "      <td>15701354</td>\n",
              "      <td>Boni</td>\n",
              "      <td>699</td>\n",
              "      <td>France</td>\n",
              "      <td>Female</td>\n",
              "      <td>39</td>\n",
              "      <td>1</td>\n",
              "      <td>0.00</td>\n",
              "      <td>2</td>\n",
              "      <td>0</td>\n",
              "      <td>0</td>\n",
              "      <td>93826.63</td>\n",
              "      <td>0</td>\n",
              "      <td>699</td>\n",
              "      <td>-699.00</td>\n",
              "      <td>-93826.63</td>\n",
              "    </tr>\n",
              "    <tr>\n",
              "      <th>4</th>\n",
              "      <td>5</td>\n",
              "      <td>15737888</td>\n",
              "      <td>Mitchell</td>\n",
              "      <td>850</td>\n",
              "      <td>Spain</td>\n",
              "      <td>Female</td>\n",
              "      <td>43</td>\n",
              "      <td>2</td>\n",
              "      <td>125510.82</td>\n",
              "      <td>1</td>\n",
              "      <td>1</td>\n",
              "      <td>1</td>\n",
              "      <td>79084.10</td>\n",
              "      <td>0</td>\n",
              "      <td>1700</td>\n",
              "      <td>124660.82</td>\n",
              "      <td>46426.72</td>\n",
              "    </tr>\n",
              "  </tbody>\n",
              "</table>\n",
              "</div>"
            ],
            "text/plain": [
              "   RowNumber  CustomerId  ... Bal_before_Cr_Sc   Bal_diff\n",
              "0          1    15634602  ...          -619.00 -101348.88\n",
              "1          2    15647311  ...         83199.86  -28734.72\n",
              "2          3    15619304  ...        159158.80   45729.23\n",
              "3          4    15701354  ...          -699.00  -93826.63\n",
              "4          5    15737888  ...        124660.82   46426.72\n",
              "\n",
              "[5 rows x 17 columns]"
            ]
          },
          "metadata": {
            "tags": []
          },
          "execution_count": 177
        }
      ]
    },
    {
      "cell_type": "markdown",
      "metadata": {
        "id": "VKXc-b84LDDT"
      },
      "source": [
        "###  **Handling Categorical feature**"
      ]
    },
    {
      "cell_type": "code",
      "metadata": {
        "id": "gZAdKJzbN0rs",
        "colab": {
          "base_uri": "https://localhost:8080/",
          "height": 215
        },
        "outputId": "8ecf86cd-426c-400c-ee29-5b622457fdc5"
      },
      "source": [
        "# Converting gender column\n",
        "data['Gender'] = data['Gender'].replace({'Male':1,'Female':0})\n",
        "data.head()"
      ],
      "execution_count": null,
      "outputs": [
        {
          "output_type": "execute_result",
          "data": {
            "text/html": [
              "<div>\n",
              "<style scoped>\n",
              "    .dataframe tbody tr th:only-of-type {\n",
              "        vertical-align: middle;\n",
              "    }\n",
              "\n",
              "    .dataframe tbody tr th {\n",
              "        vertical-align: top;\n",
              "    }\n",
              "\n",
              "    .dataframe thead th {\n",
              "        text-align: right;\n",
              "    }\n",
              "</style>\n",
              "<table border=\"1\" class=\"dataframe\">\n",
              "  <thead>\n",
              "    <tr style=\"text-align: right;\">\n",
              "      <th></th>\n",
              "      <th>RowNumber</th>\n",
              "      <th>CustomerId</th>\n",
              "      <th>Surname</th>\n",
              "      <th>CreditScore</th>\n",
              "      <th>Geography</th>\n",
              "      <th>Gender</th>\n",
              "      <th>Age</th>\n",
              "      <th>Tenure</th>\n",
              "      <th>Balance</th>\n",
              "      <th>NumOfProducts</th>\n",
              "      <th>HasCrCard</th>\n",
              "      <th>IsActiveMember</th>\n",
              "      <th>EstimatedSalary</th>\n",
              "      <th>Exited</th>\n",
              "      <th>Credit_Sc_Tenure</th>\n",
              "      <th>Bal_before_Cr_Sc</th>\n",
              "      <th>Bal_diff</th>\n",
              "    </tr>\n",
              "  </thead>\n",
              "  <tbody>\n",
              "    <tr>\n",
              "      <th>0</th>\n",
              "      <td>1</td>\n",
              "      <td>15634602</td>\n",
              "      <td>Hargrave</td>\n",
              "      <td>619</td>\n",
              "      <td>France</td>\n",
              "      <td>0</td>\n",
              "      <td>42</td>\n",
              "      <td>2</td>\n",
              "      <td>0.00</td>\n",
              "      <td>1</td>\n",
              "      <td>1</td>\n",
              "      <td>1</td>\n",
              "      <td>101348.88</td>\n",
              "      <td>1</td>\n",
              "      <td>1238</td>\n",
              "      <td>-619.00</td>\n",
              "      <td>-101348.88</td>\n",
              "    </tr>\n",
              "    <tr>\n",
              "      <th>1</th>\n",
              "      <td>2</td>\n",
              "      <td>15647311</td>\n",
              "      <td>Hill</td>\n",
              "      <td>608</td>\n",
              "      <td>Spain</td>\n",
              "      <td>0</td>\n",
              "      <td>41</td>\n",
              "      <td>1</td>\n",
              "      <td>83807.86</td>\n",
              "      <td>1</td>\n",
              "      <td>0</td>\n",
              "      <td>1</td>\n",
              "      <td>112542.58</td>\n",
              "      <td>0</td>\n",
              "      <td>608</td>\n",
              "      <td>83199.86</td>\n",
              "      <td>-28734.72</td>\n",
              "    </tr>\n",
              "    <tr>\n",
              "      <th>2</th>\n",
              "      <td>3</td>\n",
              "      <td>15619304</td>\n",
              "      <td>Onio</td>\n",
              "      <td>502</td>\n",
              "      <td>France</td>\n",
              "      <td>0</td>\n",
              "      <td>42</td>\n",
              "      <td>8</td>\n",
              "      <td>159660.80</td>\n",
              "      <td>3</td>\n",
              "      <td>1</td>\n",
              "      <td>0</td>\n",
              "      <td>113931.57</td>\n",
              "      <td>1</td>\n",
              "      <td>4016</td>\n",
              "      <td>159158.80</td>\n",
              "      <td>45729.23</td>\n",
              "    </tr>\n",
              "    <tr>\n",
              "      <th>3</th>\n",
              "      <td>4</td>\n",
              "      <td>15701354</td>\n",
              "      <td>Boni</td>\n",
              "      <td>699</td>\n",
              "      <td>France</td>\n",
              "      <td>0</td>\n",
              "      <td>39</td>\n",
              "      <td>1</td>\n",
              "      <td>0.00</td>\n",
              "      <td>2</td>\n",
              "      <td>0</td>\n",
              "      <td>0</td>\n",
              "      <td>93826.63</td>\n",
              "      <td>0</td>\n",
              "      <td>699</td>\n",
              "      <td>-699.00</td>\n",
              "      <td>-93826.63</td>\n",
              "    </tr>\n",
              "    <tr>\n",
              "      <th>4</th>\n",
              "      <td>5</td>\n",
              "      <td>15737888</td>\n",
              "      <td>Mitchell</td>\n",
              "      <td>850</td>\n",
              "      <td>Spain</td>\n",
              "      <td>0</td>\n",
              "      <td>43</td>\n",
              "      <td>2</td>\n",
              "      <td>125510.82</td>\n",
              "      <td>1</td>\n",
              "      <td>1</td>\n",
              "      <td>1</td>\n",
              "      <td>79084.10</td>\n",
              "      <td>0</td>\n",
              "      <td>1700</td>\n",
              "      <td>124660.82</td>\n",
              "      <td>46426.72</td>\n",
              "    </tr>\n",
              "  </tbody>\n",
              "</table>\n",
              "</div>"
            ],
            "text/plain": [
              "   RowNumber  CustomerId  ... Bal_before_Cr_Sc   Bal_diff\n",
              "0          1    15634602  ...          -619.00 -101348.88\n",
              "1          2    15647311  ...         83199.86  -28734.72\n",
              "2          3    15619304  ...        159158.80   45729.23\n",
              "3          4    15701354  ...          -699.00  -93826.63\n",
              "4          5    15737888  ...        124660.82   46426.72\n",
              "\n",
              "[5 rows x 17 columns]"
            ]
          },
          "metadata": {
            "tags": []
          },
          "execution_count": 178
        }
      ]
    },
    {
      "cell_type": "markdown",
      "metadata": {
        "id": "yPDklnfRcxNj"
      },
      "source": [
        "**Label Encoding and One Hot Encodng**"
      ]
    },
    {
      "cell_type": "markdown",
      "metadata": {
        "id": "aQLzb0WpKzz5"
      },
      "source": [
        "Feature like Geography, Tenure have more than two unique values so converting these feature using encoding techniques.<br>\n",
        "Now we are using one hot encoding handling these categorical features\n",
        "* Creating dummy variable for the Geography and Tenure cloumns."
      ]
    },
    {
      "cell_type": "code",
      "metadata": {
        "id": "GBsznn55c1m6",
        "colab": {
          "base_uri": "https://localhost:8080/",
          "height": 215
        },
        "outputId": "c71789cc-a248-4d76-d57a-c6c485ef3e6b"
      },
      "source": [
        "from sklearn.preprocessing import LabelEncoder\n",
        "le = LabelEncoder()\n",
        "\n",
        "variables = ['Geography','Tenure','NumOfProducts']\n",
        "for i in variables:\n",
        "  data[i] = le.fit_transform(data[i])\n",
        "\n",
        "df = pd.get_dummies(data, columns = ['Geography','Tenure','NumOfProducts'])\n",
        "df.head()"
      ],
      "execution_count": null,
      "outputs": [
        {
          "output_type": "execute_result",
          "data": {
            "text/html": [
              "<div>\n",
              "<style scoped>\n",
              "    .dataframe tbody tr th:only-of-type {\n",
              "        vertical-align: middle;\n",
              "    }\n",
              "\n",
              "    .dataframe tbody tr th {\n",
              "        vertical-align: top;\n",
              "    }\n",
              "\n",
              "    .dataframe thead th {\n",
              "        text-align: right;\n",
              "    }\n",
              "</style>\n",
              "<table border=\"1\" class=\"dataframe\">\n",
              "  <thead>\n",
              "    <tr style=\"text-align: right;\">\n",
              "      <th></th>\n",
              "      <th>RowNumber</th>\n",
              "      <th>CustomerId</th>\n",
              "      <th>Surname</th>\n",
              "      <th>CreditScore</th>\n",
              "      <th>Gender</th>\n",
              "      <th>Age</th>\n",
              "      <th>Balance</th>\n",
              "      <th>HasCrCard</th>\n",
              "      <th>IsActiveMember</th>\n",
              "      <th>EstimatedSalary</th>\n",
              "      <th>Exited</th>\n",
              "      <th>Credit_Sc_Tenure</th>\n",
              "      <th>Bal_before_Cr_Sc</th>\n",
              "      <th>Bal_diff</th>\n",
              "      <th>Geography_0</th>\n",
              "      <th>Geography_1</th>\n",
              "      <th>Geography_2</th>\n",
              "      <th>Tenure_0</th>\n",
              "      <th>Tenure_1</th>\n",
              "      <th>Tenure_2</th>\n",
              "      <th>Tenure_3</th>\n",
              "      <th>Tenure_4</th>\n",
              "      <th>Tenure_5</th>\n",
              "      <th>Tenure_6</th>\n",
              "      <th>Tenure_7</th>\n",
              "      <th>Tenure_8</th>\n",
              "      <th>Tenure_9</th>\n",
              "      <th>Tenure_10</th>\n",
              "      <th>NumOfProducts_0</th>\n",
              "      <th>NumOfProducts_1</th>\n",
              "      <th>NumOfProducts_2</th>\n",
              "      <th>NumOfProducts_3</th>\n",
              "    </tr>\n",
              "  </thead>\n",
              "  <tbody>\n",
              "    <tr>\n",
              "      <th>0</th>\n",
              "      <td>1</td>\n",
              "      <td>15634602</td>\n",
              "      <td>Hargrave</td>\n",
              "      <td>619</td>\n",
              "      <td>0</td>\n",
              "      <td>42</td>\n",
              "      <td>0.00</td>\n",
              "      <td>1</td>\n",
              "      <td>1</td>\n",
              "      <td>101348.88</td>\n",
              "      <td>1</td>\n",
              "      <td>1238</td>\n",
              "      <td>-619.00</td>\n",
              "      <td>-101348.88</td>\n",
              "      <td>1</td>\n",
              "      <td>0</td>\n",
              "      <td>0</td>\n",
              "      <td>0</td>\n",
              "      <td>0</td>\n",
              "      <td>1</td>\n",
              "      <td>0</td>\n",
              "      <td>0</td>\n",
              "      <td>0</td>\n",
              "      <td>0</td>\n",
              "      <td>0</td>\n",
              "      <td>0</td>\n",
              "      <td>0</td>\n",
              "      <td>0</td>\n",
              "      <td>1</td>\n",
              "      <td>0</td>\n",
              "      <td>0</td>\n",
              "      <td>0</td>\n",
              "    </tr>\n",
              "    <tr>\n",
              "      <th>1</th>\n",
              "      <td>2</td>\n",
              "      <td>15647311</td>\n",
              "      <td>Hill</td>\n",
              "      <td>608</td>\n",
              "      <td>0</td>\n",
              "      <td>41</td>\n",
              "      <td>83807.86</td>\n",
              "      <td>0</td>\n",
              "      <td>1</td>\n",
              "      <td>112542.58</td>\n",
              "      <td>0</td>\n",
              "      <td>608</td>\n",
              "      <td>83199.86</td>\n",
              "      <td>-28734.72</td>\n",
              "      <td>0</td>\n",
              "      <td>0</td>\n",
              "      <td>1</td>\n",
              "      <td>0</td>\n",
              "      <td>1</td>\n",
              "      <td>0</td>\n",
              "      <td>0</td>\n",
              "      <td>0</td>\n",
              "      <td>0</td>\n",
              "      <td>0</td>\n",
              "      <td>0</td>\n",
              "      <td>0</td>\n",
              "      <td>0</td>\n",
              "      <td>0</td>\n",
              "      <td>1</td>\n",
              "      <td>0</td>\n",
              "      <td>0</td>\n",
              "      <td>0</td>\n",
              "    </tr>\n",
              "    <tr>\n",
              "      <th>2</th>\n",
              "      <td>3</td>\n",
              "      <td>15619304</td>\n",
              "      <td>Onio</td>\n",
              "      <td>502</td>\n",
              "      <td>0</td>\n",
              "      <td>42</td>\n",
              "      <td>159660.80</td>\n",
              "      <td>1</td>\n",
              "      <td>0</td>\n",
              "      <td>113931.57</td>\n",
              "      <td>1</td>\n",
              "      <td>4016</td>\n",
              "      <td>159158.80</td>\n",
              "      <td>45729.23</td>\n",
              "      <td>1</td>\n",
              "      <td>0</td>\n",
              "      <td>0</td>\n",
              "      <td>0</td>\n",
              "      <td>0</td>\n",
              "      <td>0</td>\n",
              "      <td>0</td>\n",
              "      <td>0</td>\n",
              "      <td>0</td>\n",
              "      <td>0</td>\n",
              "      <td>0</td>\n",
              "      <td>1</td>\n",
              "      <td>0</td>\n",
              "      <td>0</td>\n",
              "      <td>0</td>\n",
              "      <td>0</td>\n",
              "      <td>1</td>\n",
              "      <td>0</td>\n",
              "    </tr>\n",
              "    <tr>\n",
              "      <th>3</th>\n",
              "      <td>4</td>\n",
              "      <td>15701354</td>\n",
              "      <td>Boni</td>\n",
              "      <td>699</td>\n",
              "      <td>0</td>\n",
              "      <td>39</td>\n",
              "      <td>0.00</td>\n",
              "      <td>0</td>\n",
              "      <td>0</td>\n",
              "      <td>93826.63</td>\n",
              "      <td>0</td>\n",
              "      <td>699</td>\n",
              "      <td>-699.00</td>\n",
              "      <td>-93826.63</td>\n",
              "      <td>1</td>\n",
              "      <td>0</td>\n",
              "      <td>0</td>\n",
              "      <td>0</td>\n",
              "      <td>1</td>\n",
              "      <td>0</td>\n",
              "      <td>0</td>\n",
              "      <td>0</td>\n",
              "      <td>0</td>\n",
              "      <td>0</td>\n",
              "      <td>0</td>\n",
              "      <td>0</td>\n",
              "      <td>0</td>\n",
              "      <td>0</td>\n",
              "      <td>0</td>\n",
              "      <td>1</td>\n",
              "      <td>0</td>\n",
              "      <td>0</td>\n",
              "    </tr>\n",
              "    <tr>\n",
              "      <th>4</th>\n",
              "      <td>5</td>\n",
              "      <td>15737888</td>\n",
              "      <td>Mitchell</td>\n",
              "      <td>850</td>\n",
              "      <td>0</td>\n",
              "      <td>43</td>\n",
              "      <td>125510.82</td>\n",
              "      <td>1</td>\n",
              "      <td>1</td>\n",
              "      <td>79084.10</td>\n",
              "      <td>0</td>\n",
              "      <td>1700</td>\n",
              "      <td>124660.82</td>\n",
              "      <td>46426.72</td>\n",
              "      <td>0</td>\n",
              "      <td>0</td>\n",
              "      <td>1</td>\n",
              "      <td>0</td>\n",
              "      <td>0</td>\n",
              "      <td>1</td>\n",
              "      <td>0</td>\n",
              "      <td>0</td>\n",
              "      <td>0</td>\n",
              "      <td>0</td>\n",
              "      <td>0</td>\n",
              "      <td>0</td>\n",
              "      <td>0</td>\n",
              "      <td>0</td>\n",
              "      <td>1</td>\n",
              "      <td>0</td>\n",
              "      <td>0</td>\n",
              "      <td>0</td>\n",
              "    </tr>\n",
              "  </tbody>\n",
              "</table>\n",
              "</div>"
            ],
            "text/plain": [
              "   RowNumber  CustomerId  ... NumOfProducts_2  NumOfProducts_3\n",
              "0          1    15634602  ...               0                0\n",
              "1          2    15647311  ...               0                0\n",
              "2          3    15619304  ...               1                0\n",
              "3          4    15701354  ...               0                0\n",
              "4          5    15737888  ...               0                0\n",
              "\n",
              "[5 rows x 32 columns]"
            ]
          },
          "metadata": {
            "tags": []
          },
          "execution_count": 179
        }
      ]
    },
    {
      "cell_type": "code",
      "metadata": {
        "id": "FRuHdwFKNjJW",
        "colab": {
          "base_uri": "https://localhost:8080/",
          "height": 215
        },
        "outputId": "db5eefea-9548-4683-db20-68772885a188"
      },
      "source": [
        "# Removing the column named as RowNumber\n",
        "df.drop(columns = 'RowNumber',inplace = True)\n",
        "df.head()"
      ],
      "execution_count": null,
      "outputs": [
        {
          "output_type": "execute_result",
          "data": {
            "text/html": [
              "<div>\n",
              "<style scoped>\n",
              "    .dataframe tbody tr th:only-of-type {\n",
              "        vertical-align: middle;\n",
              "    }\n",
              "\n",
              "    .dataframe tbody tr th {\n",
              "        vertical-align: top;\n",
              "    }\n",
              "\n",
              "    .dataframe thead th {\n",
              "        text-align: right;\n",
              "    }\n",
              "</style>\n",
              "<table border=\"1\" class=\"dataframe\">\n",
              "  <thead>\n",
              "    <tr style=\"text-align: right;\">\n",
              "      <th></th>\n",
              "      <th>CustomerId</th>\n",
              "      <th>Surname</th>\n",
              "      <th>CreditScore</th>\n",
              "      <th>Gender</th>\n",
              "      <th>Age</th>\n",
              "      <th>Balance</th>\n",
              "      <th>HasCrCard</th>\n",
              "      <th>IsActiveMember</th>\n",
              "      <th>EstimatedSalary</th>\n",
              "      <th>Exited</th>\n",
              "      <th>Credit_Sc_Tenure</th>\n",
              "      <th>Bal_before_Cr_Sc</th>\n",
              "      <th>Bal_diff</th>\n",
              "      <th>Geography_0</th>\n",
              "      <th>Geography_1</th>\n",
              "      <th>Geography_2</th>\n",
              "      <th>Tenure_0</th>\n",
              "      <th>Tenure_1</th>\n",
              "      <th>Tenure_2</th>\n",
              "      <th>Tenure_3</th>\n",
              "      <th>Tenure_4</th>\n",
              "      <th>Tenure_5</th>\n",
              "      <th>Tenure_6</th>\n",
              "      <th>Tenure_7</th>\n",
              "      <th>Tenure_8</th>\n",
              "      <th>Tenure_9</th>\n",
              "      <th>Tenure_10</th>\n",
              "      <th>NumOfProducts_0</th>\n",
              "      <th>NumOfProducts_1</th>\n",
              "      <th>NumOfProducts_2</th>\n",
              "      <th>NumOfProducts_3</th>\n",
              "    </tr>\n",
              "  </thead>\n",
              "  <tbody>\n",
              "    <tr>\n",
              "      <th>0</th>\n",
              "      <td>15634602</td>\n",
              "      <td>Hargrave</td>\n",
              "      <td>619</td>\n",
              "      <td>0</td>\n",
              "      <td>42</td>\n",
              "      <td>0.00</td>\n",
              "      <td>1</td>\n",
              "      <td>1</td>\n",
              "      <td>101348.88</td>\n",
              "      <td>1</td>\n",
              "      <td>1238</td>\n",
              "      <td>-619.00</td>\n",
              "      <td>-101348.88</td>\n",
              "      <td>1</td>\n",
              "      <td>0</td>\n",
              "      <td>0</td>\n",
              "      <td>0</td>\n",
              "      <td>0</td>\n",
              "      <td>1</td>\n",
              "      <td>0</td>\n",
              "      <td>0</td>\n",
              "      <td>0</td>\n",
              "      <td>0</td>\n",
              "      <td>0</td>\n",
              "      <td>0</td>\n",
              "      <td>0</td>\n",
              "      <td>0</td>\n",
              "      <td>1</td>\n",
              "      <td>0</td>\n",
              "      <td>0</td>\n",
              "      <td>0</td>\n",
              "    </tr>\n",
              "    <tr>\n",
              "      <th>1</th>\n",
              "      <td>15647311</td>\n",
              "      <td>Hill</td>\n",
              "      <td>608</td>\n",
              "      <td>0</td>\n",
              "      <td>41</td>\n",
              "      <td>83807.86</td>\n",
              "      <td>0</td>\n",
              "      <td>1</td>\n",
              "      <td>112542.58</td>\n",
              "      <td>0</td>\n",
              "      <td>608</td>\n",
              "      <td>83199.86</td>\n",
              "      <td>-28734.72</td>\n",
              "      <td>0</td>\n",
              "      <td>0</td>\n",
              "      <td>1</td>\n",
              "      <td>0</td>\n",
              "      <td>1</td>\n",
              "      <td>0</td>\n",
              "      <td>0</td>\n",
              "      <td>0</td>\n",
              "      <td>0</td>\n",
              "      <td>0</td>\n",
              "      <td>0</td>\n",
              "      <td>0</td>\n",
              "      <td>0</td>\n",
              "      <td>0</td>\n",
              "      <td>1</td>\n",
              "      <td>0</td>\n",
              "      <td>0</td>\n",
              "      <td>0</td>\n",
              "    </tr>\n",
              "    <tr>\n",
              "      <th>2</th>\n",
              "      <td>15619304</td>\n",
              "      <td>Onio</td>\n",
              "      <td>502</td>\n",
              "      <td>0</td>\n",
              "      <td>42</td>\n",
              "      <td>159660.80</td>\n",
              "      <td>1</td>\n",
              "      <td>0</td>\n",
              "      <td>113931.57</td>\n",
              "      <td>1</td>\n",
              "      <td>4016</td>\n",
              "      <td>159158.80</td>\n",
              "      <td>45729.23</td>\n",
              "      <td>1</td>\n",
              "      <td>0</td>\n",
              "      <td>0</td>\n",
              "      <td>0</td>\n",
              "      <td>0</td>\n",
              "      <td>0</td>\n",
              "      <td>0</td>\n",
              "      <td>0</td>\n",
              "      <td>0</td>\n",
              "      <td>0</td>\n",
              "      <td>0</td>\n",
              "      <td>1</td>\n",
              "      <td>0</td>\n",
              "      <td>0</td>\n",
              "      <td>0</td>\n",
              "      <td>0</td>\n",
              "      <td>1</td>\n",
              "      <td>0</td>\n",
              "    </tr>\n",
              "    <tr>\n",
              "      <th>3</th>\n",
              "      <td>15701354</td>\n",
              "      <td>Boni</td>\n",
              "      <td>699</td>\n",
              "      <td>0</td>\n",
              "      <td>39</td>\n",
              "      <td>0.00</td>\n",
              "      <td>0</td>\n",
              "      <td>0</td>\n",
              "      <td>93826.63</td>\n",
              "      <td>0</td>\n",
              "      <td>699</td>\n",
              "      <td>-699.00</td>\n",
              "      <td>-93826.63</td>\n",
              "      <td>1</td>\n",
              "      <td>0</td>\n",
              "      <td>0</td>\n",
              "      <td>0</td>\n",
              "      <td>1</td>\n",
              "      <td>0</td>\n",
              "      <td>0</td>\n",
              "      <td>0</td>\n",
              "      <td>0</td>\n",
              "      <td>0</td>\n",
              "      <td>0</td>\n",
              "      <td>0</td>\n",
              "      <td>0</td>\n",
              "      <td>0</td>\n",
              "      <td>0</td>\n",
              "      <td>1</td>\n",
              "      <td>0</td>\n",
              "      <td>0</td>\n",
              "    </tr>\n",
              "    <tr>\n",
              "      <th>4</th>\n",
              "      <td>15737888</td>\n",
              "      <td>Mitchell</td>\n",
              "      <td>850</td>\n",
              "      <td>0</td>\n",
              "      <td>43</td>\n",
              "      <td>125510.82</td>\n",
              "      <td>1</td>\n",
              "      <td>1</td>\n",
              "      <td>79084.10</td>\n",
              "      <td>0</td>\n",
              "      <td>1700</td>\n",
              "      <td>124660.82</td>\n",
              "      <td>46426.72</td>\n",
              "      <td>0</td>\n",
              "      <td>0</td>\n",
              "      <td>1</td>\n",
              "      <td>0</td>\n",
              "      <td>0</td>\n",
              "      <td>1</td>\n",
              "      <td>0</td>\n",
              "      <td>0</td>\n",
              "      <td>0</td>\n",
              "      <td>0</td>\n",
              "      <td>0</td>\n",
              "      <td>0</td>\n",
              "      <td>0</td>\n",
              "      <td>0</td>\n",
              "      <td>1</td>\n",
              "      <td>0</td>\n",
              "      <td>0</td>\n",
              "      <td>0</td>\n",
              "    </tr>\n",
              "  </tbody>\n",
              "</table>\n",
              "</div>"
            ],
            "text/plain": [
              "   CustomerId   Surname  ...  NumOfProducts_2  NumOfProducts_3\n",
              "0    15634602  Hargrave  ...                0                0\n",
              "1    15647311      Hill  ...                0                0\n",
              "2    15619304      Onio  ...                1                0\n",
              "3    15701354      Boni  ...                0                0\n",
              "4    15737888  Mitchell  ...                0                0\n",
              "\n",
              "[5 rows x 31 columns]"
            ]
          },
          "metadata": {
            "tags": []
          },
          "execution_count": 180
        }
      ]
    },
    {
      "cell_type": "code",
      "metadata": {
        "id": "pV-jbu24Pn7t",
        "colab": {
          "base_uri": "https://localhost:8080/",
          "height": 245
        },
        "outputId": "c2e9f3a9-87eb-4e76-dce7-7f5a3cec42cc"
      },
      "source": [
        "# set index as CustomerId and Surname.\n",
        "df.set_index(['CustomerId','Surname'],inplace = True)\n",
        "df.head()"
      ],
      "execution_count": null,
      "outputs": [
        {
          "output_type": "execute_result",
          "data": {
            "text/html": [
              "<div>\n",
              "<style scoped>\n",
              "    .dataframe tbody tr th:only-of-type {\n",
              "        vertical-align: middle;\n",
              "    }\n",
              "\n",
              "    .dataframe tbody tr th {\n",
              "        vertical-align: top;\n",
              "    }\n",
              "\n",
              "    .dataframe thead th {\n",
              "        text-align: right;\n",
              "    }\n",
              "</style>\n",
              "<table border=\"1\" class=\"dataframe\">\n",
              "  <thead>\n",
              "    <tr style=\"text-align: right;\">\n",
              "      <th></th>\n",
              "      <th></th>\n",
              "      <th>CreditScore</th>\n",
              "      <th>Gender</th>\n",
              "      <th>Age</th>\n",
              "      <th>Balance</th>\n",
              "      <th>HasCrCard</th>\n",
              "      <th>IsActiveMember</th>\n",
              "      <th>EstimatedSalary</th>\n",
              "      <th>Exited</th>\n",
              "      <th>Credit_Sc_Tenure</th>\n",
              "      <th>Bal_before_Cr_Sc</th>\n",
              "      <th>Bal_diff</th>\n",
              "      <th>Geography_0</th>\n",
              "      <th>Geography_1</th>\n",
              "      <th>Geography_2</th>\n",
              "      <th>Tenure_0</th>\n",
              "      <th>Tenure_1</th>\n",
              "      <th>Tenure_2</th>\n",
              "      <th>Tenure_3</th>\n",
              "      <th>Tenure_4</th>\n",
              "      <th>Tenure_5</th>\n",
              "      <th>Tenure_6</th>\n",
              "      <th>Tenure_7</th>\n",
              "      <th>Tenure_8</th>\n",
              "      <th>Tenure_9</th>\n",
              "      <th>Tenure_10</th>\n",
              "      <th>NumOfProducts_0</th>\n",
              "      <th>NumOfProducts_1</th>\n",
              "      <th>NumOfProducts_2</th>\n",
              "      <th>NumOfProducts_3</th>\n",
              "    </tr>\n",
              "    <tr>\n",
              "      <th>CustomerId</th>\n",
              "      <th>Surname</th>\n",
              "      <th></th>\n",
              "      <th></th>\n",
              "      <th></th>\n",
              "      <th></th>\n",
              "      <th></th>\n",
              "      <th></th>\n",
              "      <th></th>\n",
              "      <th></th>\n",
              "      <th></th>\n",
              "      <th></th>\n",
              "      <th></th>\n",
              "      <th></th>\n",
              "      <th></th>\n",
              "      <th></th>\n",
              "      <th></th>\n",
              "      <th></th>\n",
              "      <th></th>\n",
              "      <th></th>\n",
              "      <th></th>\n",
              "      <th></th>\n",
              "      <th></th>\n",
              "      <th></th>\n",
              "      <th></th>\n",
              "      <th></th>\n",
              "      <th></th>\n",
              "      <th></th>\n",
              "      <th></th>\n",
              "      <th></th>\n",
              "      <th></th>\n",
              "    </tr>\n",
              "  </thead>\n",
              "  <tbody>\n",
              "    <tr>\n",
              "      <th>15634602</th>\n",
              "      <th>Hargrave</th>\n",
              "      <td>619</td>\n",
              "      <td>0</td>\n",
              "      <td>42</td>\n",
              "      <td>0.00</td>\n",
              "      <td>1</td>\n",
              "      <td>1</td>\n",
              "      <td>101348.88</td>\n",
              "      <td>1</td>\n",
              "      <td>1238</td>\n",
              "      <td>-619.00</td>\n",
              "      <td>-101348.88</td>\n",
              "      <td>1</td>\n",
              "      <td>0</td>\n",
              "      <td>0</td>\n",
              "      <td>0</td>\n",
              "      <td>0</td>\n",
              "      <td>1</td>\n",
              "      <td>0</td>\n",
              "      <td>0</td>\n",
              "      <td>0</td>\n",
              "      <td>0</td>\n",
              "      <td>0</td>\n",
              "      <td>0</td>\n",
              "      <td>0</td>\n",
              "      <td>0</td>\n",
              "      <td>1</td>\n",
              "      <td>0</td>\n",
              "      <td>0</td>\n",
              "      <td>0</td>\n",
              "    </tr>\n",
              "    <tr>\n",
              "      <th>15647311</th>\n",
              "      <th>Hill</th>\n",
              "      <td>608</td>\n",
              "      <td>0</td>\n",
              "      <td>41</td>\n",
              "      <td>83807.86</td>\n",
              "      <td>0</td>\n",
              "      <td>1</td>\n",
              "      <td>112542.58</td>\n",
              "      <td>0</td>\n",
              "      <td>608</td>\n",
              "      <td>83199.86</td>\n",
              "      <td>-28734.72</td>\n",
              "      <td>0</td>\n",
              "      <td>0</td>\n",
              "      <td>1</td>\n",
              "      <td>0</td>\n",
              "      <td>1</td>\n",
              "      <td>0</td>\n",
              "      <td>0</td>\n",
              "      <td>0</td>\n",
              "      <td>0</td>\n",
              "      <td>0</td>\n",
              "      <td>0</td>\n",
              "      <td>0</td>\n",
              "      <td>0</td>\n",
              "      <td>0</td>\n",
              "      <td>1</td>\n",
              "      <td>0</td>\n",
              "      <td>0</td>\n",
              "      <td>0</td>\n",
              "    </tr>\n",
              "    <tr>\n",
              "      <th>15619304</th>\n",
              "      <th>Onio</th>\n",
              "      <td>502</td>\n",
              "      <td>0</td>\n",
              "      <td>42</td>\n",
              "      <td>159660.80</td>\n",
              "      <td>1</td>\n",
              "      <td>0</td>\n",
              "      <td>113931.57</td>\n",
              "      <td>1</td>\n",
              "      <td>4016</td>\n",
              "      <td>159158.80</td>\n",
              "      <td>45729.23</td>\n",
              "      <td>1</td>\n",
              "      <td>0</td>\n",
              "      <td>0</td>\n",
              "      <td>0</td>\n",
              "      <td>0</td>\n",
              "      <td>0</td>\n",
              "      <td>0</td>\n",
              "      <td>0</td>\n",
              "      <td>0</td>\n",
              "      <td>0</td>\n",
              "      <td>0</td>\n",
              "      <td>1</td>\n",
              "      <td>0</td>\n",
              "      <td>0</td>\n",
              "      <td>0</td>\n",
              "      <td>0</td>\n",
              "      <td>1</td>\n",
              "      <td>0</td>\n",
              "    </tr>\n",
              "    <tr>\n",
              "      <th>15701354</th>\n",
              "      <th>Boni</th>\n",
              "      <td>699</td>\n",
              "      <td>0</td>\n",
              "      <td>39</td>\n",
              "      <td>0.00</td>\n",
              "      <td>0</td>\n",
              "      <td>0</td>\n",
              "      <td>93826.63</td>\n",
              "      <td>0</td>\n",
              "      <td>699</td>\n",
              "      <td>-699.00</td>\n",
              "      <td>-93826.63</td>\n",
              "      <td>1</td>\n",
              "      <td>0</td>\n",
              "      <td>0</td>\n",
              "      <td>0</td>\n",
              "      <td>1</td>\n",
              "      <td>0</td>\n",
              "      <td>0</td>\n",
              "      <td>0</td>\n",
              "      <td>0</td>\n",
              "      <td>0</td>\n",
              "      <td>0</td>\n",
              "      <td>0</td>\n",
              "      <td>0</td>\n",
              "      <td>0</td>\n",
              "      <td>0</td>\n",
              "      <td>1</td>\n",
              "      <td>0</td>\n",
              "      <td>0</td>\n",
              "    </tr>\n",
              "    <tr>\n",
              "      <th>15737888</th>\n",
              "      <th>Mitchell</th>\n",
              "      <td>850</td>\n",
              "      <td>0</td>\n",
              "      <td>43</td>\n",
              "      <td>125510.82</td>\n",
              "      <td>1</td>\n",
              "      <td>1</td>\n",
              "      <td>79084.10</td>\n",
              "      <td>0</td>\n",
              "      <td>1700</td>\n",
              "      <td>124660.82</td>\n",
              "      <td>46426.72</td>\n",
              "      <td>0</td>\n",
              "      <td>0</td>\n",
              "      <td>1</td>\n",
              "      <td>0</td>\n",
              "      <td>0</td>\n",
              "      <td>1</td>\n",
              "      <td>0</td>\n",
              "      <td>0</td>\n",
              "      <td>0</td>\n",
              "      <td>0</td>\n",
              "      <td>0</td>\n",
              "      <td>0</td>\n",
              "      <td>0</td>\n",
              "      <td>0</td>\n",
              "      <td>1</td>\n",
              "      <td>0</td>\n",
              "      <td>0</td>\n",
              "      <td>0</td>\n",
              "    </tr>\n",
              "  </tbody>\n",
              "</table>\n",
              "</div>"
            ],
            "text/plain": [
              "                     CreditScore  Gender  ...  NumOfProducts_2  NumOfProducts_3\n",
              "CustomerId Surname                        ...                                  \n",
              "15634602   Hargrave          619       0  ...                0                0\n",
              "15647311   Hill              608       0  ...                0                0\n",
              "15619304   Onio              502       0  ...                1                0\n",
              "15701354   Boni              699       0  ...                0                0\n",
              "15737888   Mitchell          850       0  ...                0                0\n",
              "\n",
              "[5 rows x 29 columns]"
            ]
          },
          "metadata": {
            "tags": []
          },
          "execution_count": 181
        }
      ]
    },
    {
      "cell_type": "code",
      "metadata": {
        "id": "X7RNjL02P6qY",
        "colab": {
          "base_uri": "https://localhost:8080/",
          "height": 622
        },
        "outputId": "f70f5edd-51ab-4d3c-9178-de28eb8daf1e"
      },
      "source": [
        "df.info()"
      ],
      "execution_count": null,
      "outputs": [
        {
          "output_type": "stream",
          "text": [
            "<class 'pandas.core.frame.DataFrame'>\n",
            "MultiIndex: 10000 entries, (15634602, 'Hargrave') to (15628319, 'Walker')\n",
            "Data columns (total 29 columns):\n",
            " #   Column            Non-Null Count  Dtype  \n",
            "---  ------            --------------  -----  \n",
            " 0   CreditScore       10000 non-null  int64  \n",
            " 1   Gender            10000 non-null  int64  \n",
            " 2   Age               10000 non-null  int64  \n",
            " 3   Balance           10000 non-null  float64\n",
            " 4   HasCrCard         10000 non-null  int64  \n",
            " 5   IsActiveMember    10000 non-null  int64  \n",
            " 6   EstimatedSalary   10000 non-null  float64\n",
            " 7   Exited            10000 non-null  int64  \n",
            " 8   Credit_Sc_Tenure  10000 non-null  int64  \n",
            " 9   Bal_before_Cr_Sc  10000 non-null  float64\n",
            " 10  Bal_diff          10000 non-null  float64\n",
            " 11  Geography_0       10000 non-null  uint8  \n",
            " 12  Geography_1       10000 non-null  uint8  \n",
            " 13  Geography_2       10000 non-null  uint8  \n",
            " 14  Tenure_0          10000 non-null  uint8  \n",
            " 15  Tenure_1          10000 non-null  uint8  \n",
            " 16  Tenure_2          10000 non-null  uint8  \n",
            " 17  Tenure_3          10000 non-null  uint8  \n",
            " 18  Tenure_4          10000 non-null  uint8  \n",
            " 19  Tenure_5          10000 non-null  uint8  \n",
            " 20  Tenure_6          10000 non-null  uint8  \n",
            " 21  Tenure_7          10000 non-null  uint8  \n",
            " 22  Tenure_8          10000 non-null  uint8  \n",
            " 23  Tenure_9          10000 non-null  uint8  \n",
            " 24  Tenure_10         10000 non-null  uint8  \n",
            " 25  NumOfProducts_0   10000 non-null  uint8  \n",
            " 26  NumOfProducts_1   10000 non-null  uint8  \n",
            " 27  NumOfProducts_2   10000 non-null  uint8  \n",
            " 28  NumOfProducts_3   10000 non-null  uint8  \n",
            "dtypes: float64(4), int64(7), uint8(18)\n",
            "memory usage: 1.1+ MB\n"
          ],
          "name": "stdout"
        }
      ]
    },
    {
      "cell_type": "markdown",
      "metadata": {
        "id": "g1Itvex1QC-1"
      },
      "source": [
        "## **Model Building**"
      ]
    },
    {
      "cell_type": "code",
      "metadata": {
        "id": "MXl8zb3IQJYM",
        "colab": {
          "base_uri": "https://localhost:8080/",
          "height": 286
        },
        "outputId": "9b54c5c5-1620-45e3-ede2-643cb772e13b"
      },
      "source": [
        "# Separating independent and target variable\n",
        "X = df.drop(columns = 'Exited')\n",
        "Y = df['Exited']\n",
        "print(X.head())\n",
        "print(Y.head())"
      ],
      "execution_count": null,
      "outputs": [
        {
          "output_type": "stream",
          "text": [
            "                     CreditScore  Gender  ...  NumOfProducts_2  NumOfProducts_3\n",
            "CustomerId Surname                        ...                                  \n",
            "15634602   Hargrave          619       0  ...                0                0\n",
            "15647311   Hill              608       0  ...                0                0\n",
            "15619304   Onio              502       0  ...                1                0\n",
            "15701354   Boni              699       0  ...                0                0\n",
            "15737888   Mitchell          850       0  ...                0                0\n",
            "\n",
            "[5 rows x 28 columns]\n",
            "CustomerId  Surname \n",
            "15634602    Hargrave    1\n",
            "15647311    Hill        0\n",
            "15619304    Onio        1\n",
            "15701354    Boni        0\n",
            "15737888    Mitchell    0\n",
            "Name: Exited, dtype: int64\n"
          ],
          "name": "stdout"
        }
      ]
    },
    {
      "cell_type": "markdown",
      "metadata": {
        "id": "b0Ko3KMFRQIO"
      },
      "source": [
        "* **Divide the data into train and test dataset**"
      ]
    },
    {
      "cell_type": "code",
      "metadata": {
        "id": "4Ej4i-2KRbm2"
      },
      "source": [
        "X_train,X_test,y_train,y_test = train_test_split(X,Y, test_size = 0.2, random_state = 0)"
      ],
      "execution_count": null,
      "outputs": []
    },
    {
      "cell_type": "markdown",
      "metadata": {
        "id": "zgZpy_nsoMvQ"
      },
      "source": [
        "### **Feature Scaling**"
      ]
    },
    {
      "cell_type": "code",
      "metadata": {
        "id": "9DjayLzyop7T"
      },
      "source": [
        "from sklearn.preprocessing import StandardScaler\n",
        "scaler = StandardScaler()\n",
        "X_train_scaled = scaler.fit_transform(X_train)\n",
        "X_test_scaled = scaler.transform(X_test)"
      ],
      "execution_count": null,
      "outputs": []
    },
    {
      "cell_type": "markdown",
      "metadata": {
        "id": "gFUQ6e_TTMI_"
      },
      "source": [
        "# **Decision Tree Classifier**"
      ]
    },
    {
      "cell_type": "code",
      "metadata": {
        "id": "YuHkAhSXVMcv",
        "colab": {
          "base_uri": "https://localhost:8080/",
          "height": 353
        },
        "outputId": "f344252e-1c35-43a6-f544-1dcfa3917a90"
      },
      "source": [
        "from sklearn.model_selection import GridSearchCV\n",
        "parameters = {'criterion':['gini','entropy'], 'max_depth':[4,6,8,10,12], 'splitter':['best','random']}\n",
        "dt_clf = DecisionTreeClassifier(random_state=42)\n",
        "grid = GridSearchCV(estimator=dt_clf, param_grid = parameters, cv = 4, n_jobs=-1)\n",
        "grid.fit(X_train, y_train)\n",
        "\n",
        "# Results from Grid Search\n",
        "print(\"\\n========================================================\")\n",
        "print(\" Results from Grid Search \" )\n",
        "print(\"========================================================\")\n",
        "print(\"\\n The best estimator across ALL searched params:\\n\",grid.best_estimator_)\n",
        "print(\"\\n The best score across ALL searched params:\\n\", grid.best_score_)\n",
        "print(\"\\n The best parameters across ALL searched params:\\n\", grid.best_params_)\n",
        "print(\"\\n ========================================================\")"
      ],
      "execution_count": null,
      "outputs": [
        {
          "output_type": "stream",
          "text": [
            "\n",
            "========================================================\n",
            " Results from Grid Search \n",
            "========================================================\n",
            "\n",
            " The best estimator across ALL searched params:\n",
            " DecisionTreeClassifier(ccp_alpha=0.0, class_weight=None, criterion='entropy',\n",
            "                       max_depth=6, max_features=None, max_leaf_nodes=None,\n",
            "                       min_impurity_decrease=0.0, min_impurity_split=None,\n",
            "                       min_samples_leaf=1, min_samples_split=2,\n",
            "                       min_weight_fraction_leaf=0.0, presort='deprecated',\n",
            "                       random_state=42, splitter='best')\n",
            "\n",
            " The best score across ALL searched params:\n",
            " 0.8498749999999999\n",
            "\n",
            " The best parameters across ALL searched params:\n",
            " {'criterion': 'entropy', 'max_depth': 6, 'splitter': 'best'}\n",
            "\n",
            " ========================================================\n"
          ],
          "name": "stdout"
        }
      ]
    },
    {
      "cell_type": "code",
      "metadata": {
        "id": "uoz3Nx74U4B-",
        "colab": {
          "base_uri": "https://localhost:8080/",
          "height": 84
        },
        "outputId": "a38e2a24-84e0-46f3-95ee-22265bf3de8e"
      },
      "source": [
        "# Fitting Decision tree algorithm\n",
        "from sklearn.metrics import f1_score\n",
        "dt_clf = DecisionTreeClassifier(criterion='entropy', max_depth=6, splitter='random',random_state=42)\n",
        "\n",
        "# Fitting the model\n",
        "dt_clf.fit(X_train_scaled,y_train)\n",
        "# Predicting values\n",
        "y_pred_dt = dt_clf.predict(X_test_scaled)\n",
        "\n",
        "print('Training Score:', dt_clf.score(X_train_scaled,y_train))\n",
        "print('Test Score:', dt_clf.score(X_test_scaled,y_test))\n",
        "acc_score_dt = accuracy_score(y_test,y_pred_dt)\n",
        "print('Accuracy Score:', acc_score_dt)\n",
        "\n",
        "auc_score_dt = roc_auc_score(y_test,y_pred_dt)\n",
        "print('Roc Auc Score:', auc_score_dt)"
      ],
      "execution_count": null,
      "outputs": [
        {
          "output_type": "stream",
          "text": [
            "Training Score: 0.856875\n",
            "Test Score: 0.8575\n",
            "Accuracy Score: 0.8575\n",
            "Accuracy Score: 0.733809357947289\n"
          ],
          "name": "stdout"
        }
      ]
    },
    {
      "cell_type": "markdown",
      "metadata": {
        "id": "iaEvdVK00mIN"
      },
      "source": [
        "## **RandomForest Classifier**"
      ]
    },
    {
      "cell_type": "code",
      "metadata": {
        "id": "oIxsyTlU1Ojf",
        "colab": {
          "base_uri": "https://localhost:8080/",
          "height": 386
        },
        "outputId": "4850c5ef-5b32-46cd-ffbe-4342ddc2ae29"
      },
      "source": [
        "from sklearn.model_selection import GridSearchCV\n",
        "parameters = {'n_estimators':[20,50,100,200],'criterion':['gini','entropy'], 'max_depth':[4,6,8,10,12]}\n",
        "rf_clf = RandomForestClassifier(random_state=67)\n",
        "grid = GridSearchCV(estimator=rf_clf, param_grid = parameters, cv = 4, n_jobs=-1)\n",
        "grid.fit(X_train, y_train)\n",
        "\n",
        "#rf_clf.fit(X_train,y_train)\n",
        "#score = rf_clf.score(X_test,y_test)\n",
        "#y_pred = rf_clf.predict(X_test)\n",
        "#accuracy = accuracy_score(y_test, y_pred)\n",
        "#auc_score = roc_auc_score(y_test,y_pred)\n",
        "\n",
        "# Results from Grid Search\n",
        "print(\"\\n========================================================\")\n",
        "print(\" Results from Grid Search \" )\n",
        "print(\"========================================================\")\n",
        "print(\"\\n The best estimator across ALL searched params:\\n\",grid.best_estimator_)\n",
        "print(\"\\n The best score across ALL searched params:\\n\", grid.best_score_)\n",
        "print(\"\\n The best parameters across ALL searched params:\\n\", grid.best_params_)\n",
        "print(\"\\n ========================================================\")"
      ],
      "execution_count": null,
      "outputs": [
        {
          "output_type": "stream",
          "text": [
            "\n",
            "========================================================\n",
            " Results from Grid Search \n",
            "========================================================\n",
            "\n",
            " The best estimator across ALL searched params:\n",
            " RandomForestClassifier(bootstrap=True, ccp_alpha=0.0, class_weight=None,\n",
            "                       criterion='gini', max_depth=10, max_features='auto',\n",
            "                       max_leaf_nodes=None, max_samples=None,\n",
            "                       min_impurity_decrease=0.0, min_impurity_split=None,\n",
            "                       min_samples_leaf=1, min_samples_split=2,\n",
            "                       min_weight_fraction_leaf=0.0, n_estimators=100,\n",
            "                       n_jobs=None, oob_score=False, random_state=67, verbose=0,\n",
            "                       warm_start=False)\n",
            "\n",
            " The best score across ALL searched params:\n",
            " 0.864375\n",
            "\n",
            " The best parameters across ALL searched params:\n",
            " {'criterion': 'gini', 'max_depth': 10, 'n_estimators': 100}\n",
            "\n",
            " ========================================================\n"
          ],
          "name": "stdout"
        }
      ]
    },
    {
      "cell_type": "code",
      "metadata": {
        "id": "rhZQEh_8aw3W",
        "colab": {
          "base_uri": "https://localhost:8080/",
          "height": 84
        },
        "outputId": "b183ea83-e416-4d38-f3d2-8fc13d127daf"
      },
      "source": [
        "# Training a model using Random Forest Classifier with best parameters.\n",
        "rf_clf = RandomForestClassifier(n_estimators = 100,max_depth = 14,criterion = 'gini',random_state=67)\n",
        "rf_clf.fit(X_train_scaled, y_train)\n",
        "y_pred_rf = rf_clf.predict(X_test_scaled)\n",
        "\n",
        "print('Training Score:', rf_clf.score(X_train_scaled,y_train))\n",
        "print('Test Score:', rf_clf.score(X_test_scaled,y_test))\n",
        "acc_score_rf = accuracy_score(y_test,y_pred_rf)\n",
        "print('Accuracy Score:', acc_score_rf)\n",
        "\n",
        "auc_score_rf = roc_auc_score(y_test,y_pred_rf)\n",
        "print('Accuracy Score:', auc_score_rf)"
      ],
      "execution_count": null,
      "outputs": [
        {
          "output_type": "stream",
          "text": [
            "Training Score: 0.95075\n",
            "Test Score: 0.8735\n",
            "Accuracy Score: 0.8735\n",
            "Accuracy Score: 0.7383141762452108\n"
          ],
          "name": "stdout"
        }
      ]
    },
    {
      "cell_type": "markdown",
      "metadata": {
        "id": "lNHoZ1U92-Zy"
      },
      "source": [
        "## **Gradient Boosted Decision Tree**"
      ]
    },
    {
      "cell_type": "code",
      "metadata": {
        "id": "wv-yK3403XzM",
        "colab": {
          "base_uri": "https://localhost:8080/",
          "height": 521
        },
        "outputId": "5a9df3e7-a31a-48d7-eae9-67ef3dcdd4fc"
      },
      "source": [
        "from sklearn.ensemble import GradientBoostingClassifier\n",
        "\n",
        "for this_alpha in [0.01,0.1,1,10,100]:\n",
        "   gb_clf = GradientBoostingClassifier(learning_rate =this_alpha, n_estimators = 100, max_depth = 10, random_state = 42)\n",
        "   gb_clf.fit(X_train,y_train)\n",
        "\n",
        "   y_pred_gb = gb_clf.predict(X_test)\n",
        "   \n",
        "   print('For alpha:', this_alpha)\n",
        "   print('Train score:',gb_clf.score(X_train,y_train))\n",
        "   print('Test score:',gb_clf.score(X_test,y_test))\n",
        "   accuracy = accuracy_score(y_test,y_pred_gb)\n",
        "   print('Accuracy score: ',accuracy)\n",
        "   print('\\n')"
      ],
      "execution_count": null,
      "outputs": [
        {
          "output_type": "stream",
          "text": [
            "For alpha: 0.01\n",
            "Train score: 0.91175\n",
            "Test score: 0.856\n",
            "Accuracy score:  0.856\n",
            "\n",
            "\n",
            "For alpha: 0.1\n",
            "Train score: 1.0\n",
            "Test score: 0.8545\n",
            "Accuracy score:  0.8545\n",
            "\n",
            "\n",
            "For alpha: 1\n",
            "Train score: 1.0\n",
            "Test score: 0.832\n",
            "Accuracy score:  0.832\n",
            "\n",
            "\n",
            "For alpha: 10\n",
            "Train score: 0.616375\n",
            "Test score: 0.6365\n",
            "Accuracy score:  0.6365\n",
            "\n",
            "\n",
            "For alpha: 100\n",
            "Train score: 0.480125\n",
            "Test score: 0.487\n",
            "Accuracy score:  0.487\n",
            "\n",
            "\n"
          ],
          "name": "stdout"
        }
      ]
    },
    {
      "cell_type": "code",
      "metadata": {
        "id": "rGcp-4mz_4Zs",
        "colab": {
          "base_uri": "https://localhost:8080/",
          "height": 84
        },
        "outputId": "3099dc9b-eb47-44b7-95bb-b058df0e728c"
      },
      "source": [
        "gb_clf = GradientBoostingClassifier(learning_rate = 0.01, n_estimators=100,max_depth = 10,random_state = 67)\n",
        "gb_clf.fit(X_train_scaled,y_train)\n",
        "y_pred_gb = gb_clf.predict(X_test_scaled)\n",
        "\n",
        "print('Train score:',gb_clf.score(X_train_scaled,y_train))\n",
        "print('Test score:',gb_clf.score(X_test_scaled,y_test))\n",
        "acc_score_gb = accuracy_score(y_test,y_pred_gb)\n",
        "print('Accuracy score: ',acc_score_gb)\n",
        "\n",
        "auc_score_gb = roc_auc_score(y_test,y_pred_gb)\n",
        "print('Accuracy Score:', auc_score_gb)"
      ],
      "execution_count": null,
      "outputs": [
        {
          "output_type": "stream",
          "text": [
            "Train score: 0.911375\n",
            "Test score: 0.857\n",
            "Accuracy score:  0.857\n",
            "Accuracy Score: 0.7003367003367004\n"
          ],
          "name": "stdout"
        }
      ]
    },
    {
      "cell_type": "markdown",
      "metadata": {
        "id": "Bak6NoI-kSvx"
      },
      "source": [
        "**Observation:**\n",
        "Learning rate alpha = 0.01 is the best fit for the model."
      ]
    },
    {
      "cell_type": "markdown",
      "metadata": {
        "id": "KRIpIt9aloIO"
      },
      "source": [
        "## **Support vector Machines**"
      ]
    },
    {
      "cell_type": "code",
      "metadata": {
        "id": "jLpDDPZpoDYk",
        "colab": {
          "base_uri": "https://localhost:8080/",
          "height": 286
        },
        "outputId": "304e4737-05ca-41a0-c87c-37282f057df0"
      },
      "source": [
        "from sklearn.svm import SVC\n",
        "\n",
        "for this_c in [0.01,0.1,1,10]:\n",
        "   svc_clf = SVC(kernel ='linear', C=this_c, random_state = 67,)\n",
        "   svc_clf.fit(X_train_scaled,y_train)\n",
        "   y_pred_svc = svc_clf.predict(X_test_scaled)\n",
        "\n",
        "   print('For C = ', this_c)\n",
        "   print('Train score:',svc_clf.score(X_train_scaled,y_train))\n",
        "   print('Test score:',svc_clf.score(X_test_scaled,y_test))\n",
        "   accuracy = accuracy_score(y_test,y_pred_svc)\n",
        "   print('Accuracy score: ',accuracy)"
      ],
      "execution_count": null,
      "outputs": [
        {
          "output_type": "stream",
          "text": [
            "For C =  0.01\n",
            "Train score: 0.819125\n",
            "Test score: 0.822\n",
            "Accuracy score:  0.822\n",
            "For C =  0.1\n",
            "Train score: 0.819125\n",
            "Test score: 0.822\n",
            "Accuracy score:  0.822\n",
            "For C =  1\n",
            "Train score: 0.819125\n",
            "Test score: 0.822\n",
            "Accuracy score:  0.822\n",
            "For C =  10\n",
            "Train score: 0.819125\n",
            "Test score: 0.822\n",
            "Accuracy score:  0.822\n"
          ],
          "name": "stdout"
        }
      ]
    },
    {
      "cell_type": "code",
      "metadata": {
        "id": "t2p7LiIr86vp",
        "colab": {
          "base_uri": "https://localhost:8080/",
          "height": 84
        },
        "outputId": "5d8e6ef4-ab48-468b-db20-a6f48c81e177"
      },
      "source": [
        "svc_clf = SVC(kernel ='rbf', C=10, random_state = 67)\n",
        "svc_clf.fit(X_train_scaled,y_train)\n",
        "y_pred_svc = svc_clf.predict(X_test_scaled)\n",
        "print('Train score:',svc_clf.score(X_train_scaled,y_train))\n",
        "print('Test score:',svc_clf.score(X_test_scaled,y_test))\n",
        "acc_score_svc = accuracy_score(y_test,y_pred_svc)\n",
        "print('Accuracy score: ',acc_score_svc)\n",
        "\n",
        "auc_score_svc = roc_auc_score(y_test,y_pred_svc)\n",
        "print('Roc Auc Score:', auc_score_svc)\n"
      ],
      "execution_count": null,
      "outputs": [
        {
          "output_type": "stream",
          "text": [
            "Train score: 0.900375\n",
            "Test score: 0.858\n",
            "Accuracy score:  0.858\n",
            "Roc Auc Score: 0.7276752196292426\n"
          ],
          "name": "stdout"
        }
      ]
    },
    {
      "cell_type": "code",
      "metadata": {
        "id": "vQacVl4WnqhR",
        "colab": {
          "base_uri": "https://localhost:8080/",
          "height": 84
        },
        "outputId": "ac9c05d1-b8d4-4819-e977-bb29bb38e03b"
      },
      "source": [
        "from sklearn.naive_bayes import GaussianNB\n",
        "nb_clf = GaussianNB()\n",
        "nb_clf.fit(X_train_scaled,y_train)\n",
        "y_pred_nb = nb_clf.predict(X_test_scaled)\n",
        "\n",
        "\n",
        "print('Train score:',nb_clf.score(X_train_scaled,y_train))\n",
        "print('Test score:',nb_clf.score(X_test_scaled,y_test))\n",
        "acc_score_nb = accuracy_score(y_test,y_pred_svc)\n",
        "print('Accuracy score: ',acc_score_nb)\n",
        "\n",
        "auc_score_nb = roc_auc_score(y_test,y_pred_nb)\n",
        "print('Roc Auc Score:', auc_score_nb)\n"
      ],
      "execution_count": null,
      "outputs": [
        {
          "output_type": "stream",
          "text": [
            "Train score: 0.819125\n",
            "Test score: 0.822\n",
            "Accuracy score:  0.858\n",
            "Roc Auc Score: 0.5697047099345949\n"
          ],
          "name": "stdout"
        }
      ]
    },
    {
      "cell_type": "markdown",
      "metadata": {
        "id": "i4tTkPB48MpM"
      },
      "source": [
        "## **Model Selection And Evaluation**"
      ]
    },
    {
      "cell_type": "code",
      "metadata": {
        "id": "3gpCh-g28Rre",
        "colab": {
          "base_uri": "https://localhost:8080/",
          "height": 195
        },
        "outputId": "0f49f07c-d504-4f35-9335-35110ce6cd26"
      },
      "source": [
        "score = pd.DataFrame({'Training Score': [dt_clf.score(X_train_scaled,y_train), rf_clf.score(X_train_scaled,y_train),\n",
        "                                         gb_clf.score(X_train_scaled,y_train),svc_clf.score(X_train_scaled,y_train),nb_clf.score(X_train_scaled,y_train)], \n",
        "                      'Test Score':[dt_clf.score(X_test_scaled,y_test), rf_clf.score(X_test_scaled,y_test),\n",
        "                                         gb_clf.score(X_test_scaled,y_test),svc_clf.score(X_test_scaled,y_test),nb_clf.score(X_test_scaled,y_test)],\n",
        "                      'Accuracy Score':[acc_score_dt,acc_score_rf,acc_score_gb,acc_score_svc,acc_score_nb],\n",
        "                      'Roc_auc_score': [auc_score_dt,auc_score_rf,auc_score_gb,auc_score_svc,auc_score_nb]}, \n",
        "                     index = ['Decision Tree','Random Forest Regressor','Gradient Boosting Decision Tree','SVM','Naive Bayes'])\n",
        "score"
      ],
      "execution_count": null,
      "outputs": [
        {
          "output_type": "execute_result",
          "data": {
            "text/html": [
              "<div>\n",
              "<style scoped>\n",
              "    .dataframe tbody tr th:only-of-type {\n",
              "        vertical-align: middle;\n",
              "    }\n",
              "\n",
              "    .dataframe tbody tr th {\n",
              "        vertical-align: top;\n",
              "    }\n",
              "\n",
              "    .dataframe thead th {\n",
              "        text-align: right;\n",
              "    }\n",
              "</style>\n",
              "<table border=\"1\" class=\"dataframe\">\n",
              "  <thead>\n",
              "    <tr style=\"text-align: right;\">\n",
              "      <th></th>\n",
              "      <th>Training Score</th>\n",
              "      <th>Test Score</th>\n",
              "      <th>Accuracy Score</th>\n",
              "      <th>Roc_auc_score</th>\n",
              "    </tr>\n",
              "  </thead>\n",
              "  <tbody>\n",
              "    <tr>\n",
              "      <th>Decision Tree</th>\n",
              "      <td>0.856875</td>\n",
              "      <td>0.8575</td>\n",
              "      <td>0.8575</td>\n",
              "      <td>0.733809</td>\n",
              "    </tr>\n",
              "    <tr>\n",
              "      <th>Random Forest Regressor</th>\n",
              "      <td>0.950750</td>\n",
              "      <td>0.8735</td>\n",
              "      <td>0.8735</td>\n",
              "      <td>0.738314</td>\n",
              "    </tr>\n",
              "    <tr>\n",
              "      <th>Gradient Boosting Decision Tree</th>\n",
              "      <td>0.911375</td>\n",
              "      <td>0.8570</td>\n",
              "      <td>0.8570</td>\n",
              "      <td>0.700337</td>\n",
              "    </tr>\n",
              "    <tr>\n",
              "      <th>SVM</th>\n",
              "      <td>0.900375</td>\n",
              "      <td>0.8580</td>\n",
              "      <td>0.8580</td>\n",
              "      <td>0.727675</td>\n",
              "    </tr>\n",
              "    <tr>\n",
              "      <th>Naive Bayes</th>\n",
              "      <td>0.819125</td>\n",
              "      <td>0.8220</td>\n",
              "      <td>0.8580</td>\n",
              "      <td>0.569705</td>\n",
              "    </tr>\n",
              "  </tbody>\n",
              "</table>\n",
              "</div>"
            ],
            "text/plain": [
              "                                 Training Score  ...  Roc_auc_score\n",
              "Decision Tree                          0.856875  ...       0.733809\n",
              "Random Forest Regressor                0.950750  ...       0.738314\n",
              "Gradient Boosting Decision Tree        0.911375  ...       0.700337\n",
              "SVM                                    0.900375  ...       0.727675\n",
              "Naive Bayes                            0.819125  ...       0.569705\n",
              "\n",
              "[5 rows x 4 columns]"
            ]
          },
          "metadata": {
            "tags": []
          },
          "execution_count": 195
        }
      ]
    },
    {
      "cell_type": "markdown",
      "metadata": {
        "id": "iXHaNITiEkGQ"
      },
      "source": [
        "**Observation:**\n",
        "* By analysing the performance of the different model. Random Forest model is the suited be the best generalized model."
      ]
    },
    {
      "cell_type": "markdown",
      "metadata": {
        "id": "Epp_QUzPE4Cw"
      },
      "source": [
        "# **Final Model: Random Forest Model**"
      ]
    },
    {
      "cell_type": "code",
      "metadata": {
        "id": "7VuSkvIiFFDH"
      },
      "source": [
        "# Training a model using Random Forest Classifier with best parameters.\n",
        "def model(X_train_scaled,y_train,X_test_scaled,X_test):\n",
        "  rf_clf = RandomForestClassifier(n_estimators = 100,max_depth = 14,criterion = 'gini',random_state=67)\n",
        "  rf_clf.fit(X_train_scaled, y_train)\n",
        "  y_pred_rf = rf_clf.predict(X_test_scaled)\n",
        "\n",
        "  print('Training Score:', rf_clf.score(X_train_scaled,y_train))\n",
        "  print('Test Score:', rf_clf.score(X_test_scaled,y_test))\n",
        "  acc_score_rf = accuracy_score(y_test,y_pred_rf)\n",
        "  print('Accuracy Score:', acc_score_rf)\n",
        "\n",
        "  auc_score_rf = roc_auc_score(y_test,y_pred_rf)\n",
        "  print('Accuracy Score:', auc_score_rf)\n",
        "  return y_pred_rf\n"
      ],
      "execution_count": null,
      "outputs": []
    },
    {
      "cell_type": "code",
      "metadata": {
        "id": "wQeP1zM2GGrt",
        "colab": {
          "base_uri": "https://localhost:8080/",
          "height": 101
        },
        "outputId": "fa986717-7ecc-4f03-8a17-61575fa9561a"
      },
      "source": [
        "model(X_train_scaled,y_train,X_test_scaled,X_test)"
      ],
      "execution_count": null,
      "outputs": [
        {
          "output_type": "stream",
          "text": [
            "Training Score: 0.95075\n",
            "Test Score: 0.8735\n",
            "Accuracy Score: 0.8735\n",
            "Accuracy Score: 0.7383141762452108\n"
          ],
          "name": "stdout"
        },
        {
          "output_type": "execute_result",
          "data": {
            "text/plain": [
              "array([0, 0, 0, ..., 0, 0, 0])"
            ]
          },
          "metadata": {
            "tags": []
          },
          "execution_count": 199
        }
      ]
    },
    {
      "cell_type": "markdown",
      "metadata": {
        "id": "NdTHS6QrGQX2"
      },
      "source": [
        "## **Plot True label vs Predicted label**"
      ]
    },
    {
      "cell_type": "code",
      "metadata": {
        "id": "qgBhvHEFQUc9",
        "colab": {
          "base_uri": "https://localhost:8080/",
          "height": 500
        },
        "outputId": "d81b1ba5-a0c5-4f70-ed20-74f92fece830"
      },
      "source": [
        "feat_importances = pd.Series(rf_clf.feature_importances_, index= X.columns)\n",
        "plt.figure(figsize=(8,8))\n",
        "feat_importances.nlargest(28).plot(kind='barh')"
      ],
      "execution_count": null,
      "outputs": [
        {
          "output_type": "execute_result",
          "data": {
            "text/plain": [
              "<matplotlib.axes._subplots.AxesSubplot at 0x7fd10f735c50>"
            ]
          },
          "metadata": {
            "tags": []
          },
          "execution_count": 204
        },
        {
          "output_type": "display_data",
          "data": {
            "image/png": "[encoded data removed]",
            "text/plain": [
              "<Figure size 576x576 with 1 Axes>"
            ]
          },
          "metadata": {
            "tags": [],
            "needs_background": "light"
          }
        }
      ]
    },
    {
      "cell_type": "markdown",
      "metadata": {
        "id": "RvXmsDn-KRIN"
      },
      "source": [
        "# Top 10 most important features useful for predicting whether the customer will leave bank or not are\n",
        "* Age\n",
        "* Bal_before_Cr_Score(Balance before tthe credit score.)\n",
        "* NumOfProducts_1(Customers who have 2 accounts)\n",
        "* Bal_diff\n",
        "* Balance\n",
        "* Estimated Salary\n",
        "* Credit Score\n",
        "* Credit_Sc_Tenure\n",
        "* NumOfProducts_2(Customers who have 3 accounts)\n",
        "* IsActiveMember\n",
        "* NumOfProducts_0(Customers who have 1 accounts)"
      ]
    }
  ]
}